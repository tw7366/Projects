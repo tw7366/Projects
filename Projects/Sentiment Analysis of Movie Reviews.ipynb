{
 "cells": [
  {
   "cell_type": "code",
   "execution_count": 1,
   "metadata": {},
   "outputs": [],
   "source": [
    "from tensorflow.keras.preprocessing.text import Tokenizer\n",
    "from tensorflow.keras.preprocessing.sequence import pad_sequences\n",
    "from tensorflow import keras\n",
    "import tensorflow as tf\n",
    "import pandas as pd\n",
    "import numpy as np\n",
    "import re"
   ]
  },
  {
   "cell_type": "code",
   "execution_count": 2,
   "metadata": {},
   "outputs": [
    {
     "name": "stdout",
     "output_type": "stream",
     "text": [
      "[\"One of the other reviewers has mentioned that after watching just 1 Oz episode you'll be hooked. They are right, as this is exactly what happened with me.<br /><br />The first thing that struck me about Oz was its brutality and unflinching scenes of violence, which set in right from the word GO. Trust me, this is not a show for the faint hearted or timid. This show pulls no punches with regards to drugs, sex or violence. Its is hardcore, in the classic use of the word.<br /><br />It is called OZ as that is the nickname given to the Oswald Maximum Security State Penitentary. It focuses mainly on Emerald City, an experimental section of the prison where all the cells have glass fronts and face inwards, so privacy is not high on the agenda. Em City is home to many..Aryans, Muslims, gangstas, Latinos, Christians, Italians, Irish and more....so scuffles, death stares, dodgy dealings and shady agreements are never far away.<br /><br />I would say the main appeal of the show is due to the fact that it goes where other shows wouldn't dare. Forget pretty pictures painted for mainstream audiences, forget charm, forget romance...OZ doesn't mess around. The first episode I ever saw struck me as so nasty it was surreal, I couldn't say I was ready for it, but as I watched more, I developed a taste for Oz, and got accustomed to the high levels of graphic violence. Not just violence, but injustice (crooked guards who'll be sold out for a nickel, inmates who'll kill on order and get away with it, well mannered, middle class inmates being turned into prison bitches due to their lack of street skills or prison experience) Watching Oz, you may become comfortable with what is uncomfortable viewing....thats if you can get in touch with your darker side.\"\n",
      " 'A wonderful little production. <br /><br />The filming technique is very unassuming- very old-time-BBC fashion and gives a comforting, and sometimes discomforting, sense of realism to the entire piece. <br /><br />The actors are extremely well chosen- Michael Sheen not only \"has got all the polari\" but he has all the voices down pat too! You can truly see the seamless editing guided by the references to Williams\\' diary entries, not only is it well worth the watching but it is a terrificly written and performed piece. A masterful production about one of the great master\\'s of comedy and his life. <br /><br />The realism really comes home with the little things: the fantasy of the guard which, rather than use the traditional \\'dream\\' techniques remains solid then disappears. It plays on our knowledge and our senses, particularly with the scenes concerning Orton and Halliwell and the sets (particularly of their flat with Halliwell\\'s murals decorating every surface) are terribly well done.'\n",
      " 'I thought this was a wonderful way to spend time on a too hot summer weekend, sitting in the air conditioned theater and watching a light-hearted comedy. The plot is simplistic, but the dialogue is witty and the characters are likable (even the well bread suspected serial killer). While some may be disappointed when they realize this is not Match Point 2: Risk Addiction, I thought it was proof that Woody Allen is still fully in control of the style many of us have grown to love.<br /><br />This was the most I\\'d laughed at one of Woody\\'s comedies in years (dare I say a decade?). While I\\'ve never been impressed with Scarlet Johanson, in this she managed to tone down her \"sexy\" image and jumped right into a average, but spirited young woman.<br /><br />This may not be the crown jewel of his career, but it was wittier than \"Devil Wears Prada\" and more interesting than \"Superman\" a great comedy to go see with friends.']\n"
     ]
    }
   ],
   "source": [
    "reviews_df = pd.read_csv(r'C:\\Users\\taewoo\\Desktop\\Datasets\\IMDB Dataset.csv')\n",
    "reviews = np.array(reviews_df['review'])\n",
    "sentiment = np.array(reviews_df['sentiment'])\n",
    "print(reviews[:3])"
   ]
  },
  {
   "cell_type": "code",
   "execution_count": 3,
   "metadata": {},
   "outputs": [
    {
     "name": "stdout",
     "output_type": "stream",
     "text": [
      "[\"one of the other reviewers has mentioned that after watching just 1 oz episode you'll be hooked. they are right as this is exactly what happened with me. the first thing that struck me about oz was its brutality and unflinching scenes of violence which set in right from the word go. trust me this is not a show for the faint hearted or timid. this show pulls no punches with regards to drugs sex or violence. its is hardcore in the classic use of the word. it is called oz as that is the nickname given to the oswald maximum security state penitentary. it focuses mainly on emerald city an experimental section of the prison where all the cells have glass fronts and face inwards so privacy is not high on the agenda. em city is home to many..aryans muslims gangstas latinos christians italians irish and more....so scuffles death stares dodgy dealings and shady agreements are never far away. i would say the main appeal of the show is due to the fact that it goes where other shows wouldn't dare. forget pretty pictures painted for mainstream audiences forget charm forget romance...oz doesn't mess around. the first episode i ever saw struck me as so nasty it was surreal i couldn't say i was ready for it but as i watched more i developed a taste for oz and got accustomed to the high levels of graphic violence. not just violence but injustice crooked guards who'll be sold out for a nickel inmates who'll kill on order and get away with it well mannered middle class inmates being turned into prison bitches due to their lack of street skills or prison experience watching oz you may become comfortable with what is uncomfortable viewing....thats if you can get in touch with your darker side.\"\n",
      " \"a wonderful little production. the filming technique is very unassuming very oldtimebbc fashion and gives a comforting and sometimes discomforting sense of realism to the entire piece. the actors are extremely well chosen michael sheen not only has got all the polari but he has all the voices down pat too you can truly see the seamless editing guided by the references to williams' diary entries not only is it well worth the watching but it is a terrificly written and performed piece. a masterful production about one of the great master's of comedy and his life. the realism really comes home with the little things the fantasy of the guard which rather than use the traditional 'dream' techniques remains solid then disappears. it plays on our knowledge and our senses particularly with the scenes concerning orton and halliwell and the sets particularly of their flat with halliwell's murals decorating every surface are terribly well done.\"\n",
      " \"i thought this was a wonderful way to spend time on a too hot summer weekend sitting in the air conditioned theater and watching a lighthearted comedy. the plot is simplistic but the dialogue is witty and the characters are likable even the well bread suspected serial killer. while some may be disappointed when they realize this is not match point 2 risk addiction i thought it was proof that woody allen is still fully in control of the style many of us have grown to love. this was the most i'd laughed at one of woody's comedies in years dare i say a decade. while i've never been impressed with scarlet johanson in this she managed to tone down her sexy image and jumped right into a average but spirited young woman. this may not be the crown jewel of his career but it was wittier than devil wears prada and more interesting than superman a great comedy to go see with friends.\"]\n"
     ]
    }
   ],
   "source": [
    "def preprocess_review(review_list):\n",
    "    \"\"\"\n",
    "    param: a list of string\n",
    "    return: a list of string\n",
    "    preprocess reviews by changing all alphabets to lowercase, removing punctuations, and cleaning html leftover code\n",
    "    \"\"\"\n",
    "    for i, review in enumerate(review_list):\n",
    "        review = review.replace('<br /><br />', ' ')\n",
    "        review = review.lower()\n",
    "        review = re.sub(r\"[^A-Za-z0-9'. ]+\", '', review)\n",
    "        review = review.replace('  ', ' ')\n",
    "        review_list[i] = review\n",
    "    return review_list\n",
    "\n",
    "preprocessed_reviews = preprocess_review(reviews)\n",
    "print(preprocessed_reviews[:3])"
   ]
  },
  {
   "cell_type": "code",
   "execution_count": 4,
   "metadata": {},
   "outputs": [
    {
     "name": "stdout",
     "output_type": "stream",
     "text": [
      "Epoch 1/20\n",
      "WARNING:tensorflow:Model was constructed with shape (None, 1708) for input Tensor(\"embedding_input:0\", shape=(None, 1708), dtype=float32), but it was called on an input with incompatible shape (None, 2459).\n",
      "WARNING:tensorflow:Model was constructed with shape (None, 1708) for input Tensor(\"embedding_input:0\", shape=(None, 1708), dtype=float32), but it was called on an input with incompatible shape (None, 2459).\n",
      "88/88 [==============================] - 8s 91ms/step - loss: 0.6932 - accuracy: 0.4992 - val_loss: 0.6931 - val_accuracy: 0.4936\n",
      "Epoch 2/20\n",
      "88/88 [==============================] - 8s 90ms/step - loss: 0.6928 - accuracy: 0.5207 - val_loss: 0.6920 - val_accuracy: 0.4996\n",
      "Epoch 3/20\n",
      "88/88 [==============================] - 8s 90ms/step - loss: 0.6826 - accuracy: 0.6118 - val_loss: 0.6426 - val_accuracy: 0.7420\n",
      "Epoch 4/20\n",
      "88/88 [==============================] - 8s 89ms/step - loss: 0.5788 - accuracy: 0.7597 - val_loss: 0.4654 - val_accuracy: 0.7976\n",
      "Epoch 5/20\n",
      "88/88 [==============================] - 8s 89ms/step - loss: 0.4303 - accuracy: 0.8290 - val_loss: 0.3613 - val_accuracy: 0.8542\n",
      "Epoch 6/20\n",
      "88/88 [==============================] - 8s 89ms/step - loss: 0.3417 - accuracy: 0.8709 - val_loss: 0.3160 - val_accuracy: 0.8754\n",
      "Epoch 7/20\n",
      "88/88 [==============================] - 8s 90ms/step - loss: 0.2884 - accuracy: 0.8946 - val_loss: 0.2930 - val_accuracy: 0.8860\n",
      "Epoch 8/20\n",
      "88/88 [==============================] - 8s 90ms/step - loss: 0.2528 - accuracy: 0.9077 - val_loss: 0.2829 - val_accuracy: 0.8926\n",
      "Epoch 9/20\n",
      "88/88 [==============================] - 8s 91ms/step - loss: 0.2267 - accuracy: 0.9174 - val_loss: 0.2758 - val_accuracy: 0.8966\n",
      "Epoch 10/20\n",
      "88/88 [==============================] - 8s 90ms/step - loss: 0.2074 - accuracy: 0.9249 - val_loss: 0.2690 - val_accuracy: 0.8980\n",
      "Epoch 11/20\n",
      "88/88 [==============================] - 8s 90ms/step - loss: 0.1918 - accuracy: 0.9302 - val_loss: 0.2702 - val_accuracy: 0.8986\n",
      "Epoch 12/20\n",
      "88/88 [==============================] - 8s 89ms/step - loss: 0.1716 - accuracy: 0.9402 - val_loss: 0.2674 - val_accuracy: 0.9032\n",
      "Epoch 13/20\n",
      "88/88 [==============================] - 8s 89ms/step - loss: 0.1603 - accuracy: 0.9449 - val_loss: 0.2673 - val_accuracy: 0.9014\n",
      "Epoch 14/20\n",
      "88/88 [==============================] - 8s 90ms/step - loss: 0.1527 - accuracy: 0.9468 - val_loss: 0.2692 - val_accuracy: 0.9026\n",
      "Epoch 15/20\n",
      "88/88 [==============================] - 8s 90ms/step - loss: 0.1373 - accuracy: 0.9540 - val_loss: 0.2691 - val_accuracy: 0.9050\n",
      "Epoch 16/20\n",
      "88/88 [==============================] - 8s 89ms/step - loss: 0.1272 - accuracy: 0.9572 - val_loss: 0.2720 - val_accuracy: 0.9058\n",
      "Epoch 17/20\n",
      "88/88 [==============================] - 8s 89ms/step - loss: 0.1166 - accuracy: 0.9624 - val_loss: 0.2757 - val_accuracy: 0.9064\n",
      "Epoch 18/20\n",
      "88/88 [==============================] - 8s 88ms/step - loss: 0.1091 - accuracy: 0.9651 - val_loss: 0.2822 - val_accuracy: 0.9058\n",
      "Epoch 19/20\n",
      "88/88 [==============================] - 8s 89ms/step - loss: 0.1008 - accuracy: 0.9682 - val_loss: 0.2861 - val_accuracy: 0.9052\n",
      "Epoch 20/20\n",
      "88/88 [==============================] - 8s 90ms/step - loss: 0.0957 - accuracy: 0.9697 - val_loss: 0.2886 - val_accuracy: 0.9078\n"
     ]
    },
    {
     "data": {
      "text/plain": [
       "<tensorflow.python.keras.callbacks.History at 0x196271c3040>"
      ]
     },
     "execution_count": 4,
     "metadata": {},
     "output_type": "execute_result"
    }
   ],
   "source": [
    "# to divide train & test sets\n",
    "test_sample_size = int(0.1*len(preprocessed_reviews))  # 10% of data as the validation set\n",
    "\n",
    "# for sentiment\n",
    "sentiment = [1 if x=='positive' else 0 for x in sentiment]\n",
    "\n",
    "# separate data to train & test sets\n",
    "X_test, X_train = (np.array(preprocessed_reviews[:test_sample_size]), \n",
    "                   np.array(preprocessed_reviews[test_sample_size:])\n",
    ")\n",
    "\n",
    "y_test, y_train = (np.array(sentiment[:test_sample_size]), \n",
    "                   np.array(sentiment[test_sample_size:])\n",
    ")\n",
    "\n",
    "tokenizer = Tokenizer(oov_token='<OOV>')  # for the unknown words\n",
    "tokenizer.fit_on_texts(X_train)\n",
    "\n",
    "vocab_count = len(tokenizer.word_index) + 1  # +1 is for padding\n",
    "\n",
    "# create padded sequences\n",
    "training_sequences = tokenizer.texts_to_sequences(X_train)  # tokenizer.word_index to see indexes\n",
    "training_padded = pad_sequences(training_sequences, padding='post')  # pad sequences with 0s \n",
    "\n",
    "testing_sequences = tokenizer.texts_to_sequences(X_test)  # tokenizer.word_index to see indexes\n",
    "testing_padded = pad_sequences(testing_sequences, padding='post')  # pad sequences with 0s \n",
    "\n",
    "input_length = len(testing_padded[0])  # length of all sequences\n",
    "\n",
    "\n",
    "# build a model\n",
    "model = keras.models.Sequential()\n",
    "model.add(keras.layers.Embedding(input_dim=vocab_count,\n",
    "                                 output_dim=6,\n",
    "                                 input_length=input_length))\n",
    "model.add(keras.layers.GlobalAveragePooling1D())  # find the average of vectors to get sentiment\n",
    "model.add(keras.layers.Dense(128, activation='relu'))  # hidden layer\n",
    "model.add(keras.layers.Dense(16, activation='relu'))  # hidden layer\n",
    "model.add(keras.layers.Dense(1, activation='sigmoid'))  # output layer\n",
    "\n",
    "model.compile(optimizer='adam',\n",
    "              loss='binary_crossentropy',\n",
    "              metrics=['accuracy'])\n",
    "\n",
    "model.fit(training_padded, y_train, epochs=20, batch_size=512,\n",
    "          validation_data=(testing_padded, y_test)\n",
    ")"
   ]
  },
  {
   "cell_type": "code",
   "execution_count": 5,
   "metadata": {},
   "outputs": [
    {
     "name": "stdout",
     "output_type": "stream",
     "text": [
      "The model has predicted 461 wrong\n"
     ]
    }
   ],
   "source": [
    "index_list = []\n",
    "predictions = model.predict(testing_padded)\n",
    "predictions = ['negative' if x <= 0.5 else 'positive' for x in predictions]\n",
    "y_test = ['negative' if x <= 0.5 else 'positive' for x in y_test]\n",
    "for i, (prediction, truth) in enumerate(zip(predictions, y_test)):\n",
    "    if prediction != truth:\n",
    "        index_list.append(i)\n",
    "\n",
    "print(f'The model has predicted {len(index_list)} wrong')"
   ]
  },
  {
   "cell_type": "markdown",
   "metadata": {},
   "source": [
    "Let's take a look at some of the faulty predictions"
   ]
  },
  {
   "cell_type": "code",
   "execution_count": 6,
   "metadata": {},
   "outputs": [
    {
     "name": "stdout",
     "output_type": "stream",
     "text": [
      "the cast played shakespeare. shakespeare lost. i appreciate that this is trying to bring shakespeare to the masses but why ruin something so good. is it because 'the scottish play' is my favorite shakespeare i do not know. what i do know is that a certain rev bowdler hence bowdlerization tried to do something similar in the victorian era. in other words you cannot improve perfection. i have no more to write but as i have to write at least ten lines of text and english composition was never my forte i will just have to keep going and say that this movie as the saying goes just does not cut it.\n",
      "Prediction: positive\n",
      "Sentiment: negative\n",
      "============================\n",
      "some films just simply should not be remade. this is one of them. in and of itself it is not a bad film. but it fails to capture the flavor and the terror of the 1963 film of the same title. liam neeson was excellent as he always is and most of the cast holds up with the exception of owen wilson who just did not bring the right feel to the character of luke. but the major fault with this version is that it strayed too far from the shirley jackson story in it's attempts to be grandiose and lost some of the thrill of the earlier film in a trade off for snazzier special effects. again i will say that in and of itself it is not a bad film. but you will enjoy the friction of terror in the older version much more.\n",
      "Prediction: negative\n",
      "Sentiment: positive\n",
      "============================\n",
      "bela lugosi appeared in several of these low budget chillers for monogram studios in the 1940's and the corpse vanishes is one of the better ones. bela plays a mad scientist who kidnaps young brides and kills them and then extracts fluid from their bodies so he can keep his ageing wife looking young. after a reporter and a doctor stay the night at his home and discover he is responsible for the brides' deaths the following morning they report these murders to the police and the mad scientist is shot and drops dead shortly afterwards. you have got almost everything in this movie the scientist's assistants consist of an old hag a hunchback and dwarf her sons a thunderstorm and spooky passages in bela's house. bela and his wife find they sleep better in coffins rather than beds in the movie. the corpse vanishes is worth a look especially for bela lugosi fans. great fun. rating 3 stars out of 5.\n",
      "Prediction: negative\n",
      "Sentiment: positive\n",
      "============================\n",
      "the 33 percent of the nations nitwits that still support w. bush would do well to see this movie which shows the aftermath of the french revolution and the terror of 1794 as strikingly similar to the post 911 sociopolitical landscape. maybe then they could stop worrying about saving face and take the awhupping they deserve. it's really a shame that when a politician ruins the country those who voted for him can't be denied the right to ever vote again. they've clearly shown they have no sense of character. what really stands out in this movie is the ambiguity of a character as hopelessly doctrinaire as robespierre a haunted empty man who simplistic reductive ideology can't help him elucidate the boundaries between safety and totalitarianism. execution and murder. selfdefense and patriotism. his legalistic litmus tests aggravate the hopeless situation he's helped create. sound like any belligerent overprivileged retarded yale cheerleaders you know of wojciech pszoniak blows the slovenly deparidieu off the screen. as sympathetic as robespierres plight is it's comforting to know that shortly after the film ends he'll have his jaw shot off and be sent to the guillotine.\n",
      "Prediction: positive\n",
      "Sentiment: negative\n",
      "============================\n",
      "honestly this short film sucks. the dummy used in the necro scene is pretty well made but still phony enough looking to ruin the viewing experience. the unearthed dvd is crisp and clear and i haven't made up my mind if this helps or hinders it. if the film was a little grainy it might have added some creepiness factor to what was going on. i have no idea why this film has so much hype surrounding it other than the subject matter but to be honest the necrophilia scenes in films like nekromantik and visitor q among others are more shocking than in aftermath. all this talk about the film being about loneliness and all other manner of deep philosophy is bull. this is an expensive beautifully filmed turd. it's not that shocking it's not that disgusting. if you insist on viewing it rent it. i give it a 3 for the fact that not many people make explicit movies about necrophilia there should definitely be a bigger selection for us sickos  the filming is good and it does have some gore if watching a rubbery looking doll get cut open is considered gore... but other than that absolutely nothing going for this overhyped mess. on the other hand genesis cerda's sequel to aftermath now available as a double feature released by unearthed films is an absolute masterpiece of a short film really showing what a good director cerda really is when given the right material. although i don't care for aftermath at all genesis is so well made that i will forgive cerda and definitely keep an eye out for him in the future...\n",
      "Prediction: positive\n",
      "Sentiment: negative\n",
      "============================\n",
      "i thought that mukhsin has been wonderfully written. its not just about entertainment. there's tonnes of subtle messages that i think yasmin was trying to bring across. and yes it might be confusing to some of youespecially if you didn't watch sepet andor gubra for 76 times. i bet u noticed how they use characters from the two movies before right its really ironic how the characters relate. like the bossy neighbour is that prostitute from gubra. and the chick at the snooker pad turns out to be the religious and wife of the pious man in the future. and i absolutely love the voiceovers. its crude yet awakeningly fresh. like when they took a shot of the rumah tumpangan gamin signboard then there was suddenly mukhsin's voice saying 'bismillahhirrahmannirrahim..' the scene when he climbed the tree. it captured malaysian's attitudeand in some mild way sniggering at how pathetic it is portrayed in the character. for example even the kids can be really sharp tonguedcomplete with the shrill annoying voice and simply bad mouth ppl all movie long. and how you can be such a busybody and talk about ppl when ur own life isn't sorted out. all i can say is this movie totally reached my expectation if not exceeded it. it kept me glued to the screen i couldn't even take my eyes off it. not even to make out in the cinema. ha ha.\n",
      "Prediction: negative\n",
      "Sentiment: positive\n",
      "============================\n"
     ]
    }
   ],
   "source": [
    "for i, item in enumerate(index_list):\n",
    "    if i <= 5:\n",
    "        print(X_test[item])\n",
    "        print(f'Prediction: {predictions[item]}')\n",
    "        print(f'Sentiment: {y_test[item]}')\n",
    "        print('============================')"
   ]
  },
  {
   "cell_type": "markdown",
   "metadata": {},
   "source": [
    "The model made good assumptions for most of them, but it got easily confused by words like 'good', 'bad', 'well', etc. "
   ]
  }
 ],
 "metadata": {
  "kernelspec": {
   "display_name": "Python 3",
   "language": "python",
   "name": "python3"
  },
  "language_info": {
   "codemirror_mode": {
    "name": "ipython",
    "version": 3
   },
   "file_extension": ".py",
   "mimetype": "text/x-python",
   "name": "python",
   "nbconvert_exporter": "python",
   "pygments_lexer": "ipython3",
   "version": "3.8.3"
  }
 },
 "nbformat": 4,
 "nbformat_minor": 4
}
