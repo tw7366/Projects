{
 "cells": [
  {
   "cell_type": "code",
   "execution_count": 1,
   "metadata": {},
   "outputs": [],
   "source": [
    "import pandas as pd\n",
    "import numpy as np\n",
    "import seaborn as sns\n",
    "from collections import Counter\n",
    "from matplotlib import pyplot as plt"
   ]
  },
  {
   "cell_type": "code",
   "execution_count": 2,
   "metadata": {},
   "outputs": [
    {
     "name": "stdout",
     "output_type": "stream",
     "text": [
      "           dateCrawled                            name  seller offerType  \\\n",
      "0  2016-03-24 11:52:17                      Golf_3_1.6  privat   Angebot   \n",
      "1  2016-03-24 10:58:45            A5_Sportback_2.7_Tdi  privat   Angebot   \n",
      "2  2016-03-14 12:52:21  Jeep_Grand_Cherokee_\"Overland\"  privat   Angebot   \n",
      "3  2016-03-17 16:54:04              GOLF_4_1_4__3TÜRER  privat   Angebot   \n",
      "4  2016-03-31 17:25:20  Skoda_Fabia_1.4_TDI_PD_Classic  privat   Angebot   \n",
      "\n",
      "   price abtest vehicleType  yearOfRegistration    gearbox  powerPS  model  \\\n",
      "0    480   test         NaN                1993    manuell        0   golf   \n",
      "1  18300   test       coupe                2011    manuell      190    NaN   \n",
      "2   9800   test         suv                2004  automatik      163  grand   \n",
      "3   1500   test  kleinwagen                2001    manuell       75   golf   \n",
      "4   3600   test  kleinwagen                2008    manuell       69  fabia   \n",
      "\n",
      "   kilometer  monthOfRegistration fuelType       brand notRepairedDamage  \\\n",
      "0     150000                    0   benzin  volkswagen               NaN   \n",
      "1     125000                    5   diesel        audi                ja   \n",
      "2     125000                    8   diesel        jeep               NaN   \n",
      "3     150000                    6   benzin  volkswagen              nein   \n",
      "4      90000                    7   diesel       skoda              nein   \n",
      "\n",
      "           dateCreated  nrOfPictures  postalCode             lastSeen  \n",
      "0  2016-03-24 00:00:00             0       70435  2016-04-07 03:16:57  \n",
      "1  2016-03-24 00:00:00             0       66954  2016-04-07 01:46:50  \n",
      "2  2016-03-14 00:00:00             0       90480  2016-04-05 12:47:46  \n",
      "3  2016-03-17 00:00:00             0       91074  2016-03-17 17:40:17  \n",
      "4  2016-03-31 00:00:00             0       60437  2016-04-06 10:17:21  \n"
     ]
    }
   ],
   "source": [
    "df = pd.read_csv(\"autos.csv\", encoding='latin-1')\n",
    "print(df.head())"
   ]
  },
  {
   "cell_type": "code",
   "execution_count": 3,
   "metadata": {},
   "outputs": [
    {
     "name": "stdout",
     "output_type": "stream",
     "text": [
      "<class 'pandas.core.frame.DataFrame'>\n",
      "RangeIndex: 371528 entries, 0 to 371527\n",
      "Data columns (total 20 columns):\n",
      " #   Column               Non-Null Count   Dtype \n",
      "---  ------               --------------   ----- \n",
      " 0   dateCrawled          371528 non-null  object\n",
      " 1   name                 371528 non-null  object\n",
      " 2   seller               371528 non-null  object\n",
      " 3   offerType            371528 non-null  object\n",
      " 4   price                371528 non-null  int64 \n",
      " 5   abtest               371528 non-null  object\n",
      " 6   vehicleType          333659 non-null  object\n",
      " 7   yearOfRegistration   371528 non-null  int64 \n",
      " 8   gearbox              351319 non-null  object\n",
      " 9   powerPS              371528 non-null  int64 \n",
      " 10  model                351044 non-null  object\n",
      " 11  kilometer            371528 non-null  int64 \n",
      " 12  monthOfRegistration  371528 non-null  int64 \n",
      " 13  fuelType             338142 non-null  object\n",
      " 14  brand                371528 non-null  object\n",
      " 15  notRepairedDamage    299468 non-null  object\n",
      " 16  dateCreated          371528 non-null  object\n",
      " 17  nrOfPictures         371528 non-null  int64 \n",
      " 18  postalCode           371528 non-null  int64 \n",
      " 19  lastSeen             371528 non-null  object\n",
      "dtypes: int64(7), object(13)\n",
      "memory usage: 56.7+ MB\n"
     ]
    }
   ],
   "source": [
    "df.info()"
   ]
  },
  {
   "cell_type": "code",
   "execution_count": 4,
   "metadata": {},
   "outputs": [
    {
     "data": {
      "text/plain": [
       "dateCrawled                0\n",
       "name                       0\n",
       "seller                     0\n",
       "offerType                  0\n",
       "price                      0\n",
       "abtest                     0\n",
       "vehicleType            37869\n",
       "yearOfRegistration         0\n",
       "gearbox                20209\n",
       "powerPS                    0\n",
       "model                  20484\n",
       "kilometer                  0\n",
       "monthOfRegistration        0\n",
       "fuelType               33386\n",
       "brand                      0\n",
       "notRepairedDamage      72060\n",
       "dateCreated                0\n",
       "nrOfPictures               0\n",
       "postalCode                 0\n",
       "lastSeen                   0\n",
       "dtype: int64"
      ]
     },
     "execution_count": 4,
     "metadata": {},
     "output_type": "execute_result"
    }
   ],
   "source": [
    "df.isnull().sum()"
   ]
  },
  {
   "cell_type": "code",
   "execution_count": 5,
   "metadata": {},
   "outputs": [
    {
     "data": {
      "text/plain": [
       "dateCrawled            0\n",
       "name                   0\n",
       "seller                 0\n",
       "offerType              0\n",
       "price                  0\n",
       "abtest                 0\n",
       "vehicleType            0\n",
       "yearOfRegistration     0\n",
       "gearbox                0\n",
       "powerPS                0\n",
       "model                  0\n",
       "kilometer              0\n",
       "monthOfRegistration    0\n",
       "fuelType               0\n",
       "brand                  0\n",
       "notRepairedDamage      0\n",
       "dateCreated            0\n",
       "nrOfPictures           0\n",
       "postalCode             0\n",
       "lastSeen               0\n",
       "dtype: int64"
      ]
     },
     "execution_count": 5,
     "metadata": {},
     "output_type": "execute_result"
    }
   ],
   "source": [
    "df.fillna('Uncertain', inplace=True)\n",
    "df.isnull().sum()"
   ]
  },
  {
   "cell_type": "code",
   "execution_count": 19,
   "metadata": {},
   "outputs": [
    {
     "name": "stdout",
     "output_type": "stream",
     "text": [
      "========\n",
      " Unique Values of name are: ['Golf_3_1.6' 'A5_Sportback_2.7_Tdi' 'Jeep_Grand_Cherokee_\"Overland\"' ...\n",
      " 'Smart_smart_leistungssteigerung_100ps' 'VW_Golf_Kombi_1_9l_TDI'\n",
      " 'BMW_M135i_vollausgestattet_NP_52.720____Euro']\n",
      "========\n",
      " Unique Values of price are: [  480 18300  9800 ... 18429 24895 10985]\n",
      "========\n",
      " Unique Values of vehicleType are: ['Uncertain' 'coupe' 'suv' 'kleinwagen' 'limousine' 'cabrio' 'bus' 'kombi'\n",
      " 'andere']\n",
      "========\n",
      " Unique Values of yearOfRegistration are: [1993 2011 2004 2001 2008 1995 1980 2014 1998 2005 1910 2016 2007 2009\n",
      " 2002 2018 1997 1990 2017 1981 2003 1994 1991 1984 2006 1999 2012 2010\n",
      " 2000 1992 2013 1996 1985 1989 2015 1968 1982 1976 1983 1959 1973 1111\n",
      " 1969 1971 1987 1986 1988 1967 1970 1965 1945 1925 1974 1979 1955 1978\n",
      " 1972 1977 1961 1963 1964 1960 1966 1975 1937 1936 5000 1954 1958 9999\n",
      " 1956 3200 1000 1933 1941 1962 8888 1500 2200 4100 1929 1951 1957 1940\n",
      " 3000 2066 1949 2019 1800 1953 1935 1234 8000 5300 9000 2900 6000 5900\n",
      " 5911 1400 1950 4000 1948 1952 1200 8500 1932 1255 1927 1923 1931 3700\n",
      " 3800 4800 1942 7000 1911 6500 2290 2500 1930 1001 6200 9450 1944 1943\n",
      " 1947 1934 1938 1688 2800 1253 1928 7500 1919 5555 7777 5600 1600 1939\n",
      " 2222 1039 9996 1300 8455 1915 4500 1920 1602 7800 9229 1946 7100 8200\n",
      " 3500]\n",
      "========\n",
      " Unique Values of gearbox are: ['manuell' 'automatik' 'Uncertain']\n",
      "========\n",
      " Unique Values of powerPS are: [    0   190   163    75    69   102   109    50   125   101   105   140\n",
      "   115   131    60   136   160   231    90   118   193    99   113   218\n",
      "   122   129    70   306    95    61   177    80   170    55   143    64\n",
      "   286   232   150   156    82   204   155    54   185    87   180    86\n",
      "    84   303   224   235   200   178   265    77   110   144   120   116\n",
      "   184   126    88   194   305   197   179   250    45   313    41   165\n",
      "    98   130   114   211    56   326   201   213    58   107    83   174\n",
      "   100   220    85    73   192    68    66   299    74    52   510   147\n",
      "    65   310    71    97   239   295   203     5   300   103   245   258\n",
      "   292   320    63    81   148   354    44   145   230   280   260   457\n",
      "   104   409   188   333   186   117   141    59   132   234   158    39\n",
      "   272    92    51   135    53   435   209    43   146    67   106   166\n",
      "   276   344   349    72   249   237   111   279    23   138   256   175\n",
      "    96   226    26    37   301   334   128   133   124    33   219   241\n",
      "   167    94   182   196   238   277  1398   505   228   112    48   139\n",
      "  1799    40   240    79   360   243   375   252   396   340   108   121\n",
      "   380   345   187   666   289   222   315   198   284   450   233   387\n",
      "   152   347   172    57   137   212   476   314    30     7    47   173\n",
      "   215   370   290   207   385   205   171   750    78    91    89   325\n",
      "    76   151   420   350   953    93   142   500   343   199   119   164\n",
      "    16   264   367   298   208   210   408   275    46  1001   381   225\n",
      "   127   400   176   514   161   603   307    35   268   206   771   355\n",
      "   487   416   273   507   223   255   123   154   149  7515  1400   620\n",
      "   266   480   169    34     2   242  1779   285   162   328  1753   329\n",
      "   134   483   330   247   492   168 10317    18   283    62    10   432\n",
      "   214   183   254   678    15   321   322   430   952   513   600   181\n",
      "   388   426   271   599   439   462   364   379   449   519   999   373\n",
      "    22   157    42   195   553    38     4   485   309   440   401   189\n",
      "  1111  2729    21   587   236  1240  1704   521     1  1900   270    24\n",
      "   159   570   808   515   374  1200    29   382  1993    14   216   610\n",
      "   504    49   267   331   363   261  1011   253   696 10520   549   376\n",
      "   377   227   421   311    27   585   551   579   415   217    20   751\n",
      "   530  1999    11   581   352  1056    25   394    12   560   555   405\n",
      "   296   495  1659   294   390   517  6920   246   327    17  1800  1625\n",
      "   368   489   371   221  1367   259   606  2017  1597   520   392     9\n",
      "   540   630   443   572    13   262   601     8   963   411   900   460\n",
      "   541  7512 10218  7544   559  1102   287    19   525   441   297   557\n",
      "  1090    28   475   436   282   602     6  1000 17322  5411   335  1360\n",
      "   202  3750   632   805  1062  1024 11530  1796  5000   269   506  1002\n",
      "   466   288   721  1780 12012   650   700 17932   316  2005  1399   191\n",
      "  9999   502   278  1300   431   257   544  1256   580   153   353   455\n",
      "  1653   674   281 12510   362     3  1500   386    32  1202  2016  1436\n",
      "  1405   434   671   274   571  1288  1055 10912 15016   351   629  6226\n",
      "  1115  1105   404   341  1223  2340  8404  1968   423   383   338   445\n",
      "  1920  4400 10710 10522  9010  1164 11509  1501   428 11635    36   304\n",
      "   348  1703   532  1910  1995   676   625 10000   518    31  1005   644\n",
      "   547   575   358  1403  5575 19211   960   365   490  1801   346   550\n",
      "  3199   612   800  7508   888   740  1312   470   851   357  1937   950\n",
      "  4700   319  1600  3454 19208   251   850   337  8011  2331  2789   468\n",
      "   589  2461  6006  3500  5815  6018  1781  1503  1596   229  1506  5809\n",
      " 15020  5867  2172  1598   619   317   398 17410  1363   584  1054  1339\n",
      "   780   318  1700   604   324  1151   685   397   659  6011   703  1771\n",
      " 15001   332  6045   425   702   308   453   680  6010   903   640  2000\n",
      "   248   651  2799 17011   528   477  1103  1521 16051  9000  1998 10311\n",
      "   501  1230 17019 12684  8259   748   545  1895  3144   901  1317   871\n",
      "   909  2201  1595   776 17700 11011   672   312   407  1199   459  1162\n",
      "   402  1120 15033  1896   339   361   574  6512   454 13616   607 16312\n",
      "  1082   336   529 20000  6012  1401  1021  1870 11620 13636   583  1250\n",
      "   670  9710   323  1158  2009   902  6062  1275   481   244   399  1016\n",
      "   743  1221  2402 16011  1362   359   645   907   366 12512  1986  1003\n",
      "  1432  9013  9011   442   424  1017  1394 15017 10910  1992  2018 11025\n",
      "  1433   631   801  1701  2792  1502  1239  1390 14009  1160  1351 11111\n",
      "  1783  9007   923   356  1149   754  1988   704  2004  5420  1793  1324\n",
      "  7511  1299   293 19312  1079  1689   998  1100  9012  1933   508 16311\n",
      "   682  1252  1922  7529   732  2389   417  2200  1707  1416  8500  1012\n",
      "  3000 10110  4507   582  1631  7518  1004   799  2007  2598  1548  1241\n",
      "   473   564]\n",
      "========\n",
      " Unique Values of model are: ['golf' 'Uncertain' 'grand' 'fabia' '3er' '2_reihe' 'andere' 'c_max'\n",
      " '3_reihe' 'passat' 'navara' 'ka' 'polo' 'twingo' 'a_klasse' 'scirocco'\n",
      " '5er' 'meriva' 'arosa' 'c4' 'civic' 'transporter' 'punto' 'e_klasse'\n",
      " 'clio' 'kadett' 'kangoo' 'corsa' 'one' 'fortwo' '1er' 'b_klasse' 'signum'\n",
      " 'astra' 'a8' 'jetta' 'fiesta' 'c_klasse' 'micra' 'vito' 'sprinter' '156'\n",
      " 'escort' 'forester' 'xc_reihe' 'scenic' 'a4' 'a1' 'insignia' 'combo'\n",
      " 'focus' 'tt' 'a6' 'jazz' 'omega' 'slk' '7er' '80' '147' 'glk' '100'\n",
      " 'z_reihe' 'sportage' 'sorento' 'v40' 'ibiza' 'mustang' 'eos' 'touran'\n",
      " 'getz' 'a3' 'almera' 'megane' 'lupo' 'r19' 'zafira' 'caddy' 'mondeo'\n",
      " 'cordoba' 'colt' 'impreza' 'vectra' 'berlingo' 'm_klasse' 'tiguan'\n",
      " 'i_reihe' 'espace' 'sharan' '6_reihe' 'panda' 'up' 'seicento' 'ceed'\n",
      " '5_reihe' 'yeti' 'octavia' 'mii' 'rx_reihe' '6er' 'modus' 'fox' 'matiz'\n",
      " 'beetle' 'c1' 'rio' 'touareg' 'logan' 'spider' 'cuore' 's_max' 'a2'\n",
      " 'x_reihe' 'a5' 'galaxy' 'c3' 'viano' 's_klasse' '1_reihe' 'avensis' 'sl'\n",
      " 'roomster' 'q5' 'kaefer' 'santa' 'cooper' 'leon' '4_reihe' '500' 'laguna'\n",
      " 'ptcruiser' 'clk' 'primera' 'exeo' '159' 'transit' 'juke' 'qashqai'\n",
      " 'carisma' 'accord' 'corolla' 'lanos' 'phaeton' 'boxster' 'verso' 'swift'\n",
      " 'rav' 'kuga' 'picanto' 'kalos' 'superb' 'stilo' 'alhambra' '911'\n",
      " 'mx_reihe' 'm_reihe' 'roadster' 'ypsilon' 'cayenne' 'galant' 'justy' '90'\n",
      " 'sirion' 'crossfire' 'agila' 'duster' 'cr_reihe' 'v50' 'discovery'\n",
      " 'c_reihe' 'v_klasse' 'yaris' 'c5' 'aygo' 'cc' 'carnival' 'fusion' 'bora'\n",
      " 'forfour' 'cl' 'tigra' '300c' 'q3' 'spark' 'v70' 'x_type' 'ducato'\n",
      " 's_type' 'x_trail' 'toledo' 'altea' 'voyager' 'calibra' 'bravo'\n",
      " 'range_rover' 'antara' 'tucson' 'q7' 'citigo' 'jimny' 'cx_reihe'\n",
      " 'wrangler' 'lybra' 'range_rover_sport' 'lancer' 'freelander' 'captiva'\n",
      " 'c2' 'range_rover_evoque' 'sandero' 'note' '900' 'defender' 'cherokee'\n",
      " 'clubman' 'samara' '601' 'legacy' 'pajero' 'auris' 'niva' 's60' 'nubira'\n",
      " 'vivaro' 'g_klasse' 'lodgy' '850' 'serie_2' 'charade' 'croma' 'outlander'\n",
      " 'gl' 'doblo' 'musa' 'amarok' 'move' '9000' 'v60' '145' 'aveo' '200'\n",
      " 'b_max' 'delta' 'terios' 'rangerover' 'materia' 'kalina' 'elefantino'\n",
      " 'i3' 'kappa' 'serie_3' 'serie_1' 'discovery_sport']\n",
      "========\n",
      " Unique Values of kilometer are: [150000 125000  90000  40000  30000  70000   5000 100000  60000  20000\n",
      "  80000  50000  10000]\n",
      "========\n",
      " Unique Values of monthOfRegistration are: [ 0  5  8  6  7 10 12 11  2  3  1  4  9]\n",
      "========\n",
      " Unique Values of fuelType are: ['benzin' 'diesel' 'Uncertain' 'lpg' 'andere' 'hybrid' 'cng' 'elektro']\n",
      "========\n",
      " Unique Values of brand are: ['volkswagen' 'audi' 'jeep' 'skoda' 'bmw' 'peugeot' 'ford' 'mazda'\n",
      " 'nissan' 'renault' 'mercedes_benz' 'opel' 'seat' 'citroen' 'honda' 'fiat'\n",
      " 'mini' 'smart' 'hyundai' 'sonstige_autos' 'alfa_romeo' 'subaru' 'volvo'\n",
      " 'mitsubishi' 'kia' 'suzuki' 'lancia' 'porsche' 'toyota' 'chevrolet'\n",
      " 'dacia' 'daihatsu' 'trabant' 'saab' 'chrysler' 'jaguar' 'daewoo' 'rover'\n",
      " 'land_rover' 'lada']\n",
      "========\n",
      " Unique Values of notRepairedDamage are: ['Uncertain' 'ja' 'nein']\n"
     ]
    }
   ],
   "source": [
    "columns = list(df.columns)\n",
    "for item in columns:\n",
    "    print(f'========\\n Unique Values of {item} are: {df[item].unique()}')"
   ]
  },
  {
   "cell_type": "markdown",
   "metadata": {},
   "source": [
    "### Data filtering process #1\n",
    "Looking at the unique values of each column, there are some irrelevant columns for price prediction.\n",
    "\n",
    "I'm going to drop `dateCrawled`, `nrOfPictures`, `postalCode`, `lastSeen`, `abtest`, `offerType`, `seller`, `dateCreated`."
   ]
  },
  {
   "cell_type": "code",
   "execution_count": 7,
   "metadata": {},
   "outputs": [
    {
     "name": "stdout",
     "output_type": "stream",
     "text": [
      "Index(['name', 'price', 'vehicleType', 'yearOfRegistration', 'gearbox',\n",
      "       'powerPS', 'model', 'kilometer', 'monthOfRegistration', 'fuelType',\n",
      "       'brand', 'notRepairedDamage'],\n",
      "      dtype='object')\n"
     ]
    }
   ],
   "source": [
    "df = df.drop(columns=['dateCrawled', 'nrOfPictures', 'postalCode', 'lastSeen', 'abtest', 'offerType', 'seller', 'dateCreated'])\n",
    "print(df.columns)"
   ]
  },
  {
   "cell_type": "markdown",
   "metadata": {},
   "source": [
    "I have noticed some values from `yearOfRegistration` are over __2020__ (current year), so I need to investigate."
   ]
  },
  {
   "cell_type": "code",
   "execution_count": 8,
   "metadata": {},
   "outputs": [
    {
     "name": "stdout",
     "output_type": "stream",
     "text": [
      "Counter({9999: 27, 5000: 18, 3000: 7, 6000: 6, 9000: 5, 7000: 4, 2500: 4, 4000: 3, 8888: 2, 8000: 2, 5911: 2, 2800: 2, 7500: 2, 5555: 2, 2222: 2, 4500: 2, 3200: 1, 2200: 1, 4100: 1, 2066: 1, 5300: 1, 2900: 1, 5900: 1, 8500: 1, 3700: 1, 3800: 1, 4800: 1, 6500: 1, 2290: 1, 6200: 1, 9450: 1, 7777: 1, 5600: 1, 9996: 1, 8455: 1, 7800: 1, 9229: 1, 7100: 1, 8200: 1, 3500: 1})\n"
     ]
    }
   ],
   "source": [
    "year_temp = df.loc[df['yearOfRegistration'] > 2020]\n",
    "print(Counter(year_temp['yearOfRegistration']))"
   ]
  },
  {
   "cell_type": "markdown",
   "metadata": {},
   "source": [
    "### Data filtering process #2\n",
    "As seen from above, there are too many extreme values. Therefore, I need to add filters to the dataframe before I build any model.\n",
    "\n",
    "Let's try to set some arbitrary ranges for columns with numerical values to make a relevance frame.\n",
    "\n",
    "* `price`: 200-14000 ($)\n",
    "* `yearOfRegistration`: 1980-2020 (yr)\n",
    "* `powerPS`: 20-400 (hp)\n",
    "* `kilometer`: 5,000-200,000 (km)"
   ]
  },
  {
   "cell_type": "code",
   "execution_count": 22,
   "metadata": {},
   "outputs": [
    {
     "name": "stdout",
     "output_type": "stream",
     "text": [
      "26% of the original dataset has been filtered out\n",
      "========\n",
      "filtered_df is using 74% of the original dataset\n"
     ]
    }
   ],
   "source": [
    "# Adding filters\n",
    "filtered_df = df.loc[(df['price']<=14000)&(df['price']>=200)&(df['yearOfRegistration']>=1980)&(df['yearOfRegistration']<=2020)\n",
    "                    &(df['powerPS']>=20)&(df['powerPS']<=400)&(df['kilometer']>=5000)&(df['kilometer']<=200000)]\n",
    "# Also remove duplciates\n",
    "filtered_df = filtered_df.drop_duplicates(['name', 'price', 'vehicleType', 'yearOfRegistration', 'gearbox', \n",
    "                                           'powerPS', 'model', 'kilometer', 'monthOfRegistration', 'fuelType',\n",
    "                                           'brand', 'notRepairedDamage'])\n",
    "\n",
    "print(f'{round((1-filtered_df.name.count()/df.name.count())*100)}% of the original dataset has been filtered out\\n========')\n",
    "print(f'filtered_df is using {round(filtered_df.name.count()/df.name.count()*100)}% of the original dataset')"
   ]
  },
  {
   "cell_type": "markdown",
   "metadata": {},
   "source": [
    "### Data filtering process #3\n"
   ]
  }
 ],
 "metadata": {
  "kernelspec": {
   "display_name": "Python 3",
   "language": "python",
   "name": "python3"
  },
  "language_info": {
   "codemirror_mode": {
    "name": "ipython",
    "version": 3
   },
   "file_extension": ".py",
   "mimetype": "text/x-python",
   "name": "python",
   "nbconvert_exporter": "python",
   "pygments_lexer": "ipython3",
   "version": "3.8.3"
  }
 },
 "nbformat": 4,
 "nbformat_minor": 4
}
