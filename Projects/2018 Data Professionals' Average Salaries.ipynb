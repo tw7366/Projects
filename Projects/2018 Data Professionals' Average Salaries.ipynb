{
 "cells": [
  {
   "cell_type": "markdown",
   "metadata": {},
   "source": [
    "## Analysis of Data Professionals in 2017/2018\n",
    "\n",
    "**Through the analysis, I'd like to know**\n",
    "\n",
    "* __The preference of database systems__\n",
    "* __Distribution of jobs in the data related field__\n",
    "* __Job Locations - Countries__\n",
    "* __The most popular data job's median/average salaries by experience__\n",
    "* __Corrleation between salaries and education__"
   ]
  },
  {
   "cell_type": "code",
   "execution_count": 1,
   "metadata": {},
   "outputs": [],
   "source": [
    "import pandas as pd\n",
    "import numpy as np\n",
    "from matplotlib import pyplot as plt\n",
    "import seaborn as sns\n",
    "import re\n",
    "from collections import OrderedDict"
   ]
  },
  {
   "cell_type": "code",
   "execution_count": 2,
   "metadata": {},
   "outputs": [
    {
     "name": "stdout",
     "output_type": "stream",
     "text": [
      "<class 'pandas.core.frame.DataFrame'>\n",
      "RangeIndex: 6011 entries, 0 to 6010\n",
      "Data columns (total 9 columns):\n",
      " #   Column                  Non-Null Count  Dtype \n",
      "---  ------                  --------------  ----- \n",
      " 0   SalaryUSD               6011 non-null   object\n",
      " 1   Country                 6011 non-null   object\n",
      " 2   PrimaryDatabase         6011 non-null   object\n",
      " 3   YearsWithThisDatabase   6011 non-null   int64 \n",
      " 4   OtherDatabases          4779 non-null   object\n",
      " 5   JobTitle                6011 non-null   object\n",
      " 6   YearsWithThisTypeOfJob  6011 non-null   int64 \n",
      " 7   Education               6011 non-null   object\n",
      " 8   HoursWorkedPerWeek      6011 non-null   int64 \n",
      "dtypes: int64(3), object(6)\n",
      "memory usage: 422.8+ KB\n",
      "None\n"
     ]
    }
   ],
   "source": [
    "prof_table = pd.read_csv(r'datasets\\2018_Data_Professionals_Salary.csv', encoding='latin1')\n",
    "print(prof_table.info())"
   ]
  },
  {
   "cell_type": "markdown",
   "metadata": {},
   "source": [
    "### Data Cleaning"
   ]
  },
  {
   "cell_type": "code",
   "execution_count": 3,
   "metadata": {},
   "outputs": [
    {
     "data": {
      "text/html": [
       "<div>\n",
       "<style scoped>\n",
       "    .dataframe tbody tr th:only-of-type {\n",
       "        vertical-align: middle;\n",
       "    }\n",
       "\n",
       "    .dataframe tbody tr th {\n",
       "        vertical-align: top;\n",
       "    }\n",
       "\n",
       "    .dataframe thead th {\n",
       "        text-align: right;\n",
       "    }\n",
       "</style>\n",
       "<table border=\"1\" class=\"dataframe\">\n",
       "  <thead>\n",
       "    <tr style=\"text-align: right;\">\n",
       "      <th></th>\n",
       "      <th>SalaryUSD</th>\n",
       "      <th>Country</th>\n",
       "      <th>PrimaryDatabase</th>\n",
       "      <th>YearsWithThisDatabase</th>\n",
       "      <th>OtherDatabases</th>\n",
       "      <th>JobTitle</th>\n",
       "      <th>YearsWithThisTypeOfJob</th>\n",
       "      <th>Education</th>\n",
       "      <th>HoursWorkedPerWeek</th>\n",
       "    </tr>\n",
       "  </thead>\n",
       "  <tbody>\n",
       "    <tr>\n",
       "      <th>0</th>\n",
       "      <td>200000</td>\n",
       "      <td>United States</td>\n",
       "      <td>Microsoft SQL Server</td>\n",
       "      <td>10</td>\n",
       "      <td>MySQL/MariaDB</td>\n",
       "      <td>DBA</td>\n",
       "      <td>5</td>\n",
       "      <td>Masters</td>\n",
       "      <td>45</td>\n",
       "    </tr>\n",
       "    <tr>\n",
       "      <th>1</th>\n",
       "      <td>61515</td>\n",
       "      <td>United Kingdom</td>\n",
       "      <td>Microsoft SQL Server</td>\n",
       "      <td>15</td>\n",
       "      <td>Oracle, PostgreSQL</td>\n",
       "      <td>DBA</td>\n",
       "      <td>3</td>\n",
       "      <td>None (no degree completed)</td>\n",
       "      <td>35</td>\n",
       "    </tr>\n",
       "    <tr>\n",
       "      <th>2</th>\n",
       "      <td>95000</td>\n",
       "      <td>Germany</td>\n",
       "      <td>Microsoft SQL Server</td>\n",
       "      <td>5</td>\n",
       "      <td>Oracle, MySQL/MariaDB, Informix</td>\n",
       "      <td>Other</td>\n",
       "      <td>25</td>\n",
       "      <td>Masters</td>\n",
       "      <td>45</td>\n",
       "    </tr>\n",
       "    <tr>\n",
       "      <th>3</th>\n",
       "      <td>56000</td>\n",
       "      <td>United Kingdom</td>\n",
       "      <td>Microsoft SQL Server</td>\n",
       "      <td>6</td>\n",
       "      <td>NaN</td>\n",
       "      <td>DBA</td>\n",
       "      <td>2</td>\n",
       "      <td>Associates (2 years)</td>\n",
       "      <td>40</td>\n",
       "    </tr>\n",
       "    <tr>\n",
       "      <th>4</th>\n",
       "      <td>35000</td>\n",
       "      <td>France</td>\n",
       "      <td>Microsoft SQL Server</td>\n",
       "      <td>10</td>\n",
       "      <td>Oracle</td>\n",
       "      <td>DBA</td>\n",
       "      <td>10</td>\n",
       "      <td>Bachelors (4 years)</td>\n",
       "      <td>40</td>\n",
       "    </tr>\n",
       "  </tbody>\n",
       "</table>\n",
       "</div>"
      ],
      "text/plain": [
       "  SalaryUSD         Country       PrimaryDatabase  YearsWithThisDatabase  \\\n",
       "0    200000   United States  Microsoft SQL Server                     10   \n",
       "1     61515  United Kingdom  Microsoft SQL Server                     15   \n",
       "2     95000         Germany  Microsoft SQL Server                      5   \n",
       "3     56000  United Kingdom  Microsoft SQL Server                      6   \n",
       "4     35000          France  Microsoft SQL Server                     10   \n",
       "\n",
       "                    OtherDatabases JobTitle  YearsWithThisTypeOfJob  \\\n",
       "0                    MySQL/MariaDB      DBA                       5   \n",
       "1               Oracle, PostgreSQL      DBA                       3   \n",
       "2  Oracle, MySQL/MariaDB, Informix    Other                      25   \n",
       "3                              NaN      DBA                       2   \n",
       "4                           Oracle      DBA                      10   \n",
       "\n",
       "                    Education  HoursWorkedPerWeek  \n",
       "0                     Masters                  45  \n",
       "1  None (no degree completed)                  35  \n",
       "2                     Masters                  45  \n",
       "3        Associates (2 years)                  40  \n",
       "4         Bachelors (4 years)                  40  "
      ]
     },
     "execution_count": 3,
     "metadata": {},
     "output_type": "execute_result"
    }
   ],
   "source": [
    "prof_table.head()"
   ]
  },
  {
   "cell_type": "code",
   "execution_count": 4,
   "metadata": {
    "scrolled": true
   },
   "outputs": [
    {
     "data": {
      "text/plain": [
       "SALARY_USD     0\n",
       "COUNTRY        0\n",
       "DMBS           0\n",
       "DBMS_YEARS     0\n",
       "JOB_TITLE      0\n",
       "EXPERIENCE     0\n",
       "EDUCATION      0\n",
       "WEEKLY_HOUR    0\n",
       "dtype: int64"
      ]
     },
     "execution_count": 4,
     "metadata": {},
     "output_type": "execute_result"
    }
   ],
   "source": [
    "def object_to_int(object_list):\n",
    "    '''\n",
    "    return a list of int by transforming an object list that should've been of data type: int\n",
    "    \n",
    "        Args:\n",
    "            object_list (series): a list of int-like objects\n",
    "        return:\n",
    "            Series of integers\n",
    "    '''\n",
    "    object_list = object_list.str.replace(',', '').str.replace('$', '').str.replace(' ', '')\n",
    "    return object_list.astype(float).astype(int)\n",
    "\n",
    "# drop the unwanted column\n",
    "prof_table.drop(columns='OtherDatabases', inplace=True)\n",
    "# rename columns for convenience\n",
    "prof_table.rename(columns={'SalaryUSD':'SALARY_USD', 'Country':'COUNTRY', 'PrimaryDatabase':'DMBS', \n",
    "                           'YearsWithThisDatabase':'DBMS_YEARS', 'JobTitle':'JOB_TITLE',\n",
    "                           'YearsWithThisTypeOfJob':'EXPERIENCE', 'Education':'EDUCATION',\n",
    "                           'HoursWorkedPerWeek':'WEEKLY_HOUR'}, inplace=True)\n",
    "# transform the data type of the series to int\n",
    "prof_table['SALARY_USD'] = object_to_int(prof_table['SALARY_USD'])\n",
    "prof_table.drop_duplicates(inplace=True)\n",
    "\n",
    "# seeing if there is any invalid values\n",
    "prof_table.isnull().sum()"
   ]
  },
  {
   "cell_type": "markdown",
   "metadata": {},
   "source": [
    "### Preferred Primary Database Management Systems (DBMS)"
   ]
  },
  {
   "cell_type": "code",
   "execution_count": 5,
   "metadata": {},
   "outputs": [
    {
     "name": "stdout",
     "output_type": "stream",
     "text": [
      "Microsoft SQL Server       5617\n",
      "Oracle                      194\n",
      "PostgreSQL                   34\n",
      "Other                        30\n",
      "MySQL/MariaDB                23\n",
      "Azure SQL DB                 19\n",
      "DB2                          15\n",
      "Microsoft Access             12\n",
      "Teradata                     10\n",
      "SAP                           9\n",
      "Amazon RDS (any flavor)       8\n",
      "MongoDB                       6\n",
      "SQLite                        3\n",
      "Elasticsearch                 2\n",
      "Cassandra                     2\n",
      "Name: DMBS, dtype: int64\n"
     ]
    }
   ],
   "source": [
    "primary_list = prof_table['DMBS'].value_counts().index\n",
    "primary_count = (prof_table['DMBS'].value_counts().values)\n",
    "print(prof_table['DMBS'].value_counts())"
   ]
  },
  {
   "cell_type": "code",
   "execution_count": 6,
   "metadata": {},
   "outputs": [
    {
     "data": {
      "image/png": "[encoded data removed]",
      "text/plain": [
       "<Figure size 720x360 with 1 Axes>"
      ]
     },
     "metadata": {
      "needs_background": "light"
     },
     "output_type": "display_data"
    },
    {
     "data": {
      "image/png": "[encoded data removed]",
      "text/plain": [
       "<Figure size 720x360 with 1 Axes>"
      ]
     },
     "metadata": {
      "needs_background": "light"
     },
     "output_type": "display_data"
    }
   ],
   "source": [
    "# creating a graph of primary databases\n",
    "plt.figure(figsize=(10,5))\n",
    "sns.barplot(x = primary_count, y = primary_list)\n",
    "plt.xlabel('Popularity')\n",
    "plt.title('DMBS Preferences')\n",
    "plt.tight_layout\n",
    "plt.show()\n",
    "\n",
    "# creating another graph without MS SQL Server stats\n",
    "plt.figure(figsize=(10,5))\n",
    "sns.barplot(x = primary_count[1:], y = primary_list[1:])\n",
    "plt.xlabel('Popularity')\n",
    "plt.title('DMBS preferences excluding Microsoft SQL Server')\n",
    "plt.tight_layout\n",
    "plt.show()"
   ]
  },
  {
   "cell_type": "markdown",
   "metadata": {},
   "source": [
    "#### Observations\n",
    "Microsoft SQL Server is by far the most used DBMS for companies across the world\n",
    "\n",
    "Oracle seems to be popular among all other options"
   ]
  },
  {
   "cell_type": "markdown",
   "metadata": {},
   "source": [
    "### Most popular data jobs "
   ]
  },
  {
   "cell_type": "markdown",
   "metadata": {},
   "source": [
    "#### Grouping similar jobs together"
   ]
  },
  {
   "cell_type": "code",
   "execution_count": 7,
   "metadata": {},
   "outputs": [
    {
     "name": "stdout",
     "output_type": "stream",
     "text": [
      "Data jobs before\n",
      "['DBA' 'Other' 'Developer: App code (C#, JS, etc)' 'Engineer'\n",
      " 'Developer: T-SQL'\n",
      " 'Developer: Business Intelligence (SSRS, PowerBI, etc)' 'Architect'\n",
      " 'Analyst' 'Manager' 'Data Scientist' 'Principal database engineer'\n",
      " 'DevOps, Sr Software Engineer DBA' 'Technician ' 'Database Specialist'\n",
      " 'Consultant' 'Systems Administrator' 'Sales' 'DBA / BI Developer'\n",
      " 'Sr Consultant ' 'Analytics consultant'\n",
      " 'DBA (General - splits time evenly between writing & tuning queries AND building & troubleshooting servers)'\n",
      " 'DBA (Development Focus - tunes queries, indexes, does deployments)'\n",
      " 'DBA (Production Focus - build & troubleshoot servers, HA/DR)']\n"
     ]
    }
   ],
   "source": [
    "print('Data jobs before')\n",
    "print(prof_table['JOB_TITLE'].unique())"
   ]
  },
  {
   "cell_type": "code",
   "execution_count": 8,
   "metadata": {},
   "outputs": [
    {
     "name": "stdout",
     "output_type": "stream",
     "text": [
      "Data jobs after\n",
      "['DBA' 'Other' 'Developer' 'Engineer' 'Architect' 'Analyst' 'Manager'\n",
      " 'Data Scientist' 'Technician ' 'Database Specialist' 'Consultant'\n",
      " 'Systems Administrator' 'Sales']\n"
     ]
    }
   ],
   "source": [
    "job_list = prof_table['JOB_TITLE'].unique()\n",
    "\n",
    "# update the job list directly\n",
    "for job in job_list:\n",
    "    job_indexes = prof_table[prof_table['JOB_TITLE'] == job].index\n",
    "    if 'dba' in job.lower():\n",
    "        prof_table.at[job_indexes, 'JOB_TITLE'] = 'DBA'\n",
    "    elif 'developer' in job.lower():\n",
    "        prof_table.at[job_indexes, 'JOB_TITLE'] = 'Developer'\n",
    "    elif 'consultant' in job.lower():\n",
    "        prof_table.at[job_indexes, 'JOB_TITLE'] = 'Consultant'\n",
    "    elif 'engineer' in job.lower():\n",
    "        prof_table.at[job_indexes, 'JOB_TITLE'] = 'Engineer'        \n",
    "    else:\n",
    "        pass\n",
    "\n",
    "print('Data jobs after')\n",
    "print(prof_table['JOB_TITLE'].unique())"
   ]
  },
  {
   "cell_type": "code",
   "execution_count": 9,
   "metadata": {},
   "outputs": [
    {
     "data": {
      "image/png": "[encoded data removed]",
      "text/plain": [
       "<Figure size 720x360 with 1 Axes>"
      ]
     },
     "metadata": {
      "needs_background": "light"
     },
     "output_type": "display_data"
    },
    {
     "data": {
      "image/png": "[encoded data removed]",
      "text/plain": [
       "<Figure size 720x720 with 1 Axes>"
      ]
     },
     "metadata": {},
     "output_type": "display_data"
    }
   ],
   "source": [
    "job_list, job_count = prof_table['JOB_TITLE'].value_counts().index, prof_table['JOB_TITLE'].value_counts().values\n",
    "job_count_sum = prof_table['JOB_TITLE'].value_counts().values.sum()\n",
    "job_pct = (job_count/job_count_sum)*100\n",
    "\n",
    "plt.figure(figsize=(10, 5))\n",
    "sns.barplot(x = job_count, y = job_list)\n",
    "plt.xlabel('Popularity')\n",
    "plt.title('Bar: Distribution of Data Jobs')\n",
    "plt.show()\n",
    "\n",
    "# this is to remove clusters\n",
    "pie_job_list = job_list[np.where(job_pct > 1)]\n",
    "pie_count_list = job_count[np.where(job_pct > 1)]\n",
    "colors = [plt.cm.Pastel1(i) for i in range(len(pie_count_list))]\n",
    "\n",
    "plt.figure(figsize=(10, 10))\n",
    "plt.pie(x=pie_count_list, autopct=\"%.1f%%\", explode=[0.02]*len(pie_count_list), labels=pie_job_list, pctdistance=0.5, colors=colors)\n",
    "plt.title('Pie: Distribution of Data Jobs')\n",
    "plt.show()"
   ]
  },
  {
   "cell_type": "markdown",
   "metadata": {},
   "source": [
    "continue from here"
   ]
  },
  {
   "cell_type": "markdown",
   "metadata": {},
   "source": [
    "### Where are these jobs offered?"
   ]
  },
  {
   "cell_type": "code",
   "execution_count": 10,
   "metadata": {},
   "outputs": [
    {
     "name": "stdout",
     "output_type": "stream",
     "text": [
      "           COUNTRY  JOB_TITLE\n",
      "80   United States       3883\n",
      "79  United Kingdom        595\n",
      "11          Canada        215\n",
      "2        Australia        160\n",
      "33           India        109\n",
      "71          Sweden         80\n",
      "25         Germany         80\n",
      "51     Netherlands         71\n",
      "69    South Africa         53\n",
      "52     New Zealand         47\n"
     ]
    },
    {
     "data": {
      "image/png": "[encoded data removed]",
      "text/plain": [
       "<Figure size 720x720 with 1 Axes>"
      ]
     },
     "metadata": {},
     "output_type": "display_data"
    }
   ],
   "source": [
    "# Let's find job locations\n",
    "temp = prof_table[['COUNTRY', 'JOB_TITLE']]\n",
    "job_locations = temp.groupby('COUNTRY', as_index=False).count()\n",
    "job_locations = job_locations.sort_values(by='JOB_TITLE', ascending=False).head(10)\n",
    "print(job_locations)\n",
    "\n",
    "colors2 = [plt.cm.Pastel2(i) for i in range(len(pie_count_list))]\n",
    "job_countries = job_locations['COUNTRY']\n",
    "job_count = job_locations['JOB_TITLE']\n",
    "\n",
    "plt.figure(figsize=(10,10))\n",
    "plt.pie(job_count,  explode=[0.02]*len(job_count),labels=job_countries, autopct='%1.1f%%', colors=colors2)\n",
    "plt.show()"
   ]
  },
  {
   "cell_type": "markdown",
   "metadata": {},
   "source": [
    "Given the scarcity of data, it's difficult to make a definite conclusion; however, it still gives a good sense of the bigger picture. \n",
    "\n",
    "America is by far the most dominant in providing data job opportunities from this data. Let's make some comparisons to find reasons behind this obervation"
   ]
  },
  {
   "cell_type": "code",
   "execution_count": 11,
   "metadata": {},
   "outputs": [
    {
     "data": {
      "text/html": [
       "<div>\n",
       "<style scoped>\n",
       "    .dataframe tbody tr th:only-of-type {\n",
       "        vertical-align: middle;\n",
       "    }\n",
       "\n",
       "    .dataframe tbody tr th {\n",
       "        vertical-align: top;\n",
       "    }\n",
       "\n",
       "    .dataframe thead th {\n",
       "        text-align: right;\n",
       "    }\n",
       "</style>\n",
       "<table border=\"1\" class=\"dataframe\">\n",
       "  <thead>\n",
       "    <tr style=\"text-align: right;\">\n",
       "      <th></th>\n",
       "      <th>SALARY_USD</th>\n",
       "      <th>COUNTRY</th>\n",
       "      <th>DMBS</th>\n",
       "      <th>DBMS_YEARS</th>\n",
       "      <th>JOB_TITLE</th>\n",
       "      <th>EXPERIENCE</th>\n",
       "      <th>EDUCATION</th>\n",
       "      <th>WEEKLY_HOUR</th>\n",
       "    </tr>\n",
       "  </thead>\n",
       "  <tbody>\n",
       "    <tr>\n",
       "      <th>0</th>\n",
       "      <td>200000</td>\n",
       "      <td>United States</td>\n",
       "      <td>Microsoft SQL Server</td>\n",
       "      <td>10</td>\n",
       "      <td>DBA</td>\n",
       "      <td>5</td>\n",
       "      <td>Masters</td>\n",
       "      <td>45</td>\n",
       "    </tr>\n",
       "    <tr>\n",
       "      <th>1</th>\n",
       "      <td>61515</td>\n",
       "      <td>United Kingdom</td>\n",
       "      <td>Microsoft SQL Server</td>\n",
       "      <td>15</td>\n",
       "      <td>DBA</td>\n",
       "      <td>3</td>\n",
       "      <td>None (no degree completed)</td>\n",
       "      <td>35</td>\n",
       "    </tr>\n",
       "    <tr>\n",
       "      <th>2</th>\n",
       "      <td>95000</td>\n",
       "      <td>Germany</td>\n",
       "      <td>Microsoft SQL Server</td>\n",
       "      <td>5</td>\n",
       "      <td>Other</td>\n",
       "      <td>25</td>\n",
       "      <td>Masters</td>\n",
       "      <td>45</td>\n",
       "    </tr>\n",
       "    <tr>\n",
       "      <th>3</th>\n",
       "      <td>56000</td>\n",
       "      <td>United Kingdom</td>\n",
       "      <td>Microsoft SQL Server</td>\n",
       "      <td>6</td>\n",
       "      <td>DBA</td>\n",
       "      <td>2</td>\n",
       "      <td>Associates (2 years)</td>\n",
       "      <td>40</td>\n",
       "    </tr>\n",
       "    <tr>\n",
       "      <th>4</th>\n",
       "      <td>35000</td>\n",
       "      <td>France</td>\n",
       "      <td>Microsoft SQL Server</td>\n",
       "      <td>10</td>\n",
       "      <td>DBA</td>\n",
       "      <td>10</td>\n",
       "      <td>Bachelors (4 years)</td>\n",
       "      <td>40</td>\n",
       "    </tr>\n",
       "    <tr>\n",
       "      <th>...</th>\n",
       "      <td>...</td>\n",
       "      <td>...</td>\n",
       "      <td>...</td>\n",
       "      <td>...</td>\n",
       "      <td>...</td>\n",
       "      <td>...</td>\n",
       "      <td>...</td>\n",
       "      <td>...</td>\n",
       "    </tr>\n",
       "    <tr>\n",
       "      <th>6006</th>\n",
       "      <td>85000</td>\n",
       "      <td>United States</td>\n",
       "      <td>Microsoft SQL Server</td>\n",
       "      <td>7</td>\n",
       "      <td>Developer</td>\n",
       "      <td>2</td>\n",
       "      <td>Bachelors (4 years)</td>\n",
       "      <td>43</td>\n",
       "    </tr>\n",
       "    <tr>\n",
       "      <th>6007</th>\n",
       "      <td>160000</td>\n",
       "      <td>United States</td>\n",
       "      <td>MySQL/MariaDB</td>\n",
       "      <td>8</td>\n",
       "      <td>Developer</td>\n",
       "      <td>8</td>\n",
       "      <td>Bachelors (4 years)</td>\n",
       "      <td>45</td>\n",
       "    </tr>\n",
       "    <tr>\n",
       "      <th>6008</th>\n",
       "      <td>50000</td>\n",
       "      <td>France</td>\n",
       "      <td>Microsoft SQL Server</td>\n",
       "      <td>8</td>\n",
       "      <td>DBA</td>\n",
       "      <td>2</td>\n",
       "      <td>Associates (2 years)</td>\n",
       "      <td>39</td>\n",
       "    </tr>\n",
       "    <tr>\n",
       "      <th>6009</th>\n",
       "      <td>119000</td>\n",
       "      <td>United States</td>\n",
       "      <td>Microsoft SQL Server</td>\n",
       "      <td>18</td>\n",
       "      <td>Developer</td>\n",
       "      <td>7</td>\n",
       "      <td>Bachelors (4 years)</td>\n",
       "      <td>50</td>\n",
       "    </tr>\n",
       "    <tr>\n",
       "      <th>6010</th>\n",
       "      <td>65000</td>\n",
       "      <td>Greece</td>\n",
       "      <td>Microsoft SQL Server</td>\n",
       "      <td>13</td>\n",
       "      <td>Manager</td>\n",
       "      <td>4</td>\n",
       "      <td>Masters</td>\n",
       "      <td>45</td>\n",
       "    </tr>\n",
       "  </tbody>\n",
       "</table>\n",
       "<p>5984 rows × 8 columns</p>\n",
       "</div>"
      ],
      "text/plain": [
       "      SALARY_USD         COUNTRY                  DMBS  DBMS_YEARS  JOB_TITLE  \\\n",
       "0         200000   United States  Microsoft SQL Server          10        DBA   \n",
       "1          61515  United Kingdom  Microsoft SQL Server          15        DBA   \n",
       "2          95000         Germany  Microsoft SQL Server           5      Other   \n",
       "3          56000  United Kingdom  Microsoft SQL Server           6        DBA   \n",
       "4          35000          France  Microsoft SQL Server          10        DBA   \n",
       "...          ...             ...                   ...         ...        ...   \n",
       "6006       85000   United States  Microsoft SQL Server           7  Developer   \n",
       "6007      160000   United States         MySQL/MariaDB           8  Developer   \n",
       "6008       50000          France  Microsoft SQL Server           8        DBA   \n",
       "6009      119000   United States  Microsoft SQL Server          18  Developer   \n",
       "6010       65000          Greece  Microsoft SQL Server          13    Manager   \n",
       "\n",
       "      EXPERIENCE                   EDUCATION  WEEKLY_HOUR  \n",
       "0              5                     Masters           45  \n",
       "1              3  None (no degree completed)           35  \n",
       "2             25                     Masters           45  \n",
       "3              2        Associates (2 years)           40  \n",
       "4             10         Bachelors (4 years)           40  \n",
       "...          ...                         ...          ...  \n",
       "6006           2         Bachelors (4 years)           43  \n",
       "6007           8         Bachelors (4 years)           45  \n",
       "6008           2        Associates (2 years)           39  \n",
       "6009           7         Bachelors (4 years)           50  \n",
       "6010           4                     Masters           45  \n",
       "\n",
       "[5984 rows x 8 columns]"
      ]
     },
     "execution_count": 11,
     "metadata": {},
     "output_type": "execute_result"
    }
   ],
   "source": [
    "prof_table[prof_table['JOB_TITLE'].isin(job_list)]"
   ]
  },
  {
   "cell_type": "code",
   "execution_count": 12,
   "metadata": {},
   "outputs": [
    {
     "name": "stdout",
     "output_type": "stream",
     "text": [
      "Average Salary\n",
      "In the US: 107630.4\n",
      "Outside of the US: 64315.35\n",
      "\n",
      "Median Salary\n",
      "In the US: 102000.0\n",
      "Outside of the US: 60000.0\n"
     ]
    }
   ],
   "source": [
    "def avg_salary(df, country, job_title):\n",
    "    '''\n",
    "    return average salary of a given job\n",
    "    \n",
    "        Args:\n",
    "            df: DataFrame\n",
    "            country (str or list or Series): name of a country\n",
    "            job_title (str or list or Series): professional title of the job\n",
    "        \n",
    "        Return:\n",
    "            avg (float): average value of given salaries in a country\n",
    "    '''\n",
    "    if isinstance(country, str):\n",
    "        country = [country]\n",
    "    elif isinstance(job_title, str):\n",
    "        job_title = [job_title]\n",
    "    return round(df.loc[df['COUNTRY'].isin(country) & df['JOB_TITLE'].isin(job_list)]['SALARY_USD'].mean(), 2)\n",
    "\n",
    "\n",
    "def median_salary(df, country, job_title):\n",
    "    '''\n",
    "    return median salary of a given job\n",
    "    \n",
    "        Args:\n",
    "            df: DataFrame\n",
    "            country (str or list or Series): name of a country\n",
    "            job_title (str or list or Series): professional title of the job\n",
    "        \n",
    "        Return:\n",
    "            avg (float): median value of given salaries in a country\n",
    "    '''\n",
    "    if isinstance(country, str):\n",
    "        country = [country]\n",
    "    elif isinstance(job_title, str):\n",
    "        job_title = [job_title]\n",
    "    return round(df.loc[df['COUNTRY'].isin(country) & df['JOB_TITLE'].isin(job_list)]['SALARY_USD'].median(), 2)\n",
    "\n",
    "\n",
    "us_avg_salary = avg_salary(prof_table, 'United States', pd.Series(job_list))\n",
    "not_us_country = prof_table[prof_table['COUNTRY'] != 'United States']['COUNTRY'].unique()\n",
    "not_us_avg_salary = avg_salary(prof_table, not_us_country, job_list)\n",
    "\n",
    "print('Average Salary')\n",
    "print('In the US:', us_avg_salary)\n",
    "print('Outside of the US:', not_us_avg_salary)\n",
    "print()\n",
    "\n",
    "us_median_salary = median_salary(prof_table, 'United States', pd.Series(job_list))\n",
    "not_us_median_salary = median_salary(prof_table, not_us_country, job_list)\n",
    "\n",
    "print('Median Salary')\n",
    "print('In the US:', us_median_salary)\n",
    "print('Outside of the US:', not_us_median_salary)"
   ]
  },
  {
   "cell_type": "markdown",
   "metadata": {},
   "source": [
    "Both average and mean salaries in the U.S are significantly higher than those of outside of the U.S, which could explain the concentration of 73.4% we've seen above. "
   ]
  },
  {
   "cell_type": "markdown",
   "metadata": {},
   "source": [
    "##### Analysis 4: DBAs' salaries by experience in the U.S.\n",
    "dark blue indicates the movement of the trend line, while the light blue indicate variance.\n",
    "There is an apparent positive correlation between salary and experience, \n",
    "which makes sense: people with more experience get paid more"
   ]
  },
  {
   "cell_type": "markdown",
   "metadata": {},
   "source": [
    "### Mean and Median Salaries by Experience in the U.S"
   ]
  },
  {
   "cell_type": "code",
   "execution_count": 13,
   "metadata": {},
   "outputs": [
    {
     "data": {
      "text/plain": [
       "1     739\n",
       "2     736\n",
       "3     679\n",
       "5     622\n",
       "4     517\n",
       "10    447\n",
       "6     336\n",
       "7     275\n",
       "8     246\n",
       "15    216\n",
       "20    166\n",
       "12    156\n",
       "9     119\n",
       "11     91\n",
       "17     84\n",
       "18     83\n",
       "16     71\n",
       "0      66\n",
       "25     59\n",
       "13     56\n",
       "14     42\n",
       "19     30\n",
       "22     24\n",
       "21     22\n",
       "30     21\n",
       "23     13\n",
       "28      9\n",
       "29      8\n",
       "26      8\n",
       "27      7\n",
       "24      7\n",
       "33      6\n",
       "35      5\n",
       "32      4\n",
       "31      3\n",
       "37      2\n",
       "36      2\n",
       "40      2\n",
       "34      2\n",
       "38      2\n",
       "39      1\n",
       "Name: EXPERIENCE, dtype: int64"
      ]
     },
     "execution_count": 13,
     "metadata": {},
     "output_type": "execute_result"
    }
   ],
   "source": [
    "# let's see if there are outliers like negative values (x < 0) or extremely high (x > 100)\n",
    "prof_table['EXPERIENCE'].value_counts()"
   ]
  },
  {
   "cell_type": "markdown",
   "metadata": {},
   "source": [
    "Everything seems good to start an analysis"
   ]
  },
  {
   "cell_type": "markdown",
   "metadata": {},
   "source": [
    "**NOTE**: It would be good to calculate mean and median salaries by experience AND job titles, but since our data is too small, I am only going to use experience for this analysis."
   ]
  },
  {
   "cell_type": "code",
   "execution_count": 14,
   "metadata": {},
   "outputs": [
    {
     "name": "stdout",
     "output_type": "stream",
     "text": [
      "US test\n",
      "\n",
      "Both mean and median\n",
      "{'Mean': OrderedDict([('Beginner', 110383.42), ('Intermediate', 105850.99), ('Advanced', 104509.0), ('Expert', 105708.71)]), 'Median': OrderedDict([('Beginner', 102000.0), ('Intermediate', 103000.0), ('Advanced', 102247.0), ('Expert', 103000.0)])}\n",
      "\n",
      "Only median: OrderedDict([('Beginner', 102000.0), ('Intermediate', 103000.0), ('Advanced', 102247.0), ('Expert', 103000.0)])\n",
      "Only mean: OrderedDict([('Beginner', 110383.42), ('Intermediate', 105850.99), ('Advanced', 104509.0), ('Expert', 105708.71)])\n"
     ]
    }
   ],
   "source": [
    "def level_of_exp(exp_list):\n",
    "    '''\n",
    "    distribute experience into four levels of experience\n",
    "        entry level: 0 ~ 3\n",
    "        intermediate level:4 ~ 7\n",
    "        advanced level: 8 ~ 10\n",
    "        expert level: 11 < x\n",
    "    \n",
    "        Args:\n",
    "            exp_list (list of int): a list of experiences\n",
    "        \n",
    "        Return:\n",
    "            level_list (array): a list of experience levels (one of )\n",
    "    '''\n",
    "    level_list = []\n",
    "    for exp in exp_list:\n",
    "        if exp >= 0 and exp <= 3:\n",
    "            level_list.append('Beginner')\n",
    "        elif exp > 3 and exp <= 7:\n",
    "            level_list.append('Intermediate')\n",
    "        elif exp > 7 and exp <= 10:\n",
    "            level_list.append('Advanced')        \n",
    "        else:\n",
    "            level_list.append('Expert')\n",
    "    return pd.Series(level_list)\n",
    "\n",
    "def salary_stat_level(df, mean=True, median=True):\n",
    "    '''\n",
    "    Return mean and/or median salaries of a given list with in a given country or countries\n",
    "    \n",
    "        Args:\n",
    "            exp_list (array of int): a list of experiences\n",
    "            df (DataFrame): a dataframe containing columns of experience and country\n",
    "            mean (bool): if true return average salary\n",
    "            median (bool): if true return median salary\n",
    "    \n",
    "        Return:\n",
    "            mean_dict or median_dict (OrderedDict): a dictionary of all levels' mean/median salaries\n",
    "                                                    OR\n",
    "            mean_median_indicator (dict of OrderedDict): if both mean and median are wanted, return a dict of both dicts\n",
    "    '''\n",
    "    level_list = level_of_exp(df['EXPERIENCE'])\n",
    "    temp_df = df.copy()\n",
    "    temp_df['LEVEL OF EXP'] = level_list\n",
    "    unique_levels = ['Beginner', 'Intermediate', 'Advanced', 'Expert']\n",
    "    mean_median_indicator = dict()\n",
    "    mean_dict = OrderedDict()\n",
    "    median_dict = OrderedDict()\n",
    "    \n",
    "    for level in unique_levels:\n",
    "        if median and mean:\n",
    "            mean_dict[level] = round(temp_df.loc[temp_df['LEVEL OF EXP'] == level]['SALARY_USD'].mean(), 2)\n",
    "            median_dict[level] = round(temp_df.loc[temp_df['LEVEL OF EXP'] == level]['SALARY_USD'].median(), 2)\n",
    "        elif mean:\n",
    "            mean_dict[level] = round(temp_df.loc[temp_df['LEVEL OF EXP'] == level]['SALARY_USD'].mean(), 2)\n",
    "        elif median:\n",
    "            median_dict[level] = round(temp_df.loc[temp_df['LEVEL OF EXP'] == level]['SALARY_USD'].median(), 2)\n",
    "    \n",
    "    if median and mean:\n",
    "        mean_median_indicator['Mean'] = mean_dict\n",
    "        mean_median_indicator['Median'] = median_dict\n",
    "        return mean_median_indicator\n",
    "    elif mean:\n",
    "        return mean_dict\n",
    "    elif median:\n",
    "        return median_dict\n",
    "\n",
    "print('US test')\n",
    "print()\n",
    "US_df = prof_table[prof_table['COUNTRY'] == 'United States']\n",
    "\n",
    "print('Both mean and median')\n",
    "print(salary_stat_level(US_df))\n",
    "print()\n",
    "print('Only median:', salary_stat_level(US_df, mean = False))\n",
    "print('Only mean:', salary_stat_level(US_df, median = False))"
   ]
  },
  {
   "cell_type": "code",
   "execution_count": null,
   "metadata": {},
   "outputs": [],
   "source": [
    "# create a dataframe to display DBA's average/median salaries of all groups\n",
    "mean_list = [entry_level_mean, int_level_mean, advanced_level_mean, expert_level_mean]\n",
    "median_list = [entry_level_median, int_level_median, advanced_level_median, expert_level_median]\n",
    "experience_list = ['entry level (< 4)', 'intermediate level (4~8)',\\\n",
    "                  'advanced level (9~15)', 'expert level (< 15)']\n",
    "frame = {'Average Salary':mean_list, 'Median Salary':median_list}\n",
    "salary_df = pd.DataFrame(frame, index=experience_list)\n",
    "print(salary_df)\n",
    "\n",
    "# create a graph of average salary by experience groups\n",
    "plt.ylim(40000, 140000)\n",
    "plt.title(\"DBA's Average Salary by Experience\")\n",
    "plt.ylabel(\"Average Salary (USD)\")\n",
    "plt.bar(experience_list, mean_list, 0.5)\n",
    "plt.show()\n",
    "# create a graph of median salary by experience groups\n",
    "plt.ylim(40000, 140000)\n",
    "plt.title(\"DBA's Median Salary by Experience\")\n",
    "plt.ylabel(\"Median Salary (USD)\")\n",
    "plt.bar(experience_list, median_list, 0.5)\n",
    "plt.show()"
   ]
  },
  {
   "cell_type": "markdown",
   "metadata": {},
   "source": [
    "##### Analysis 5: average/median salaries of DBAs in the U.S.\n",
    "As seen on the scatter graph, these two graphs confirm the trend: more experience results in higher payrolls. \n",
    "Both medians and averages were used to display the trend since averages could be skewed by extreme stats."
   ]
  },
  {
   "cell_type": "code",
   "execution_count": null,
   "metadata": {},
   "outputs": [],
   "source": [
    "# graph lines to compare average salary vs median salary\n",
    "plt.ylim(40000, 140000)\n",
    "plt.title(\"DBA's Average vs Median\")\n",
    "plt.ylabel('USD ($)')\n",
    "plt.plot(experience_list, median_list, c='tab:blue', marker='o', label='median')\n",
    "plt.plot(experience_list, mean_list, c='tab:red', marker='*', label='average')\n",
    "plt.legend()\n",
    "plt.show()\n",
    "\n",
    "# create bar graphs side by side to compare average salary vs median salary\n",
    "plt.ylim(40000, 140000)\n",
    "x_indexes = np.arange(len(experience_list))\n",
    "width = 0.3\n",
    "plt.title(\"DBA's Average vs Median\")\n",
    "plt.ylabel('USD ($)')\n",
    "plt.bar(x_indexes+width, mean_list, width=width, color='tab:red', label='average')\n",
    "plt.bar(x_indexes, median_list, width=width, color='tab:blue', label='median')\n",
    "plt.xticks(ticks=x_indexes, labels=experience_list)\n",
    "plt.legend()\n",
    "plt.show()"
   ]
  },
  {
   "cell_type": "markdown",
   "metadata": {},
   "source": [
    "##### Analysis 6: Average/Median Salaries of DBAs in the U.S\n",
    "In all sections, average salaries are slightly higher than median salaries.\n",
    "\n",
    "What's noticeable from the table/graphs is average salaries are within the margin of error of ±6.5% of median salaries. \n",
    "\n",
    "Therefore, they are both pointing toward congruous estimations, meaning the results are reasonably reliable.\n",
    "\n",
    "Thus we can give rough approximations of DBA's earning in the U.S.\n",
    "\n",
    "* Entry level (0~3 years):90000 USD\n",
    "* Intermediate level (4~8 years): 100000 USD\n",
    "* Advanced level (9~15 years): 108000 USD\n",
    "* Rxpert level (<15 years): 116000 USD\n",
    "\n",
    "However, we need to take into account that these salaries are highly dependable on each individual's capability and educational background."
   ]
  },
  {
   "cell_type": "code",
   "execution_count": null,
   "metadata": {},
   "outputs": [],
   "source": [
    "# let's compare DBA's average and median salaries outside of the U.S.\n",
    "prof_table_copy = prof_table.copy()\n",
    "for ind in US_table.index:\n",
    "    prof_table_copy.drop(ind, inplace=True)\n",
    "\n",
    "# create a DBA table excluding the ones in the U.S.\n",
    "exclude_US = prof_table_copy[['SalaryUSD', 'Country', 'JobTitle', 'YearsWithThisTypeOfJob']]\n",
    "DBA_exclude_US = exclude_US.loc[exclude_US['JobTitle'] == 'DBA']\n",
    "print(DBA_exclude_US)"
   ]
  },
  {
   "cell_type": "code",
   "execution_count": null,
   "metadata": {},
   "outputs": [],
   "source": [
    "# find DBA's average/median salaries of different experience-groups\n",
    "entry_level = DBA_exclude_US[DBA_exclude_US['YearsWithThisTypeOfJob'] < 4]\n",
    "entry_level_median = int(entry_level['SalaryUSD'].median())\n",
    "entry_level_mean = int(entry_level['SalaryUSD'].mean().round())\n",
    "print(f'entry level median salary: {entry_level_median}')\n",
    "print(f'entry level average salary: {entry_level_mean}')\n",
    "\n",
    "int_level = DBA_exclude_US[(3 < DBA_exclude_US['YearsWithThisTypeOfJob']) & \\\n",
    "                   (DBA_exclude_US['YearsWithThisTypeOfJob'] < 9)]\n",
    "int_level_median = int(int_level['SalaryUSD'].median())\n",
    "int_level_mean = int(int_level['SalaryUSD'].mean().round())\n",
    "print(f'intermediate level median salary: {int_level_median}')\n",
    "print(f'intermediate level average salary: {int_level_mean}')\n",
    "\n",
    "advanced_level = DBA_exclude_US[(8 < DBA_exclude_US['YearsWithThisTypeOfJob']) & \\\n",
    "                   (DBA_exclude_US['YearsWithThisTypeOfJob'] < 16)]\n",
    "advanced_level_median = int(advanced_level['SalaryUSD'].median())\n",
    "advanced_level_mean = int(advanced_level['SalaryUSD'].mean().round())\n",
    "print(f'advanced level median salary: {advanced_level_median}')\n",
    "print(f'advanced level average salary: {advanced_level_mean}')\n",
    "\n",
    "expert_level = DBA_exclude_US[15 < DBA_exclude_US['YearsWithThisTypeOfJob']]\n",
    "expert_level_median = int(expert_level['SalaryUSD'].median())\n",
    "expert_level_mean = int(expert_level['SalaryUSD'].mean().round())\n",
    "print(f'expert level median salary: {expert_level_median}')\n",
    "print(f'expert level average salary: {expert_level_mean}')"
   ]
  },
  {
   "cell_type": "code",
   "execution_count": null,
   "metadata": {},
   "outputs": [],
   "source": [
    "# create lists for x-axis & y-axis\n",
    "exclude_US_DBA_salary = DBA_exclude_US['SalaryUSD']\n",
    "experience = DBA_exclude_US['YearsWithThisTypeOfJob']\n",
    "\n",
    "# create a scatter graph to see if there's a trend\n",
    "plt.scatter(experience, exclude_US_DBA_salary, linewidths=0.5, s=20, edgecolors='black', alpha=0.45)\n",
    "plt.ylim(0, 200000) #sets y range\n",
    "plt.xlim(0, 35) # sets x range\n",
    "plt.xlabel('Experience (yr)')\n",
    "plt.ylabel('Salary (USD)')\n",
    "plt.title('Salaries by Experience Outside of the U.S.')\n",
    "plt.show()\n",
    "plt.rcParams['figure.figsize'] = [10, 10]"
   ]
  },
  {
   "cell_type": "markdown",
   "metadata": {},
   "source": [
    "##### Analsyis 7: average/median salaries of DBAs outside of the U.S.\n",
    "It's extremely difficult to identify a trend"
   ]
  },
  {
   "cell_type": "code",
   "execution_count": null,
   "metadata": {},
   "outputs": [],
   "source": [
    "# create a dataframe to display DBA's average/median salaries of all groups (outside of the U.S)\n",
    "mean_list = [entry_level_mean, int_level_mean, advanced_level_mean, expert_level_mean]\n",
    "median_list = [entry_level_median, int_level_median, advanced_level_median, expert_level_median]\n",
    "experience_list = ['entry level (< 4)', 'intermediate level (4~8)',\\\n",
    "                  'advanced level (9~15)', 'expert level (< 15)']\n",
    "frame = {'Average Salary':mean_list, 'Median Salary':median_list}\n",
    "salary_df = pd.DataFrame(frame, index=experience_list)\n",
    "print(salary_df)\n",
    "\n",
    "# graph lines to compare the average/median salaries of DBA outside of the U.S.\n",
    "plt.ylim(40000, 140000)\n",
    "plt.title(\"DBA's Average vs Median Outside of the U.S.\")\n",
    "plt.ylabel('USD ($)')\n",
    "plt.plot(experience_list, median_list, c='tab:blue', marker='o', label='median')\n",
    "plt.plot(experience_list, mean_list, c='tab:red', marker='*', label='average')\n",
    "plt.legend()\n",
    "plt.show()\n",
    "\n",
    "# create bar graphs to compare the average/median salaries of DBA outside of the U.S.\n",
    "plt.ylim(40000, 100000)\n",
    "x_indexes = np.arange(len(experience_list))\n",
    "width = 0.3\n",
    "plt.title(\"DBA's Average vs Median Outside of the U.S.\")\n",
    "plt.ylabel('USD ($)')\n",
    "plt.bar(x_indexes+width, mean_list, width=width, color='tab:red', label='average')\n",
    "plt.bar(x_indexes, median_list, width=width, color='tab:blue', label='median')\n",
    "plt.xticks(ticks=x_indexes, labels=experience_list)\n",
    "plt.legend()\n",
    "plt.show()"
   ]
  },
  {
   "cell_type": "markdown",
   "metadata": {},
   "source": [
    "##### Analysis 8: average/median salaries of DBA outside of the U.S.\n",
    "Both average and median salaries are much lower than those of the U.S.\n",
    "\n",
    "The growth rate of salaries over experience is much slower until the intermediate level and have a sharp increase til it reaches the expert level. However, the expert level average salary is almost equivalent of that of entry-level in the U.S. \n",
    "\n",
    "Also, we have to note the survey was participated by 1533 DBAs in the U.S. compared to 538 DBAs outside of the U.S.\n",
    "\n",
    "It's unclear whether there were much more DBAs in the U.S or the survey was easier to access in the U.S. If it's the first case, then it should be closely correlated to the higher salaries of the DBAs in the U.S."
   ]
  },
  {
   "cell_type": "code",
   "execution_count": null,
   "metadata": {},
   "outputs": [],
   "source": [
    "# I want to know whether education level affects the median salary of data professionals\n",
    "\n",
    "def cleanse_num(table, col):\n",
    "    '''Returns a float from a number string with potentially commas, dollar signs, spaces, etcs in it.\\\n",
    "    Returns None if `val` cannot be converted into a number'''\n",
    "    for item in table[col]:\n",
    "        if type(item) == str:\n",
    "            ind_item = table.loc[table[col] == item].index\n",
    "            item = item.replace(' ', '')\n",
    "            item = item.replace('$','')\n",
    "            item = item.replace(',','')\n",
    "            item = float(item)\n",
    "            table.at[ind_item, col] = item\n",
    "    return table\n",
    "\n",
    "def cleanse_edu(table, col):\n",
    "    '''Make terms in the education column simpler.\n",
    "       This function is specifically for the education table'''\n",
    "    edu_counter = Counter(table[str(col)])\n",
    "    edu_list = list(edu_counter.keys())\n",
    "    for item in edu_list:\n",
    "        temp = table.loc[table[col] == item]\n",
    "        for i in temp.index:\n",
    "            if item == 'Bachelors (4 years)':\n",
    "                prof_table.at[i, str(col)] = 'Bachelors'\n",
    "            elif item == 'None (no degree completed)':\n",
    "                prof_table.at[i, str(col)] = 'None'\n",
    "            elif item == 'Associates (2 years)':\n",
    "                prof_table.at[i, str(col)] = 'Associates'\n",
    "            elif item == 'Doctorate/PhD':\n",
    "                prof_table.at[i, str(col)] = 'PhD'\n",
    "            else:\n",
    "                continue\n",
    "    return table"
   ]
  },
  {
   "cell_type": "code",
   "execution_count": null,
   "metadata": {},
   "outputs": [],
   "source": [
    "# disable the unnecessary warning\n",
    "pd.options.mode.chained_assignment = None  # default='warn'\n",
    "\n",
    "# see how much education was completed for most data professionals.\n",
    "education = prof_table[['SalaryUSD', 'JobTitle', 'Education', 'YearsWithThisTypeOfJob']]\n",
    "education_counter = Counter(education['Education']).most_common(10)\n",
    "education_list = []\n",
    "education_occurrences = []\n",
    "for item in education_counter:\n",
    "    education_list.append(item[0])\n",
    "    education_occurrences.append(item[1])\n",
    "\n",
    "# cleanse data of the education column and the salary column\n",
    "cleanse_edu(education, 'Education')\n",
    "cleanse_num(education, 'SalaryUSD')\n",
    "\n",
    "# create a table to display occurrences of each education level\n",
    "education_table = pd.DataFrame({'Occurance':education_occurrences}, index=education_list)\n",
    "print(education_table)\n",
    "\n",
    "def edu_median_salary(edu_level, experience):\n",
    "    \"\"\"To see the difference in median salaries in more detail, give a median salary of an experience group.\n",
    "       It should be easier to see whether there's a correlation or not between education and salary\"\"\"\n",
    "    if experience == 'entry':\n",
    "        temp_table = education.loc[(education['Education'] == edu_level) & \\\n",
    "                    (education['YearsWithThisTypeOfJob'] < 4)]\n",
    "        return temp_table['SalaryUSD'].median()\n",
    "    elif experience == 'intermediate':\n",
    "        temp_table = education.loc[(education['Education'] == edu_level) & \\\n",
    "                    (education['YearsWithThisTypeOfJob'] >= 4) & \\\n",
    "                    (education['YearsWithThisTypeOfJob'] < 9)]\n",
    "        return temp_table['SalaryUSD'].median()\n",
    "    elif experience == 'advanced':\n",
    "        temp_table = education.loc[(education['Education'] == edu_level) & \\\n",
    "                    (education['YearsWithThisTypeOfJob'] >= 9) & \\\n",
    "                    (education['YearsWithThisTypeOfJob'] < 16)]       \n",
    "        return temp_table['SalaryUSD'].median()\n",
    "    else:\n",
    "        temp_table = education.loc[(education['Education'] == edu_level) & \\\n",
    "                    (education['YearsWithThisTypeOfJob'] >= 16)]       \n",
    "        return temp_table['SalaryUSD'].median()    "
   ]
  },
  {
   "cell_type": "code",
   "execution_count": null,
   "metadata": {},
   "outputs": [],
   "source": [
    "# create four lists to display median salaries of all ranges of experience side by side\n",
    "entry_median_salary = []\n",
    "intermediate_median_salary = []\n",
    "advanced_median_salary = []\n",
    "expert_median_salary = []\n",
    "\n",
    "for item in education_list:\n",
    "    entry_median_salary.append(edu_median_salary(item, 'entry'))\n",
    "for item in education_list:\n",
    "    intermediate_median_salary.append(edu_median_salary(item, 'intermediate'))\n",
    "for item in education_list:\n",
    "    advanced_median_salary.append(edu_median_salary(item, 'advanced'))\n",
    "for item in education_list:\n",
    "    expert_median_salary.append(edu_median_salary(item, 'expert'))\n",
    "\n",
    "# create a table of median salaries\n",
    "all_median = pd.DataFrame({'entry level median salary':entry_median_salary,\\\n",
    "                           'intermediate level median salary': intermediate_median_salary,\\\n",
    "                           'advanced level median salary': advanced_median_salary,\\\n",
    "                           'expert level median salary': expert_median_salary}, index=education_list)\n",
    "print(all_median)"
   ]
  },
  {
   "cell_type": "markdown",
   "metadata": {},
   "source": [
    "##### Analysis 10: is there no correlation between salaries and education?\n",
    "There are two possible explanations behind this outcome.\n",
    "\n",
    "It could be because there is no salary difference between data professionals on their educational background, which\n",
    "ultimately tells us there's no coorelation between salaries and education.\n",
    "\n",
    "However, people with no diploma getting paid equally or even better than people with PhDs at entry and intermediate levels \n",
    "makes not much sense to me.\n",
    "\n",
    "Thus, I believe it's due to the difference of quantity of collected data for each education-level groups.\n",
    "For example, there were 3198 Bachelors compared to 45 PhDs who have finished the survey.\n",
    "\n",
    "The lack of sample sizes for some groups has mostly likely caused the skewed outcome. To my belief,\n",
    "if there were more samples for all groups, this data would've yielded a significantly stable outcome."
   ]
  }
 ],
 "metadata": {
  "kernelspec": {
   "display_name": "Python 3",
   "language": "python",
   "name": "python3"
  },
  "language_info": {
   "codemirror_mode": {
    "name": "ipython",
    "version": 3
   },
   "file_extension": ".py",
   "mimetype": "text/x-python",
   "name": "python",
   "nbconvert_exporter": "python",
   "pygments_lexer": "ipython3",
   "version": "3.8.3"
  }
 },
 "nbformat": 4,
 "nbformat_minor": 4
}
