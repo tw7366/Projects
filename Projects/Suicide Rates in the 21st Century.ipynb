{
 "cells": [
  {
   "cell_type": "code",
   "execution_count": 1,
   "metadata": {},
   "outputs": [],
   "source": [
    "import pandas as pd\n",
    "import numpy as np\n",
    "import matplotlib.pyplot as plt"
   ]
  },
  {
   "cell_type": "code",
   "execution_count": 2,
   "metadata": {},
   "outputs": [
    {
     "name": "stdout",
     "output_type": "stream",
     "text": [
      "<class 'pandas.core.frame.DataFrame'>\n",
      "RangeIndex: 43776 entries, 0 to 43775\n",
      "Data columns (total 6 columns):\n",
      " #   Column       Non-Null Count  Dtype  \n",
      "---  ------       --------------  -----  \n",
      " 0   country      43776 non-null  object \n",
      " 1   year         43776 non-null  int64  \n",
      " 2   sex          43776 non-null  object \n",
      " 3   age          43776 non-null  object \n",
      " 4   suicides_no  41520 non-null  float64\n",
      " 5   population   38316 non-null  float64\n",
      "dtypes: float64(2), int64(1), object(3)\n",
      "memory usage: 2.0+ MB\n"
     ]
    }
   ],
   "source": [
    "suicide_df = pd.read_csv(r'C:\\Users\\taewoo\\Desktop\\Datasets\\who_suicide_statistics.csv')\n",
    "suicide_df.info()"
   ]
  },
  {
   "cell_type": "code",
   "execution_count": 3,
   "metadata": {},
   "outputs": [
    {
     "data": {
      "text/html": [
       "<div>\n",
       "<style scoped>\n",
       "    .dataframe tbody tr th:only-of-type {\n",
       "        vertical-align: middle;\n",
       "    }\n",
       "\n",
       "    .dataframe tbody tr th {\n",
       "        vertical-align: top;\n",
       "    }\n",
       "\n",
       "    .dataframe thead th {\n",
       "        text-align: right;\n",
       "    }\n",
       "</style>\n",
       "<table border=\"1\" class=\"dataframe\">\n",
       "  <thead>\n",
       "    <tr style=\"text-align: right;\">\n",
       "      <th></th>\n",
       "      <th>country</th>\n",
       "      <th>year</th>\n",
       "      <th>sex</th>\n",
       "      <th>age</th>\n",
       "      <th>suicides_no</th>\n",
       "      <th>population</th>\n",
       "    </tr>\n",
       "  </thead>\n",
       "  <tbody>\n",
       "    <tr>\n",
       "      <th>0</th>\n",
       "      <td>Albania</td>\n",
       "      <td>1985</td>\n",
       "      <td>female</td>\n",
       "      <td>15-24 years</td>\n",
       "      <td>NaN</td>\n",
       "      <td>277900.0</td>\n",
       "    </tr>\n",
       "    <tr>\n",
       "      <th>1</th>\n",
       "      <td>Albania</td>\n",
       "      <td>1985</td>\n",
       "      <td>female</td>\n",
       "      <td>25-34 years</td>\n",
       "      <td>NaN</td>\n",
       "      <td>246800.0</td>\n",
       "    </tr>\n",
       "    <tr>\n",
       "      <th>2</th>\n",
       "      <td>Albania</td>\n",
       "      <td>1985</td>\n",
       "      <td>female</td>\n",
       "      <td>35-54 years</td>\n",
       "      <td>NaN</td>\n",
       "      <td>267500.0</td>\n",
       "    </tr>\n",
       "    <tr>\n",
       "      <th>3</th>\n",
       "      <td>Albania</td>\n",
       "      <td>1985</td>\n",
       "      <td>female</td>\n",
       "      <td>5-14 years</td>\n",
       "      <td>NaN</td>\n",
       "      <td>298300.0</td>\n",
       "    </tr>\n",
       "    <tr>\n",
       "      <th>4</th>\n",
       "      <td>Albania</td>\n",
       "      <td>1985</td>\n",
       "      <td>female</td>\n",
       "      <td>55-74 years</td>\n",
       "      <td>NaN</td>\n",
       "      <td>138700.0</td>\n",
       "    </tr>\n",
       "    <tr>\n",
       "      <th>5</th>\n",
       "      <td>Albania</td>\n",
       "      <td>1985</td>\n",
       "      <td>female</td>\n",
       "      <td>75+ years</td>\n",
       "      <td>NaN</td>\n",
       "      <td>34200.0</td>\n",
       "    </tr>\n",
       "    <tr>\n",
       "      <th>6</th>\n",
       "      <td>Albania</td>\n",
       "      <td>1985</td>\n",
       "      <td>male</td>\n",
       "      <td>15-24 years</td>\n",
       "      <td>NaN</td>\n",
       "      <td>301400.0</td>\n",
       "    </tr>\n",
       "    <tr>\n",
       "      <th>7</th>\n",
       "      <td>Albania</td>\n",
       "      <td>1985</td>\n",
       "      <td>male</td>\n",
       "      <td>25-34 years</td>\n",
       "      <td>NaN</td>\n",
       "      <td>264200.0</td>\n",
       "    </tr>\n",
       "    <tr>\n",
       "      <th>8</th>\n",
       "      <td>Albania</td>\n",
       "      <td>1985</td>\n",
       "      <td>male</td>\n",
       "      <td>35-54 years</td>\n",
       "      <td>NaN</td>\n",
       "      <td>296700.0</td>\n",
       "    </tr>\n",
       "    <tr>\n",
       "      <th>9</th>\n",
       "      <td>Albania</td>\n",
       "      <td>1985</td>\n",
       "      <td>male</td>\n",
       "      <td>5-14 years</td>\n",
       "      <td>NaN</td>\n",
       "      <td>325800.0</td>\n",
       "    </tr>\n",
       "  </tbody>\n",
       "</table>\n",
       "</div>"
      ],
      "text/plain": [
       "   country  year     sex          age  suicides_no  population\n",
       "0  Albania  1985  female  15-24 years          NaN    277900.0\n",
       "1  Albania  1985  female  25-34 years          NaN    246800.0\n",
       "2  Albania  1985  female  35-54 years          NaN    267500.0\n",
       "3  Albania  1985  female   5-14 years          NaN    298300.0\n",
       "4  Albania  1985  female  55-74 years          NaN    138700.0\n",
       "5  Albania  1985  female    75+ years          NaN     34200.0\n",
       "6  Albania  1985    male  15-24 years          NaN    301400.0\n",
       "7  Albania  1985    male  25-34 years          NaN    264200.0\n",
       "8  Albania  1985    male  35-54 years          NaN    296700.0\n",
       "9  Albania  1985    male   5-14 years          NaN    325800.0"
      ]
     },
     "execution_count": 3,
     "metadata": {},
     "output_type": "execute_result"
    }
   ],
   "source": [
    "suicide_df.head(10)"
   ]
  },
  {
   "cell_type": "code",
   "execution_count": 4,
   "metadata": {},
   "outputs": [
    {
     "data": {
      "text/html": [
       "<div>\n",
       "<style scoped>\n",
       "    .dataframe tbody tr th:only-of-type {\n",
       "        vertical-align: middle;\n",
       "    }\n",
       "\n",
       "    .dataframe tbody tr th {\n",
       "        vertical-align: top;\n",
       "    }\n",
       "\n",
       "    .dataframe thead th {\n",
       "        text-align: right;\n",
       "    }\n",
       "</style>\n",
       "<table border=\"1\" class=\"dataframe\">\n",
       "  <thead>\n",
       "    <tr style=\"text-align: right;\">\n",
       "      <th></th>\n",
       "      <th>country</th>\n",
       "      <th>year</th>\n",
       "      <th>sex</th>\n",
       "      <th>age</th>\n",
       "      <th>suicides_no</th>\n",
       "      <th>population</th>\n",
       "    </tr>\n",
       "  </thead>\n",
       "  <tbody>\n",
       "    <tr>\n",
       "      <th>43766</th>\n",
       "      <td>Zimbabwe</td>\n",
       "      <td>1990</td>\n",
       "      <td>female</td>\n",
       "      <td>35-54 years</td>\n",
       "      <td>45.0</td>\n",
       "      <td>NaN</td>\n",
       "    </tr>\n",
       "    <tr>\n",
       "      <th>43767</th>\n",
       "      <td>Zimbabwe</td>\n",
       "      <td>1990</td>\n",
       "      <td>female</td>\n",
       "      <td>5-14 years</td>\n",
       "      <td>6.0</td>\n",
       "      <td>NaN</td>\n",
       "    </tr>\n",
       "    <tr>\n",
       "      <th>43768</th>\n",
       "      <td>Zimbabwe</td>\n",
       "      <td>1990</td>\n",
       "      <td>female</td>\n",
       "      <td>55-74 years</td>\n",
       "      <td>20.0</td>\n",
       "      <td>NaN</td>\n",
       "    </tr>\n",
       "    <tr>\n",
       "      <th>43769</th>\n",
       "      <td>Zimbabwe</td>\n",
       "      <td>1990</td>\n",
       "      <td>female</td>\n",
       "      <td>75+ years</td>\n",
       "      <td>3.0</td>\n",
       "      <td>NaN</td>\n",
       "    </tr>\n",
       "    <tr>\n",
       "      <th>43770</th>\n",
       "      <td>Zimbabwe</td>\n",
       "      <td>1990</td>\n",
       "      <td>male</td>\n",
       "      <td>15-24 years</td>\n",
       "      <td>132.0</td>\n",
       "      <td>NaN</td>\n",
       "    </tr>\n",
       "    <tr>\n",
       "      <th>43771</th>\n",
       "      <td>Zimbabwe</td>\n",
       "      <td>1990</td>\n",
       "      <td>male</td>\n",
       "      <td>25-34 years</td>\n",
       "      <td>150.0</td>\n",
       "      <td>NaN</td>\n",
       "    </tr>\n",
       "    <tr>\n",
       "      <th>43772</th>\n",
       "      <td>Zimbabwe</td>\n",
       "      <td>1990</td>\n",
       "      <td>male</td>\n",
       "      <td>35-54 years</td>\n",
       "      <td>132.0</td>\n",
       "      <td>NaN</td>\n",
       "    </tr>\n",
       "    <tr>\n",
       "      <th>43773</th>\n",
       "      <td>Zimbabwe</td>\n",
       "      <td>1990</td>\n",
       "      <td>male</td>\n",
       "      <td>5-14 years</td>\n",
       "      <td>6.0</td>\n",
       "      <td>NaN</td>\n",
       "    </tr>\n",
       "    <tr>\n",
       "      <th>43774</th>\n",
       "      <td>Zimbabwe</td>\n",
       "      <td>1990</td>\n",
       "      <td>male</td>\n",
       "      <td>55-74 years</td>\n",
       "      <td>74.0</td>\n",
       "      <td>NaN</td>\n",
       "    </tr>\n",
       "    <tr>\n",
       "      <th>43775</th>\n",
       "      <td>Zimbabwe</td>\n",
       "      <td>1990</td>\n",
       "      <td>male</td>\n",
       "      <td>75+ years</td>\n",
       "      <td>13.0</td>\n",
       "      <td>NaN</td>\n",
       "    </tr>\n",
       "  </tbody>\n",
       "</table>\n",
       "</div>"
      ],
      "text/plain": [
       "        country  year     sex          age  suicides_no  population\n",
       "43766  Zimbabwe  1990  female  35-54 years         45.0         NaN\n",
       "43767  Zimbabwe  1990  female   5-14 years          6.0         NaN\n",
       "43768  Zimbabwe  1990  female  55-74 years         20.0         NaN\n",
       "43769  Zimbabwe  1990  female    75+ years          3.0         NaN\n",
       "43770  Zimbabwe  1990    male  15-24 years        132.0         NaN\n",
       "43771  Zimbabwe  1990    male  25-34 years        150.0         NaN\n",
       "43772  Zimbabwe  1990    male  35-54 years        132.0         NaN\n",
       "43773  Zimbabwe  1990    male   5-14 years          6.0         NaN\n",
       "43774  Zimbabwe  1990    male  55-74 years         74.0         NaN\n",
       "43775  Zimbabwe  1990    male    75+ years         13.0         NaN"
      ]
     },
     "execution_count": 4,
     "metadata": {},
     "output_type": "execute_result"
    }
   ],
   "source": [
    "suicide_df.tail(10)"
   ]
  },
  {
   "cell_type": "markdown",
   "metadata": {},
   "source": [
    "As I want to do the analysis on data of 21st century, I need to create some filters."
   ]
  },
  {
   "cell_type": "markdown",
   "metadata": {},
   "source": [
    "### Data Cleaning"
   ]
  },
  {
   "cell_type": "markdown",
   "metadata": {},
   "source": [
    "#### Dealing with NaN values"
   ]
  },
  {
   "cell_type": "code",
   "execution_count": 5,
   "metadata": {},
   "outputs": [
    {
     "data": {
      "text/html": [
       "<div>\n",
       "<style scoped>\n",
       "    .dataframe tbody tr th:only-of-type {\n",
       "        vertical-align: middle;\n",
       "    }\n",
       "\n",
       "    .dataframe tbody tr th {\n",
       "        vertical-align: top;\n",
       "    }\n",
       "\n",
       "    .dataframe thead th {\n",
       "        text-align: right;\n",
       "    }\n",
       "</style>\n",
       "<table border=\"1\" class=\"dataframe\">\n",
       "  <thead>\n",
       "    <tr style=\"text-align: right;\">\n",
       "      <th></th>\n",
       "      <th>country</th>\n",
       "      <th>year</th>\n",
       "      <th>sex</th>\n",
       "      <th>age</th>\n",
       "      <th>suicides_no</th>\n",
       "      <th>population</th>\n",
       "    </tr>\n",
       "  </thead>\n",
       "  <tbody>\n",
       "    <tr>\n",
       "      <th>180</th>\n",
       "      <td>Albania</td>\n",
       "      <td>2000</td>\n",
       "      <td>female</td>\n",
       "      <td>15-24 years</td>\n",
       "      <td>6.0</td>\n",
       "      <td>263900.0</td>\n",
       "    </tr>\n",
       "    <tr>\n",
       "      <th>181</th>\n",
       "      <td>Albania</td>\n",
       "      <td>2000</td>\n",
       "      <td>female</td>\n",
       "      <td>25-34 years</td>\n",
       "      <td>3.0</td>\n",
       "      <td>245800.0</td>\n",
       "    </tr>\n",
       "    <tr>\n",
       "      <th>182</th>\n",
       "      <td>Albania</td>\n",
       "      <td>2000</td>\n",
       "      <td>female</td>\n",
       "      <td>35-54 years</td>\n",
       "      <td>5.0</td>\n",
       "      <td>332200.0</td>\n",
       "    </tr>\n",
       "    <tr>\n",
       "      <th>183</th>\n",
       "      <td>Albania</td>\n",
       "      <td>2000</td>\n",
       "      <td>female</td>\n",
       "      <td>5-14 years</td>\n",
       "      <td>0.0</td>\n",
       "      <td>324700.0</td>\n",
       "    </tr>\n",
       "    <tr>\n",
       "      <th>184</th>\n",
       "      <td>Albania</td>\n",
       "      <td>2000</td>\n",
       "      <td>female</td>\n",
       "      <td>55-74 years</td>\n",
       "      <td>0.0</td>\n",
       "      <td>168000.0</td>\n",
       "    </tr>\n",
       "  </tbody>\n",
       "</table>\n",
       "</div>"
      ],
      "text/plain": [
       "     country  year     sex          age  suicides_no  population\n",
       "180  Albania  2000  female  15-24 years          6.0    263900.0\n",
       "181  Albania  2000  female  25-34 years          3.0    245800.0\n",
       "182  Albania  2000  female  35-54 years          5.0    332200.0\n",
       "183  Albania  2000  female   5-14 years          0.0    324700.0\n",
       "184  Albania  2000  female  55-74 years          0.0    168000.0"
      ]
     },
     "execution_count": 5,
     "metadata": {},
     "output_type": "execute_result"
    }
   ],
   "source": [
    "suicide_21 = suicide_df[suicide_df['year'] >= 2000]\n",
    "suicide_21.head()"
   ]
  },
  {
   "cell_type": "code",
   "execution_count": 6,
   "metadata": {},
   "outputs": [
    {
     "data": {
      "text/plain": [
       "country           0\n",
       "year              0\n",
       "sex               0\n",
       "age               0\n",
       "suicides_no     444\n",
       "population     2904\n",
       "dtype: int64"
      ]
     },
     "execution_count": 6,
     "metadata": {},
     "output_type": "execute_result"
    }
   ],
   "source": [
    "suicide_21.isnull().sum()"
   ]
  },
  {
   "cell_type": "code",
   "execution_count": 7,
   "metadata": {},
   "outputs": [
    {
     "name": "stdout",
     "output_type": "stream",
     "text": [
      "444\n",
      "2904\n"
     ]
    }
   ],
   "source": [
    "suicide_index = []\n",
    "population_index = []\n",
    "for i, (suicide_item, population_item) in enumerate(zip(suicide_21['suicides_no'].isnull(), suicide_21['population'].isnull())):\n",
    "    if suicide_item == True:\n",
    "        suicide_index.append(i)\n",
    "    elif population_item == True:\n",
    "        population_index.append(i)\n",
    "\n",
    "    \n",
    "print(len(suicide_index))\n",
    "print(len(population_index))"
   ]
  },
  {
   "cell_type": "code",
   "execution_count": 8,
   "metadata": {},
   "outputs": [
    {
     "name": "stdout",
     "output_type": "stream",
     "text": [
      "     country  year     sex          age  suicides_no  population\n",
      "312  Albania  2011  female  15-24 years          NaN    258006.0\n",
      "313  Albania  2011  female  25-34 years          NaN    184556.0\n",
      "314  Albania  2011  female  35-54 years          NaN    394638.0\n",
      "315  Albania  2011  female   5-14 years          NaN    210822.0\n",
      "316  Albania  2011  female  55-74 years          NaN    250641.0\n",
      "317  Albania  2011  female    75+ years          NaN     67649.0\n",
      "318  Albania  2011    male  15-24 years          NaN    275385.0\n",
      "319  Albania  2011    male  25-34 years          NaN    185898.0\n",
      "320  Albania  2011    male  35-54 years          NaN    368950.0\n",
      "321  Albania  2011    male   5-14 years          NaN    228071.0\n",
      "322  Albania  2011    male  55-74 years          NaN    250362.0\n",
      "323  Albania  2011    male    75+ years          NaN     54228.0\n",
      "324  Albania  2012  female  15-24 years          NaN    249730.0\n",
      "325  Albania  2012  female  25-34 years          NaN    187346.0\n",
      "326  Albania  2012  female  35-54 years          NaN    395819.0\n",
      "327  Albania  2012  female   5-14 years          NaN    198385.0\n",
      "328  Albania  2012  female  55-74 years          NaN    259751.0\n",
      "329  Albania  2012  female    75+ years          NaN     69811.0\n",
      "330  Albania  2012    male  15-24 years          NaN    268954.0\n",
      "331  Albania  2012    male  25-34 years          NaN    194250.0\n",
      "332  Albania  2012    male  35-54 years          NaN    369536.0\n",
      "333  Albania  2012    male   5-14 years          NaN    215894.0\n",
      "334  Albania  2012    male  55-74 years          NaN    259056.0\n",
      "335  Albania  2012    male    75+ years          NaN     56701.0\n",
      "336  Albania  2013  female  15-24 years          NaN    237550.0\n",
      "337  Albania  2013  female  25-34 years          NaN    191853.0\n",
      "338  Albania  2013  female  35-54 years          NaN    397517.0\n",
      "339  Albania  2013  female   5-14 years          NaN    187558.0\n",
      "340  Albania  2013  female  55-74 years          NaN    269026.0\n",
      "341  Albania  2013  female    75+ years          NaN     71601.0\n",
      "342  Albania  2013    male  15-24 years          NaN    259826.0\n",
      "343  Albania  2013    male  25-34 years          NaN    204491.0\n",
      "344  Albania  2013    male  35-54 years          NaN    372005.0\n",
      "345  Albania  2013    male   5-14 years          NaN    204865.0\n",
      "346  Albania  2013    male  55-74 years          NaN    267905.0\n",
      "347  Albania  2013    male    75+ years          NaN     59113.0\n",
      "348  Albania  2014  female  15-24 years          NaN    224883.0\n",
      "349  Albania  2014  female  25-34 years          NaN    195460.0\n",
      "350  Albania  2014  female  35-54 years          NaN    399197.0\n",
      "351  Albania  2014  female   5-14 years          NaN    177838.0\n",
      "352  Albania  2014  female  55-74 years          NaN    278887.0\n",
      "353  Albania  2014  female    75+ years          NaN     73945.0\n",
      "354  Albania  2014    male  15-24 years          NaN    250345.0\n",
      "355  Albania  2014    male  25-34 years          NaN    213828.0\n",
      "356  Albania  2014    male  35-54 years          NaN    373493.0\n",
      "357  Albania  2014    male   5-14 years          NaN    194554.0\n",
      "358  Albania  2014    male  55-74 years          NaN    277604.0\n",
      "359  Albania  2014    male    75+ years          NaN     61678.0\n",
      "360  Albania  2015  female  15-24 years          NaN    212324.0\n",
      "361  Albania  2015  female  25-34 years          NaN    199024.0\n",
      "362  Albania  2015  female  35-54 years          NaN    400275.0\n",
      "363  Albania  2015  female   5-14 years          NaN    168140.0\n",
      "364  Albania  2015  female  55-74 years          NaN    289055.0\n",
      "365  Albania  2015  female    75+ years          NaN     76861.0\n",
      "366  Albania  2015    male  15-24 years          NaN    240777.0\n",
      "367  Albania  2015    male  25-34 years          NaN    222680.0\n",
      "368  Albania  2015    male  35-54 years          NaN    374464.0\n",
      "369  Albania  2015    male   5-14 years          NaN    184114.0\n",
      "370  Albania  2015    male  55-74 years          NaN    287770.0\n",
      "371  Albania  2015    male    75+ years          NaN     64200.0\n",
      "      country  year     sex          age  suicides_no  population\n",
      "1764  Armenia  2004  female  15-24 years          NaN    304314.0\n",
      "1765  Armenia  2004  female  25-34 years          NaN    229251.0\n",
      "1766  Armenia  2004  female  35-54 years          NaN    477071.0\n",
      "1767  Armenia  2004  female   5-14 years          NaN    254288.0\n",
      "1768  Armenia  2004  female  55-74 years          NaN    248427.0\n",
      "1769  Armenia  2004  female    75+ years          NaN     67304.0\n",
      "1770  Armenia  2004    male  15-24 years          NaN    306856.0\n",
      "1771  Armenia  2004    male  25-34 years          NaN    216543.0\n",
      "1772  Armenia  2004    male  35-54 years          NaN    426732.0\n",
      "1773  Armenia  2004    male   5-14 years          NaN    272703.0\n",
      "1774  Armenia  2004    male  55-74 years          NaN    192366.0\n",
      "1775  Armenia  2004    male    75+ years          NaN     35685.0\n",
      "1776  Armenia  2005  female  15-24 years          NaN    307904.0\n",
      "1777  Armenia  2005  female  25-34 years          NaN    234644.0\n",
      "1778  Armenia  2005  female  35-54 years          NaN    478385.0\n",
      "1779  Armenia  2005  female   5-14 years          NaN    240080.0\n",
      "1780  Armenia  2005  female  55-74 years          NaN    248761.0\n",
      "1781  Armenia  2005  female    75+ years          NaN     71818.0\n",
      "1782  Armenia  2005    male  15-24 years          NaN    312247.0\n",
      "1783  Armenia  2005    male  25-34 years          NaN    223789.0\n",
      "1784  Armenia  2005    male  35-54 years          NaN    428628.0\n",
      "1785  Armenia  2005    male   5-14 years          NaN    259830.0\n",
      "1786  Armenia  2005    male  55-74 years          NaN    192058.0\n",
      "1787  Armenia  2005    male    75+ years          NaN     39134.0\n",
      "        country  year     sex          age  suicides_no  population\n",
      "2472  Australia  2005  female  15-24 years          NaN   1365323.0\n",
      "2473  Australia  2005  female  25-34 years          NaN   1444503.0\n",
      "2474  Australia  2005  female  35-54 years          NaN   2902348.0\n",
      "2475  Australia  2005  female   5-14 years          NaN   1329981.0\n",
      "2476  Australia  2005  female  55-74 years          NaN   1744218.0\n",
      "2477  Australia  2005  female    75+ years          NaN    726893.0\n",
      "2478  Australia  2005    male  15-24 years          NaN   1420120.0\n",
      "2479  Australia  2005    male  25-34 years          NaN   1439379.0\n",
      "2480  Australia  2005    male  35-54 years          NaN   2864474.0\n",
      "2481  Australia  2005    male   5-14 years          NaN   1402451.0\n",
      "2482  Australia  2005    male  55-74 years          NaN   1722650.0\n",
      "2483  Australia  2005    male    75+ years          NaN    489314.0\n",
      "         country  year     sex          age  suicides_no  population\n",
      "3336  Azerbaijan  2005  female  15-24 years          NaN    842750.0\n",
      "3337  Azerbaijan  2005  female  25-34 years          NaN    664450.0\n",
      "3338  Azerbaijan  2005  female  35-54 years          NaN   1211150.0\n",
      "3339  Azerbaijan  2005  female   5-14 years          NaN    722800.0\n",
      "3340  Azerbaijan  2005  female  55-74 years          NaN    444300.0\n",
      "3341  Azerbaijan  2005  female    75+ years          NaN    107000.0\n",
      "3342  Azerbaijan  2005    male  15-24 years          NaN    877650.0\n",
      "3343  Azerbaijan  2005    male  25-34 years          NaN    616650.0\n",
      "3344  Azerbaijan  2005    male  35-54 years          NaN   1104100.0\n",
      "3345  Azerbaijan  2005    male   5-14 years          NaN    782850.0\n",
      "3346  Azerbaijan  2005    male  55-74 years          NaN    365700.0\n",
      "3347  Azerbaijan  2005    male    75+ years          NaN     64200.0\n",
      "      country  year     sex          age  suicides_no  population\n",
      "4596  Belarus  2004  female  15-24 years          NaN    793684.0\n",
      "4597  Belarus  2004  female  25-34 years          NaN    696487.0\n",
      "4598  Belarus  2004  female  35-54 years          NaN   1531907.0\n",
      "4599  Belarus  2004  female   5-14 years          NaN    542054.0\n",
      "4600  Belarus  2004  female  55-74 years          NaN   1055990.0\n",
      "4601  Belarus  2004  female    75+ years          NaN    389789.0\n",
      "4602  Belarus  2004    male  15-24 years          NaN    828898.0\n",
      "4603  Belarus  2004    male  25-34 years          NaN    698125.0\n",
      "4604  Belarus  2004    male  35-54 years          NaN   1420101.0\n",
      "4605  Belarus  2004    male   5-14 years          NaN    571645.0\n",
      "4606  Belarus  2004    male  55-74 years          NaN    706250.0\n",
      "4607  Belarus  2004    male    75+ years          NaN    140569.0\n",
      "4608  Belarus  2005  female  15-24 years          NaN    791961.0\n",
      "4609  Belarus  2005  female  25-34 years          NaN    700519.0\n",
      "4610  Belarus  2005  female  35-54 years          NaN   1524933.0\n",
      "4611  Belarus  2005  female   5-14 years          NaN    515011.0\n",
      "4612  Belarus  2005  female  55-74 years          NaN   1053247.0\n",
      "4613  Belarus  2005  female    75+ years          NaN    403913.0\n",
      "4614  Belarus  2005    male  15-24 years          NaN    825924.0\n",
      "4615  Belarus  2005    male  25-34 years          NaN    706010.0\n",
      "4616  Belarus  2005    male  35-54 years          NaN   1410341.0\n",
      "4617  Belarus  2005    male   5-14 years          NaN    543371.0\n",
      "4618  Belarus  2005    male  55-74 years          NaN    706216.0\n",
      "4619  Belarus  2005    male    75+ years          NaN    148129.0\n",
      "4620  Belarus  2006  female  15-24 years          NaN    782861.0\n",
      "4621  Belarus  2006  female  25-34 years          NaN    705036.0\n",
      "4622  Belarus  2006  female  35-54 years          NaN   1521714.0\n",
      "4623  Belarus  2006  female   5-14 years          NaN    493216.0\n",
      "4624  Belarus  2006  female  55-74 years          NaN   1052089.0\n",
      "4625  Belarus  2006  female    75+ years          NaN    415046.0\n",
      "4626  Belarus  2006    male  15-24 years          NaN    816266.0\n",
      "4627  Belarus  2006    male  25-34 years          NaN    714048.0\n",
      "4628  Belarus  2006    male  35-54 years          NaN   1404276.0\n",
      "4629  Belarus  2006    male   5-14 years          NaN    520558.0\n",
      "4630  Belarus  2006    male  55-74 years          NaN    706349.0\n",
      "4631  Belarus  2006    male    75+ years          NaN    153868.0\n",
      "4692  Belarus  2012  female  15-24 years          NaN    607675.0\n",
      "4693  Belarus  2012  female  25-34 years          NaN    732747.0\n",
      "4694  Belarus  2012  female  35-54 years          NaN   1455258.0\n",
      "4695  Belarus  2012  female   5-14 years          NaN    439462.0\n",
      "4696  Belarus  2012  female  55-74 years          NaN   1115781.0\n",
      "4697  Belarus  2012  female    75+ years          NaN    453056.0\n",
      "4698  Belarus  2012    male  15-24 years          NaN    642799.0\n",
      "4699  Belarus  2012    male  25-34 years          NaN    748497.0\n",
      "4700  Belarus  2012    male  35-54 years          NaN   1329430.0\n",
      "4701  Belarus  2012    male   5-14 years          NaN    464080.0\n",
      "4702  Belarus  2012    male  55-74 years          NaN    768600.0\n",
      "4703  Belarus  2012    male    75+ years          NaN    165701.0\n",
      "4728  Belarus  2015  female  15-24 years          NaN    522186.0\n",
      "4729  Belarus  2015  female  25-34 years          NaN    747134.0\n",
      "4730  Belarus  2015  female  35-54 years          NaN   1405736.0\n",
      "4731  Belarus  2015  female   5-14 years          NaN    464047.0\n",
      "4732  Belarus  2015  female  55-74 years          NaN   1172860.0\n",
      "4733  Belarus  2015  female    75+ years          NaN    481755.0\n",
      "4734  Belarus  2015    male  15-24 years          NaN    551841.0\n",
      "4735  Belarus  2015    male  25-34 years          NaN    773140.0\n",
      "4736  Belarus  2015    male  35-54 years          NaN   1295427.0\n",
      "4737  Belarus  2015    male   5-14 years          NaN    490687.0\n",
      "4738  Belarus  2015    male  55-74 years          NaN    831114.0\n",
      "4739  Belarus  2015    male    75+ years          NaN    174420.0\n",
      "                     country  year     sex          age  suicides_no  \\\n",
      "6156  Bosnia and Herzegovina  2010  female  15-24 years          NaN   \n",
      "6157  Bosnia and Herzegovina  2010  female  25-34 years          NaN   \n",
      "6158  Bosnia and Herzegovina  2010  female  35-54 years          NaN   \n",
      "6159  Bosnia and Herzegovina  2010  female   5-14 years          NaN   \n",
      "6160  Bosnia and Herzegovina  2010  female  55-74 years          NaN   \n",
      "6161  Bosnia and Herzegovina  2010  female    75+ years          NaN   \n",
      "6162  Bosnia and Herzegovina  2010    male  15-24 years          NaN   \n",
      "6163  Bosnia and Herzegovina  2010    male  25-34 years          NaN   \n",
      "6164  Bosnia and Herzegovina  2010    male  35-54 years          NaN   \n",
      "6165  Bosnia and Herzegovina  2010    male   5-14 years          NaN   \n",
      "6166  Bosnia and Herzegovina  2010    male  55-74 years          NaN   \n",
      "6167  Bosnia and Herzegovina  2010    male    75+ years          NaN   \n",
      "6180  Bosnia and Herzegovina  2012  female  15-24 years          NaN   \n",
      "6181  Bosnia and Herzegovina  2012  female  25-34 years          NaN   \n",
      "6182  Bosnia and Herzegovina  2012  female  35-54 years          NaN   \n",
      "6183  Bosnia and Herzegovina  2012  female   5-14 years          NaN   \n",
      "6184  Bosnia and Herzegovina  2012  female  55-74 years          NaN   \n",
      "6185  Bosnia and Herzegovina  2012  female    75+ years          NaN   \n",
      "6186  Bosnia and Herzegovina  2012    male  15-24 years          NaN   \n",
      "6187  Bosnia and Herzegovina  2012    male  25-34 years          NaN   \n",
      "6188  Bosnia and Herzegovina  2012    male  35-54 years          NaN   \n",
      "6189  Bosnia and Herzegovina  2012    male   5-14 years          NaN   \n",
      "6190  Bosnia and Herzegovina  2012    male  55-74 years          NaN   \n",
      "6191  Bosnia and Herzegovina  2012    male    75+ years          NaN   \n",
      "\n",
      "      population  \n",
      "6156    273197.0  \n",
      "6157    256293.0  \n",
      "6158    554468.0  \n",
      "6159    247195.0  \n",
      "6160    437374.0  \n",
      "6161    116058.0  \n",
      "6162    291167.0  \n",
      "6163    252966.0  \n",
      "6164    549673.0  \n",
      "6165    257192.0  \n",
      "6166    363671.0  \n",
      "6167     77301.0  \n",
      "6180    251515.0  \n",
      "6181    234773.0  \n",
      "6182    555689.0  \n",
      "6183    228428.0  \n",
      "6184    459436.0  \n",
      "6185    142129.0  \n",
      "6186    274917.0  \n",
      "6187    253140.0  \n",
      "6188    535774.0  \n",
      "6189    228029.0  \n",
      "6190    402514.0  \n",
      "6191     96450.0  \n",
      "      country  year     sex          age  suicides_no  population\n",
      "10584  Cyprus  2002  female  15-24 years          NaN     54859.0\n",
      "10585  Cyprus  2002  female  25-34 years          NaN     52521.0\n",
      "10586  Cyprus  2002  female  35-54 years          NaN    101589.0\n",
      "10587  Cyprus  2002  female   5-14 years          NaN     52071.0\n",
      "10588  Cyprus  2002  female  55-74 years          NaN     61502.0\n",
      "10589  Cyprus  2002  female    75+ years          NaN     20292.0\n",
      "10590  Cyprus  2002    male  15-24 years          NaN     56933.0\n",
      "10591  Cyprus  2002    male  25-34 years          NaN     47848.0\n",
      "10592  Cyprus  2002    male  35-54 years          NaN     97177.0\n",
      "10593  Cyprus  2002    male   5-14 years          NaN     55071.0\n",
      "10594  Cyprus  2002    male  55-74 years          NaN     56016.0\n",
      "10595  Cyprus  2002    male    75+ years          NaN     15222.0\n",
      "10596  Cyprus  2003  female  15-24 years          NaN     55587.0\n",
      "10597  Cyprus  2003  female  25-34 years          NaN     52976.0\n",
      "10598  Cyprus  2003  female  35-54 years          NaN    102749.0\n",
      "10599  Cyprus  2003  female   5-14 years          NaN     51164.0\n",
      "10600  Cyprus  2003  female  55-74 years          NaN     63460.0\n",
      "10601  Cyprus  2003  female    75+ years          NaN     21724.0\n",
      "10602  Cyprus  2003    male  15-24 years          NaN     57895.0\n",
      "10603  Cyprus  2003    male  25-34 years          NaN     48711.0\n",
      "10604  Cyprus  2003    male  35-54 years          NaN     97830.0\n",
      "10605  Cyprus  2003    male   5-14 years          NaN     54190.0\n",
      "10606  Cyprus  2003    male  55-74 years          NaN     58273.0\n",
      "10607  Cyprus  2003    male    75+ years          NaN     16190.0\n",
      "       country  year     sex          age  suicides_no  population\n",
      "15372  Georgia  2002  female  15-24 years          NaN    343050.0\n",
      "15373  Georgia  2002  female  25-34 years          NaN    314900.0\n",
      "15374  Georgia  2002  female  35-54 years          NaN    635650.0\n",
      "15375  Georgia  2002  female   5-14 years          NaN    323800.0\n",
      "15376  Georgia  2002  female  55-74 years          NaN    444550.0\n",
      "15377  Georgia  2002  female    75+ years          NaN    127300.0\n",
      "15378  Georgia  2002    male  15-24 years          NaN    343900.0\n",
      "15379  Georgia  2002    male  25-34 years          NaN    295750.0\n",
      "15380  Georgia  2002    male  35-54 years          NaN    556600.0\n",
      "15381  Georgia  2002    male   5-14 years          NaN    337550.0\n",
      "15382  Georgia  2002    male  55-74 years          NaN    335900.0\n",
      "15383  Georgia  2002    male    75+ years          NaN     58800.0\n",
      "15384  Georgia  2003  female  15-24 years          NaN    344050.0\n",
      "15385  Georgia  2003  female  25-34 years          NaN    313750.0\n",
      "15386  Georgia  2003  female  35-54 years          NaN    636350.0\n",
      "15387  Georgia  2003  female   5-14 years          NaN    312150.0\n",
      "15388  Georgia  2003  female  55-74 years          NaN    439150.0\n",
      "15389  Georgia  2003  female    75+ years          NaN    134100.0\n",
      "15390  Georgia  2003    male  15-24 years          NaN    346150.0\n",
      "15391  Georgia  2003    male  25-34 years          NaN    294350.0\n",
      "15392  Georgia  2003    male  35-54 years          NaN    554050.0\n",
      "15393  Georgia  2003    male   5-14 years          NaN    326900.0\n",
      "15394  Georgia  2003    male  55-74 years          NaN    331500.0\n",
      "15395  Georgia  2003    male    75+ years          NaN     64400.0\n",
      "15444  Georgia  2008  female  15-24 years          NaN    355700.0\n",
      "15445  Georgia  2008  female  25-34 years          NaN    324250.0\n",
      "15446  Georgia  2008  female  35-54 years          NaN    649450.0\n",
      "15447  Georgia  2008  female   5-14 years          NaN    244450.0\n",
      "15448  Georgia  2008  female  55-74 years          NaN    450350.0\n",
      "15449  Georgia  2008  female    75+ years          NaN    167600.0\n",
      "15450  Georgia  2008    male  15-24 years          NaN    365400.0\n",
      "15451  Georgia  2008    male  25-34 years          NaN    318700.0\n",
      "15452  Georgia  2008    male  35-54 years          NaN    573550.0\n",
      "15453  Georgia  2008    male   5-14 years          NaN    267950.0\n",
      "15454  Georgia  2008    male  55-74 years          NaN    338950.0\n",
      "15455  Georgia  2008    male    75+ years          NaN     87500.0\n",
      "      country  year     sex          age  suicides_no  population\n",
      "20028  Israel  2016  female  15-24 years          NaN    628605.0\n",
      "20029  Israel  2016  female  25-34 years          NaN    587819.0\n",
      "20030  Israel  2016  female  35-54 years          NaN    985951.0\n",
      "20031  Israel  2016  female   5-14 years          NaN    749852.0\n",
      "20032  Israel  2016  female  55-74 years          NaN    684491.0\n",
      "20033  Israel  2016  female    75+ years          NaN    244855.0\n",
      "20034  Israel  2016    male  15-24 years          NaN    656574.0\n",
      "20035  Israel  2016    male  25-34 years          NaN    592965.0\n",
      "20036  Israel  2016    male  35-54 years          NaN    963837.0\n",
      "20037  Israel  2016    male   5-14 years          NaN    787565.0\n",
      "20038  Israel  2016    male  55-74 years          NaN    613275.0\n",
      "20039  Israel  2016    male    75+ years          NaN    172044.0\n",
      "        country  year     sex          age  suicides_no  population\n",
      "21792  Kiribati  2011  female  15-24 years          NaN     10410.0\n",
      "21793  Kiribati  2011  female  25-34 years          NaN      7952.0\n",
      "21794  Kiribati  2011  female  35-54 years          NaN     11026.0\n",
      "21795  Kiribati  2011  female   5-14 years          NaN     11372.0\n",
      "21796  Kiribati  2011  female  55-74 years          NaN      4199.0\n",
      "21797  Kiribati  2011  female    75+ years          NaN       687.0\n",
      "21798  Kiribati  2011    male  15-24 years          NaN     10835.0\n",
      "21799  Kiribati  2011    male  25-34 years          NaN      7382.0\n",
      "21800  Kiribati  2011    male  35-54 years          NaN     10072.0\n",
      "21801  Kiribati  2011    male   5-14 years          NaN     11978.0\n",
      "21802  Kiribati  2011    male  55-74 years          NaN      3364.0\n",
      "21803  Kiribati  2011    male    75+ years          NaN       362.0\n",
      "           country  year     sex          age  suicides_no  population\n",
      "29808  Philippines  2013  female  15-24 years          NaN   9437663.0\n",
      "29809  Philippines  2013  female  25-34 years          NaN   7450252.0\n",
      "29810  Philippines  2013  female  35-54 years          NaN  10844107.0\n",
      "29811  Philippines  2013  female   5-14 years          NaN  10215594.0\n",
      "29812  Philippines  2013  female  55-74 years          NaN   4637949.0\n",
      "29813  Philippines  2013  female    75+ years          NaN    938352.0\n",
      "29814  Philippines  2013    male  15-24 years          NaN   9715854.0\n",
      "29815  Philippines  2013    male  25-34 years          NaN   7644966.0\n",
      "29816  Philippines  2013    male  35-54 years          NaN  11120463.0\n",
      "29817  Philippines  2013    male   5-14 years          NaN  10870745.0\n",
      "29818  Philippines  2013    male  55-74 years          NaN   4160754.0\n",
      "29819  Philippines  2013    male    75+ years          NaN    578365.0\n",
      "29820  Philippines  2014  female  15-24 years          NaN   9603065.0\n",
      "29821  Philippines  2014  female  25-34 years          NaN   7594161.0\n",
      "29822  Philippines  2014  female  35-54 years          NaN  11157673.0\n",
      "29823  Philippines  2014  female   5-14 years          NaN  10304643.0\n",
      "29824  Philippines  2014  female  55-74 years          NaN   4805341.0\n",
      "29825  Philippines  2014  female    75+ years          NaN    968035.0\n",
      "29826  Philippines  2014    male  15-24 years          NaN   9886164.0\n",
      "29827  Philippines  2014    male  25-34 years          NaN   7792631.0\n",
      "29828  Philippines  2014    male  35-54 years          NaN  11441280.0\n",
      "29829  Philippines  2014    male   5-14 years          NaN  10965349.0\n",
      "29830  Philippines  2014    male  55-74 years          NaN   4312638.0\n",
      "29831  Philippines  2014    male    75+ years          NaN    596796.0\n",
      "        country  year     sex          age  suicides_no  population\n",
      "30576  Portugal  2004  female  15-24 years          NaN    652589.0\n",
      "30577  Portugal  2004  female  25-34 years          NaN    812218.0\n",
      "30578  Portugal  2004  female  35-54 years          NaN   1494300.0\n",
      "30579  Portugal  2004  female   5-14 years          NaN    543342.0\n",
      "30580  Portugal  2004  female  55-74 years          NaN   1178354.0\n",
      "30581  Portugal  2004  female    75+ years          NaN    480342.0\n",
      "30582  Portugal  2004    male  15-24 years          NaN    673512.0\n",
      "30583  Portugal  2004    male  25-34 years          NaN    805266.0\n",
      "30584  Portugal  2004    male  35-54 years          NaN   1423444.0\n",
      "30585  Portugal  2004    male   5-14 years          NaN    572963.0\n",
      "30586  Portugal  2004    male  55-74 years          NaN    993495.0\n",
      "30587  Portugal  2004    male    75+ years          NaN    292054.0\n",
      "30588  Portugal  2005  female  15-24 years          NaN    632594.0\n",
      "30589  Portugal  2005  female  25-34 years          NaN    812021.0\n",
      "30590  Portugal  2005  female  35-54 years          NaN   1506593.0\n",
      "30591  Portugal  2005  female   5-14 years          NaN    543931.0\n",
      "30592  Portugal  2005  female  55-74 years          NaN   1189157.0\n",
      "30593  Portugal  2005  female    75+ years          NaN    493964.0\n",
      "30594  Portugal  2005    male  15-24 years          NaN    654038.0\n",
      "30595  Portugal  2005    male  25-34 years          NaN    802592.0\n",
      "30596  Portugal  2005    male  35-54 years          NaN   1434368.0\n",
      "30597  Portugal  2005    male   5-14 years          NaN    573749.0\n",
      "30598  Portugal  2005    male  55-74 years          NaN   1005417.0\n",
      "30599  Portugal  2005    male    75+ years          NaN    300226.0\n",
      "30600  Portugal  2006  female  15-24 years          NaN    615073.0\n",
      "30601  Portugal  2006  female  25-34 years          NaN    807709.0\n",
      "30602  Portugal  2006  female  35-54 years          NaN   1520281.0\n",
      "30603  Portugal  2006  female   5-14 years          NaN    543357.0\n",
      "30604  Portugal  2006  female  55-74 years          NaN   1199812.0\n",
      "30605  Portugal  2006  female    75+ years          NaN    509316.0\n",
      "30606  Portugal  2006    male  15-24 years          NaN    637552.0\n",
      "30607  Portugal  2006    male  25-34 years          NaN    796549.0\n",
      "30608  Portugal  2006    male  35-54 years          NaN   1446355.0\n",
      "30609  Portugal  2006    male   5-14 years          NaN    573147.0\n",
      "30610  Portugal  2006    male  55-74 years          NaN   1016573.0\n",
      "30611  Portugal  2006    male    75+ years          NaN    310092.0\n",
      "          country  year     sex          age  suicides_no  population\n",
      "34620  San Marino  2011  female  15-24 years          NaN      1388.0\n",
      "34621  San Marino  2011  female  25-34 years          NaN      1951.0\n",
      "34622  San Marino  2011  female  35-54 years          NaN      5513.0\n",
      "34623  San Marino  2011  female   5-14 years          NaN      1533.0\n",
      "34624  San Marino  2011  female  55-74 years          NaN      3460.0\n",
      "34625  San Marino  2011  female    75+ years          NaN      1650.0\n",
      "34626  San Marino  2011    male  15-24 years          NaN      1468.0\n",
      "34627  San Marino  2011    male  25-34 years          NaN      1842.0\n",
      "34628  San Marino  2011    male  35-54 years          NaN      5399.0\n",
      "34629  San Marino  2011    male   5-14 years          NaN      1766.0\n",
      "34630  San Marino  2011    male  55-74 years          NaN      3289.0\n",
      "34631  San Marino  2011    male    75+ years          NaN      1120.0\n",
      "34632  San Marino  2012  female  15-24 years          NaN      1404.0\n",
      "34633  San Marino  2012  female  25-34 years          NaN      1874.0\n",
      "34634  San Marino  2012  female  35-54 years          NaN      5597.0\n",
      "34635  San Marino  2012  female   5-14 years          NaN      1543.0\n",
      "34636  San Marino  2012  female  55-74 years          NaN      3515.0\n",
      "34637  San Marino  2012  female    75+ years          NaN      1688.0\n",
      "34638  San Marino  2012    male  15-24 years          NaN      1517.0\n",
      "34639  San Marino  2012    male  25-34 years          NaN      1772.0\n",
      "34640  San Marino  2012    male  35-54 years          NaN      5462.0\n",
      "34641  San Marino  2012    male   5-14 years          NaN      1765.0\n",
      "34642  San Marino  2012    male  55-74 years          NaN      3368.0\n",
      "34643  San Marino  2012    male    75+ years          NaN      1162.0\n",
      "34644  San Marino  2013  female  15-24 years          NaN      1426.0\n",
      "34645  San Marino  2013  female  25-34 years          NaN      1805.0\n",
      "34646  San Marino  2013  female  35-54 years          NaN      5651.0\n",
      "34647  San Marino  2013  female   5-14 years          NaN      1576.0\n",
      "34648  San Marino  2013  female  55-74 years          NaN      3554.0\n",
      "34649  San Marino  2013  female    75+ years          NaN      1718.0\n",
      "34650  San Marino  2013    male  15-24 years          NaN      1545.0\n",
      "34651  San Marino  2013    male  25-34 years          NaN      1725.0\n",
      "34652  San Marino  2013    male  35-54 years          NaN      5501.0\n",
      "34653  San Marino  2013    male   5-14 years          NaN      1759.0\n",
      "34654  San Marino  2013    male  55-74 years          NaN      3425.0\n",
      "34655  San Marino  2013    male    75+ years          NaN      1189.0\n",
      "34656  San Marino  2014  female  15-24 years          NaN      1461.0\n",
      "34657  San Marino  2014  female  25-34 years          NaN      1731.0\n",
      "34658  San Marino  2014  female  35-54 years          NaN      5684.0\n",
      "34659  San Marino  2014  female   5-14 years          NaN      1594.0\n",
      "34660  San Marino  2014  female  55-74 years          NaN      3608.0\n",
      "34661  San Marino  2014  female    75+ years          NaN      1744.0\n",
      "34662  San Marino  2014    male  15-24 years          NaN      1579.0\n",
      "34663  San Marino  2014    male  25-34 years          NaN      1692.0\n",
      "34664  San Marino  2014    male  35-54 years          NaN      5496.0\n",
      "34665  San Marino  2014    male   5-14 years          NaN      1759.0\n",
      "34666  San Marino  2014    male  55-74 years          NaN      3494.0\n",
      "34667  San Marino  2014    male    75+ years          NaN      1211.0\n",
      "34668  San Marino  2015  female  15-24 years          NaN      1484.0\n",
      "34669  San Marino  2015  female  25-34 years          NaN      1681.0\n",
      "34670  San Marino  2015  female  35-54 years          NaN      5691.0\n",
      "34671  San Marino  2015  female   5-14 years          NaN      1597.0\n",
      "34672  San Marino  2015  female  55-74 years          NaN      3711.0\n",
      "34673  San Marino  2015  female    75+ years          NaN      1770.0\n",
      "34674  San Marino  2015    male  15-24 years          NaN      1614.0\n",
      "34675  San Marino  2015    male  25-34 years          NaN      1676.0\n",
      "34676  San Marino  2015    male  35-54 years          NaN      5466.0\n",
      "34677  San Marino  2015    male   5-14 years          NaN      1776.0\n",
      "34678  San Marino  2015    male  55-74 years          NaN      3600.0\n",
      "34679  San Marino  2015    male    75+ years          NaN      1247.0\n",
      "        country  year     sex          age  suicides_no  population\n",
      "35940  Slovakia  2011  female  15-24 years          NaN    362514.0\n",
      "35941  Slovakia  2011  female  25-34 years          NaN    436796.0\n",
      "35942  Slovakia  2011  female  35-54 years          NaN    768573.0\n",
      "35943  Slovakia  2011  female   5-14 years          NaN    265464.0\n",
      "35944  Slovakia  2011  female  55-74 years          NaN    601594.0\n",
      "35945  Slovakia  2011  female    75+ years          NaN    195421.0\n",
      "35946  Slovakia  2011    male  15-24 years          NaN    377724.0\n",
      "35947  Slovakia  2011    male  25-34 years          NaN    459883.0\n",
      "35948  Slovakia  2011    male  35-54 years          NaN    776848.0\n",
      "35949  Slovakia  2011    male   5-14 years          NaN    280371.0\n",
      "35950  Slovakia  2011    male  55-74 years          NaN    491552.0\n",
      "35951  Slovakia  2011    male    75+ years          NaN     95418.0\n",
      "              country  year     sex          age  suicides_no  population\n",
      "39012  TFYR Macedonia  2014  female  15-24 years          NaN    140357.0\n",
      "39013  TFYR Macedonia  2014  female  25-34 years          NaN    159111.0\n",
      "39014  TFYR Macedonia  2014  female  35-54 years          NaN    291044.0\n",
      "39015  TFYR Macedonia  2014  female   5-14 years          NaN    112254.0\n",
      "39016  TFYR Macedonia  2014  female  55-74 years          NaN    215676.0\n",
      "39017  TFYR Macedonia  2014  female    75+ years          NaN     57179.0\n",
      "39018  TFYR Macedonia  2014    male  15-24 years          NaN    148881.0\n",
      "39019  TFYR Macedonia  2014    male  25-34 years          NaN    167434.0\n",
      "39020  TFYR Macedonia  2014    male  35-54 years          NaN    298910.0\n",
      "39021  TFYR Macedonia  2014    male   5-14 years          NaN    119572.0\n",
      "39022  TFYR Macedonia  2014    male  55-74 years          NaN    199349.0\n",
      "39023  TFYR Macedonia  2014    male    75+ years          NaN     41163.0\n",
      "              country  year     sex          age  suicides_no  population\n",
      "41904  United Kingdom  2016  female  15-24 years          NaN   3916683.0\n",
      "41905  United Kingdom  2016  female  25-34 years          NaN   4444704.0\n",
      "41906  United Kingdom  2016  female  35-54 years          NaN   8896994.0\n",
      "41907  United Kingdom  2016  female   5-14 years          NaN   3739021.0\n",
      "41908  United Kingdom  2016  female  55-74 years          NaN   7226689.0\n",
      "41909  United Kingdom  2016  female    75+ years          NaN   3089853.0\n",
      "41910  United Kingdom  2016    male  15-24 years          NaN   4115995.0\n",
      "41911  United Kingdom  2016    male  25-34 years          NaN   4474107.0\n",
      "41912  United Kingdom  2016    male  35-54 years          NaN   8707736.0\n",
      "41913  United Kingdom  2016    male   5-14 years          NaN   3923497.0\n",
      "41914  United Kingdom  2016    male  55-74 years          NaN   6862811.0\n",
      "41915  United Kingdom  2016    male    75+ years          NaN   2235650.0\n",
      "                        country  year     sex          age  suicides_no  \\\n",
      "42360  United States of America  2016  female  15-24 years          NaN   \n",
      "42361  United States of America  2016  female  25-34 years          NaN   \n",
      "42362  United States of America  2016  female  35-54 years          NaN   \n",
      "42363  United States of America  2016  female   5-14 years          NaN   \n",
      "42364  United States of America  2016  female  55-74 years          NaN   \n",
      "42365  United States of America  2016  female    75+ years          NaN   \n",
      "42366  United States of America  2016    male  15-24 years          NaN   \n",
      "42367  United States of America  2016    male  25-34 years          NaN   \n",
      "42368  United States of America  2016    male  35-54 years          NaN   \n",
      "42369  United States of America  2016    male   5-14 years          NaN   \n",
      "42370  United States of America  2016    male  55-74 years          NaN   \n",
      "42371  United States of America  2016    male    75+ years          NaN   \n",
      "\n",
      "       population  \n",
      "42360  21601501.0  \n",
      "42361  21857682.0  \n",
      "42362  41367410.0  \n",
      "42363  20385205.0  \n",
      "42364  35952743.0  \n",
      "42365  12007604.0  \n",
      "42366  22549343.0  \n",
      "42367  22511217.0  \n",
      "42368  41481607.0  \n",
      "42369  21313304.0  \n",
      "42370  33121620.0  \n",
      "42371   8423833.0  \n"
     ]
    }
   ],
   "source": [
    "suicide_nan = suicide_21.iloc[suicide_index]  # a dataframe of all rows with nan values of the suicides_no column\n",
    "nan_countries = suicide_nan['country'].unique()  # countries with nan values in the suicides_no column\n",
    "\n",
    "for country in nan_countries:\n",
    "    print(suicide_nan[suicide_nan['country']==country])"
   ]
  },
  {
   "cell_type": "markdown",
   "metadata": {},
   "source": [
    "There's a decision to make here.\n",
    "\n",
    "* For countries that are missing suicides_no for just a year or two, I can calculate the average by age groups and countries to substitute the NaN values. However, for the ones that are missing for more, I will have to see whether I want to drop the country as a whole or only drop those rows."
   ]
  },
  {
   "cell_type": "code",
   "execution_count": 9,
   "metadata": {},
   "outputs": [
    {
     "data": {
      "text/plain": [
       "array([2000, 2001, 2002, 2003, 2004, 2005, 2006, 2007, 2008, 2009, 2010,\n",
       "       2011, 2012, 2013, 2014, 2015, 2016], dtype=int64)"
      ]
     },
     "execution_count": 9,
     "metadata": {},
     "output_type": "execute_result"
    }
   ],
   "source": [
    "suicide_21['year'].unique()"
   ]
  },
  {
   "cell_type": "code",
   "execution_count": 10,
   "metadata": {},
   "outputs": [
    {
     "name": "stdout",
     "output_type": "stream",
     "text": [
      "{'Albania': array([2011, 2012, 2013, 2014, 2015], dtype=int64), 'Armenia': array([2004, 2005], dtype=int64), 'Australia': array([2005], dtype=int64), 'Azerbaijan': array([2005], dtype=int64), 'Belarus': array([2004, 2005, 2006, 2012, 2015], dtype=int64), 'Bosnia and Herzegovina': array([2010, 2012], dtype=int64), 'Cyprus': array([2002, 2003], dtype=int64), 'Georgia': array([2002, 2003, 2008], dtype=int64), 'Israel': array([2016], dtype=int64), 'Kiribati': array([2011], dtype=int64), 'Philippines': array([2013, 2014], dtype=int64), 'Portugal': array([2004, 2005, 2006], dtype=int64), 'San Marino': array([2011, 2012, 2013, 2014, 2015], dtype=int64), 'Slovakia': array([2011], dtype=int64), 'TFYR Macedonia': array([2014], dtype=int64), 'United Kingdom': array([2016], dtype=int64), 'United States of America': array([2016], dtype=int64)}\n"
     ]
    }
   ],
   "source": [
    "nan_year_dict = {}  # countries and years where nan values are in suicides_co\n",
    "for country in nan_countries:\n",
    "    nan_year_dict[country] = suicide_nan.loc[suicide_nan['country']==country]['year'].unique()\n",
    "print(nan_year_dict)"
   ]
  },
  {
   "cell_type": "code",
   "execution_count": 11,
   "metadata": {},
   "outputs": [
    {
     "name": "stdout",
     "output_type": "stream",
     "text": [
      "Albania\n",
      "unique years:\n",
      "[2000 2001 2002 2003 2004 2005 2006 2007 2008 2009 2010 2011 2012 2013\n",
      " 2014 2015]\n",
      "years with NaN suicides_no:\n",
      " [2011 2012 2013 2014 2015] \n",
      "\n",
      "Armenia\n",
      "unique years:\n",
      "[2000 2001 2002 2003 2004 2005 2006 2007 2008 2009 2010 2011 2012 2013\n",
      " 2014 2015 2016]\n",
      "years with NaN suicides_no:\n",
      " [2004 2005] \n",
      "\n",
      "Australia\n",
      "unique years:\n",
      "[2000 2001 2002 2003 2004 2005 2006 2007 2008 2009 2010 2011 2012 2013\n",
      " 2014 2015]\n",
      "years with NaN suicides_no:\n",
      " [2005] \n",
      "\n",
      "Azerbaijan\n",
      "unique years:\n",
      "[2000 2001 2002 2003 2004 2005 2007]\n",
      "years with NaN suicides_no:\n",
      " [2005] \n",
      "\n",
      "Belarus\n",
      "unique years:\n",
      "[2000 2001 2002 2003 2004 2005 2006 2007 2008 2009 2010 2011 2012 2013\n",
      " 2014 2015]\n",
      "years with NaN suicides_no:\n",
      " [2004 2005 2006 2012 2015] \n",
      "\n",
      "Bosnia and Herzegovina\n",
      "unique years:\n",
      "[2010 2011 2012 2014]\n",
      "years with NaN suicides_no:\n",
      " [2010 2012] \n",
      "\n",
      "Cyprus\n",
      "unique years:\n",
      "[2000 2002 2003 2004 2005 2006 2007 2008 2009 2010 2011 2012 2013 2014\n",
      " 2015 2016]\n",
      "years with NaN suicides_no:\n",
      " [2002 2003] \n",
      "\n",
      "Georgia\n",
      "unique years:\n",
      "[2000 2001 2002 2003 2004 2005 2006 2007 2008 2009 2010 2011 2012 2013\n",
      " 2014 2015]\n",
      "years with NaN suicides_no:\n",
      " [2002 2003 2008] \n",
      "\n",
      "Israel\n",
      "unique years:\n",
      "[2000 2001 2002 2003 2004 2005 2006 2007 2008 2009 2010 2011 2012 2013\n",
      " 2014 2015 2016]\n",
      "years with NaN suicides_no:\n",
      " [2016] \n",
      "\n",
      "Kiribati\n",
      "unique years:\n",
      "[2000 2001 2011]\n",
      "years with NaN suicides_no:\n",
      " [2011] \n",
      "\n",
      "Philippines\n",
      "unique years:\n",
      "[2000 2001 2002 2003 2006 2007 2008 2009 2010 2011 2013 2014]\n",
      "years with NaN suicides_no:\n",
      " [2013 2014] \n",
      "\n",
      "Portugal\n",
      "unique years:\n",
      "[2000 2001 2002 2003 2004 2005 2006 2007 2008 2009 2010 2011 2012 2013\n",
      " 2014]\n",
      "years with NaN suicides_no:\n",
      " [2004 2005 2006] \n",
      "\n",
      "San Marino\n",
      "unique years:\n",
      "[2000 2002 2005 2011 2012 2013 2014 2015]\n",
      "years with NaN suicides_no:\n",
      " [2011 2012 2013 2014 2015] \n",
      "\n",
      "Slovakia\n",
      "unique years:\n",
      "[2000 2001 2002 2003 2004 2005 2006 2007 2008 2009 2010 2011 2012 2013\n",
      " 2014]\n",
      "years with NaN suicides_no:\n",
      " [2011] \n",
      "\n",
      "TFYR Macedonia\n",
      "unique years:\n",
      "[2000 2001 2002 2003 2004 2005 2006 2007 2008 2009 2010 2011 2012 2013\n",
      " 2014]\n",
      "years with NaN suicides_no:\n",
      " [2014] \n",
      "\n",
      "United Kingdom\n",
      "unique years:\n",
      "[2000 2001 2002 2003 2004 2005 2006 2007 2008 2009 2010 2011 2012 2013\n",
      " 2014 2015 2016]\n",
      "years with NaN suicides_no:\n",
      " [2016] \n",
      "\n",
      "United States of America\n",
      "unique years:\n",
      "[2000 2001 2002 2003 2004 2005 2006 2007 2008 2009 2010 2011 2012 2013\n",
      " 2014 2015 2016]\n",
      "years with NaN suicides_no:\n",
      " [2016] \n",
      "\n"
     ]
    }
   ],
   "source": [
    "for country in nan_countries:\n",
    "    print(f'{country}')\n",
    "    print('unique years:\\n{}'.format(suicide_21.loc[suicide_21['country']==country]['year'].unique()))\n",
    "    print('years with NaN suicides_no:\\n {} \\n'.format(nan_year_dict[country]))"
   ]
  },
  {
   "cell_type": "markdown",
   "metadata": {},
   "source": [
    "I'm going to drop \n",
    "* Albania\n",
    "* Azerbaijan\n",
    "* Belarus\n",
    "* Kiribati\n",
    "* Philippines\n",
    "* Portugal\n",
    "* San Marino\n",
    "\n",
    "and try to use average values for\n",
    "\n",
    "* Armenia\n",
    "* Australia\n",
    "* Bosnia and Herzegovina\n",
    "* Cyprus\n",
    "* Georgia\n",
    "* Israel\n",
    "* Slovakia\n",
    "* TFYR Macedonia\n",
    "* United Kingdom\n",
    "* United States of America"
   ]
  },
  {
   "cell_type": "code",
   "execution_count": 12,
   "metadata": {},
   "outputs": [
    {
     "name": "stdout",
     "output_type": "stream",
     "text": [
      "The shape of the dataframe before dropping some countries: (21792, 6)\n",
      "The shape of the dataframe after dropping: (20868, 6)\n"
     ]
    }
   ],
   "source": [
    "drop_countries = {'Albania', 'Azerbaijan', 'Belarus', 'Kiribati', 'Philippines', 'Portugal', 'San Marino'}\n",
    "pre_cleaned_df = suicide_21.copy()\n",
    "print(f'The shape of the dataframe before dropping some countries: {pre_cleaned_df.shape}')\n",
    "\n",
    "for country in drop_countries:\n",
    "    indexes = pre_cleaned_df.loc[pre_cleaned_df['country'] == country].index\n",
    "    pre_cleaned_df.drop(indexes, inplace=True)\n",
    "    \n",
    "print(f'The shape of the dataframe after dropping: {pre_cleaned_df.shape}')"
   ]
  },
  {
   "cell_type": "code",
   "execution_count": 13,
   "metadata": {},
   "outputs": [
    {
     "data": {
      "text/html": [
       "<div>\n",
       "<style scoped>\n",
       "    .dataframe tbody tr th:only-of-type {\n",
       "        vertical-align: middle;\n",
       "    }\n",
       "\n",
       "    .dataframe tbody tr th {\n",
       "        vertical-align: top;\n",
       "    }\n",
       "\n",
       "    .dataframe thead th {\n",
       "        text-align: right;\n",
       "    }\n",
       "</style>\n",
       "<table border=\"1\" class=\"dataframe\">\n",
       "  <thead>\n",
       "    <tr style=\"text-align: right;\">\n",
       "      <th></th>\n",
       "      <th>country</th>\n",
       "      <th>year</th>\n",
       "      <th>sex</th>\n",
       "      <th>age</th>\n",
       "      <th>suicides_no</th>\n",
       "      <th>population</th>\n",
       "    </tr>\n",
       "  </thead>\n",
       "  <tbody>\n",
       "    <tr>\n",
       "      <th>528</th>\n",
       "      <td>Anguilla</td>\n",
       "      <td>2000</td>\n",
       "      <td>female</td>\n",
       "      <td>15-24 years</td>\n",
       "      <td>0.0</td>\n",
       "      <td>NaN</td>\n",
       "    </tr>\n",
       "    <tr>\n",
       "      <th>529</th>\n",
       "      <td>Anguilla</td>\n",
       "      <td>2000</td>\n",
       "      <td>female</td>\n",
       "      <td>25-34 years</td>\n",
       "      <td>0.0</td>\n",
       "      <td>NaN</td>\n",
       "    </tr>\n",
       "    <tr>\n",
       "      <th>530</th>\n",
       "      <td>Anguilla</td>\n",
       "      <td>2000</td>\n",
       "      <td>female</td>\n",
       "      <td>35-54 years</td>\n",
       "      <td>0.0</td>\n",
       "      <td>NaN</td>\n",
       "    </tr>\n",
       "    <tr>\n",
       "      <th>531</th>\n",
       "      <td>Anguilla</td>\n",
       "      <td>2000</td>\n",
       "      <td>female</td>\n",
       "      <td>5-14 years</td>\n",
       "      <td>0.0</td>\n",
       "      <td>NaN</td>\n",
       "    </tr>\n",
       "    <tr>\n",
       "      <th>532</th>\n",
       "      <td>Anguilla</td>\n",
       "      <td>2000</td>\n",
       "      <td>female</td>\n",
       "      <td>55-74 years</td>\n",
       "      <td>0.0</td>\n",
       "      <td>NaN</td>\n",
       "    </tr>\n",
       "    <tr>\n",
       "      <th>533</th>\n",
       "      <td>Anguilla</td>\n",
       "      <td>2000</td>\n",
       "      <td>female</td>\n",
       "      <td>75+ years</td>\n",
       "      <td>0.0</td>\n",
       "      <td>NaN</td>\n",
       "    </tr>\n",
       "    <tr>\n",
       "      <th>534</th>\n",
       "      <td>Anguilla</td>\n",
       "      <td>2000</td>\n",
       "      <td>male</td>\n",
       "      <td>15-24 years</td>\n",
       "      <td>0.0</td>\n",
       "      <td>NaN</td>\n",
       "    </tr>\n",
       "    <tr>\n",
       "      <th>535</th>\n",
       "      <td>Anguilla</td>\n",
       "      <td>2000</td>\n",
       "      <td>male</td>\n",
       "      <td>25-34 years</td>\n",
       "      <td>0.0</td>\n",
       "      <td>NaN</td>\n",
       "    </tr>\n",
       "    <tr>\n",
       "      <th>536</th>\n",
       "      <td>Anguilla</td>\n",
       "      <td>2000</td>\n",
       "      <td>male</td>\n",
       "      <td>35-54 years</td>\n",
       "      <td>0.0</td>\n",
       "      <td>NaN</td>\n",
       "    </tr>\n",
       "    <tr>\n",
       "      <th>537</th>\n",
       "      <td>Anguilla</td>\n",
       "      <td>2000</td>\n",
       "      <td>male</td>\n",
       "      <td>5-14 years</td>\n",
       "      <td>0.0</td>\n",
       "      <td>NaN</td>\n",
       "    </tr>\n",
       "    <tr>\n",
       "      <th>538</th>\n",
       "      <td>Anguilla</td>\n",
       "      <td>2000</td>\n",
       "      <td>male</td>\n",
       "      <td>55-74 years</td>\n",
       "      <td>0.0</td>\n",
       "      <td>NaN</td>\n",
       "    </tr>\n",
       "    <tr>\n",
       "      <th>539</th>\n",
       "      <td>Anguilla</td>\n",
       "      <td>2000</td>\n",
       "      <td>male</td>\n",
       "      <td>75+ years</td>\n",
       "      <td>0.0</td>\n",
       "      <td>NaN</td>\n",
       "    </tr>\n",
       "    <tr>\n",
       "      <th>540</th>\n",
       "      <td>Anguilla</td>\n",
       "      <td>2001</td>\n",
       "      <td>female</td>\n",
       "      <td>15-24 years</td>\n",
       "      <td>0.0</td>\n",
       "      <td>NaN</td>\n",
       "    </tr>\n",
       "    <tr>\n",
       "      <th>541</th>\n",
       "      <td>Anguilla</td>\n",
       "      <td>2001</td>\n",
       "      <td>female</td>\n",
       "      <td>25-34 years</td>\n",
       "      <td>0.0</td>\n",
       "      <td>NaN</td>\n",
       "    </tr>\n",
       "    <tr>\n",
       "      <th>542</th>\n",
       "      <td>Anguilla</td>\n",
       "      <td>2001</td>\n",
       "      <td>female</td>\n",
       "      <td>35-54 years</td>\n",
       "      <td>0.0</td>\n",
       "      <td>NaN</td>\n",
       "    </tr>\n",
       "    <tr>\n",
       "      <th>543</th>\n",
       "      <td>Anguilla</td>\n",
       "      <td>2001</td>\n",
       "      <td>female</td>\n",
       "      <td>5-14 years</td>\n",
       "      <td>0.0</td>\n",
       "      <td>NaN</td>\n",
       "    </tr>\n",
       "    <tr>\n",
       "      <th>544</th>\n",
       "      <td>Anguilla</td>\n",
       "      <td>2001</td>\n",
       "      <td>female</td>\n",
       "      <td>55-74 years</td>\n",
       "      <td>0.0</td>\n",
       "      <td>NaN</td>\n",
       "    </tr>\n",
       "    <tr>\n",
       "      <th>545</th>\n",
       "      <td>Anguilla</td>\n",
       "      <td>2001</td>\n",
       "      <td>female</td>\n",
       "      <td>75+ years</td>\n",
       "      <td>0.0</td>\n",
       "      <td>NaN</td>\n",
       "    </tr>\n",
       "    <tr>\n",
       "      <th>546</th>\n",
       "      <td>Anguilla</td>\n",
       "      <td>2001</td>\n",
       "      <td>male</td>\n",
       "      <td>15-24 years</td>\n",
       "      <td>0.0</td>\n",
       "      <td>NaN</td>\n",
       "    </tr>\n",
       "    <tr>\n",
       "      <th>547</th>\n",
       "      <td>Anguilla</td>\n",
       "      <td>2001</td>\n",
       "      <td>male</td>\n",
       "      <td>25-34 years</td>\n",
       "      <td>0.0</td>\n",
       "      <td>NaN</td>\n",
       "    </tr>\n",
       "  </tbody>\n",
       "</table>\n",
       "</div>"
      ],
      "text/plain": [
       "      country  year     sex          age  suicides_no  population\n",
       "528  Anguilla  2000  female  15-24 years          0.0         NaN\n",
       "529  Anguilla  2000  female  25-34 years          0.0         NaN\n",
       "530  Anguilla  2000  female  35-54 years          0.0         NaN\n",
       "531  Anguilla  2000  female   5-14 years          0.0         NaN\n",
       "532  Anguilla  2000  female  55-74 years          0.0         NaN\n",
       "533  Anguilla  2000  female    75+ years          0.0         NaN\n",
       "534  Anguilla  2000    male  15-24 years          0.0         NaN\n",
       "535  Anguilla  2000    male  25-34 years          0.0         NaN\n",
       "536  Anguilla  2000    male  35-54 years          0.0         NaN\n",
       "537  Anguilla  2000    male   5-14 years          0.0         NaN\n",
       "538  Anguilla  2000    male  55-74 years          0.0         NaN\n",
       "539  Anguilla  2000    male    75+ years          0.0         NaN\n",
       "540  Anguilla  2001  female  15-24 years          0.0         NaN\n",
       "541  Anguilla  2001  female  25-34 years          0.0         NaN\n",
       "542  Anguilla  2001  female  35-54 years          0.0         NaN\n",
       "543  Anguilla  2001  female   5-14 years          0.0         NaN\n",
       "544  Anguilla  2001  female  55-74 years          0.0         NaN\n",
       "545  Anguilla  2001  female    75+ years          0.0         NaN\n",
       "546  Anguilla  2001    male  15-24 years          0.0         NaN\n",
       "547  Anguilla  2001    male  25-34 years          0.0         NaN"
      ]
     },
     "execution_count": 13,
     "metadata": {},
     "output_type": "execute_result"
    }
   ],
   "source": [
    "cleaned_df = pre_cleaned_df.copy()\n",
    "cleaned_df.head(20)"
   ]
  },
  {
   "cell_type": "markdown",
   "metadata": {},
   "source": [
    "'Albania', 'Azerbaijan', 'Belarus', 'Kiribati', 'Philippines', 'Portugal', 'San Marino' are dropped from the dataframe.\n",
    "\n",
    "Now, I have to find averages of\n",
    "\n",
    "'Armenia', 'Australia', 'Bosnia and Herzegovina', 'Cyprus', 'Georgia', 'Israel', 'Slovakia', 'TFYR Macedonia', 'United Kingdom', 'United States of America' to fill in NaN values"
   ]
  },
  {
   "cell_type": "code",
   "execution_count": 14,
   "metadata": {},
   "outputs": [],
   "source": [
    "fill_country = ['Armenia', 'Australia', 'Bosnia and Herzegovina', 'Cyprus', 'Georgia', 'Israel',\n",
    "                'Slovakia', 'TFYR Macedonia', 'United Kingdom', 'United States of America']\n",
    "age_group = cleaned_df['age'].unique()\n",
    "\n",
    "for country in fill_country:\n",
    "    for age in age_group:\n",
    "        # a temporary dataframe to use the mean method on - it's grouped by age and country\n",
    "        temp = cleaned_df[(cleaned_df['country']==country) & (cleaned_df['age']==age)]\n",
    "        # indexes of the group\n",
    "        indexes = temp.index\n",
    "        # mean values of suicides committed in a country by age groups\n",
    "        mean = round(temp['suicides_no'].mean(), 2)\n",
    "        # update the values in specific indexes\n",
    "        for i in indexes:\n",
    "            cleaned_df.at[i, 'suicides_no'] = mean"
   ]
  },
  {
   "cell_type": "code",
   "execution_count": 15,
   "metadata": {},
   "outputs": [
    {
     "data": {
      "text/plain": [
       "country           0\n",
       "year              0\n",
       "sex               0\n",
       "age               0\n",
       "suicides_no       0\n",
       "population     2892\n",
       "dtype: int64"
      ]
     },
     "execution_count": 15,
     "metadata": {},
     "output_type": "execute_result"
    }
   ],
   "source": [
    "cleaned_df.isnull().sum()"
   ]
  },
  {
   "cell_type": "markdown",
   "metadata": {},
   "source": [
    "It's time to deal with the population column now"
   ]
  },
  {
   "cell_type": "code",
   "execution_count": 16,
   "metadata": {},
   "outputs": [
    {
     "name": "stdout",
     "output_type": "stream",
     "text": [
      "Anguilla\n",
      "Unique population values [nan] \n",
      "\n",
      "Bermuda\n",
      "Unique population values [nan] \n",
      "\n",
      "Bolivia\n",
      "Unique population values [nan] \n",
      "\n",
      "British Virgin Islands\n",
      "Unique population values [nan] \n",
      "\n",
      "Cayman Islands\n",
      "Unique population values [nan] \n",
      "\n",
      "Dominica\n",
      "Unique population values [nan] \n",
      "\n",
      "Dominican Republic\n",
      "Unique population values [nan] \n",
      "\n",
      "Haiti\n",
      "Unique population values [nan] \n",
      "\n",
      "Honduras\n",
      "Unique population values [nan] \n",
      "\n",
      "Iraq\n",
      "Unique population values [nan] \n",
      "\n",
      "Jordan\n",
      "Unique population values [nan] \n",
      "\n",
      "Malaysia\n",
      "Unique population values [nan] \n",
      "\n",
      "Montserrat\n",
      "Unique population values [nan] \n",
      "\n",
      "Morocco\n",
      "Unique population values [nan] \n",
      "\n",
      "Netherlands Antilles\n",
      "Unique population values [nan] \n",
      "\n",
      "Nicaragua\n",
      "Unique population values [    nan 594335. 497514. 599881. 609040. 238978.  62723. 614837. 477796.\n",
      " 524715. 642002. 199900.  45706. 593303. 508442. 616933. 603810. 250720.\n",
      "  65290. 615256. 490946. 539194. 637235. 208944.  47848. 591526. 518676.\n",
      " 634573. 599655. 263316.  67819. 615327. 503628. 554382. 633724. 218891.\n",
      "  49926. 589004. 527875. 652953. 596571. 276506.  70389. 615015. 515416.\n",
      " 570472. 631355. 229411.  51968. 585711. 535623. 672271. 594338. 289927.\n",
      "  73073. 614142. 525741. 587734. 629806. 240048.  54010. 581787. 541679.\n",
      " 692648. 592557. 303372.  75925. 612707. 534310. 606317. 628588. 250532.\n",
      "  56061.] \n",
      "\n",
      "Occupied Palestinian Territory\n",
      "Unique population values [nan] \n",
      "\n",
      "Peru\n",
      "Unique population values [nan] \n",
      "\n",
      "Rodrigues\n",
      "Unique population values [  nan 4180. 2620. 3716. 3638. 1962.  455. 4126. 2503. 3765. 3585. 1838.\n",
      "  259. 4071. 2659. 3761. 3658. 2014.  450. 4061. 2557. 3789. 3576. 1870.\n",
      "  279. 4008. 2737. 3778. 3639. 2044.  485. 4002. 2604. 3594. 1915.  287.\n",
      " 3838. 2920. 3625. 2100.  515. 3860. 2745. 3752. 3668. 1938.  317. 3058.\n",
      " 3783. 3661. 2136.  518. 3766. 2847. 3753. 3756. 1954.  351. 3612. 3198.\n",
      " 3816. 3775. 2211.  565. 3629. 2997. 3673. 3916. 2102.  372. 3631. 3204.\n",
      " 3810. 3821. 2279.  585. 3023. 3613. 3998. 2183.  386. 3590. 3238. 3793.\n",
      " 3914. 2381.  609. 3551. 3097. 3541. 4088. 2295.  412. 3455. 3290. 5064.\n",
      " 4119. 2553.  732. 3351. 3104. 4965. 4149. 2511.  480. 3500. 3220. 5200.\n",
      " 4080. 2640.  780. 3380. 3050. 5040. 4170.  490. 3601. 5342. 4046. 2720.\n",
      "  804. 3503. 2917. 5210. 4105. 2660.  521. 3671. 2965. 5501. 3947. 2817.\n",
      "  847. 3595. 2801. 5277. 4017. 2760.  560.] \n",
      "\n",
      "Saint Kitts and Nevis\n",
      "Unique population values [nan] \n",
      "\n",
      "Saint Pierre and Miquelon\n",
      "Unique population values [nan] \n",
      "\n",
      "Saudi Arabia\n",
      "Unique population values [nan] \n",
      "\n",
      "Syrian Arab Republic\n",
      "Unique population values [nan] \n",
      "\n",
      "Tajikistan\n",
      "Unique population values [nan] \n",
      "\n",
      "Tunisia\n",
      "Unique population values [nan] \n",
      "\n",
      "Turks and Caicos Islands\n",
      "Unique population values [nan] \n",
      "\n"
     ]
    }
   ],
   "source": [
    "nan_population = cleaned_df.loc[cleaned_df['population'].isnull()==True].index  # indexes of nan population\n",
    "nan_population_countries = cleaned_df.loc[nan_population]['country'].unique()  # countries with nan population rows\n",
    "\n",
    "for country in nan_population_countries:\n",
    "    print(country)\n",
    "    print('Unique population values {} \\n'.format(cleaned_df.loc[cleaned_df['country']==country]['population'].unique())\n",
    ")"
   ]
  },
  {
   "cell_type": "code",
   "execution_count": 17,
   "metadata": {},
   "outputs": [
    {
     "name": "stdout",
     "output_type": "stream",
     "text": [
      "Nicaragua\n",
      "Number of all rows: 192\n",
      "Number of rows with NaN values: 73\n",
      "0.38\n",
      "\n",
      "Rodrigues\n",
      "Number of all rows: 192\n",
      "Number of rows with NaN values: 73\n",
      "0.38\n",
      "\n"
     ]
    }
   ],
   "source": [
    "for country in ['Nicaragua', 'Rodrigues']:\n",
    "    print(country)\n",
    "    print('Number of all rows: {}'.format(cleaned_df.loc[cleaned_df['country']=='Nicaragua'].shape[0])\n",
    "    )\n",
    "    print('Number of rows with NaN values: {}'.format(len(cleaned_df.loc[cleaned_df['country']=='Nicaragua']['population'].unique()))\n",
    "    )\n",
    "    print(round(len(cleaned_df.loc[cleaned_df['country']=='Nicaragua']['population'].unique())/\n",
    "                    cleaned_df.loc[cleaned_df['country']=='Nicaragua'].shape[0], 2\n",
    "               )\n",
    "         )\n",
    "    print('')"
   ]
  },
  {
   "cell_type": "markdown",
   "metadata": {},
   "source": [
    "For Nicaragua:\n",
    "38% are NaN values, so it will be better to exclude the data from Nicaragua\n",
    "\n",
    "For Rodrigues:\n",
    "77% are NaN values, so I defintiely can't use this data.\n",
    "\n",
    "Conclusion: it's probably best to remove all countries nan_population_countries"
   ]
  },
  {
   "cell_type": "code",
   "execution_count": 18,
   "metadata": {},
   "outputs": [
    {
     "name": "stdout",
     "output_type": "stream",
     "text": [
      "Before dropping rows with nan values in the population column: (20868, 6)\n",
      "After dropping those rows: (17760, 6)\n"
     ]
    }
   ],
   "source": [
    "print(f'Before dropping rows with nan values in the population column: {cleaned_df.shape}')\n",
    "\n",
    "for country in nan_population_countries:\n",
    "    indexes = cleaned_df.loc[cleaned_df['country']==country].index\n",
    "    cleaned_df.drop(indexes, inplace=True)\n",
    "\n",
    "print(f'After dropping those rows: {cleaned_df.shape}')"
   ]
  },
  {
   "cell_type": "code",
   "execution_count": 19,
   "metadata": {},
   "outputs": [
    {
     "data": {
      "text/plain": [
       "country        0\n",
       "year           0\n",
       "sex            0\n",
       "age            0\n",
       "suicides_no    0\n",
       "population     0\n",
       "dtype: int64"
      ]
     },
     "execution_count": 19,
     "metadata": {},
     "output_type": "execute_result"
    }
   ],
   "source": [
    "cleaned_df.isnull().sum()"
   ]
  },
  {
   "cell_type": "markdown",
   "metadata": {},
   "source": [
    "We're done dealing with NaN values. Now, let's see if there are outliers!"
   ]
  },
  {
   "cell_type": "code",
   "execution_count": 20,
   "metadata": {},
   "outputs": [
    {
     "data": {
      "image/png": "[encoded data removed]",
      "text/plain": [
       "<Figure size 576x432 with 1 Axes>"
      ]
     },
     "metadata": {
      "needs_background": "light"
     },
     "output_type": "display_data"
    }
   ],
   "source": [
    "plt.figure(figsize=(8, 6))\n",
    "plt.scatter(x=cleaned_df['year'], y=cleaned_df['suicides_no'])\n",
    "plt.title('Committed Suicide by Year')\n",
    "plt.show()"
   ]
  },
  {
   "cell_type": "code",
   "execution_count": 21,
   "metadata": {},
   "outputs": [
    {
     "name": "stdout",
     "output_type": "stream",
     "text": [
      "maximum of the year 2000: 21063.0 in the country of Russian Federation\n",
      "maximum of the year 2001: 21262.0 in the country of Russian Federation\n",
      "maximum of the year 2002: 20119.0 in the country of Russian Federation\n",
      "maximum of the year 2003: 18681.0 in the country of Russian Federation\n",
      "maximum of the year 2004: 17465.0 in the country of Russian Federation\n",
      "maximum of the year 2005: 15843.0 in the country of Russian Federation\n",
      "maximum of the year 2006: 14020.0 in the country of Russian Federation\n",
      "maximum of the year 2007: 13065.0 in the country of Russian Federation\n",
      "maximum of the year 2008: 11848.0 in the country of Russian Federation\n",
      "maximum of the year 2009: 11721.0 in the country of Russian Federation\n",
      "maximum of the year 2012: 8755.0 in the country of Russian Federation\n",
      "maximum of the year 2013: 8815.0 in the country of Russian Federation\n",
      "maximum of the year 2014: 8105.0 in the country of Russian Federation\n",
      "maximum of the year 2015: 7898.0 in the country of Russian Federation\n",
      "maximum of the year 2010: 10304.0 in the country of Russian Federation\n",
      "maximum of the year 2011: 9411.0 in the country of Russian Federation\n",
      "maximum of the year 2016: 7170.94 in the country of United States of America\n"
     ]
    }
   ],
   "source": [
    "for year in cleaned_df['year'].unique():\n",
    "    max_suicide = cleaned_df.loc[cleaned_df['year']==year]['suicides_no'].max()\n",
    "    print(f'maximum of the year {year}: {max_suicide}',\n",
    "          'in the country of {}'.format(cleaned_df.loc[cleaned_df['suicides_no']==max_suicide]['country'].unique()[0])\n",
    "         )"
   ]
  },
  {
   "cell_type": "markdown",
   "metadata": {},
   "source": [
    "After doing some research of suicide rates in countries, it became clear that the numbers for Russia are wrong.\n",
    "I'm dropping the data of Russia"
   ]
  },
  {
   "cell_type": "code",
   "execution_count": 22,
   "metadata": {},
   "outputs": [
    {
     "name": "stdout",
     "output_type": "stream",
     "text": [
      "Before dropping Russia: (17760, 6)\n",
      "After dropping Russia(17568, 6)\n"
     ]
    }
   ],
   "source": [
    "print(f'Before dropping Russia: {cleaned_df.shape}')\n",
    "russia_indexes = cleaned_df.loc[cleaned_df['country']=='Russian Federation'].index\n",
    "cleaned_df.drop(russia_indexes, inplace=True)\n",
    "print(f'After dropping Russia{cleaned_df.shape}')"
   ]
  },
  {
   "cell_type": "code",
   "execution_count": 23,
   "metadata": {},
   "outputs": [
    {
     "data": {
      "image/png": "[encoded data removed]",
      "text/plain": [
       "<Figure size 576x432 with 1 Axes>"
      ]
     },
     "metadata": {
      "needs_background": "light"
     },
     "output_type": "display_data"
    }
   ],
   "source": [
    "plt.figure(figsize=(8, 6))\n",
    "plt.scatter(x=cleaned_df['year'], y=cleaned_df['suicides_no'])\n",
    "plt.title('Committed Suicide by Year')\n",
    "plt.show()"
   ]
  },
  {
   "cell_type": "markdown",
   "metadata": {},
   "source": [
    "Everything looks ready for an analysis"
   ]
  },
  {
   "cell_type": "markdown",
   "metadata": {},
   "source": [
    "### 10 countries with the highest suicide rates for different age groups"
   ]
  },
  {
   "cell_type": "code",
   "execution_count": 24,
   "metadata": {},
   "outputs": [
    {
     "name": "stdout",
     "output_type": "stream",
     "text": [
      "                  country    age_group  average_suicide\n",
      "0     Antigua and Barbuda  15-24 years             0.00\n",
      "1     Antigua and Barbuda  25-34 years             0.00\n",
      "2     Antigua and Barbuda  35-54 years             0.18\n",
      "3     Antigua and Barbuda   5-14 years             0.00\n",
      "4     Antigua and Barbuda  55-74 years             0.14\n",
      "..                    ...          ...              ...\n",
      "607  Virgin Islands (USA)  25-34 years             0.75\n",
      "608  Virgin Islands (USA)  35-54 years             1.43\n",
      "609  Virgin Islands (USA)   5-14 years             0.04\n",
      "610  Virgin Islands (USA)  55-74 years             0.61\n",
      "611  Virgin Islands (USA)    75+ years             0.25\n",
      "\n",
      "[612 rows x 3 columns]\n"
     ]
    }
   ],
   "source": [
    "top_average_rate = []\n",
    "\n",
    "for country in cleaned_df['country'].unique():\n",
    "    for age_group in cleaned_df['age'].unique():\n",
    "        temp = cleaned_df.loc[(cleaned_df['country']==country) &\n",
    "                              (cleaned_df['age']==age_group)]\n",
    "        top_average_rate.append([country, age_group, round(temp['suicides_no'].mean(), 2)])  # add it to the set to hold information\n",
    "\n",
    "\n",
    "columns = ['country', 'age_group', 'average_suicide']\n",
    "average_df = pd.DataFrame(top_average_rate, columns=columns)\n",
    "print(average_df)"
   ]
  },
  {
   "cell_type": "code",
   "execution_count": 51,
   "metadata": {},
   "outputs": [
    {
     "name": "stdout",
     "output_type": "stream",
     "text": [
      "                      country    age_group  average_suicide\n",
      "582  United States of America  15-24 years          2226.03\n",
      "288                     Japan  15-24 years           890.44\n",
      "72                     Brazil  15-24 years           833.81\n",
      "360                    Mexico  15-24 years           694.03\n",
      "564                   Ukraine  15-24 years           506.00\n",
      "510                 Sri Lanka  15-24 years           449.90\n",
      "6                   Argentina  15-24 years           399.09\n",
      "258     Iran (Islamic Rep of)  15-24 years           397.00\n",
      "432         Republic of Korea  15-24 years           384.50\n",
      "294                Kazakhstan  15-24 years           368.97\n"
     ]
    },
    {
     "data": {
      "image/png": "[encoded data removed]",
      "text/plain": [
       "<Figure size 720x432 with 1 Axes>"
      ]
     },
     "metadata": {
      "needs_background": "light"
     },
     "output_type": "display_data"
    },
    {
     "name": "stdout",
     "output_type": "stream",
     "text": [
      "\n",
      "                      country    age_group  average_suicide\n",
      "583  United States of America  25-34 years          2776.16\n",
      "289                     Japan  25-34 years          1752.00\n",
      "73                     Brazil  25-34 years          1015.91\n",
      "433         Republic of Korea  25-34 years           858.06\n",
      "565                   Ukraine  25-34 years           840.67\n",
      "361                    Mexico  25-34 years           574.19\n",
      "187                    France  25-34 years           552.63\n",
      "541                  Thailand  25-34 years           488.75\n",
      "295                Kazakhstan  25-34 years           475.25\n",
      "205                   Germany  25-34 years           473.78\n"
     ]
    },
    {
     "data": {
      "image/png": "[encoded data removed]",
      "text/plain": [
       "<Figure size 720x432 with 1 Axes>"
      ]
     },
     "metadata": {
      "needs_background": "light"
     },
     "output_type": "display_data"
    },
    {
     "name": "stdout",
     "output_type": "stream",
     "text": [
      "\n",
      "                      country    age_group  average_suicide\n",
      "584  United States of America  35-54 years          7170.94\n",
      "290                     Japan  35-54 years          4790.75\n",
      "434         Republic of Korea  35-54 years          2287.91\n",
      "188                    France  35-54 years          2081.07\n",
      "566                   Ukraine  35-54 years          2010.03\n",
      "206                   Germany  35-54 years          1760.31\n",
      "74                     Brazil  35-54 years          1655.78\n",
      "416                    Poland  35-54 years          1258.72\n",
      "578            United Kingdom  35-54 years           938.22\n",
      "512                 Sri Lanka  35-54 years           836.70\n"
     ]
    },
    {
     "data": {
      "image/png": "[encoded data removed]",
      "text/plain": [
       "<Figure size 720x432 with 1 Axes>"
      ]
     },
     "metadata": {
      "needs_background": "light"
     },
     "output_type": "display_data"
    },
    {
     "name": "stdout",
     "output_type": "stream",
     "text": [
      "\n",
      "                      country   age_group  average_suicide\n",
      "585  United States of America  5-14 years           145.47\n",
      "363                    Mexico  5-14 years            88.25\n",
      "75                     Brazil  5-14 years            56.94\n",
      "111                  Colombia  5-14 years            42.06\n",
      "297                Kazakhstan  5-14 years            37.47\n",
      "261     Iran (Islamic Rep of)  5-14 years            35.17\n",
      "597                Uzbekistan  5-14 years            34.75\n",
      "291                     Japan  5-14 years            33.28\n",
      "567                   Ukraine  5-14 years            30.53\n",
      "9                   Argentina  5-14 years            30.25\n"
     ]
    },
    {
     "data": {
      "image/png": "[encoded data removed]",
      "text/plain": [
       "<Figure size 720x432 with 1 Axes>"
      ]
     },
     "metadata": {
      "needs_background": "light"
     },
     "output_type": "display_data"
    },
    {
     "name": "stdout",
     "output_type": "stream",
     "text": [
      "\n",
      "                      country    age_group  average_suicide\n",
      "292                     Japan  55-74 years          5066.94\n",
      "586  United States of America  55-74 years          4106.78\n",
      "436         Republic of Korea  55-74 years          1755.59\n",
      "208                   Germany  55-74 years          1619.31\n",
      "568                   Ukraine  55-74 years          1376.60\n",
      "190                    France  55-74 years          1357.27\n",
      "418                    Poland  55-74 years           800.62\n",
      "76                     Brazil  55-74 years           763.00\n",
      "280                     Italy  55-74 years           620.81\n",
      "508                     Spain  55-74 years           470.47\n"
     ]
    },
    {
     "data": {
      "image/png": "[encoded data removed]",
      "text/plain": [
       "<Figure size 720x432 with 1 Axes>"
      ]
     },
     "metadata": {
      "needs_background": "light"
     },
     "output_type": "display_data"
    },
    {
     "name": "stdout",
     "output_type": "stream",
     "text": [
      "\n",
      "                      country  age_group  average_suicide\n",
      "293                     Japan  75+ years          1844.88\n",
      "587  United States of America  75+ years          1559.44\n",
      "209                   Germany  75+ years           965.56\n",
      "191                    France  75+ years           886.70\n",
      "437         Republic of Korea  75+ years           781.16\n",
      "569                   Ukraine  75+ years           442.83\n",
      "281                     Italy  75+ years           387.16\n",
      "509                     Spain  75+ years           335.78\n",
      "77                     Brazil  75+ years           186.72\n",
      "251                   Hungary  75+ years           181.68\n"
     ]
    },
    {
     "data": {
      "image/png": "[encoded data removed]",
      "text/plain": [
       "<Figure size 720x432 with 1 Axes>"
      ]
     },
     "metadata": {
      "needs_background": "light"
     },
     "output_type": "display_data"
    },
    {
     "name": "stdout",
     "output_type": "stream",
     "text": [
      "\n"
     ]
    }
   ],
   "source": [
    "for age_group in average_df['age_group'].unique():\n",
    "    topten = average_df.loc[average_df['age_group'] == age_group].sort_values(by=['average_suicide']).tail(10)\n",
    "    print(average_df.loc[average_df['age_group'] == age_group].sort_values(by=['average_suicide'], ascending=False).head(10))\n",
    "    plt.figure(figsize=(10,6))\n",
    "    plt.barh(topten['country'], topten['average_suicide'])\n",
    "    plt.title(f'10 countries with the highest suicide rates of age: {age_group}')\n",
    "    plt.show()\n",
    "    print()"
   ]
  },
  {
   "cell_type": "markdown",
   "metadata": {},
   "source": [
    "### 10 countries with the lowest suicide rates for different age groups"
   ]
  },
  {
   "cell_type": "code",
   "execution_count": 54,
   "metadata": {},
   "outputs": [
    {
     "name": "stdout",
     "output_type": "stream",
     "text": [
      "                          country    age_group  average_suicide\n",
      "0             Antigua and Barbuda  15-24 years             0.00\n",
      "354                       Mayotte  15-24 years             0.00\n",
      "216                       Grenada  15-24 years             0.03\n",
      "48                       Barbados  15-24 years             0.04\n",
      "18                          Aruba  15-24 years             0.25\n",
      "330                      Maldives  15-24 years             0.30\n",
      "606          Virgin Islands (USA)  15-24 years             0.36\n",
      "474                    Seychelles  15-24 years             0.37\n",
      "78              Brunei Darussalam  15-24 years             0.38\n",
      "462  Saint Vincent and Grenadines  15-24 years             0.50\n"
     ]
    },
    {
     "data": {
      "image/png": "[encoded data removed]",
      "text/plain": [
       "<Figure size 720x432 with 1 Axes>"
      ]
     },
     "metadata": {
      "needs_background": "light"
     },
     "output_type": "display_data"
    },
    {
     "name": "stdout",
     "output_type": "stream",
     "text": [
      "\n",
      "                          country    age_group  average_suicide\n",
      "1             Antigua and Barbuda  25-34 years             0.00\n",
      "217                       Grenada  25-34 years             0.16\n",
      "49                       Barbados  25-34 years             0.21\n",
      "355                       Mayotte  25-34 years             0.25\n",
      "331                      Maldives  25-34 years             0.25\n",
      "37                        Bahamas  25-34 years             0.36\n",
      "475                    Seychelles  25-34 years             0.60\n",
      "463  Saint Vincent and Grenadines  25-34 years             0.66\n",
      "19                          Aruba  25-34 years             0.66\n",
      "607          Virgin Islands (USA)  25-34 years             0.75\n"
     ]
    },
    {
     "data": {
      "image/png": "[encoded data removed]",
      "text/plain": [
       "<Figure size 720x432 with 1 Axes>"
      ]
     },
     "metadata": {
      "needs_background": "light"
     },
     "output_type": "display_data"
    },
    {
     "name": "stdout",
     "output_type": "stream",
     "text": [
      "\n",
      "                          country    age_group  average_suicide\n",
      "218                       Grenada  35-54 years             0.16\n",
      "2             Antigua and Barbuda  35-54 years             0.18\n",
      "332                      Maldives  35-54 years             0.30\n",
      "356                       Mayotte  35-54 years             0.38\n",
      "50                       Barbados  35-54 years             0.79\n",
      "464  Saint Vincent and Grenadines  35-54 years             1.03\n",
      "38                        Bahamas  35-54 years             1.04\n",
      "80              Brunei Darussalam  35-54 years             1.12\n",
      "476                    Seychelles  35-54 years             1.37\n",
      "20                          Aruba  35-54 years             1.38\n"
     ]
    },
    {
     "data": {
      "image/png": "[encoded data removed]",
      "text/plain": [
       "<Figure size 720x432 with 1 Axes>"
      ]
     },
     "metadata": {
      "needs_background": "light"
     },
     "output_type": "display_data"
    },
    {
     "name": "stdout",
     "output_type": "stream",
     "text": [
      "\n",
      "                  country   age_group  average_suicide\n",
      "3     Antigua and Barbuda  5-14 years             0.00\n",
      "399                  Oman  5-14 years             0.00\n",
      "357               Mayotte  5-14 years             0.00\n",
      "219               Grenada  5-14 years             0.00\n",
      "135                Cyprus  5-14 years             0.00\n",
      "51               Barbados  5-14 years             0.00\n",
      "477            Seychelles  5-14 years             0.03\n",
      "21                  Aruba  5-14 years             0.03\n",
      "81      Brunei Darussalam  5-14 years             0.03\n",
      "609  Virgin Islands (USA)  5-14 years             0.04\n"
     ]
    },
    {
     "data": {
      "image/png": "[encoded data removed]",
      "text/plain": [
       "<Figure size 720x432 with 1 Axes>"
      ]
     },
     "metadata": {
      "needs_background": "light"
     },
     "output_type": "display_data"
    },
    {
     "name": "stdout",
     "output_type": "stream",
     "text": [
      "\n",
      "                          country    age_group  average_suicide\n",
      "358                       Mayotte  55-74 years             0.00\n",
      "334                      Maldives  55-74 years             0.00\n",
      "82              Brunei Darussalam  55-74 years             0.06\n",
      "52                       Barbados  55-74 years             0.11\n",
      "4             Antigua and Barbuda  55-74 years             0.14\n",
      "466  Saint Vincent and Grenadines  55-74 years             0.19\n",
      "220                       Grenada  55-74 years             0.19\n",
      "40                        Bahamas  55-74 years             0.21\n",
      "400                          Oman  55-74 years             0.33\n",
      "478                    Seychelles  55-74 years             0.37\n"
     ]
    },
    {
     "data": {
      "image/png": "[encoded data removed]",
      "text/plain": [
       "<Figure size 720x432 with 1 Axes>"
      ]
     },
     "metadata": {
      "needs_background": "light"
     },
     "output_type": "display_data"
    },
    {
     "name": "stdout",
     "output_type": "stream",
     "text": [
      "\n",
      "                  country  age_group  average_suicide\n",
      "5     Antigua and Barbuda  75+ years             0.00\n",
      "47                Bahrain  75+ years             0.00\n",
      "305                Kuwait  75+ years             0.00\n",
      "221               Grenada  75+ years             0.03\n",
      "41                Bahamas  75+ years             0.04\n",
      "431                 Qatar  75+ years             0.04\n",
      "335              Maldives  75+ years             0.05\n",
      "83      Brunei Darussalam  75+ years             0.06\n",
      "53               Barbados  75+ years             0.07\n",
      "575  United Arab Emirates  75+ years             0.08\n"
     ]
    },
    {
     "data": {
      "image/png": "[encoded data removed]",
      "text/plain": [
       "<Figure size 720x432 with 1 Axes>"
      ]
     },
     "metadata": {
      "needs_background": "light"
     },
     "output_type": "display_data"
    },
    {
     "name": "stdout",
     "output_type": "stream",
     "text": [
      "\n"
     ]
    }
   ],
   "source": [
    "for age_group in average_df['age_group'].unique():\n",
    "    bottomten = average_df.loc[average_df['age_group'] == age_group].sort_values(by=['average_suicide']).head(10)\n",
    "    print(average_df.loc[average_df['age_group'] == age_group].sort_values(by=['average_suicide']).head(10))\n",
    "    plt.figure(figsize=(10,6))\n",
    "    plt.barh(bottomten['country'], bottomten['average_suicide'])\n",
    "    plt.title(f'10 countries with the lowest suicide rates of age: {age_group}')\n",
    "    plt.show()\n",
    "    print()"
   ]
  }
 ],
 "metadata": {
  "kernelspec": {
   "display_name": "Python 3",
   "language": "python",
   "name": "python3"
  },
  "language_info": {
   "codemirror_mode": {
    "name": "ipython",
    "version": 3
   },
   "file_extension": ".py",
   "mimetype": "text/x-python",
   "name": "python",
   "nbconvert_exporter": "python",
   "pygments_lexer": "ipython3",
   "version": "3.8.3"
  }
 },
 "nbformat": 4,
 "nbformat_minor": 4
}
