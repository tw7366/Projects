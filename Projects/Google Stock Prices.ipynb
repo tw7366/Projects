{
 "cells": [
  {
   "cell_type": "code",
   "execution_count": 1,
   "metadata": {},
   "outputs": [],
   "source": [
    "import pandas as pd\n",
    "import numpy as np\n",
    "from sklearn import preprocessing, model_selection\n",
    "from sklearn.linear_model import LinearRegression\n",
    "from matplotlib import pyplot as plt\n",
    "import datetime"
   ]
  },
  {
   "cell_type": "code",
   "execution_count": 2,
   "metadata": {},
   "outputs": [
    {
     "data": {
      "text/html": [
       "<div>\n",
       "<style scoped>\n",
       "    .dataframe tbody tr th:only-of-type {\n",
       "        vertical-align: middle;\n",
       "    }\n",
       "\n",
       "    .dataframe tbody tr th {\n",
       "        vertical-align: top;\n",
       "    }\n",
       "\n",
       "    .dataframe thead th {\n",
       "        text-align: right;\n",
       "    }\n",
       "</style>\n",
       "<table border=\"1\" class=\"dataframe\">\n",
       "  <thead>\n",
       "    <tr style=\"text-align: right;\">\n",
       "      <th></th>\n",
       "      <th>Date</th>\n",
       "      <th>Open</th>\n",
       "      <th>High</th>\n",
       "      <th>Low</th>\n",
       "      <th>Close</th>\n",
       "      <th>Adj Close</th>\n",
       "      <th>Volume</th>\n",
       "    </tr>\n",
       "  </thead>\n",
       "  <tbody>\n",
       "    <tr>\n",
       "      <th>749</th>\n",
       "      <td>2020-07-29</td>\n",
       "      <td>1506.319946</td>\n",
       "      <td>1531.251953</td>\n",
       "      <td>1501.329956</td>\n",
       "      <td>1522.020020</td>\n",
       "      <td>1522.020020</td>\n",
       "      <td>1106500</td>\n",
       "    </tr>\n",
       "    <tr>\n",
       "      <th>750</th>\n",
       "      <td>2020-07-30</td>\n",
       "      <td>1497.000000</td>\n",
       "      <td>1537.869995</td>\n",
       "      <td>1492.219971</td>\n",
       "      <td>1531.449951</td>\n",
       "      <td>1531.449951</td>\n",
       "      <td>1671400</td>\n",
       "    </tr>\n",
       "    <tr>\n",
       "      <th>751</th>\n",
       "      <td>2020-07-31</td>\n",
       "      <td>1505.010010</td>\n",
       "      <td>1508.949951</td>\n",
       "      <td>1454.030029</td>\n",
       "      <td>1482.959961</td>\n",
       "      <td>1482.959961</td>\n",
       "      <td>3439900</td>\n",
       "    </tr>\n",
       "    <tr>\n",
       "      <th>752</th>\n",
       "      <td>2020-08-03</td>\n",
       "      <td>1486.640015</td>\n",
       "      <td>1490.469971</td>\n",
       "      <td>1465.640015</td>\n",
       "      <td>1474.449951</td>\n",
       "      <td>1474.449951</td>\n",
       "      <td>2330200</td>\n",
       "    </tr>\n",
       "    <tr>\n",
       "      <th>753</th>\n",
       "      <td>2020-08-04</td>\n",
       "      <td>1476.569946</td>\n",
       "      <td>1485.560059</td>\n",
       "      <td>1458.650024</td>\n",
       "      <td>1464.969971</td>\n",
       "      <td>1464.969971</td>\n",
       "      <td>1902200</td>\n",
       "    </tr>\n",
       "  </tbody>\n",
       "</table>\n",
       "</div>"
      ],
      "text/plain": [
       "           Date         Open         High          Low        Close  \\\n",
       "749  2020-07-29  1506.319946  1531.251953  1501.329956  1522.020020   \n",
       "750  2020-07-30  1497.000000  1537.869995  1492.219971  1531.449951   \n",
       "751  2020-07-31  1505.010010  1508.949951  1454.030029  1482.959961   \n",
       "752  2020-08-03  1486.640015  1490.469971  1465.640015  1474.449951   \n",
       "753  2020-08-04  1476.569946  1485.560059  1458.650024  1464.969971   \n",
       "\n",
       "       Adj Close   Volume  \n",
       "749  1522.020020  1106500  \n",
       "750  1531.449951  1671400  \n",
       "751  1482.959961  3439900  \n",
       "752  1474.449951  2330200  \n",
       "753  1464.969971  1902200  "
      ]
     },
     "execution_count": 2,
     "metadata": {},
     "output_type": "execute_result"
    }
   ],
   "source": [
    "df = pd.read_csv('GOOG.csv', delimiter=',')\n",
    "df.tail()"
   ]
  },
  {
   "cell_type": "code",
   "execution_count": 3,
   "metadata": {},
   "outputs": [
    {
     "name": "stdout",
     "output_type": "stream",
     "text": [
      "True\n"
     ]
    }
   ],
   "source": [
    "# Close and Adj Close hold the same values\n",
    "for item1, item2 in zip(df['Close'], df['Adj Close']):\n",
    "    result = (item1 == item2)\n",
    "print(result)"
   ]
  },
  {
   "cell_type": "code",
   "execution_count": 4,
   "metadata": {},
   "outputs": [],
   "source": [
    "df['Pct_Change'] = (df['Close'] - df['Open']) / df['Open']*100"
   ]
  },
  {
   "cell_type": "code",
   "execution_count": 5,
   "metadata": {},
   "outputs": [
    {
     "data": {
      "text/plain": [
       "Date          0\n",
       "Open          0\n",
       "High          0\n",
       "Low           0\n",
       "Close         0\n",
       "Adj Close     0\n",
       "Volume        0\n",
       "Pct_Change    0\n",
       "dtype: int64"
      ]
     },
     "execution_count": 5,
     "metadata": {},
     "output_type": "execute_result"
    }
   ],
   "source": [
    "df.isnull().sum()"
   ]
  },
  {
   "cell_type": "code",
   "execution_count": 6,
   "metadata": {},
   "outputs": [],
   "source": [
    "df_copy = df.copy()[['Close', 'Pct_Change']]"
   ]
  },
  {
   "cell_type": "code",
   "execution_count": 7,
   "metadata": {},
   "outputs": [
    {
     "name": "stdout",
     "output_type": "stream",
     "text": [
      "           Close  Pct_Change  Prediction\n",
      "0     929.359985    0.032289  926.960022\n",
      "1     926.789978   -0.032365  910.979980\n",
      "2     922.900024    0.248752  910.669983\n",
      "3     907.239990   -1.123644  906.659973\n",
      "4     914.390015    0.707077  924.690002\n",
      "..           ...         ...         ...\n",
      "749  1522.020020    1.042280         NaN\n",
      "750  1531.449951    2.301266         NaN\n",
      "751  1482.959961   -1.465110         NaN\n",
      "752  1474.449951   -0.819974         NaN\n",
      "753  1464.969971   -0.785603         NaN\n",
      "\n",
      "[754 rows x 3 columns]\n"
     ]
    }
   ],
   "source": [
    "# Forecast 7 days into the future\n",
    "forecast_col = 'Close'\n",
    "forecast_out = 7\n",
    "df_copy['Prediction'] = df[forecast_col].shift(-forecast_out)\n",
    "print(df_copy)"
   ]
  },
  {
   "cell_type": "code",
   "execution_count": 8,
   "metadata": {},
   "outputs": [
    {
     "name": "stdout",
     "output_type": "stream",
     "text": [
      "Accuracy of the model is 0.8896907729251312\n"
     ]
    }
   ],
   "source": [
    "# x is features to predict y, y is the price prediction\n",
    "x = np.array(df_copy.drop(['Prediction'], 1))\n",
    "x = preprocessing.scale(x)\n",
    "x_recent = x[-forecast_out:]\n",
    "x = x[:-forecast_out]\n",
    "\n",
    "y = np.array(df_copy['Prediction'])\n",
    "y = y[:-forecast_out]\n",
    "\n",
    "x_train, x_test, y_train, y_test = model_selection.train_test_split(x, y, test_size=0.2)\n",
    "linear = LinearRegression()\n",
    "linear.fit(x,y)\n",
    "print(f\"Accuracy of the model is {linear.score(x_test, y_test)}\")"
   ]
  },
  {
   "cell_type": "code",
   "execution_count": 9,
   "metadata": {},
   "outputs": [
    {
     "data": {
      "text/html": [
       "<div>\n",
       "<style scoped>\n",
       "    .dataframe tbody tr th:only-of-type {\n",
       "        vertical-align: middle;\n",
       "    }\n",
       "\n",
       "    .dataframe tbody tr th {\n",
       "        vertical-align: top;\n",
       "    }\n",
       "\n",
       "    .dataframe thead th {\n",
       "        text-align: right;\n",
       "    }\n",
       "</style>\n",
       "<table border=\"1\" class=\"dataframe\">\n",
       "  <thead>\n",
       "    <tr style=\"text-align: right;\">\n",
       "      <th></th>\n",
       "      <th>Close</th>\n",
       "      <th>Pct_Change</th>\n",
       "      <th>Prediction</th>\n",
       "    </tr>\n",
       "  </thead>\n",
       "  <tbody>\n",
       "    <tr>\n",
       "      <th>749</th>\n",
       "      <td>1522.020020</td>\n",
       "      <td>1.042280</td>\n",
       "      <td>NaN</td>\n",
       "    </tr>\n",
       "    <tr>\n",
       "      <th>750</th>\n",
       "      <td>1531.449951</td>\n",
       "      <td>2.301266</td>\n",
       "      <td>NaN</td>\n",
       "    </tr>\n",
       "    <tr>\n",
       "      <th>751</th>\n",
       "      <td>1482.959961</td>\n",
       "      <td>-1.465110</td>\n",
       "      <td>NaN</td>\n",
       "    </tr>\n",
       "    <tr>\n",
       "      <th>752</th>\n",
       "      <td>1474.449951</td>\n",
       "      <td>-0.819974</td>\n",
       "      <td>NaN</td>\n",
       "    </tr>\n",
       "    <tr>\n",
       "      <th>753</th>\n",
       "      <td>1464.969971</td>\n",
       "      <td>-0.785603</td>\n",
       "      <td>NaN</td>\n",
       "    </tr>\n",
       "  </tbody>\n",
       "</table>\n",
       "</div>"
      ],
      "text/plain": [
       "           Close  Pct_Change  Prediction\n",
       "749  1522.020020    1.042280         NaN\n",
       "750  1531.449951    2.301266         NaN\n",
       "751  1482.959961   -1.465110         NaN\n",
       "752  1474.449951   -0.819974         NaN\n",
       "753  1464.969971   -0.785603         NaN"
      ]
     },
     "execution_count": 9,
     "metadata": {},
     "output_type": "execute_result"
    }
   ],
   "source": [
    "df_copy.tail()"
   ]
  },
  {
   "cell_type": "code",
   "execution_count": 10,
   "metadata": {},
   "outputs": [
    {
     "name": "stdout",
     "output_type": "stream",
     "text": [
      "[1517.40294728 1491.86292623 1509.52699906 1517.10176667 1475.13350757\n",
      " 1466.31224851 1457.24825841]\n"
     ]
    }
   ],
   "source": [
    "forecast = linear.predict(x_recent)\n",
    "print(forecast)"
   ]
  },
  {
   "cell_type": "code",
   "execution_count": 15,
   "metadata": {},
   "outputs": [
    {
     "name": "stdout",
     "output_type": "stream",
     "text": [
      "Original Table \n",
      "           Date        Close\n",
      "756  2020-08-07  1509.526999\n",
      "757  2020-08-08  1517.101767\n",
      "758  2020-08-09  1475.133508\n",
      "759  2020-08-10  1466.312249\n",
      "760  2020-08-11  1457.248258\n",
      "\n",
      "Prediction Table \n",
      "        Date        Close\n",
      "0 2020-08-05  1517.402947\n",
      "1 2020-08-06  1491.862926\n",
      "2 2020-08-07  1509.526999\n",
      "3 2020-08-08  1517.101767\n",
      "4 2020-08-09  1475.133508\n",
      "5 2020-08-10  1466.312249\n",
      "6 2020-08-11  1457.248258\n"
     ]
    }
   ],
   "source": [
    "# Now I got predicted values for the next 7 days, let's prepare to plot the data \n",
    "df = df[['Date', 'Close']]\n",
    "\n",
    "forecast_date = pd.date_range('2020-08-05', periods=forecast_out, freq='D')\n",
    "predict_df = pd.DataFrame({'Date':forecast_date, \"Close\":forecast})\n",
    "print(f'Original Table \\n{df.tail()}')\n",
    "print()\n",
    "print(f'Prediction Table \\n{predict_df}')"
   ]
  }
 ],
 "metadata": {
  "kernelspec": {
   "display_name": "Python 3",
   "language": "python",
   "name": "python3"
  },
  "language_info": {
   "codemirror_mode": {
    "name": "ipython",
    "version": 3
   },
   "file_extension": ".py",
   "mimetype": "text/x-python",
   "name": "python",
   "nbconvert_exporter": "python",
   "pygments_lexer": "ipython3",
   "version": "3.8.3"
  }
 },
 "nbformat": 4,
 "nbformat_minor": 4
}
