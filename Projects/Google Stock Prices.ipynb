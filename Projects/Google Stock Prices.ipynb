{
 "cells": [
  {
   "cell_type": "code",
   "execution_count": 1,
   "metadata": {},
   "outputs": [],
   "source": [
    "import pandas as pd\n",
    "import numpy as np\n",
    "from sklearn import preprocessing, model_selection\n",
    "from sklearn.linear_model import LinearRegression\n",
    "from matplotlib import pyplot as plt\n",
    "from collections import Counter, OrderedDict\n",
    "import math"
   ]
  },
  {
   "cell_type": "code",
   "execution_count": 2,
   "metadata": {},
   "outputs": [
    {
     "data": {
      "text/html": [
       "<div>\n",
       "<style scoped>\n",
       "    .dataframe tbody tr th:only-of-type {\n",
       "        vertical-align: middle;\n",
       "    }\n",
       "\n",
       "    .dataframe tbody tr th {\n",
       "        vertical-align: top;\n",
       "    }\n",
       "\n",
       "    .dataframe thead th {\n",
       "        text-align: right;\n",
       "    }\n",
       "</style>\n",
       "<table border=\"1\" class=\"dataframe\">\n",
       "  <thead>\n",
       "    <tr style=\"text-align: right;\">\n",
       "      <th></th>\n",
       "      <th>Date</th>\n",
       "      <th>Open</th>\n",
       "      <th>High</th>\n",
       "      <th>Low</th>\n",
       "      <th>Close</th>\n",
       "      <th>Adj Close</th>\n",
       "      <th>Volume</th>\n",
       "    </tr>\n",
       "  </thead>\n",
       "  <tbody>\n",
       "    <tr>\n",
       "      <th>0</th>\n",
       "      <td>2019-08-05</td>\n",
       "      <td>1170.040039</td>\n",
       "      <td>1175.239990</td>\n",
       "      <td>1140.140015</td>\n",
       "      <td>1152.319946</td>\n",
       "      <td>1152.319946</td>\n",
       "      <td>2597500</td>\n",
       "    </tr>\n",
       "    <tr>\n",
       "      <th>1</th>\n",
       "      <td>2019-08-06</td>\n",
       "      <td>1163.310059</td>\n",
       "      <td>1179.959961</td>\n",
       "      <td>1160.000000</td>\n",
       "      <td>1169.949951</td>\n",
       "      <td>1169.949951</td>\n",
       "      <td>1709400</td>\n",
       "    </tr>\n",
       "    <tr>\n",
       "      <th>2</th>\n",
       "      <td>2019-08-07</td>\n",
       "      <td>1156.000000</td>\n",
       "      <td>1178.444946</td>\n",
       "      <td>1149.624023</td>\n",
       "      <td>1173.989990</td>\n",
       "      <td>1173.989990</td>\n",
       "      <td>1444300</td>\n",
       "    </tr>\n",
       "    <tr>\n",
       "      <th>3</th>\n",
       "      <td>2019-08-08</td>\n",
       "      <td>1182.829956</td>\n",
       "      <td>1205.010010</td>\n",
       "      <td>1173.020020</td>\n",
       "      <td>1204.800049</td>\n",
       "      <td>1204.800049</td>\n",
       "      <td>1468000</td>\n",
       "    </tr>\n",
       "    <tr>\n",
       "      <th>4</th>\n",
       "      <td>2019-08-09</td>\n",
       "      <td>1197.989990</td>\n",
       "      <td>1203.880005</td>\n",
       "      <td>1183.603027</td>\n",
       "      <td>1188.010010</td>\n",
       "      <td>1188.010010</td>\n",
       "      <td>1065700</td>\n",
       "    </tr>\n",
       "    <tr>\n",
       "      <th>5</th>\n",
       "      <td>2019-08-12</td>\n",
       "      <td>1179.209961</td>\n",
       "      <td>1184.959961</td>\n",
       "      <td>1167.671997</td>\n",
       "      <td>1174.709961</td>\n",
       "      <td>1174.709961</td>\n",
       "      <td>1003000</td>\n",
       "    </tr>\n",
       "    <tr>\n",
       "      <th>6</th>\n",
       "      <td>2019-08-13</td>\n",
       "      <td>1171.459961</td>\n",
       "      <td>1204.780029</td>\n",
       "      <td>1171.459961</td>\n",
       "      <td>1197.270020</td>\n",
       "      <td>1197.270020</td>\n",
       "      <td>1294400</td>\n",
       "    </tr>\n",
       "    <tr>\n",
       "      <th>7</th>\n",
       "      <td>2019-08-14</td>\n",
       "      <td>1176.310059</td>\n",
       "      <td>1182.300049</td>\n",
       "      <td>1160.540039</td>\n",
       "      <td>1164.290039</td>\n",
       "      <td>1164.290039</td>\n",
       "      <td>1578700</td>\n",
       "    </tr>\n",
       "    <tr>\n",
       "      <th>8</th>\n",
       "      <td>2019-08-15</td>\n",
       "      <td>1163.500000</td>\n",
       "      <td>1175.839966</td>\n",
       "      <td>1162.109985</td>\n",
       "      <td>1167.260010</td>\n",
       "      <td>1167.260010</td>\n",
       "      <td>1218700</td>\n",
       "    </tr>\n",
       "    <tr>\n",
       "      <th>9</th>\n",
       "      <td>2019-08-16</td>\n",
       "      <td>1179.550049</td>\n",
       "      <td>1182.719971</td>\n",
       "      <td>1171.810059</td>\n",
       "      <td>1177.599976</td>\n",
       "      <td>1177.599976</td>\n",
       "      <td>1313300</td>\n",
       "    </tr>\n",
       "  </tbody>\n",
       "</table>\n",
       "</div>"
      ],
      "text/plain": [
       "         Date         Open         High          Low        Close  \\\n",
       "0  2019-08-05  1170.040039  1175.239990  1140.140015  1152.319946   \n",
       "1  2019-08-06  1163.310059  1179.959961  1160.000000  1169.949951   \n",
       "2  2019-08-07  1156.000000  1178.444946  1149.624023  1173.989990   \n",
       "3  2019-08-08  1182.829956  1205.010010  1173.020020  1204.800049   \n",
       "4  2019-08-09  1197.989990  1203.880005  1183.603027  1188.010010   \n",
       "5  2019-08-12  1179.209961  1184.959961  1167.671997  1174.709961   \n",
       "6  2019-08-13  1171.459961  1204.780029  1171.459961  1197.270020   \n",
       "7  2019-08-14  1176.310059  1182.300049  1160.540039  1164.290039   \n",
       "8  2019-08-15  1163.500000  1175.839966  1162.109985  1167.260010   \n",
       "9  2019-08-16  1179.550049  1182.719971  1171.810059  1177.599976   \n",
       "\n",
       "     Adj Close   Volume  \n",
       "0  1152.319946  2597500  \n",
       "1  1169.949951  1709400  \n",
       "2  1173.989990  1444300  \n",
       "3  1204.800049  1468000  \n",
       "4  1188.010010  1065700  \n",
       "5  1174.709961  1003000  \n",
       "6  1197.270020  1294400  \n",
       "7  1164.290039  1578700  \n",
       "8  1167.260010  1218700  \n",
       "9  1177.599976  1313300  "
      ]
     },
     "execution_count": 2,
     "metadata": {},
     "output_type": "execute_result"
    }
   ],
   "source": [
    "df = pd.read_csv('GOOG.csv', delimiter=',')\n",
    "df.head(10)"
   ]
  },
  {
   "cell_type": "code",
   "execution_count": 3,
   "metadata": {},
   "outputs": [
    {
     "name": "stdout",
     "output_type": "stream",
     "text": [
      "True\n"
     ]
    }
   ],
   "source": [
    "# Close and Adj Close hold the same values\n",
    "for item1, item2 in zip(df['Close'], df['Adj Close']):\n",
    "    result = (item1 == item2)\n",
    "print(result)"
   ]
  },
  {
   "cell_type": "code",
   "execution_count": 4,
   "metadata": {},
   "outputs": [],
   "source": [
    "df['Pct_Change'] = (df['Close'] - df['Open']) / df['Open']*100\n",
    "df.set_index('Date', drop=True, inplace=True)"
   ]
  },
  {
   "cell_type": "code",
   "execution_count": 5,
   "metadata": {},
   "outputs": [
    {
     "data": {
      "text/html": [
       "<div>\n",
       "<style scoped>\n",
       "    .dataframe tbody tr th:only-of-type {\n",
       "        vertical-align: middle;\n",
       "    }\n",
       "\n",
       "    .dataframe tbody tr th {\n",
       "        vertical-align: top;\n",
       "    }\n",
       "\n",
       "    .dataframe thead th {\n",
       "        text-align: right;\n",
       "    }\n",
       "</style>\n",
       "<table border=\"1\" class=\"dataframe\">\n",
       "  <thead>\n",
       "    <tr style=\"text-align: right;\">\n",
       "      <th></th>\n",
       "      <th>Open</th>\n",
       "      <th>High</th>\n",
       "      <th>Low</th>\n",
       "      <th>Close</th>\n",
       "      <th>Adj Close</th>\n",
       "      <th>Volume</th>\n",
       "      <th>Pct_Change</th>\n",
       "    </tr>\n",
       "    <tr>\n",
       "      <th>Date</th>\n",
       "      <th></th>\n",
       "      <th></th>\n",
       "      <th></th>\n",
       "      <th></th>\n",
       "      <th></th>\n",
       "      <th></th>\n",
       "      <th></th>\n",
       "    </tr>\n",
       "  </thead>\n",
       "  <tbody>\n",
       "    <tr>\n",
       "      <th>2019-08-05</th>\n",
       "      <td>1170.040039</td>\n",
       "      <td>1175.239990</td>\n",
       "      <td>1140.140015</td>\n",
       "      <td>1152.319946</td>\n",
       "      <td>1152.319946</td>\n",
       "      <td>2597500</td>\n",
       "      <td>-1.514486</td>\n",
       "    </tr>\n",
       "    <tr>\n",
       "      <th>2019-08-06</th>\n",
       "      <td>1163.310059</td>\n",
       "      <td>1179.959961</td>\n",
       "      <td>1160.000000</td>\n",
       "      <td>1169.949951</td>\n",
       "      <td>1169.949951</td>\n",
       "      <td>1709400</td>\n",
       "      <td>0.570776</td>\n",
       "    </tr>\n",
       "    <tr>\n",
       "      <th>2019-08-07</th>\n",
       "      <td>1156.000000</td>\n",
       "      <td>1178.444946</td>\n",
       "      <td>1149.624023</td>\n",
       "      <td>1173.989990</td>\n",
       "      <td>1173.989990</td>\n",
       "      <td>1444300</td>\n",
       "      <td>1.556228</td>\n",
       "    </tr>\n",
       "    <tr>\n",
       "      <th>2019-08-08</th>\n",
       "      <td>1182.829956</td>\n",
       "      <td>1205.010010</td>\n",
       "      <td>1173.020020</td>\n",
       "      <td>1204.800049</td>\n",
       "      <td>1204.800049</td>\n",
       "      <td>1468000</td>\n",
       "      <td>1.857418</td>\n",
       "    </tr>\n",
       "    <tr>\n",
       "      <th>2019-08-09</th>\n",
       "      <td>1197.989990</td>\n",
       "      <td>1203.880005</td>\n",
       "      <td>1183.603027</td>\n",
       "      <td>1188.010010</td>\n",
       "      <td>1188.010010</td>\n",
       "      <td>1065700</td>\n",
       "      <td>-0.833060</td>\n",
       "    </tr>\n",
       "  </tbody>\n",
       "</table>\n",
       "</div>"
      ],
      "text/plain": [
       "                   Open         High          Low        Close    Adj Close  \\\n",
       "Date                                                                          \n",
       "2019-08-05  1170.040039  1175.239990  1140.140015  1152.319946  1152.319946   \n",
       "2019-08-06  1163.310059  1179.959961  1160.000000  1169.949951  1169.949951   \n",
       "2019-08-07  1156.000000  1178.444946  1149.624023  1173.989990  1173.989990   \n",
       "2019-08-08  1182.829956  1205.010010  1173.020020  1204.800049  1204.800049   \n",
       "2019-08-09  1197.989990  1203.880005  1183.603027  1188.010010  1188.010010   \n",
       "\n",
       "             Volume  Pct_Change  \n",
       "Date                             \n",
       "2019-08-05  2597500   -1.514486  \n",
       "2019-08-06  1709400    0.570776  \n",
       "2019-08-07  1444300    1.556228  \n",
       "2019-08-08  1468000    1.857418  \n",
       "2019-08-09  1065700   -0.833060  "
      ]
     },
     "execution_count": 5,
     "metadata": {},
     "output_type": "execute_result"
    }
   ],
   "source": [
    "df.head(5)"
   ]
  },
  {
   "cell_type": "code",
   "execution_count": 6,
   "metadata": {},
   "outputs": [
    {
     "data": {
      "text/plain": [
       "Open          0\n",
       "High          0\n",
       "Low           0\n",
       "Close         0\n",
       "Adj Close     0\n",
       "Volume        0\n",
       "Pct_Change    0\n",
       "dtype: int64"
      ]
     },
     "execution_count": 6,
     "metadata": {},
     "output_type": "execute_result"
    }
   ],
   "source": [
    "df.isnull().sum()"
   ]
  },
  {
   "cell_type": "code",
   "execution_count": 7,
   "metadata": {},
   "outputs": [],
   "source": [
    "df = df[['Close', 'Pct_Change', 'Volume']]"
   ]
  },
  {
   "cell_type": "code",
   "execution_count": 8,
   "metadata": {},
   "outputs": [
    {
     "name": "stdout",
     "output_type": "stream",
     "text": [
      "                  Close  Pct_Change   Volume        Label\n",
      "Date                                                     \n",
      "2019-08-05  1152.319946   -1.514486  2597500  1204.800049\n",
      "2019-08-06  1169.949951    0.570776  1709400  1188.010010\n",
      "2019-08-07  1173.989990    1.556228  1444300  1174.709961\n",
      "2019-08-08  1204.800049    1.857418  1468000  1197.270020\n",
      "2019-08-09  1188.010010   -0.833060  1065700  1164.290039\n",
      "...                 ...         ...      ...          ...\n",
      "2020-07-28  1500.339966   -1.628666  1702200  1482.959961\n",
      "2020-07-29  1522.020020    1.042280  1106500  1474.449951\n",
      "2020-07-30  1531.449951    2.301266  1671400          NaN\n",
      "2020-07-31  1482.959961   -1.465110  3439900          NaN\n",
      "2020-08-03  1474.449951   -0.819974  2330200          NaN\n",
      "\n",
      "[252 rows x 4 columns]\n"
     ]
    }
   ],
   "source": [
    "# Forecast 1% of the date in the future\n",
    "forecast_col = 'Close'\n",
    "forecast_out = math.ceil(0.01*len(df))\n",
    "df['Label'] = df[forecast_col].shift(-forecast_out)\n",
    "print(df)"
   ]
  },
  {
   "cell_type": "code",
   "execution_count": 12,
   "metadata": {},
   "outputs": [
    {
     "name": "stdout",
     "output_type": "stream",
     "text": [
      "Accuracy of the model is 0.9137561761002061\n"
     ]
    }
   ],
   "source": [
    "# x is features to predict y, y is the price prediction\n",
    "df.dropna(inplace=True)\n",
    "x = np.array(df.drop(['Label'], 1))\n",
    "x = preprocessing.scale(x)\n",
    "y = np.array(df['Label'])\n",
    "x_train, x_test, y_train, y_test = model_selection.train_test_split(x, y, test_size=0.3)\n",
    "linear = LinearRegression()\n",
    "linear.fit(x,y)\n",
    "print(f\"Accuracy of the model is {linear.score(x_test, y_test)}\")"
   ]
  }
 ],
 "metadata": {
  "kernelspec": {
   "display_name": "Python 3",
   "language": "python",
   "name": "python3"
  },
  "language_info": {
   "codemirror_mode": {
    "name": "ipython",
    "version": 3
   },
   "file_extension": ".py",
   "mimetype": "text/x-python",
   "name": "python",
   "nbconvert_exporter": "python",
   "pygments_lexer": "ipython3",
   "version": "3.8.3"
  }
 },
 "nbformat": 4,
 "nbformat_minor": 4
}
