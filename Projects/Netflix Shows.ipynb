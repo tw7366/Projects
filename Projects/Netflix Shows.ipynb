{
 "cells": [
  {
   "cell_type": "code",
   "execution_count": 1,
   "metadata": {},
   "outputs": [],
   "source": [
    "import pandas as pd\n",
    "import numpy as np\n",
    "from matplotlib import pyplot as plt"
   ]
  },
  {
   "cell_type": "code",
   "execution_count": 7,
   "metadata": {},
   "outputs": [
    {
     "name": "stdout",
     "output_type": "stream",
     "text": [
      "(6234, 12)\n",
      "Index(['show_id', 'type', 'title', 'director', 'cast', 'country', 'date_added',\n",
      "       'release_year', 'rating', 'duration', 'listed_in', 'description'],\n",
      "      dtype='object')\n",
      "show_id            0\n",
      "type               0\n",
      "title              0\n",
      "director        1969\n",
      "cast             570\n",
      "country          476\n",
      "date_added        11\n",
      "release_year       0\n",
      "rating            10\n",
      "duration           0\n",
      "listed_in          0\n",
      "description        0\n",
      "dtype: int64\n",
      "show_id          int64\n",
      "type            object\n",
      "title           object\n",
      "director        object\n",
      "cast            object\n",
      "country         object\n",
      "date_added      object\n",
      "release_year     int64\n",
      "rating          object\n",
      "duration        object\n",
      "listed_in       object\n",
      "description     object\n",
      "dtype: object\n"
     ]
    }
   ],
   "source": [
    "netflix_df = pd.read_csv('netflix_titles.csv')\n",
    "print(netflix_df.shape)\n",
    "print(netflix_df.columns)\n",
    "print(netflix_df.isnull().sum())\n",
    "print(netflix_df.dtypes)"
   ]
  },
  {
   "cell_type": "code",
   "execution_count": 3,
   "metadata": {},
   "outputs": [
    {
     "name": "stdout",
     "output_type": "stream",
     "text": [
      "show_id            0\n",
      "type               0\n",
      "title              0\n",
      "director        1969\n",
      "cast             570\n",
      "country          476\n",
      "date_added        11\n",
      "release_year       0\n",
      "rating             0\n",
      "duration           0\n",
      "listed_in          0\n",
      "description        0\n",
      "dtype: int64\n"
     ]
    },
    {
     "name": "stderr",
     "output_type": "stream",
     "text": [
      "c:\\users\\taewoo\\appdata\\local\\programs\\python\\python38\\lib\\site-packages\\pandas\\core\\frame.py:4147: SettingWithCopyWarning: \n",
      "A value is trying to be set on a copy of a slice from a DataFrame\n",
      "\n",
      "See the caveats in the documentation: https://pandas.pydata.org/pandas-docs/stable/user_guide/indexing.html#returning-a-view-versus-a-copy\n",
      "  return super().fillna(\n"
     ]
    }
   ],
   "source": [
    "df.fillna(df.dtypes.replace({'float64': 0.0, 'O': 'NULL'}), downcast='infer', inplace=True)\n",
    "print(netflix_df.isnull().sum())"
   ]
  }
 ],
 "metadata": {
  "kernelspec": {
   "display_name": "Python 3",
   "language": "python",
   "name": "python3"
  },
  "language_info": {
   "codemirror_mode": {
    "name": "ipython",
    "version": 3
   },
   "file_extension": ".py",
   "mimetype": "text/x-python",
   "name": "python",
   "nbconvert_exporter": "python",
   "pygments_lexer": "ipython3",
   "version": "3.8.3"
  }
 },
 "nbformat": 4,
 "nbformat_minor": 4
}
