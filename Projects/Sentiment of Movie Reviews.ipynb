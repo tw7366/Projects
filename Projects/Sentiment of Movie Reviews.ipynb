{
 "cells": [
  {
   "cell_type": "code",
   "execution_count": 1,
   "metadata": {},
   "outputs": [],
   "source": [
    "from tensorflow.keras.preprocessing.text import Tokenizer\n",
    "from tensorflow.keras.preprocessing.sequence import pad_sequences\n",
    "from tensorflow import keras\n",
    "import tensorflow as tf\n",
    "import pandas as pd\n",
    "import numpy as np\n",
    "import re\n",
    "from sklearn import preprocessing"
   ]
  },
  {
   "cell_type": "code",
   "execution_count": 2,
   "metadata": {},
   "outputs": [
    {
     "name": "stdout",
     "output_type": "stream",
     "text": [
      "One of the other reviewers has mentioned that after watching just 1 Oz episode you'll be hooked. They are right, as this is exactly what happened with me.<br /><br />The first thing that struck me about Oz was its brutality and unflinching scenes of violence, which set in right from the word GO. Trust me, this is not a show for the faint hearted or timid. This show pulls no punches with regards to drugs, sex or violence. Its is hardcore, in the classic use of the word.<br /><br />It is called OZ as that is the nickname given to the Oswald Maximum Security State Penitentary. It focuses mainly on Emerald City, an experimental section of the prison where all the cells have glass fronts and face inwards, so privacy is not high on the agenda. Em City is home to many..Aryans, Muslims, gangstas, Latinos, Christians, Italians, Irish and more....so scuffles, death stares, dodgy dealings and shady agreements are never far away.<br /><br />I would say the main appeal of the show is due to the fact that it goes where other shows wouldn't dare. Forget pretty pictures painted for mainstream audiences, forget charm, forget romance...OZ doesn't mess around. The first episode I ever saw struck me as so nasty it was surreal, I couldn't say I was ready for it, but as I watched more, I developed a taste for Oz, and got accustomed to the high levels of graphic violence. Not just violence, but injustice (crooked guards who'll be sold out for a nickel, inmates who'll kill on order and get away with it, well mannered, middle class inmates being turned into prison bitches due to their lack of street skills or prison experience) Watching Oz, you may become comfortable with what is uncomfortable viewing....thats if you can get in touch with your darker side.\n"
     ]
    }
   ],
   "source": [
    "reviews_df = pd.read_csv(r'C:\\Users\\taewoo\\Desktop\\Datasets\\IMDB Dataset.csv')\n",
    "reviews = np.array(reviews_df['review'])\n",
    "sentiment = np.array(reviews_df['sentiment'])\n",
    "print(reviews[0])"
   ]
  },
  {
   "cell_type": "code",
   "execution_count": 3,
   "metadata": {},
   "outputs": [
    {
     "name": "stdout",
     "output_type": "stream",
     "text": [
      "one of the other reviewers has mentioned that after watching just 1 oz episode you'll be hooked they are right as this is exactly what happened with me the first thing that struck me about oz was its brutality and unflinching scenes of violence which set in right from the word go trust me this is not a show for the faint hearted or timid this show pulls no punches with regards to drugs sex or violence its is hardcore in the classic use of the word it is called oz as that is the nickname given to the oswald maximum security state penitentary it focuses mainly on emerald city an experimental section of the prison where all the cells have glass fronts and face inwards so privacy is not high on the agenda em city is home to manyaryans muslims gangstas latinos christians italians irish and moreso scuffles death stares dodgy dealings and shady agreements are never far away i would say the main appeal of the show is due to the fact that it goes where other shows wouldn't dare forget pretty pictures painted for mainstream audiences forget charm forget romanceoz doesn't mess around the first episode i ever saw struck me as so nasty it was surreal i couldn't say i was ready for it but as i watched more i developed a taste for oz and got accustomed to the high levels of graphic violence not just violence but injustice crooked guards who'll be sold out for a nickel inmates who'll kill on order and get away with it well mannered middle class inmates being turned into prison bitches due to their lack of street skills or prison experience watching oz you may become comfortable with what is uncomfortable viewingthats if you can get in touch with your darker side\n"
     ]
    }
   ],
   "source": [
    "def preprocess_review(review_list):\n",
    "    \"\"\"\n",
    "    param: a list of string\n",
    "    return: a list of string\n",
    "    preprocess reviews by changing all alphabets to lowercase, removing punctuations, and cleaning html leftover code\n",
    "    \"\"\"\n",
    "    for i, review in enumerate(review_list):\n",
    "        review = review.replace('<br /><br />', ' ')\n",
    "        review = review.lower()\n",
    "        review = re.sub(r\"[^A-Za-z0-9' ]+\", '', review)\n",
    "        review_list[i] = review\n",
    "    return review_list\n",
    "\n",
    "preprocessed_reviews = preprocess_review(reviews)\n",
    "print(preprocessed_reviews[0])"
   ]
  },
  {
   "cell_type": "code",
   "execution_count": null,
   "metadata": {},
   "outputs": [
    {
     "name": "stdout",
     "output_type": "stream",
     "text": [
      "Epoch 1/20\n",
      "1407/1407 [==============================] - 6s 4ms/step - loss: 0.6932 - accuracy: 0.4999\n",
      "Epoch 2/20\n",
      "1407/1407 [==============================] - 6s 4ms/step - loss: 0.6932 - accuracy: 0.4993\n",
      "Epoch 3/20\n",
      "1407/1407 [==============================] - 6s 4ms/step - loss: 0.6932 - accuracy: 0.4993\n",
      "Epoch 4/20\n",
      "1407/1407 [==============================] - 6s 4ms/step - loss: 0.6932 - accuracy: 0.4993\n",
      "Epoch 5/20\n",
      "1407/1407 [==============================] - 6s 4ms/step - loss: 0.6932 - accuracy: 0.4993\n",
      "Epoch 6/20\n",
      "1407/1407 [==============================] - 6s 4ms/step - loss: 0.6932 - accuracy: 0.4993\n",
      "Epoch 7/20\n",
      "1407/1407 [==============================] - 6s 4ms/step - loss: 0.6932 - accuracy: 0.4993\n",
      "Epoch 8/20\n",
      "1407/1407 [==============================] - 6s 4ms/step - loss: 0.6932 - accuracy: 0.4993\n",
      "Epoch 9/20\n",
      "1191/1407 [========================>.....] - ETA: 0s - loss: 0.6932 - accuracy: 0.4976"
     ]
    }
   ],
   "source": [
    "tokenizer = Tokenizer(oov_token='<OOV>')  # for the unknown words\n",
    "tokenizer.fit_on_texts(preprocessed_reviews)\n",
    "\n",
    "# for reviews\n",
    "sequences = tokenizer.texts_to_sequences(preprocessed_reviews)  # tokenizer.word_index to see indexes\n",
    "padded_sequences = pad_sequences(sequences, padding='post')  # pad sequences with 0s \n",
    "normal_sequences = preprocessing.normalize(padded_sequences)  # normalize data\n",
    "\n",
    "# for sentiment\n",
    "sentiment = [1 if x=='positive' else 0 for x in sentiment]\n",
    "\n",
    "############## have to change test_sample_size indexing here, i'm only using 1407 instead of 9000\n",
    "# separate data to train & test sets\n",
    "test_sample_size = int(0.1*len(normal_sequences))  # 10% of data as the test set\n",
    "X_test, X_train = (np.array(normal_sequences[:test_sample_size]), \n",
    "                   np.array(normal_sequences[test_sample_size:])\n",
    ")\n",
    "\n",
    "y_test, y_train = (np.array(sentiment[:test_sample_size]), \n",
    "                   np.array(sentiment[test_sample_size:])\n",
    ")\n",
    "\n",
    "vocab_count = (X_train.shape)[1]\n",
    "\n",
    "# build a model\n",
    "model = keras.models.Sequential()\n",
    "model.add(keras.layers.Embedding(input_dim=vocab_count, output_dim=2))\n",
    "model.add(keras.layers.GlobalAveragePooling1D())\n",
    "model.add(keras.layers.Dense(32, activation='relu'))  # hidden layer\n",
    "model.add(keras.layers.Dense(1, activation='softmax'))  # output layer\n",
    "\n",
    "model.compile(optimizer='adam',\n",
    "              loss='binary_crossentropy',\n",
    "              metrics=['accuracy'])\n",
    "\n",
    "model.fit(X_train, y_train, epochs=20)"
   ]
  },
  {
   "cell_type": "code",
   "execution_count": null,
   "metadata": {},
   "outputs": [],
   "source": [
    "print(len(X_test))\n",
    "print(len(X_train))\n",
    "print(len(y_train))"
   ]
  }
 ],
 "metadata": {
  "kernelspec": {
   "display_name": "Python 3",
   "language": "python",
   "name": "python3"
  },
  "language_info": {
   "codemirror_mode": {
    "name": "ipython",
    "version": 3
   },
   "file_extension": ".py",
   "mimetype": "text/x-python",
   "name": "python",
   "nbconvert_exporter": "python",
   "pygments_lexer": "ipython3",
   "version": "3.8.3"
  }
 },
 "nbformat": 4,
 "nbformat_minor": 4
}
