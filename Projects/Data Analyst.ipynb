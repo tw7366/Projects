{
 "cells": [
  {
   "cell_type": "code",
   "execution_count": 1,
   "metadata": {},
   "outputs": [],
   "source": [
    "import numpy as np\n",
    "import pandas as pd\n",
    "import matplotlib.pyplot as plt\n",
    "import seaborn as sns"
   ]
  },
  {
   "cell_type": "code",
   "execution_count": 2,
   "metadata": {},
   "outputs": [
    {
     "data": {
      "text/html": [
       "<div>\n",
       "<style scoped>\n",
       "    .dataframe tbody tr th:only-of-type {\n",
       "        vertical-align: middle;\n",
       "    }\n",
       "\n",
       "    .dataframe tbody tr th {\n",
       "        vertical-align: top;\n",
       "    }\n",
       "\n",
       "    .dataframe thead th {\n",
       "        text-align: right;\n",
       "    }\n",
       "</style>\n",
       "<table border=\"1\" class=\"dataframe\">\n",
       "  <thead>\n",
       "    <tr style=\"text-align: right;\">\n",
       "      <th></th>\n",
       "      <th>Unnamed: 0</th>\n",
       "      <th>Job Title</th>\n",
       "      <th>Salary Estimate</th>\n",
       "      <th>Job Description</th>\n",
       "      <th>Rating</th>\n",
       "      <th>Company Name</th>\n",
       "      <th>Location</th>\n",
       "      <th>Headquarters</th>\n",
       "      <th>Size</th>\n",
       "      <th>Founded</th>\n",
       "      <th>Type of ownership</th>\n",
       "      <th>Industry</th>\n",
       "      <th>Sector</th>\n",
       "      <th>Revenue</th>\n",
       "      <th>Competitors</th>\n",
       "      <th>Easy Apply</th>\n",
       "    </tr>\n",
       "  </thead>\n",
       "  <tbody>\n",
       "    <tr>\n",
       "      <th>0</th>\n",
       "      <td>0</td>\n",
       "      <td>Data Analyst, Center on Immigration and Justic...</td>\n",
       "      <td>$37K-$66K (Glassdoor est.)</td>\n",
       "      <td>Are you eager to roll up your sleeves and harn...</td>\n",
       "      <td>3.2</td>\n",
       "      <td>Vera Institute of Justice\\n3.2</td>\n",
       "      <td>New York, NY</td>\n",
       "      <td>New York, NY</td>\n",
       "      <td>201 to 500 employees</td>\n",
       "      <td>1961</td>\n",
       "      <td>Nonprofit Organization</td>\n",
       "      <td>Social Assistance</td>\n",
       "      <td>Non-Profit</td>\n",
       "      <td>$100 to $500 million (USD)</td>\n",
       "      <td>-1</td>\n",
       "      <td>True</td>\n",
       "    </tr>\n",
       "    <tr>\n",
       "      <th>1</th>\n",
       "      <td>1</td>\n",
       "      <td>Quality Data Analyst</td>\n",
       "      <td>$37K-$66K (Glassdoor est.)</td>\n",
       "      <td>Overview\\n\\nProvides analytical and technical ...</td>\n",
       "      <td>3.8</td>\n",
       "      <td>Visiting Nurse Service of New York\\n3.8</td>\n",
       "      <td>New York, NY</td>\n",
       "      <td>New York, NY</td>\n",
       "      <td>10000+ employees</td>\n",
       "      <td>1893</td>\n",
       "      <td>Nonprofit Organization</td>\n",
       "      <td>Health Care Services &amp; Hospitals</td>\n",
       "      <td>Health Care</td>\n",
       "      <td>$2 to $5 billion (USD)</td>\n",
       "      <td>-1</td>\n",
       "      <td>-1</td>\n",
       "    </tr>\n",
       "    <tr>\n",
       "      <th>2</th>\n",
       "      <td>2</td>\n",
       "      <td>Senior Data Analyst, Insights &amp; Analytics Team...</td>\n",
       "      <td>$37K-$66K (Glassdoor est.)</td>\n",
       "      <td>We’re looking for a Senior Data Analyst who ha...</td>\n",
       "      <td>3.4</td>\n",
       "      <td>Squarespace\\n3.4</td>\n",
       "      <td>New York, NY</td>\n",
       "      <td>New York, NY</td>\n",
       "      <td>1001 to 5000 employees</td>\n",
       "      <td>2003</td>\n",
       "      <td>Company - Private</td>\n",
       "      <td>Internet</td>\n",
       "      <td>Information Technology</td>\n",
       "      <td>Unknown / Non-Applicable</td>\n",
       "      <td>GoDaddy</td>\n",
       "      <td>-1</td>\n",
       "    </tr>\n",
       "    <tr>\n",
       "      <th>3</th>\n",
       "      <td>3</td>\n",
       "      <td>Data Analyst</td>\n",
       "      <td>$37K-$66K (Glassdoor est.)</td>\n",
       "      <td>Requisition NumberRR-0001939\\nRemote:Yes\\nWe c...</td>\n",
       "      <td>4.1</td>\n",
       "      <td>Celerity\\n4.1</td>\n",
       "      <td>New York, NY</td>\n",
       "      <td>McLean, VA</td>\n",
       "      <td>201 to 500 employees</td>\n",
       "      <td>2002</td>\n",
       "      <td>Subsidiary or Business Segment</td>\n",
       "      <td>IT Services</td>\n",
       "      <td>Information Technology</td>\n",
       "      <td>$50 to $100 million (USD)</td>\n",
       "      <td>-1</td>\n",
       "      <td>-1</td>\n",
       "    </tr>\n",
       "    <tr>\n",
       "      <th>4</th>\n",
       "      <td>4</td>\n",
       "      <td>Reporting Data Analyst</td>\n",
       "      <td>$37K-$66K (Glassdoor est.)</td>\n",
       "      <td>ABOUT FANDUEL GROUP\\n\\nFanDuel Group is a worl...</td>\n",
       "      <td>3.9</td>\n",
       "      <td>FanDuel\\n3.9</td>\n",
       "      <td>New York, NY</td>\n",
       "      <td>New York, NY</td>\n",
       "      <td>501 to 1000 employees</td>\n",
       "      <td>2009</td>\n",
       "      <td>Company - Private</td>\n",
       "      <td>Sports &amp; Recreation</td>\n",
       "      <td>Arts, Entertainment &amp; Recreation</td>\n",
       "      <td>$100 to $500 million (USD)</td>\n",
       "      <td>DraftKings</td>\n",
       "      <td>True</td>\n",
       "    </tr>\n",
       "    <tr>\n",
       "      <th>5</th>\n",
       "      <td>5</td>\n",
       "      <td>Data Analyst</td>\n",
       "      <td>$37K-$66K (Glassdoor est.)</td>\n",
       "      <td>About Cubist\\nCubist Systematic Strategies is ...</td>\n",
       "      <td>3.9</td>\n",
       "      <td>Point72\\n3.9</td>\n",
       "      <td>New York, NY</td>\n",
       "      <td>Stamford, CT</td>\n",
       "      <td>1001 to 5000 employees</td>\n",
       "      <td>2014</td>\n",
       "      <td>Company - Private</td>\n",
       "      <td>Investment Banking &amp; Asset Management</td>\n",
       "      <td>Finance</td>\n",
       "      <td>Unknown / Non-Applicable</td>\n",
       "      <td>-1</td>\n",
       "      <td>-1</td>\n",
       "    </tr>\n",
       "    <tr>\n",
       "      <th>6</th>\n",
       "      <td>6</td>\n",
       "      <td>Business/Data Analyst (FP&amp;A)</td>\n",
       "      <td>$37K-$66K (Glassdoor est.)</td>\n",
       "      <td>Two Sigma is a different kind of investment ma...</td>\n",
       "      <td>4.4</td>\n",
       "      <td>Two Sigma\\n4.4</td>\n",
       "      <td>New York, NY</td>\n",
       "      <td>New York, NY</td>\n",
       "      <td>1001 to 5000 employees</td>\n",
       "      <td>2001</td>\n",
       "      <td>Company - Private</td>\n",
       "      <td>Investment Banking &amp; Asset Management</td>\n",
       "      <td>Finance</td>\n",
       "      <td>Unknown / Non-Applicable</td>\n",
       "      <td>-1</td>\n",
       "      <td>-1</td>\n",
       "    </tr>\n",
       "    <tr>\n",
       "      <th>7</th>\n",
       "      <td>7</td>\n",
       "      <td>Data Science Analyst</td>\n",
       "      <td>$37K-$66K (Glassdoor est.)</td>\n",
       "      <td>Data Science Analyst\\n\\nJob Details\\nLevel\\nEx...</td>\n",
       "      <td>3.7</td>\n",
       "      <td>GNY Insurance Companies\\n3.7</td>\n",
       "      <td>New York, NY</td>\n",
       "      <td>New York, NY</td>\n",
       "      <td>201 to 500 employees</td>\n",
       "      <td>1914</td>\n",
       "      <td>Company - Private</td>\n",
       "      <td>Insurance Carriers</td>\n",
       "      <td>Insurance</td>\n",
       "      <td>$100 to $500 million (USD)</td>\n",
       "      <td>Travelers, Chubb, Crum &amp; Forster</td>\n",
       "      <td>True</td>\n",
       "    </tr>\n",
       "    <tr>\n",
       "      <th>8</th>\n",
       "      <td>8</td>\n",
       "      <td>Data Analyst</td>\n",
       "      <td>$37K-$66K (Glassdoor est.)</td>\n",
       "      <td>The Data Analyst is an integral member of the ...</td>\n",
       "      <td>4.0</td>\n",
       "      <td>DMGT\\n4.0</td>\n",
       "      <td>New York, NY</td>\n",
       "      <td>London, United Kingdom</td>\n",
       "      <td>5001 to 10000 employees</td>\n",
       "      <td>1896</td>\n",
       "      <td>Company - Public</td>\n",
       "      <td>Venture Capital &amp; Private Equity</td>\n",
       "      <td>Finance</td>\n",
       "      <td>$1 to $2 billion (USD)</td>\n",
       "      <td>Thomson Reuters, Hearst, Pearson</td>\n",
       "      <td>-1</td>\n",
       "    </tr>\n",
       "    <tr>\n",
       "      <th>9</th>\n",
       "      <td>9</td>\n",
       "      <td>Data Analyst, Merchant Health</td>\n",
       "      <td>$37K-$66K (Glassdoor est.)</td>\n",
       "      <td>About Us\\n\\nRiskified is the AI platform power...</td>\n",
       "      <td>4.4</td>\n",
       "      <td>Riskified\\n4.4</td>\n",
       "      <td>New York, NY</td>\n",
       "      <td>New York, NY</td>\n",
       "      <td>501 to 1000 employees</td>\n",
       "      <td>2013</td>\n",
       "      <td>Company - Private</td>\n",
       "      <td>Research &amp; Development</td>\n",
       "      <td>Business Services</td>\n",
       "      <td>Unknown / Non-Applicable</td>\n",
       "      <td>Signifyd, Forter</td>\n",
       "      <td>-1</td>\n",
       "    </tr>\n",
       "  </tbody>\n",
       "</table>\n",
       "</div>"
      ],
      "text/plain": [
       "   Unnamed: 0                                          Job Title  \\\n",
       "0           0  Data Analyst, Center on Immigration and Justic...   \n",
       "1           1                               Quality Data Analyst   \n",
       "2           2  Senior Data Analyst, Insights & Analytics Team...   \n",
       "3           3                                       Data Analyst   \n",
       "4           4                             Reporting Data Analyst   \n",
       "5           5                                       Data Analyst   \n",
       "6           6                       Business/Data Analyst (FP&A)   \n",
       "7           7                               Data Science Analyst   \n",
       "8           8                                       Data Analyst   \n",
       "9           9                      Data Analyst, Merchant Health   \n",
       "\n",
       "              Salary Estimate  \\\n",
       "0  $37K-$66K (Glassdoor est.)   \n",
       "1  $37K-$66K (Glassdoor est.)   \n",
       "2  $37K-$66K (Glassdoor est.)   \n",
       "3  $37K-$66K (Glassdoor est.)   \n",
       "4  $37K-$66K (Glassdoor est.)   \n",
       "5  $37K-$66K (Glassdoor est.)   \n",
       "6  $37K-$66K (Glassdoor est.)   \n",
       "7  $37K-$66K (Glassdoor est.)   \n",
       "8  $37K-$66K (Glassdoor est.)   \n",
       "9  $37K-$66K (Glassdoor est.)   \n",
       "\n",
       "                                     Job Description  Rating  \\\n",
       "0  Are you eager to roll up your sleeves and harn...     3.2   \n",
       "1  Overview\\n\\nProvides analytical and technical ...     3.8   \n",
       "2  We’re looking for a Senior Data Analyst who ha...     3.4   \n",
       "3  Requisition NumberRR-0001939\\nRemote:Yes\\nWe c...     4.1   \n",
       "4  ABOUT FANDUEL GROUP\\n\\nFanDuel Group is a worl...     3.9   \n",
       "5  About Cubist\\nCubist Systematic Strategies is ...     3.9   \n",
       "6  Two Sigma is a different kind of investment ma...     4.4   \n",
       "7  Data Science Analyst\\n\\nJob Details\\nLevel\\nEx...     3.7   \n",
       "8  The Data Analyst is an integral member of the ...     4.0   \n",
       "9  About Us\\n\\nRiskified is the AI platform power...     4.4   \n",
       "\n",
       "                              Company Name      Location  \\\n",
       "0           Vera Institute of Justice\\n3.2  New York, NY   \n",
       "1  Visiting Nurse Service of New York\\n3.8  New York, NY   \n",
       "2                         Squarespace\\n3.4  New York, NY   \n",
       "3                            Celerity\\n4.1  New York, NY   \n",
       "4                             FanDuel\\n3.9  New York, NY   \n",
       "5                             Point72\\n3.9  New York, NY   \n",
       "6                           Two Sigma\\n4.4  New York, NY   \n",
       "7             GNY Insurance Companies\\n3.7  New York, NY   \n",
       "8                                DMGT\\n4.0  New York, NY   \n",
       "9                           Riskified\\n4.4  New York, NY   \n",
       "\n",
       "             Headquarters                     Size  Founded  \\\n",
       "0            New York, NY     201 to 500 employees     1961   \n",
       "1            New York, NY         10000+ employees     1893   \n",
       "2            New York, NY   1001 to 5000 employees     2003   \n",
       "3              McLean, VA     201 to 500 employees     2002   \n",
       "4            New York, NY    501 to 1000 employees     2009   \n",
       "5            Stamford, CT   1001 to 5000 employees     2014   \n",
       "6            New York, NY   1001 to 5000 employees     2001   \n",
       "7            New York, NY     201 to 500 employees     1914   \n",
       "8  London, United Kingdom  5001 to 10000 employees     1896   \n",
       "9            New York, NY    501 to 1000 employees     2013   \n",
       "\n",
       "                Type of ownership                               Industry  \\\n",
       "0          Nonprofit Organization                      Social Assistance   \n",
       "1          Nonprofit Organization       Health Care Services & Hospitals   \n",
       "2               Company - Private                               Internet   \n",
       "3  Subsidiary or Business Segment                            IT Services   \n",
       "4               Company - Private                    Sports & Recreation   \n",
       "5               Company - Private  Investment Banking & Asset Management   \n",
       "6               Company - Private  Investment Banking & Asset Management   \n",
       "7               Company - Private                     Insurance Carriers   \n",
       "8                Company - Public       Venture Capital & Private Equity   \n",
       "9               Company - Private                 Research & Development   \n",
       "\n",
       "                             Sector                     Revenue  \\\n",
       "0                        Non-Profit  $100 to $500 million (USD)   \n",
       "1                       Health Care      $2 to $5 billion (USD)   \n",
       "2            Information Technology    Unknown / Non-Applicable   \n",
       "3            Information Technology   $50 to $100 million (USD)   \n",
       "4  Arts, Entertainment & Recreation  $100 to $500 million (USD)   \n",
       "5                           Finance    Unknown / Non-Applicable   \n",
       "6                           Finance    Unknown / Non-Applicable   \n",
       "7                         Insurance  $100 to $500 million (USD)   \n",
       "8                           Finance      $1 to $2 billion (USD)   \n",
       "9                 Business Services    Unknown / Non-Applicable   \n",
       "\n",
       "                        Competitors Easy Apply  \n",
       "0                                -1       True  \n",
       "1                                -1         -1  \n",
       "2                           GoDaddy         -1  \n",
       "3                                -1         -1  \n",
       "4                        DraftKings       True  \n",
       "5                                -1         -1  \n",
       "6                                -1         -1  \n",
       "7  Travelers, Chubb, Crum & Forster       True  \n",
       "8  Thomson Reuters, Hearst, Pearson         -1  \n",
       "9                  Signifyd, Forter         -1  "
      ]
     },
     "execution_count": 2,
     "metadata": {},
     "output_type": "execute_result"
    }
   ],
   "source": [
    "analyst = pd.read_csv(r'C:\\Users\\taewoo\\Desktop\\Datasets\\DataAnalyst.csv')\n",
    "analyst.head(10)"
   ]
  },
  {
   "cell_type": "code",
   "execution_count": 3,
   "metadata": {},
   "outputs": [
    {
     "name": "stdout",
     "output_type": "stream",
     "text": [
      "<class 'pandas.core.frame.DataFrame'>\n",
      "RangeIndex: 2253 entries, 0 to 2252\n",
      "Data columns (total 15 columns):\n",
      " #   Column             Non-Null Count  Dtype  \n",
      "---  ------             --------------  -----  \n",
      " 0   Job Title          2253 non-null   object \n",
      " 1   Salary Estimate    2253 non-null   object \n",
      " 2   Job Description    2253 non-null   object \n",
      " 3   Rating             2253 non-null   float64\n",
      " 4   Company Name       2252 non-null   object \n",
      " 5   Location           2253 non-null   object \n",
      " 6   Headquarters       2253 non-null   object \n",
      " 7   Size               2253 non-null   object \n",
      " 8   Founded            2253 non-null   int64  \n",
      " 9   Type of ownership  2253 non-null   object \n",
      " 10  Industry           2253 non-null   object \n",
      " 11  Sector             2253 non-null   object \n",
      " 12  Revenue            2253 non-null   object \n",
      " 13  Competitors        2253 non-null   object \n",
      " 14  Easy Apply         2253 non-null   object \n",
      "dtypes: float64(1), int64(1), object(13)\n",
      "memory usage: 264.1+ KB\n"
     ]
    }
   ],
   "source": [
    "analyst.drop(columns='Unnamed: 0', inplace=True)\n",
    "analyst.info()"
   ]
  },
  {
   "cell_type": "markdown",
   "metadata": {},
   "source": [
    "## Data Cleaning"
   ]
  },
  {
   "cell_type": "markdown",
   "metadata": {},
   "source": [
    "### Dealing with missing/NaN values"
   ]
  },
  {
   "cell_type": "markdown",
   "metadata": {},
   "source": [
    "It seems like NaN values are denoted as -1.\n",
    "\n",
    "For this exericse, I plan to investigate nan values in columns one by one on purpose to fully understand situational replacements."
   ]
  },
  {
   "cell_type": "code",
   "execution_count": 4,
   "metadata": {},
   "outputs": [
    {
     "data": {
      "text/plain": [
       "Job Title            0\n",
       "Salary Estimate      0\n",
       "Job Description      0\n",
       "Rating               0\n",
       "Company Name         1\n",
       "Location             0\n",
       "Headquarters         0\n",
       "Size                 0\n",
       "Founded              0\n",
       "Type of ownership    0\n",
       "Industry             0\n",
       "Sector               0\n",
       "Revenue              0\n",
       "Competitors          0\n",
       "Easy Apply           0\n",
       "dtype: int64"
      ]
     },
     "execution_count": 4,
     "metadata": {},
     "output_type": "execute_result"
    }
   ],
   "source": [
    "analyst.isnull().sum()"
   ]
  },
  {
   "cell_type": "code",
   "execution_count": 5,
   "metadata": {},
   "outputs": [
    {
     "data": {
      "text/html": [
       "<div>\n",
       "<style scoped>\n",
       "    .dataframe tbody tr th:only-of-type {\n",
       "        vertical-align: middle;\n",
       "    }\n",
       "\n",
       "    .dataframe tbody tr th {\n",
       "        vertical-align: top;\n",
       "    }\n",
       "\n",
       "    .dataframe thead th {\n",
       "        text-align: right;\n",
       "    }\n",
       "</style>\n",
       "<table border=\"1\" class=\"dataframe\">\n",
       "  <thead>\n",
       "    <tr style=\"text-align: right;\">\n",
       "      <th></th>\n",
       "      <th>Job Title</th>\n",
       "      <th>Salary Estimate</th>\n",
       "      <th>Job Description</th>\n",
       "      <th>Rating</th>\n",
       "      <th>Company Name</th>\n",
       "      <th>Location</th>\n",
       "      <th>Headquarters</th>\n",
       "      <th>Size</th>\n",
       "      <th>Founded</th>\n",
       "      <th>Type of ownership</th>\n",
       "      <th>Industry</th>\n",
       "      <th>Sector</th>\n",
       "      <th>Revenue</th>\n",
       "      <th>Competitors</th>\n",
       "      <th>Easy Apply</th>\n",
       "    </tr>\n",
       "  </thead>\n",
       "  <tbody>\n",
       "    <tr>\n",
       "      <th>1860</th>\n",
       "      <td>Data Analyst</td>\n",
       "      <td>$53K-$99K (Glassdoor est.)</td>\n",
       "      <td>Kindred at Home, part of the Kindred at Home f...</td>\n",
       "      <td>-1.0</td>\n",
       "      <td>NaN</td>\n",
       "      <td>Mooresville, NC</td>\n",
       "      <td>-1</td>\n",
       "      <td>-1</td>\n",
       "      <td>-1</td>\n",
       "      <td>-1</td>\n",
       "      <td>-1</td>\n",
       "      <td>-1</td>\n",
       "      <td>-1</td>\n",
       "      <td>-1</td>\n",
       "      <td>-1</td>\n",
       "    </tr>\n",
       "  </tbody>\n",
       "</table>\n",
       "</div>"
      ],
      "text/plain": [
       "         Job Title             Salary Estimate  \\\n",
       "1860  Data Analyst  $53K-$99K (Glassdoor est.)   \n",
       "\n",
       "                                        Job Description  Rating Company Name  \\\n",
       "1860  Kindred at Home, part of the Kindred at Home f...    -1.0          NaN   \n",
       "\n",
       "             Location Headquarters Size  Founded Type of ownership Industry  \\\n",
       "1860  Mooresville, NC           -1   -1       -1                -1       -1   \n",
       "\n",
       "     Sector Revenue Competitors Easy Apply  \n",
       "1860     -1      -1          -1         -1  "
      ]
     },
     "execution_count": 5,
     "metadata": {},
     "output_type": "execute_result"
    }
   ],
   "source": [
    "analyst.loc[analyst['Company Name'].isnull()]"
   ]
  },
  {
   "cell_type": "markdown",
   "metadata": {},
   "source": [
    "I was right, -1 indicates NaN values\n",
    "\n",
    "Row 1860 is missing too many values, so I'm dropping it"
   ]
  },
  {
   "cell_type": "code",
   "execution_count": 6,
   "metadata": {},
   "outputs": [],
   "source": [
    "analyst.drop(1860, inplace= True)\n",
    "analyst.reset_index(drop=True, inplace=True)"
   ]
  },
  {
   "cell_type": "code",
   "execution_count": 7,
   "metadata": {},
   "outputs": [
    {
     "name": "stdout",
     "output_type": "stream",
     "text": [
      "Job Title: 0\n",
      "Salary Estimate: 1\n",
      "Job Description: 0\n",
      "Rating: 271\n",
      "Company Name: 0\n",
      "Location: 0\n",
      "Headquarters: 171\n",
      "Size: 162\n",
      "Founded: 659\n",
      "Type of ownership: 162\n",
      "Industry: 352\n",
      "Sector: 352\n",
      "Revenue: 162\n",
      "Competitors: 1731\n",
      "Easy Apply: 2172\n"
     ]
    }
   ],
   "source": [
    "import warnings\n",
    "warnings.simplefilter(action='ignore', category=FutureWarning)\n",
    "\n",
    "for col in analyst.columns:\n",
    "    print(f\"{col}: {(analyst[col]==-1).sum() + (analyst[col]=='-1').sum()}\")"
   ]
  },
  {
   "cell_type": "markdown",
   "metadata": {},
   "source": [
    "##### Salary Estimate Column"
   ]
  },
  {
   "cell_type": "code",
   "execution_count": 8,
   "metadata": {},
   "outputs": [
    {
     "data": {
      "text/html": [
       "<div>\n",
       "<style scoped>\n",
       "    .dataframe tbody tr th:only-of-type {\n",
       "        vertical-align: middle;\n",
       "    }\n",
       "\n",
       "    .dataframe tbody tr th {\n",
       "        vertical-align: top;\n",
       "    }\n",
       "\n",
       "    .dataframe thead th {\n",
       "        text-align: right;\n",
       "    }\n",
       "</style>\n",
       "<table border=\"1\" class=\"dataframe\">\n",
       "  <thead>\n",
       "    <tr style=\"text-align: right;\">\n",
       "      <th></th>\n",
       "      <th>Job Title</th>\n",
       "      <th>Salary Estimate</th>\n",
       "      <th>Job Description</th>\n",
       "      <th>Rating</th>\n",
       "      <th>Company Name</th>\n",
       "      <th>Location</th>\n",
       "      <th>Headquarters</th>\n",
       "      <th>Size</th>\n",
       "      <th>Founded</th>\n",
       "      <th>Type of ownership</th>\n",
       "      <th>Industry</th>\n",
       "      <th>Sector</th>\n",
       "      <th>Revenue</th>\n",
       "      <th>Competitors</th>\n",
       "      <th>Easy Apply</th>\n",
       "    </tr>\n",
       "  </thead>\n",
       "  <tbody>\n",
       "    <tr>\n",
       "      <th>2148</th>\n",
       "      <td>Configuration/Data Management Analyst III</td>\n",
       "      <td>-1</td>\n",
       "      <td>Job Description\\nPosition Title: Configuration...</td>\n",
       "      <td>4.4</td>\n",
       "      <td>Protingent\\n4.4</td>\n",
       "      <td>Kent, WA</td>\n",
       "      <td>Bellevue, WA</td>\n",
       "      <td>51 to 200 employees</td>\n",
       "      <td>2001</td>\n",
       "      <td>Company - Private</td>\n",
       "      <td>Staffing &amp; Outsourcing</td>\n",
       "      <td>Business Services</td>\n",
       "      <td>$25 to $50 million (USD)</td>\n",
       "      <td>-1</td>\n",
       "      <td>-1</td>\n",
       "    </tr>\n",
       "  </tbody>\n",
       "</table>\n",
       "</div>"
      ],
      "text/plain": [
       "                                      Job Title Salary Estimate  \\\n",
       "2148  Configuration/Data Management Analyst III              -1   \n",
       "\n",
       "                                        Job Description  Rating  \\\n",
       "2148  Job Description\\nPosition Title: Configuration...     4.4   \n",
       "\n",
       "         Company Name  Location  Headquarters                 Size  Founded  \\\n",
       "2148  Protingent\\n4.4  Kent, WA  Bellevue, WA  51 to 200 employees     2001   \n",
       "\n",
       "      Type of ownership                Industry             Sector  \\\n",
       "2148  Company - Private  Staffing & Outsourcing  Business Services   \n",
       "\n",
       "                       Revenue Competitors Easy Apply  \n",
       "2148  $25 to $50 million (USD)          -1         -1  "
      ]
     },
     "execution_count": 8,
     "metadata": {},
     "output_type": "execute_result"
    }
   ],
   "source": [
    "analyst.loc[analyst['Salary Estimate'] == \"-1\"]"
   ]
  },
  {
   "cell_type": "code",
   "execution_count": 9,
   "metadata": {},
   "outputs": [
    {
     "data": {
      "text/html": [
       "<div>\n",
       "<style scoped>\n",
       "    .dataframe tbody tr th:only-of-type {\n",
       "        vertical-align: middle;\n",
       "    }\n",
       "\n",
       "    .dataframe tbody tr th {\n",
       "        vertical-align: top;\n",
       "    }\n",
       "\n",
       "    .dataframe thead th {\n",
       "        text-align: right;\n",
       "    }\n",
       "</style>\n",
       "<table border=\"1\" class=\"dataframe\">\n",
       "  <thead>\n",
       "    <tr style=\"text-align: right;\">\n",
       "      <th></th>\n",
       "      <th>Job Title</th>\n",
       "      <th>Salary Estimate</th>\n",
       "      <th>Job Description</th>\n",
       "      <th>Rating</th>\n",
       "      <th>Company Name</th>\n",
       "      <th>Location</th>\n",
       "      <th>Headquarters</th>\n",
       "      <th>Size</th>\n",
       "      <th>Founded</th>\n",
       "      <th>Type of ownership</th>\n",
       "      <th>Industry</th>\n",
       "      <th>Sector</th>\n",
       "      <th>Revenue</th>\n",
       "      <th>Competitors</th>\n",
       "      <th>Easy Apply</th>\n",
       "    </tr>\n",
       "  </thead>\n",
       "  <tbody>\n",
       "    <tr>\n",
       "      <th>1020</th>\n",
       "      <td>Marketing Data Analyst</td>\n",
       "      <td>$46K-$102K (Glassdoor est.)</td>\n",
       "      <td>Overview\\n\\n\\nAs a key member of the Analytics...</td>\n",
       "      <td>3.5</td>\n",
       "      <td>Efinancial\\n3.5</td>\n",
       "      <td>Tempe, AZ</td>\n",
       "      <td>Bellevue, WA</td>\n",
       "      <td>201 to 500 employees</td>\n",
       "      <td>2001</td>\n",
       "      <td>Company - Private</td>\n",
       "      <td>Insurance Agencies &amp; Brokerages</td>\n",
       "      <td>Insurance</td>\n",
       "      <td>$50 to $100 million (USD)</td>\n",
       "      <td>-1</td>\n",
       "      <td>-1</td>\n",
       "    </tr>\n",
       "    <tr>\n",
       "      <th>2112</th>\n",
       "      <td>Data Analyst II, QA</td>\n",
       "      <td>$35K-$67K (Glassdoor est.)</td>\n",
       "      <td>We are looking for someone that is highly moti...</td>\n",
       "      <td>4.2</td>\n",
       "      <td>iSpot.tv, Inc.\\n4.2</td>\n",
       "      <td>Bellevue, WA</td>\n",
       "      <td>Bellevue, WA</td>\n",
       "      <td>51 to 200 employees</td>\n",
       "      <td>-1</td>\n",
       "      <td>Company - Private</td>\n",
       "      <td>-1</td>\n",
       "      <td>-1</td>\n",
       "      <td>Unknown / Non-Applicable</td>\n",
       "      <td>-1</td>\n",
       "      <td>-1</td>\n",
       "    </tr>\n",
       "    <tr>\n",
       "      <th>2122</th>\n",
       "      <td>Engines Configuration and Data Management Analyst</td>\n",
       "      <td>$55K-$101K (Glassdoor est.)</td>\n",
       "      <td>Job Description\\nPosition Title: Engines Confi...</td>\n",
       "      <td>4.4</td>\n",
       "      <td>Protingent\\n4.4</td>\n",
       "      <td>Kent, WA</td>\n",
       "      <td>Bellevue, WA</td>\n",
       "      <td>51 to 200 employees</td>\n",
       "      <td>2001</td>\n",
       "      <td>Company - Private</td>\n",
       "      <td>Staffing &amp; Outsourcing</td>\n",
       "      <td>Business Services</td>\n",
       "      <td>$25 to $50 million (USD)</td>\n",
       "      <td>-1</td>\n",
       "      <td>-1</td>\n",
       "    </tr>\n",
       "    <tr>\n",
       "      <th>2136</th>\n",
       "      <td>Configuration/Data Management Analyst</td>\n",
       "      <td>$55K-$101K (Glassdoor est.)</td>\n",
       "      <td>Job Description\\nExciting space exploration en...</td>\n",
       "      <td>4.2</td>\n",
       "      <td>NuWest Group\\n4.2</td>\n",
       "      <td>Kent, WA</td>\n",
       "      <td>Bellevue, WA</td>\n",
       "      <td>51 to 200 employees</td>\n",
       "      <td>1990</td>\n",
       "      <td>Company - Private</td>\n",
       "      <td>Staffing &amp; Outsourcing</td>\n",
       "      <td>Business Services</td>\n",
       "      <td>$25 to $50 million (USD)</td>\n",
       "      <td>-1</td>\n",
       "      <td>-1</td>\n",
       "    </tr>\n",
       "    <tr>\n",
       "      <th>2145</th>\n",
       "      <td>Configuration and Data Management Analyst</td>\n",
       "      <td>$55K-$101K (Glassdoor est.)</td>\n",
       "      <td>Job Qualifications:BA/BS in a related technica...</td>\n",
       "      <td>4.4</td>\n",
       "      <td>Protingent Staffing\\n4.4</td>\n",
       "      <td>Renton, WA</td>\n",
       "      <td>Bellevue, WA</td>\n",
       "      <td>51 to 200 employees</td>\n",
       "      <td>2001</td>\n",
       "      <td>Company - Private</td>\n",
       "      <td>Staffing &amp; Outsourcing</td>\n",
       "      <td>Business Services</td>\n",
       "      <td>$25 to $50 million (USD)</td>\n",
       "      <td>-1</td>\n",
       "      <td>-1</td>\n",
       "    </tr>\n",
       "    <tr>\n",
       "      <th>2148</th>\n",
       "      <td>Configuration/Data Management Analyst III</td>\n",
       "      <td>-1</td>\n",
       "      <td>Job Description\\nPosition Title: Configuration...</td>\n",
       "      <td>4.4</td>\n",
       "      <td>Protingent\\n4.4</td>\n",
       "      <td>Kent, WA</td>\n",
       "      <td>Bellevue, WA</td>\n",
       "      <td>51 to 200 employees</td>\n",
       "      <td>2001</td>\n",
       "      <td>Company - Private</td>\n",
       "      <td>Staffing &amp; Outsourcing</td>\n",
       "      <td>Business Services</td>\n",
       "      <td>$25 to $50 million (USD)</td>\n",
       "      <td>-1</td>\n",
       "      <td>-1</td>\n",
       "    </tr>\n",
       "  </tbody>\n",
       "</table>\n",
       "</div>"
      ],
      "text/plain": [
       "                                              Job Title  \\\n",
       "1020                             Marketing Data Analyst   \n",
       "2112                                Data Analyst II, QA   \n",
       "2122  Engines Configuration and Data Management Analyst   \n",
       "2136              Configuration/Data Management Analyst   \n",
       "2145          Configuration and Data Management Analyst   \n",
       "2148          Configuration/Data Management Analyst III   \n",
       "\n",
       "                  Salary Estimate  \\\n",
       "1020  $46K-$102K (Glassdoor est.)   \n",
       "2112   $35K-$67K (Glassdoor est.)   \n",
       "2122  $55K-$101K (Glassdoor est.)   \n",
       "2136  $55K-$101K (Glassdoor est.)   \n",
       "2145  $55K-$101K (Glassdoor est.)   \n",
       "2148                           -1   \n",
       "\n",
       "                                        Job Description  Rating  \\\n",
       "1020  Overview\\n\\n\\nAs a key member of the Analytics...     3.5   \n",
       "2112  We are looking for someone that is highly moti...     4.2   \n",
       "2122  Job Description\\nPosition Title: Engines Confi...     4.4   \n",
       "2136  Job Description\\nExciting space exploration en...     4.2   \n",
       "2145  Job Qualifications:BA/BS in a related technica...     4.4   \n",
       "2148  Job Description\\nPosition Title: Configuration...     4.4   \n",
       "\n",
       "                  Company Name      Location  Headquarters  \\\n",
       "1020           Efinancial\\n3.5     Tempe, AZ  Bellevue, WA   \n",
       "2112       iSpot.tv, Inc.\\n4.2  Bellevue, WA  Bellevue, WA   \n",
       "2122           Protingent\\n4.4      Kent, WA  Bellevue, WA   \n",
       "2136         NuWest Group\\n4.2      Kent, WA  Bellevue, WA   \n",
       "2145  Protingent Staffing\\n4.4    Renton, WA  Bellevue, WA   \n",
       "2148           Protingent\\n4.4      Kent, WA  Bellevue, WA   \n",
       "\n",
       "                      Size  Founded  Type of ownership  \\\n",
       "1020  201 to 500 employees     2001  Company - Private   \n",
       "2112   51 to 200 employees       -1  Company - Private   \n",
       "2122   51 to 200 employees     2001  Company - Private   \n",
       "2136   51 to 200 employees     1990  Company - Private   \n",
       "2145   51 to 200 employees     2001  Company - Private   \n",
       "2148   51 to 200 employees     2001  Company - Private   \n",
       "\n",
       "                             Industry             Sector  \\\n",
       "1020  Insurance Agencies & Brokerages          Insurance   \n",
       "2112                               -1                 -1   \n",
       "2122           Staffing & Outsourcing  Business Services   \n",
       "2136           Staffing & Outsourcing  Business Services   \n",
       "2145           Staffing & Outsourcing  Business Services   \n",
       "2148           Staffing & Outsourcing  Business Services   \n",
       "\n",
       "                        Revenue Competitors Easy Apply  \n",
       "1020  $50 to $100 million (USD)          -1         -1  \n",
       "2112   Unknown / Non-Applicable          -1         -1  \n",
       "2122   $25 to $50 million (USD)          -1         -1  \n",
       "2136   $25 to $50 million (USD)          -1         -1  \n",
       "2145   $25 to $50 million (USD)          -1         -1  \n",
       "2148   $25 to $50 million (USD)          -1         -1  "
      ]
     },
     "execution_count": 9,
     "metadata": {},
     "output_type": "execute_result"
    }
   ],
   "source": [
    "analyst.loc[analyst['Headquarters'] == \"Bellevue, WA\"]"
   ]
  },
  {
   "cell_type": "code",
   "execution_count": 10,
   "metadata": {},
   "outputs": [
    {
     "data": {
      "text/plain": [
       "$35K-$42K (Glassdoor est.)     6\n",
       "$47K-$76K (Glassdoor est.)     4\n",
       "$60K-$124K (Glassdoor est.)    3\n",
       "$74K-$123K (Glassdoor est.)    2\n",
       "$98K-$114K (Glassdoor est.)    2\n",
       "Name: Salary Estimate, dtype: int64"
      ]
     },
     "execution_count": 10,
     "metadata": {},
     "output_type": "execute_result"
    }
   ],
   "source": [
    "analyst_3 = [i for i, job in enumerate(analyst['Job Title']) if 'Analyst III' in job]\n",
    "analyst.iloc[analyst_3]['Salary Estimate'].value_counts()[:5]"
   ]
  },
  {
   "cell_type": "code",
   "execution_count": 11,
   "metadata": {},
   "outputs": [],
   "source": [
    "# I think 55𝐾− 101K range is reasonable given the job's location\n",
    "analyst.at[2148, 'Salary Estimate'] = '55𝐾− 101K (Glassdoor est.)'"
   ]
  },
  {
   "cell_type": "markdown",
   "metadata": {},
   "source": [
    "##### Rating Column"
   ]
  },
  {
   "cell_type": "code",
   "execution_count": 12,
   "metadata": {},
   "outputs": [
    {
     "data": {
      "text/plain": [
       "0"
      ]
     },
     "execution_count": 12,
     "metadata": {},
     "output_type": "execute_result"
    }
   ],
   "source": [
    "nan_rating_ind = analyst.loc[analyst['Rating'] == -1].index\n",
    "# np.nan is a float, so it fulfills the adequacy\n",
    "analyst.at[nan_rating_ind, 'Rating'] = np.nan\n",
    "(analyst['Rating'] == -1).sum()"
   ]
  },
  {
   "cell_type": "markdown",
   "metadata": {},
   "source": [
    "##### Headquarters"
   ]
  },
  {
   "cell_type": "code",
   "execution_count": 13,
   "metadata": {},
   "outputs": [
    {
     "data": {
      "text/plain": [
       "0"
      ]
     },
     "execution_count": 13,
     "metadata": {},
     "output_type": "execute_result"
    }
   ],
   "source": [
    "nan_head_ind = analyst.loc[analyst['Headquarters'] == '-1'].index\n",
    "analyst.at[nan_head_ind, 'Headquarters'] = 'Unknown'\n",
    "(analyst['Headquarters'] == '-1').sum()"
   ]
  },
  {
   "cell_type": "markdown",
   "metadata": {},
   "source": [
    "##### Size"
   ]
  },
  {
   "cell_type": "code",
   "execution_count": 14,
   "metadata": {},
   "outputs": [],
   "source": [
    "# Size: 162\n",
    "# Founded: 659\n",
    "# Type of ownership: 162\n",
    "# Industry: 352\n",
    "# Sector: 352\n",
    "# Revenue: 162\n",
    "# Competitors: 1731\n",
    "# Easy Apply: 2172"
   ]
  },
  {
   "cell_type": "code",
   "execution_count": 15,
   "metadata": {},
   "outputs": [
    {
     "name": "stdout",
     "output_type": "stream",
     "text": [
      "Unique values of the size column \n",
      "['201 to 500 employees' '10000+ employees' '1001 to 5000 employees'\n",
      " '501 to 1000 employees' '5001 to 10000 employees' '1 to 50 employees'\n",
      " '51 to 200 employees' 'Unknown' '-1']\n",
      "162\n",
      "Unique values of the size column \n",
      "['201 to 500' '10000+' '1001 to 5000' '501 to 1000' '5001 to 10000'\n",
      " '1 to 50' '51 to 200' 'Uknown']\n",
      "0\n"
     ]
    }
   ],
   "source": [
    "print(f'Unique values of the size column \\n{analyst[\"Size\"].unique()}')\n",
    "print((analyst['Size'] == '-1').sum())\n",
    "# 'Unknown already exists'\n",
    "for i, size in enumerate(analyst['Size']):\n",
    "    if 'to' in size:\n",
    "        analyst.at[i ,'Size'] = size.replace('employees', '').strip()\n",
    "    elif '+' in size:\n",
    "         analyst.at[i ,'Size'] = size.split()[0]\n",
    "    else:\n",
    "         analyst.at[i ,'Size'] = 'Uknown'\n",
    "\n",
    "print(f'Unique values of the size column \\n{analyst[\"Size\"].unique()}')\n",
    "print((analyst['Size'] == '-1').sum())"
   ]
  },
  {
   "cell_type": "markdown",
   "metadata": {},
   "source": [
    "##### Founded Column"
   ]
  },
  {
   "cell_type": "code",
   "execution_count": 16,
   "metadata": {},
   "outputs": [
    {
     "name": "stdout",
     "output_type": "stream",
     "text": [
      "<IntegerArray>\n",
      "[1961, 1893, 2003, 2002, 2009, 2014, 2001, 1914, 1896, 2013,\n",
      " ...\n",
      " 1924, 1907, 1682, 1875, 1917, 1876, 1785, 1909, 1789, 1930]\n",
      "Length: 161, dtype: Int64\n",
      "0\n",
      "659\n"
     ]
    }
   ],
   "source": [
    "nan_founded_ind = analyst.loc[analyst['Founded'] == -1].index\n",
    "# adding np.nan changes the dtype of the column from int to float\n",
    "analyst.at[nan_founded_ind, 'Founded'] = np.nan\n",
    "analyst['Founded'] = analyst['Founded'].astype('Int64')\n",
    "\n",
    "print(analyst['Founded'].unique())\n",
    "print((analyst['Founded'] == -1).sum())\n",
    "print(analyst['Founded'].isnull().sum())"
   ]
  },
  {
   "cell_type": "markdown",
   "metadata": {},
   "source": [
    "##### Type of ownership Column"
   ]
  },
  {
   "cell_type": "code",
   "execution_count": 17,
   "metadata": {},
   "outputs": [
    {
     "name": "stdout",
     "output_type": "stream",
     "text": [
      "['Nonprofit Organization' 'Company - Private'\n",
      " 'Subsidiary or Business Segment' 'Company - Public' 'Hospital' 'Unknown'\n",
      " 'Contract' '-1' 'Government' 'School / School District'\n",
      " 'Other Organization' 'College / University' 'Self-employed'\n",
      " 'Private Practice / Firm' 'Franchise']\n",
      "['Nonprofit Organization' 'Company - Private'\n",
      " 'Subsidiary or Business Segment' 'Company - Public' 'Hospital' 'Unknown'\n",
      " 'Contract' 'Government' 'School / School District' 'Other Organization'\n",
      " 'College / University' 'Self-employed' 'Private Practice / Firm'\n",
      " 'Franchise']\n"
     ]
    }
   ],
   "source": [
    "print(analyst['Type of ownership'].unique())\n",
    "\n",
    "nan_ownership_ind = analyst.loc[analyst['Type of ownership'] == '-1'].index\n",
    "analyst.at[nan_ownership_ind, 'Type of ownership'] = 'Unknown'\n",
    "(analyst['Type of ownership'] == '-1').sum()\n",
    "\n",
    "print(analyst['Type of ownership'].unique())"
   ]
  },
  {
   "cell_type": "markdown",
   "metadata": {},
   "source": [
    "##### Industry & Sector Column"
   ]
  },
  {
   "cell_type": "code",
   "execution_count": 18,
   "metadata": {},
   "outputs": [
    {
     "name": "stdout",
     "output_type": "stream",
     "text": [
      "0\n",
      "0\n"
     ]
    }
   ],
   "source": [
    "# when missing industry, sector is also unknown\n",
    "nan_industry_ind = analyst.loc[analyst['Industry'] == '-1'].index\n",
    "analyst.at[nan_industry_ind, ['Industry', 'Sector']] = 'Unknown'\n",
    "print((analyst['Industry'] == '-1').sum())\n",
    "print((analyst['Sector'] == '-1').sum())"
   ]
  },
  {
   "cell_type": "markdown",
   "metadata": {},
   "source": [
    "##### Revenue Column"
   ]
  },
  {
   "cell_type": "code",
   "execution_count": 19,
   "metadata": {},
   "outputs": [
    {
     "name": "stdout",
     "output_type": "stream",
     "text": [
      "['$100 to $500 million (USD)' '$2 to $5 billion (USD)'\n",
      " 'Unknown / Non-Applicable' '$50 to $100 million (USD)'\n",
      " '$1 to $2 billion (USD)' '$5 to $10 billion (USD)'\n",
      " '$1 to $5 million (USD)' '$25 to $50 million (USD)' '$10+ billion (USD)'\n",
      " 'Less than $1 million (USD)' '$10 to $25 million (USD)' '-1'\n",
      " '$500 million to $1 billion (USD)' '$5 to $10 million (USD)']\n",
      "['$100 to $500 million (USD)' '$2 to $5 billion (USD)' 'Unknown'\n",
      " '$50 to $100 million (USD)' '$1 to $2 billion (USD)'\n",
      " '$5 to $10 billion (USD)' '$1 to $5 million (USD)'\n",
      " '$25 to $50 million (USD)' '$10+ billion (USD)'\n",
      " 'Less than $1 million (USD)' '$10 to $25 million (USD)'\n",
      " '$500 million to $1 billion (USD)' '$5 to $10 million (USD)']\n"
     ]
    }
   ],
   "source": [
    "print(analyst['Revenue'].unique())\n",
    "nan_revenue_ind = analyst.loc[(analyst['Revenue'] == '-1') | (analyst['Revenue'] == 'Unknown / Non-Applicable')].index\n",
    "analyst.at[nan_revenue_ind, 'Revenue'] = 'Unknown'\n",
    "\n",
    "print(analyst['Revenue'].unique())"
   ]
  },
  {
   "cell_type": "markdown",
   "metadata": {},
   "source": [
    "##### Competitors Column"
   ]
  },
  {
   "cell_type": "code",
   "execution_count": 20,
   "metadata": {},
   "outputs": [
    {
     "name": "stdout",
     "output_type": "stream",
     "text": [
      "0\n"
     ]
    }
   ],
   "source": [
    "nan_comp_ind = analyst.loc[analyst['Competitors'] == '-1'].index\n",
    "analyst.at[nan_comp_ind, 'Competitors'] = 'Unknown'\n",
    "print((analyst['Competitors'] == '-1').sum())"
   ]
  },
  {
   "cell_type": "markdown",
   "metadata": {},
   "source": [
    "##### Easy Apply Column"
   ]
  },
  {
   "cell_type": "code",
   "execution_count": 21,
   "metadata": {},
   "outputs": [
    {
     "name": "stdout",
     "output_type": "stream",
     "text": [
      "['True' '-1']\n",
      "[True False]\n"
     ]
    }
   ],
   "source": [
    "print(analyst['Easy Apply'].unique())\n",
    "\n",
    "for i, item in enumerate(analyst['Easy Apply']):\n",
    "    if item == '-1':\n",
    "        analyst.at[i, 'Easy Apply'] = False\n",
    "    else:\n",
    "        analyst.at[i, 'Easy Apply'] = True\n",
    "\n",
    "print(analyst['Easy Apply'].unique())"
   ]
  },
  {
   "cell_type": "markdown",
   "metadata": {},
   "source": [
    "Dealing with NaN values is done\n",
    "\n",
    "### Cleaning & Transforming Values"
   ]
  },
  {
   "cell_type": "code",
   "execution_count": null,
   "metadata": {},
   "outputs": [],
   "source": []
  }
 ],
 "metadata": {
  "kernelspec": {
   "display_name": "Python 3",
   "language": "python",
   "name": "python3"
  },
  "language_info": {
   "codemirror_mode": {
    "name": "ipython",
    "version": 3
   },
   "file_extension": ".py",
   "mimetype": "text/x-python",
   "name": "python",
   "nbconvert_exporter": "python",
   "pygments_lexer": "ipython3",
   "version": "3.8.3"
  }
 },
 "nbformat": 4,
 "nbformat_minor": 4
}
