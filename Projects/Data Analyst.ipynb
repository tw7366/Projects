{
 "cells": [
  {
   "cell_type": "code",
   "execution_count": 1,
   "metadata": {},
   "outputs": [],
   "source": [
    "import numpy as np\n",
    "import pandas as pd\n",
    "import matplotlib.pyplot as plt\n",
    "import seaborn as sns\n",
    "pd.options.display.html.use_mathjax = False #disables latex\n",
    "import unicodedata"
   ]
  },
  {
   "cell_type": "code",
   "execution_count": 2,
   "metadata": {},
   "outputs": [
    {
     "data": {
      "text/html": [
       "<div>\n",
       "<style scoped>\n",
       "    .dataframe tbody tr th:only-of-type {\n",
       "        vertical-align: middle;\n",
       "    }\n",
       "\n",
       "    .dataframe tbody tr th {\n",
       "        vertical-align: top;\n",
       "    }\n",
       "\n",
       "    .dataframe thead th {\n",
       "        text-align: right;\n",
       "    }\n",
       "</style>\n",
       "<table border=\"1\" class=\"dataframe tex2jax_ignore\">\n",
       "  <thead>\n",
       "    <tr style=\"text-align: right;\">\n",
       "      <th></th>\n",
       "      <th>Unnamed: 0</th>\n",
       "      <th>Job Title</th>\n",
       "      <th>Salary Estimate</th>\n",
       "      <th>Job Description</th>\n",
       "      <th>Rating</th>\n",
       "      <th>Company Name</th>\n",
       "      <th>Location</th>\n",
       "      <th>Headquarters</th>\n",
       "      <th>Size</th>\n",
       "      <th>Founded</th>\n",
       "      <th>Type of ownership</th>\n",
       "      <th>Industry</th>\n",
       "      <th>Sector</th>\n",
       "      <th>Revenue</th>\n",
       "      <th>Competitors</th>\n",
       "      <th>Easy Apply</th>\n",
       "    </tr>\n",
       "  </thead>\n",
       "  <tbody>\n",
       "    <tr>\n",
       "      <th>0</th>\n",
       "      <td>0</td>\n",
       "      <td>Data Analyst, Center on Immigration and Justic...</td>\n",
       "      <td>$37K-$66K (Glassdoor est.)</td>\n",
       "      <td>Are you eager to roll up your sleeves and harn...</td>\n",
       "      <td>3.2</td>\n",
       "      <td>Vera Institute of Justice\\n3.2</td>\n",
       "      <td>New York, NY</td>\n",
       "      <td>New York, NY</td>\n",
       "      <td>201 to 500 employees</td>\n",
       "      <td>1961</td>\n",
       "      <td>Nonprofit Organization</td>\n",
       "      <td>Social Assistance</td>\n",
       "      <td>Non-Profit</td>\n",
       "      <td>$100 to $500 million (USD)</td>\n",
       "      <td>-1</td>\n",
       "      <td>True</td>\n",
       "    </tr>\n",
       "    <tr>\n",
       "      <th>1</th>\n",
       "      <td>1</td>\n",
       "      <td>Quality Data Analyst</td>\n",
       "      <td>$37K-$66K (Glassdoor est.)</td>\n",
       "      <td>Overview\\n\\nProvides analytical and technical ...</td>\n",
       "      <td>3.8</td>\n",
       "      <td>Visiting Nurse Service of New York\\n3.8</td>\n",
       "      <td>New York, NY</td>\n",
       "      <td>New York, NY</td>\n",
       "      <td>10000+ employees</td>\n",
       "      <td>1893</td>\n",
       "      <td>Nonprofit Organization</td>\n",
       "      <td>Health Care Services &amp; Hospitals</td>\n",
       "      <td>Health Care</td>\n",
       "      <td>$2 to $5 billion (USD)</td>\n",
       "      <td>-1</td>\n",
       "      <td>-1</td>\n",
       "    </tr>\n",
       "    <tr>\n",
       "      <th>2</th>\n",
       "      <td>2</td>\n",
       "      <td>Senior Data Analyst, Insights &amp; Analytics Team...</td>\n",
       "      <td>$37K-$66K (Glassdoor est.)</td>\n",
       "      <td>We’re looking for a Senior Data Analyst who ha...</td>\n",
       "      <td>3.4</td>\n",
       "      <td>Squarespace\\n3.4</td>\n",
       "      <td>New York, NY</td>\n",
       "      <td>New York, NY</td>\n",
       "      <td>1001 to 5000 employees</td>\n",
       "      <td>2003</td>\n",
       "      <td>Company - Private</td>\n",
       "      <td>Internet</td>\n",
       "      <td>Information Technology</td>\n",
       "      <td>Unknown / Non-Applicable</td>\n",
       "      <td>GoDaddy</td>\n",
       "      <td>-1</td>\n",
       "    </tr>\n",
       "    <tr>\n",
       "      <th>3</th>\n",
       "      <td>3</td>\n",
       "      <td>Data Analyst</td>\n",
       "      <td>$37K-$66K (Glassdoor est.)</td>\n",
       "      <td>Requisition NumberRR-0001939\\nRemote:Yes\\nWe c...</td>\n",
       "      <td>4.1</td>\n",
       "      <td>Celerity\\n4.1</td>\n",
       "      <td>New York, NY</td>\n",
       "      <td>McLean, VA</td>\n",
       "      <td>201 to 500 employees</td>\n",
       "      <td>2002</td>\n",
       "      <td>Subsidiary or Business Segment</td>\n",
       "      <td>IT Services</td>\n",
       "      <td>Information Technology</td>\n",
       "      <td>$50 to $100 million (USD)</td>\n",
       "      <td>-1</td>\n",
       "      <td>-1</td>\n",
       "    </tr>\n",
       "    <tr>\n",
       "      <th>4</th>\n",
       "      <td>4</td>\n",
       "      <td>Reporting Data Analyst</td>\n",
       "      <td>$37K-$66K (Glassdoor est.)</td>\n",
       "      <td>ABOUT FANDUEL GROUP\\n\\nFanDuel Group is a worl...</td>\n",
       "      <td>3.9</td>\n",
       "      <td>FanDuel\\n3.9</td>\n",
       "      <td>New York, NY</td>\n",
       "      <td>New York, NY</td>\n",
       "      <td>501 to 1000 employees</td>\n",
       "      <td>2009</td>\n",
       "      <td>Company - Private</td>\n",
       "      <td>Sports &amp; Recreation</td>\n",
       "      <td>Arts, Entertainment &amp; Recreation</td>\n",
       "      <td>$100 to $500 million (USD)</td>\n",
       "      <td>DraftKings</td>\n",
       "      <td>True</td>\n",
       "    </tr>\n",
       "  </tbody>\n",
       "</table>\n",
       "</div>"
      ],
      "text/plain": [
       "   Unnamed: 0                                          Job Title  \\\n",
       "0           0  Data Analyst, Center on Immigration and Justic...   \n",
       "1           1                               Quality Data Analyst   \n",
       "2           2  Senior Data Analyst, Insights & Analytics Team...   \n",
       "3           3                                       Data Analyst   \n",
       "4           4                             Reporting Data Analyst   \n",
       "\n",
       "              Salary Estimate  \\\n",
       "0  $37K-$66K (Glassdoor est.)   \n",
       "1  $37K-$66K (Glassdoor est.)   \n",
       "2  $37K-$66K (Glassdoor est.)   \n",
       "3  $37K-$66K (Glassdoor est.)   \n",
       "4  $37K-$66K (Glassdoor est.)   \n",
       "\n",
       "                                     Job Description  Rating  \\\n",
       "0  Are you eager to roll up your sleeves and harn...     3.2   \n",
       "1  Overview\\n\\nProvides analytical and technical ...     3.8   \n",
       "2  We’re looking for a Senior Data Analyst who ha...     3.4   \n",
       "3  Requisition NumberRR-0001939\\nRemote:Yes\\nWe c...     4.1   \n",
       "4  ABOUT FANDUEL GROUP\\n\\nFanDuel Group is a worl...     3.9   \n",
       "\n",
       "                              Company Name      Location  Headquarters  \\\n",
       "0           Vera Institute of Justice\\n3.2  New York, NY  New York, NY   \n",
       "1  Visiting Nurse Service of New York\\n3.8  New York, NY  New York, NY   \n",
       "2                         Squarespace\\n3.4  New York, NY  New York, NY   \n",
       "3                            Celerity\\n4.1  New York, NY    McLean, VA   \n",
       "4                             FanDuel\\n3.9  New York, NY  New York, NY   \n",
       "\n",
       "                     Size  Founded               Type of ownership  \\\n",
       "0    201 to 500 employees     1961          Nonprofit Organization   \n",
       "1        10000+ employees     1893          Nonprofit Organization   \n",
       "2  1001 to 5000 employees     2003               Company - Private   \n",
       "3    201 to 500 employees     2002  Subsidiary or Business Segment   \n",
       "4   501 to 1000 employees     2009               Company - Private   \n",
       "\n",
       "                           Industry                            Sector  \\\n",
       "0                 Social Assistance                        Non-Profit   \n",
       "1  Health Care Services & Hospitals                       Health Care   \n",
       "2                          Internet            Information Technology   \n",
       "3                       IT Services            Information Technology   \n",
       "4               Sports & Recreation  Arts, Entertainment & Recreation   \n",
       "\n",
       "                      Revenue Competitors Easy Apply  \n",
       "0  $100 to $500 million (USD)          -1       True  \n",
       "1      $2 to $5 billion (USD)          -1         -1  \n",
       "2    Unknown / Non-Applicable     GoDaddy         -1  \n",
       "3   $50 to $100 million (USD)          -1         -1  \n",
       "4  $100 to $500 million (USD)  DraftKings       True  "
      ]
     },
     "execution_count": 2,
     "metadata": {},
     "output_type": "execute_result"
    }
   ],
   "source": [
    "analyst = pd.read_csv(r'C:\\Users\\taewoo\\Desktop\\Datasets\\DataAnalyst.csv')\n",
    "analyst.head(5)"
   ]
  },
  {
   "cell_type": "code",
   "execution_count": 3,
   "metadata": {},
   "outputs": [
    {
     "name": "stdout",
     "output_type": "stream",
     "text": [
      "<class 'pandas.core.frame.DataFrame'>\n",
      "RangeIndex: 2253 entries, 0 to 2252\n",
      "Data columns (total 15 columns):\n",
      " #   Column             Non-Null Count  Dtype  \n",
      "---  ------             --------------  -----  \n",
      " 0   Job Title          2253 non-null   object \n",
      " 1   Salary Estimate    2253 non-null   object \n",
      " 2   Job Description    2253 non-null   object \n",
      " 3   Rating             2253 non-null   float64\n",
      " 4   Company Name       2252 non-null   object \n",
      " 5   Location           2253 non-null   object \n",
      " 6   Headquarters       2253 non-null   object \n",
      " 7   Size               2253 non-null   object \n",
      " 8   Founded            2253 non-null   int64  \n",
      " 9   Type of ownership  2253 non-null   object \n",
      " 10  Industry           2253 non-null   object \n",
      " 11  Sector             2253 non-null   object \n",
      " 12  Revenue            2253 non-null   object \n",
      " 13  Competitors        2253 non-null   object \n",
      " 14  Easy Apply         2253 non-null   object \n",
      "dtypes: float64(1), int64(1), object(13)\n",
      "memory usage: 264.1+ KB\n"
     ]
    }
   ],
   "source": [
    "analyst.drop(columns='Unnamed: 0', inplace=True)\n",
    "analyst.info()"
   ]
  },
  {
   "cell_type": "markdown",
   "metadata": {},
   "source": [
    "## Data Cleaning"
   ]
  },
  {
   "cell_type": "markdown",
   "metadata": {},
   "source": [
    "### Dealing with missing/NaN values"
   ]
  },
  {
   "cell_type": "markdown",
   "metadata": {},
   "source": [
    "It seems like NaN values are denoted as -1.\n",
    "\n",
    "For this exericse, I plan to investigate nan values in columns one by one on purpose to fully understand situational replacements."
   ]
  },
  {
   "cell_type": "code",
   "execution_count": 4,
   "metadata": {},
   "outputs": [
    {
     "data": {
      "text/plain": [
       "Job Title            0\n",
       "Salary Estimate      0\n",
       "Job Description      0\n",
       "Rating               0\n",
       "Company Name         1\n",
       "Location             0\n",
       "Headquarters         0\n",
       "Size                 0\n",
       "Founded              0\n",
       "Type of ownership    0\n",
       "Industry             0\n",
       "Sector               0\n",
       "Revenue              0\n",
       "Competitors          0\n",
       "Easy Apply           0\n",
       "dtype: int64"
      ]
     },
     "execution_count": 4,
     "metadata": {},
     "output_type": "execute_result"
    }
   ],
   "source": [
    "analyst.isnull().sum()"
   ]
  },
  {
   "cell_type": "code",
   "execution_count": 5,
   "metadata": {},
   "outputs": [
    {
     "data": {
      "text/html": [
       "<div>\n",
       "<style scoped>\n",
       "    .dataframe tbody tr th:only-of-type {\n",
       "        vertical-align: middle;\n",
       "    }\n",
       "\n",
       "    .dataframe tbody tr th {\n",
       "        vertical-align: top;\n",
       "    }\n",
       "\n",
       "    .dataframe thead th {\n",
       "        text-align: right;\n",
       "    }\n",
       "</style>\n",
       "<table border=\"1\" class=\"dataframe tex2jax_ignore\">\n",
       "  <thead>\n",
       "    <tr style=\"text-align: right;\">\n",
       "      <th></th>\n",
       "      <th>Job Title</th>\n",
       "      <th>Salary Estimate</th>\n",
       "      <th>Job Description</th>\n",
       "      <th>Rating</th>\n",
       "      <th>Company Name</th>\n",
       "      <th>Location</th>\n",
       "      <th>Headquarters</th>\n",
       "      <th>Size</th>\n",
       "      <th>Founded</th>\n",
       "      <th>Type of ownership</th>\n",
       "      <th>Industry</th>\n",
       "      <th>Sector</th>\n",
       "      <th>Revenue</th>\n",
       "      <th>Competitors</th>\n",
       "      <th>Easy Apply</th>\n",
       "    </tr>\n",
       "  </thead>\n",
       "  <tbody>\n",
       "    <tr>\n",
       "      <th>1860</th>\n",
       "      <td>Data Analyst</td>\n",
       "      <td>$53K-$99K (Glassdoor est.)</td>\n",
       "      <td>Kindred at Home, part of the Kindred at Home f...</td>\n",
       "      <td>-1.0</td>\n",
       "      <td>NaN</td>\n",
       "      <td>Mooresville, NC</td>\n",
       "      <td>-1</td>\n",
       "      <td>-1</td>\n",
       "      <td>-1</td>\n",
       "      <td>-1</td>\n",
       "      <td>-1</td>\n",
       "      <td>-1</td>\n",
       "      <td>-1</td>\n",
       "      <td>-1</td>\n",
       "      <td>-1</td>\n",
       "    </tr>\n",
       "  </tbody>\n",
       "</table>\n",
       "</div>"
      ],
      "text/plain": [
       "         Job Title             Salary Estimate  \\\n",
       "1860  Data Analyst  $53K-$99K (Glassdoor est.)   \n",
       "\n",
       "                                        Job Description  Rating Company Name  \\\n",
       "1860  Kindred at Home, part of the Kindred at Home f...    -1.0          NaN   \n",
       "\n",
       "             Location Headquarters Size  Founded Type of ownership Industry  \\\n",
       "1860  Mooresville, NC           -1   -1       -1                -1       -1   \n",
       "\n",
       "     Sector Revenue Competitors Easy Apply  \n",
       "1860     -1      -1          -1         -1  "
      ]
     },
     "execution_count": 5,
     "metadata": {},
     "output_type": "execute_result"
    }
   ],
   "source": [
    "analyst.loc[analyst['Company Name'].isnull()]"
   ]
  },
  {
   "cell_type": "markdown",
   "metadata": {},
   "source": [
    "I was right, -1 indicates NaN values\n",
    "\n",
    "Row 1860 is missing too many values, so I'm dropping it"
   ]
  },
  {
   "cell_type": "code",
   "execution_count": 6,
   "metadata": {},
   "outputs": [],
   "source": [
    "analyst.drop(1860, inplace= True)\n",
    "analyst.reset_index(drop=True, inplace=True)"
   ]
  },
  {
   "cell_type": "code",
   "execution_count": 7,
   "metadata": {},
   "outputs": [
    {
     "name": "stdout",
     "output_type": "stream",
     "text": [
      "Job Title: 0\n",
      "Salary Estimate: 1\n",
      "Job Description: 0\n",
      "Rating: 271\n",
      "Company Name: 0\n",
      "Location: 0\n",
      "Headquarters: 171\n",
      "Size: 162\n",
      "Founded: 659\n",
      "Type of ownership: 162\n",
      "Industry: 352\n",
      "Sector: 352\n",
      "Revenue: 162\n",
      "Competitors: 1731\n",
      "Easy Apply: 2172\n"
     ]
    }
   ],
   "source": [
    "import warnings\n",
    "warnings.simplefilter(action='ignore', category=FutureWarning)\n",
    "\n",
    "for col in analyst.columns:\n",
    "    print(f\"{col}: {(analyst[col]==-1).sum() + (analyst[col]=='-1').sum()}\")"
   ]
  },
  {
   "cell_type": "markdown",
   "metadata": {},
   "source": [
    "##### Salary Estimate Column"
   ]
  },
  {
   "cell_type": "code",
   "execution_count": 8,
   "metadata": {},
   "outputs": [
    {
     "data": {
      "text/html": [
       "<div>\n",
       "<style scoped>\n",
       "    .dataframe tbody tr th:only-of-type {\n",
       "        vertical-align: middle;\n",
       "    }\n",
       "\n",
       "    .dataframe tbody tr th {\n",
       "        vertical-align: top;\n",
       "    }\n",
       "\n",
       "    .dataframe thead th {\n",
       "        text-align: right;\n",
       "    }\n",
       "</style>\n",
       "<table border=\"1\" class=\"dataframe tex2jax_ignore\">\n",
       "  <thead>\n",
       "    <tr style=\"text-align: right;\">\n",
       "      <th></th>\n",
       "      <th>Job Title</th>\n",
       "      <th>Salary Estimate</th>\n",
       "      <th>Job Description</th>\n",
       "      <th>Rating</th>\n",
       "      <th>Company Name</th>\n",
       "      <th>Location</th>\n",
       "      <th>Headquarters</th>\n",
       "      <th>Size</th>\n",
       "      <th>Founded</th>\n",
       "      <th>Type of ownership</th>\n",
       "      <th>Industry</th>\n",
       "      <th>Sector</th>\n",
       "      <th>Revenue</th>\n",
       "      <th>Competitors</th>\n",
       "      <th>Easy Apply</th>\n",
       "    </tr>\n",
       "  </thead>\n",
       "  <tbody>\n",
       "    <tr>\n",
       "      <th>2148</th>\n",
       "      <td>Configuration/Data Management Analyst III</td>\n",
       "      <td>-1</td>\n",
       "      <td>Job Description\\nPosition Title: Configuration...</td>\n",
       "      <td>4.4</td>\n",
       "      <td>Protingent\\n4.4</td>\n",
       "      <td>Kent, WA</td>\n",
       "      <td>Bellevue, WA</td>\n",
       "      <td>51 to 200 employees</td>\n",
       "      <td>2001</td>\n",
       "      <td>Company - Private</td>\n",
       "      <td>Staffing &amp; Outsourcing</td>\n",
       "      <td>Business Services</td>\n",
       "      <td>$25 to $50 million (USD)</td>\n",
       "      <td>-1</td>\n",
       "      <td>-1</td>\n",
       "    </tr>\n",
       "  </tbody>\n",
       "</table>\n",
       "</div>"
      ],
      "text/plain": [
       "                                      Job Title Salary Estimate  \\\n",
       "2148  Configuration/Data Management Analyst III              -1   \n",
       "\n",
       "                                        Job Description  Rating  \\\n",
       "2148  Job Description\\nPosition Title: Configuration...     4.4   \n",
       "\n",
       "         Company Name  Location  Headquarters                 Size  Founded  \\\n",
       "2148  Protingent\\n4.4  Kent, WA  Bellevue, WA  51 to 200 employees     2001   \n",
       "\n",
       "      Type of ownership                Industry             Sector  \\\n",
       "2148  Company - Private  Staffing & Outsourcing  Business Services   \n",
       "\n",
       "                       Revenue Competitors Easy Apply  \n",
       "2148  $25 to $50 million (USD)          -1         -1  "
      ]
     },
     "execution_count": 8,
     "metadata": {},
     "output_type": "execute_result"
    }
   ],
   "source": [
    "analyst.loc[analyst['Salary Estimate'] == \"-1\"]"
   ]
  },
  {
   "cell_type": "code",
   "execution_count": 9,
   "metadata": {},
   "outputs": [
    {
     "data": {
      "text/html": [
       "<div>\n",
       "<style scoped>\n",
       "    .dataframe tbody tr th:only-of-type {\n",
       "        vertical-align: middle;\n",
       "    }\n",
       "\n",
       "    .dataframe tbody tr th {\n",
       "        vertical-align: top;\n",
       "    }\n",
       "\n",
       "    .dataframe thead th {\n",
       "        text-align: right;\n",
       "    }\n",
       "</style>\n",
       "<table border=\"1\" class=\"dataframe tex2jax_ignore\">\n",
       "  <thead>\n",
       "    <tr style=\"text-align: right;\">\n",
       "      <th></th>\n",
       "      <th>Job Title</th>\n",
       "      <th>Salary Estimate</th>\n",
       "      <th>Job Description</th>\n",
       "      <th>Rating</th>\n",
       "      <th>Company Name</th>\n",
       "      <th>Location</th>\n",
       "      <th>Headquarters</th>\n",
       "      <th>Size</th>\n",
       "      <th>Founded</th>\n",
       "      <th>Type of ownership</th>\n",
       "      <th>Industry</th>\n",
       "      <th>Sector</th>\n",
       "      <th>Revenue</th>\n",
       "      <th>Competitors</th>\n",
       "      <th>Easy Apply</th>\n",
       "    </tr>\n",
       "  </thead>\n",
       "  <tbody>\n",
       "    <tr>\n",
       "      <th>1020</th>\n",
       "      <td>Marketing Data Analyst</td>\n",
       "      <td>$46K-$102K (Glassdoor est.)</td>\n",
       "      <td>Overview\\n\\n\\nAs a key member of the Analytics...</td>\n",
       "      <td>3.5</td>\n",
       "      <td>Efinancial\\n3.5</td>\n",
       "      <td>Tempe, AZ</td>\n",
       "      <td>Bellevue, WA</td>\n",
       "      <td>201 to 500 employees</td>\n",
       "      <td>2001</td>\n",
       "      <td>Company - Private</td>\n",
       "      <td>Insurance Agencies &amp; Brokerages</td>\n",
       "      <td>Insurance</td>\n",
       "      <td>$50 to $100 million (USD)</td>\n",
       "      <td>-1</td>\n",
       "      <td>-1</td>\n",
       "    </tr>\n",
       "    <tr>\n",
       "      <th>2112</th>\n",
       "      <td>Data Analyst II, QA</td>\n",
       "      <td>$35K-$67K (Glassdoor est.)</td>\n",
       "      <td>We are looking for someone that is highly moti...</td>\n",
       "      <td>4.2</td>\n",
       "      <td>iSpot.tv, Inc.\\n4.2</td>\n",
       "      <td>Bellevue, WA</td>\n",
       "      <td>Bellevue, WA</td>\n",
       "      <td>51 to 200 employees</td>\n",
       "      <td>-1</td>\n",
       "      <td>Company - Private</td>\n",
       "      <td>-1</td>\n",
       "      <td>-1</td>\n",
       "      <td>Unknown / Non-Applicable</td>\n",
       "      <td>-1</td>\n",
       "      <td>-1</td>\n",
       "    </tr>\n",
       "    <tr>\n",
       "      <th>2122</th>\n",
       "      <td>Engines Configuration and Data Management Analyst</td>\n",
       "      <td>$55K-$101K (Glassdoor est.)</td>\n",
       "      <td>Job Description\\nPosition Title: Engines Confi...</td>\n",
       "      <td>4.4</td>\n",
       "      <td>Protingent\\n4.4</td>\n",
       "      <td>Kent, WA</td>\n",
       "      <td>Bellevue, WA</td>\n",
       "      <td>51 to 200 employees</td>\n",
       "      <td>2001</td>\n",
       "      <td>Company - Private</td>\n",
       "      <td>Staffing &amp; Outsourcing</td>\n",
       "      <td>Business Services</td>\n",
       "      <td>$25 to $50 million (USD)</td>\n",
       "      <td>-1</td>\n",
       "      <td>-1</td>\n",
       "    </tr>\n",
       "    <tr>\n",
       "      <th>2136</th>\n",
       "      <td>Configuration/Data Management Analyst</td>\n",
       "      <td>$55K-$101K (Glassdoor est.)</td>\n",
       "      <td>Job Description\\nExciting space exploration en...</td>\n",
       "      <td>4.2</td>\n",
       "      <td>NuWest Group\\n4.2</td>\n",
       "      <td>Kent, WA</td>\n",
       "      <td>Bellevue, WA</td>\n",
       "      <td>51 to 200 employees</td>\n",
       "      <td>1990</td>\n",
       "      <td>Company - Private</td>\n",
       "      <td>Staffing &amp; Outsourcing</td>\n",
       "      <td>Business Services</td>\n",
       "      <td>$25 to $50 million (USD)</td>\n",
       "      <td>-1</td>\n",
       "      <td>-1</td>\n",
       "    </tr>\n",
       "    <tr>\n",
       "      <th>2145</th>\n",
       "      <td>Configuration and Data Management Analyst</td>\n",
       "      <td>$55K-$101K (Glassdoor est.)</td>\n",
       "      <td>Job Qualifications:BA/BS in a related technica...</td>\n",
       "      <td>4.4</td>\n",
       "      <td>Protingent Staffing\\n4.4</td>\n",
       "      <td>Renton, WA</td>\n",
       "      <td>Bellevue, WA</td>\n",
       "      <td>51 to 200 employees</td>\n",
       "      <td>2001</td>\n",
       "      <td>Company - Private</td>\n",
       "      <td>Staffing &amp; Outsourcing</td>\n",
       "      <td>Business Services</td>\n",
       "      <td>$25 to $50 million (USD)</td>\n",
       "      <td>-1</td>\n",
       "      <td>-1</td>\n",
       "    </tr>\n",
       "    <tr>\n",
       "      <th>2148</th>\n",
       "      <td>Configuration/Data Management Analyst III</td>\n",
       "      <td>-1</td>\n",
       "      <td>Job Description\\nPosition Title: Configuration...</td>\n",
       "      <td>4.4</td>\n",
       "      <td>Protingent\\n4.4</td>\n",
       "      <td>Kent, WA</td>\n",
       "      <td>Bellevue, WA</td>\n",
       "      <td>51 to 200 employees</td>\n",
       "      <td>2001</td>\n",
       "      <td>Company - Private</td>\n",
       "      <td>Staffing &amp; Outsourcing</td>\n",
       "      <td>Business Services</td>\n",
       "      <td>$25 to $50 million (USD)</td>\n",
       "      <td>-1</td>\n",
       "      <td>-1</td>\n",
       "    </tr>\n",
       "  </tbody>\n",
       "</table>\n",
       "</div>"
      ],
      "text/plain": [
       "                                              Job Title  \\\n",
       "1020                             Marketing Data Analyst   \n",
       "2112                                Data Analyst II, QA   \n",
       "2122  Engines Configuration and Data Management Analyst   \n",
       "2136              Configuration/Data Management Analyst   \n",
       "2145          Configuration and Data Management Analyst   \n",
       "2148          Configuration/Data Management Analyst III   \n",
       "\n",
       "                  Salary Estimate  \\\n",
       "1020  $46K-$102K (Glassdoor est.)   \n",
       "2112   $35K-$67K (Glassdoor est.)   \n",
       "2122  $55K-$101K (Glassdoor est.)   \n",
       "2136  $55K-$101K (Glassdoor est.)   \n",
       "2145  $55K-$101K (Glassdoor est.)   \n",
       "2148                           -1   \n",
       "\n",
       "                                        Job Description  Rating  \\\n",
       "1020  Overview\\n\\n\\nAs a key member of the Analytics...     3.5   \n",
       "2112  We are looking for someone that is highly moti...     4.2   \n",
       "2122  Job Description\\nPosition Title: Engines Confi...     4.4   \n",
       "2136  Job Description\\nExciting space exploration en...     4.2   \n",
       "2145  Job Qualifications:BA/BS in a related technica...     4.4   \n",
       "2148  Job Description\\nPosition Title: Configuration...     4.4   \n",
       "\n",
       "                  Company Name      Location  Headquarters  \\\n",
       "1020           Efinancial\\n3.5     Tempe, AZ  Bellevue, WA   \n",
       "2112       iSpot.tv, Inc.\\n4.2  Bellevue, WA  Bellevue, WA   \n",
       "2122           Protingent\\n4.4      Kent, WA  Bellevue, WA   \n",
       "2136         NuWest Group\\n4.2      Kent, WA  Bellevue, WA   \n",
       "2145  Protingent Staffing\\n4.4    Renton, WA  Bellevue, WA   \n",
       "2148           Protingent\\n4.4      Kent, WA  Bellevue, WA   \n",
       "\n",
       "                      Size  Founded  Type of ownership  \\\n",
       "1020  201 to 500 employees     2001  Company - Private   \n",
       "2112   51 to 200 employees       -1  Company - Private   \n",
       "2122   51 to 200 employees     2001  Company - Private   \n",
       "2136   51 to 200 employees     1990  Company - Private   \n",
       "2145   51 to 200 employees     2001  Company - Private   \n",
       "2148   51 to 200 employees     2001  Company - Private   \n",
       "\n",
       "                             Industry             Sector  \\\n",
       "1020  Insurance Agencies & Brokerages          Insurance   \n",
       "2112                               -1                 -1   \n",
       "2122           Staffing & Outsourcing  Business Services   \n",
       "2136           Staffing & Outsourcing  Business Services   \n",
       "2145           Staffing & Outsourcing  Business Services   \n",
       "2148           Staffing & Outsourcing  Business Services   \n",
       "\n",
       "                        Revenue Competitors Easy Apply  \n",
       "1020  $50 to $100 million (USD)          -1         -1  \n",
       "2112   Unknown / Non-Applicable          -1         -1  \n",
       "2122   $25 to $50 million (USD)          -1         -1  \n",
       "2136   $25 to $50 million (USD)          -1         -1  \n",
       "2145   $25 to $50 million (USD)          -1         -1  \n",
       "2148   $25 to $50 million (USD)          -1         -1  "
      ]
     },
     "execution_count": 9,
     "metadata": {},
     "output_type": "execute_result"
    }
   ],
   "source": [
    "analyst.loc[analyst['Headquarters'] == \"Bellevue, WA\"]"
   ]
  },
  {
   "cell_type": "code",
   "execution_count": 10,
   "metadata": {},
   "outputs": [
    {
     "data": {
      "text/plain": [
       "$35K-$42K (Glassdoor est.)     6\n",
       "$47K-$76K (Glassdoor est.)     4\n",
       "$60K-$124K (Glassdoor est.)    3\n",
       "$46K-$86K (Glassdoor est.)     2\n",
       "$98K-$114K (Glassdoor est.)    2\n",
       "Name: Salary Estimate, dtype: int64"
      ]
     },
     "execution_count": 10,
     "metadata": {},
     "output_type": "execute_result"
    }
   ],
   "source": [
    "analyst_3 = [i for i, job in enumerate(analyst['Job Title']) if 'Analyst III' in job]\n",
    "analyst.iloc[analyst_3]['Salary Estimate'].value_counts()[:5]"
   ]
  },
  {
   "cell_type": "code",
   "execution_count": 11,
   "metadata": {},
   "outputs": [],
   "source": [
    "# I think 55𝐾− 101K range is reasonable given the job's location\n",
    "analyst.at[2148, 'Salary Estimate'] = '55𝐾− 101K (Glassdoor est.)'"
   ]
  },
  {
   "cell_type": "markdown",
   "metadata": {},
   "source": [
    "##### Rating Column"
   ]
  },
  {
   "cell_type": "code",
   "execution_count": 12,
   "metadata": {},
   "outputs": [
    {
     "name": "stdout",
     "output_type": "stream",
     "text": [
      "-1 value count: 0\n",
      "NaN value count: 271\n"
     ]
    }
   ],
   "source": [
    "nan_rating_ind = analyst.loc[analyst['Rating'] == -1].index\n",
    "# np.nan is a float, so it fulfills the adequacy\n",
    "analyst.at[nan_rating_ind, 'Rating'] = np.nan\n",
    "print('-1 value count: {}'.format((analyst['Rating'] == -1).sum()))\n",
    "print('NaN value count: {}'.format((analyst['Rating'].isnull()).sum()))"
   ]
  },
  {
   "cell_type": "markdown",
   "metadata": {},
   "source": [
    "##### Headquarters"
   ]
  },
  {
   "cell_type": "code",
   "execution_count": 13,
   "metadata": {},
   "outputs": [
    {
     "name": "stdout",
     "output_type": "stream",
     "text": [
      "-1 value count: 0\n",
      "NaN value count: 0\n"
     ]
    }
   ],
   "source": [
    "nan_head_ind = analyst.loc[analyst['Headquarters'] == '-1'].index\n",
    "analyst.at[nan_head_ind, 'Headquarters'] = 'Unknown'\n",
    "print('-1 value count: {}'.format((analyst['Headquarters'] == '-1').sum()))\n",
    "print('NaN value count: {}'.format((analyst['Headquarters'].isnull()).sum()))"
   ]
  },
  {
   "cell_type": "markdown",
   "metadata": {},
   "source": [
    "##### Size"
   ]
  },
  {
   "cell_type": "code",
   "execution_count": 14,
   "metadata": {},
   "outputs": [
    {
     "name": "stdout",
     "output_type": "stream",
     "text": [
      "Unique values of the size column \n",
      "['201 to 500 employees' '10000+ employees' '1001 to 5000 employees'\n",
      " '501 to 1000 employees' '5001 to 10000 employees' '1 to 50 employees'\n",
      " '51 to 200 employees' 'Unknown' '-1']\n",
      "-1 value count: 162\n",
      "NaN value count: 0\n",
      "========\n",
      "Unique values of the size column \n",
      "['201 to 500' '10000+' '1001 to 5000' '501 to 1000' '5001 to 10000'\n",
      " '1 to 50' '51 to 200' 'Unknown']\n",
      "-1 value count: 0\n",
      "NaN value count: 0\n"
     ]
    }
   ],
   "source": [
    "print(f'Unique values of the size column \\n{analyst[\"Size\"].unique()}')\n",
    "print('-1 value count: {}'.format((analyst['Size'] == '-1').sum()))\n",
    "print('NaN value count: {}'.format((analyst['Size'].isnull()).sum()))\n",
    "# 'Unknown already exists'\n",
    "for i, size in enumerate(analyst['Size']):\n",
    "    if 'to' in size:\n",
    "        analyst.at[i ,'Size'] = size.replace('employees', '').strip()\n",
    "    elif '+' in size:\n",
    "         analyst.at[i ,'Size'] = size.split()[0]\n",
    "    else:\n",
    "         analyst.at[i ,'Size'] = 'Unknown'\n",
    "\n",
    "print('========')\n",
    "print(f'Unique values of the size column \\n{analyst[\"Size\"].unique()}')\n",
    "print('-1 value count: {}'.format((analyst['Size'] == '-1').sum()))\n",
    "print('NaN value count: {}'.format((analyst['Size'].isnull()).sum()))"
   ]
  },
  {
   "cell_type": "markdown",
   "metadata": {},
   "source": [
    "##### Founded Column"
   ]
  },
  {
   "cell_type": "code",
   "execution_count": 15,
   "metadata": {},
   "outputs": [
    {
     "name": "stdout",
     "output_type": "stream",
     "text": [
      "<IntegerArray>\n",
      "[1961, 1893, 2003, 2002, 2009, 2014, 2001, 1914, 1896, 2013,\n",
      " ...\n",
      " 1924, 1907, 1682, 1875, 1917, 1876, 1785, 1909, 1789, 1930]\n",
      "Length: 161, dtype: Int64\n",
      "-1 value count: 0\n",
      "NaN value count: 659\n"
     ]
    }
   ],
   "source": [
    "nan_founded_ind = analyst.loc[analyst['Founded'] == -1].index\n",
    "# adding np.nan changes the dtype of the column from int to float\n",
    "analyst.at[nan_founded_ind, 'Founded'] = np.nan\n",
    "analyst['Founded'] = analyst['Founded'].astype('Int64')\n",
    "\n",
    "print(analyst['Founded'].unique())\n",
    "print('-1 value count: {}'.format((analyst['Founded'] == -1).sum()))\n",
    "print('NaN value count: {}'.format((analyst['Founded'].isnull()).sum()))"
   ]
  },
  {
   "cell_type": "markdown",
   "metadata": {},
   "source": [
    "##### Type of ownership Column"
   ]
  },
  {
   "cell_type": "code",
   "execution_count": 16,
   "metadata": {},
   "outputs": [
    {
     "name": "stdout",
     "output_type": "stream",
     "text": [
      "['Nonprofit Organization' 'Company - Private'\n",
      " 'Subsidiary or Business Segment' 'Company - Public' 'Hospital' 'Unknown'\n",
      " 'Contract' '-1' 'Government' 'School / School District'\n",
      " 'Other Organization' 'College / University' 'Self-employed'\n",
      " 'Private Practice / Firm' 'Franchise']\n",
      "['Nonprofit Organization' 'Company - Private'\n",
      " 'Subsidiary or Business Segment' 'Company - Public' 'Hospital' 'Unknown'\n",
      " 'Contract' 'Government' 'School / School District' 'Other Organization'\n",
      " 'College / University' 'Self-employed' 'Private Practice / Firm'\n",
      " 'Franchise']\n"
     ]
    }
   ],
   "source": [
    "print(analyst['Type of ownership'].unique())\n",
    "\n",
    "nan_ownership_ind = analyst.loc[analyst['Type of ownership'] == '-1'].index\n",
    "analyst.at[nan_ownership_ind, 'Type of ownership'] = 'Unknown'\n",
    "\n",
    "print(analyst['Type of ownership'].unique())"
   ]
  },
  {
   "cell_type": "markdown",
   "metadata": {},
   "source": [
    "##### Industry & Sector Column"
   ]
  },
  {
   "cell_type": "code",
   "execution_count": 17,
   "metadata": {},
   "outputs": [
    {
     "name": "stdout",
     "output_type": "stream",
     "text": [
      "Industry\n",
      "-1 value count: 0\n",
      "NaN value count: 0\n",
      "Sector\n",
      "-1 value count: 0\n",
      "NaN value count: 0\n"
     ]
    }
   ],
   "source": [
    "# when missing industry, sector is also unknown\n",
    "nan_industry_ind = analyst.loc[analyst['Industry'] == '-1'].index\n",
    "analyst.at[nan_industry_ind, ['Industry', 'Sector']] = 'Unknown'\n",
    "\n",
    "print('Industry')\n",
    "print('-1 value count: {}'.format((analyst['Industry'] == '-1').sum()))\n",
    "print('NaN value count: {}'.format((analyst['Industry'].isnull()).sum()))\n",
    "\n",
    "print('Sector')\n",
    "print('-1 value count: {}'.format((analyst['Sector'] == '-1').sum()))\n",
    "print('NaN value count: {}'.format((analyst['Sector'].isnull()).sum()))"
   ]
  },
  {
   "cell_type": "markdown",
   "metadata": {},
   "source": [
    "##### Revenue Column"
   ]
  },
  {
   "cell_type": "code",
   "execution_count": 18,
   "metadata": {},
   "outputs": [
    {
     "name": "stdout",
     "output_type": "stream",
     "text": [
      "['$100 to $500 million (USD)' '$2 to $5 billion (USD)'\n",
      " 'Unknown / Non-Applicable' '$50 to $100 million (USD)'\n",
      " '$1 to $2 billion (USD)' '$5 to $10 billion (USD)'\n",
      " '$1 to $5 million (USD)' '$25 to $50 million (USD)' '$10+ billion (USD)'\n",
      " 'Less than $1 million (USD)' '$10 to $25 million (USD)' '-1'\n",
      " '$500 million to $1 billion (USD)' '$5 to $10 million (USD)']\n",
      "['$100 to $500 million (USD)' '$2 to $5 billion (USD)' 'Unknown'\n",
      " '$50 to $100 million (USD)' '$1 to $2 billion (USD)'\n",
      " '$5 to $10 billion (USD)' '$1 to $5 million (USD)'\n",
      " '$25 to $50 million (USD)' '$10+ billion (USD)'\n",
      " 'Less than $1 million (USD)' '$10 to $25 million (USD)'\n",
      " '$500 million to $1 billion (USD)' '$5 to $10 million (USD)']\n"
     ]
    }
   ],
   "source": [
    "print(analyst['Revenue'].unique())\n",
    "nan_revenue_ind = analyst.loc[(analyst['Revenue'] == '-1') | (analyst['Revenue'] == 'Unknown / Non-Applicable')].index\n",
    "analyst.at[nan_revenue_ind, 'Revenue'] = 'Unknown'\n",
    "\n",
    "print(analyst['Revenue'].unique())"
   ]
  },
  {
   "cell_type": "markdown",
   "metadata": {},
   "source": [
    "##### Competitors Column"
   ]
  },
  {
   "cell_type": "code",
   "execution_count": 19,
   "metadata": {},
   "outputs": [
    {
     "name": "stdout",
     "output_type": "stream",
     "text": [
      "-1 value count: 0\n",
      "NaN value count: 0\n"
     ]
    }
   ],
   "source": [
    "nan_comp_ind = analyst.loc[analyst['Competitors'] == '-1'].index\n",
    "analyst.at[nan_comp_ind, 'Competitors'] = 'Unknown'\n",
    "\n",
    "print('-1 value count: {}'.format((analyst['Competitors'] == '-1').sum()))\n",
    "print('NaN value count: {}'.format((analyst['Competitors'].isnull()).sum()))"
   ]
  },
  {
   "cell_type": "markdown",
   "metadata": {},
   "source": [
    "##### Easy Apply Column"
   ]
  },
  {
   "cell_type": "code",
   "execution_count": 20,
   "metadata": {},
   "outputs": [
    {
     "name": "stdout",
     "output_type": "stream",
     "text": [
      "['True' '-1']\n",
      "[True False]\n"
     ]
    }
   ],
   "source": [
    "print(analyst['Easy Apply'].unique())\n",
    "\n",
    "for i, item in enumerate(analyst['Easy Apply']):\n",
    "    if item == '-1':\n",
    "        analyst.at[i, 'Easy Apply'] = False\n",
    "    else:\n",
    "        analyst.at[i, 'Easy Apply'] = True\n",
    "\n",
    "print(analyst['Easy Apply'].unique())"
   ]
  },
  {
   "cell_type": "markdown",
   "metadata": {},
   "source": [
    "Dealing with NaN values is done\n",
    "\n",
    "### Cleaning & Transforming Values"
   ]
  },
  {
   "cell_type": "code",
   "execution_count": 21,
   "metadata": {},
   "outputs": [
    {
     "data": {
      "text/html": [
       "<div>\n",
       "<style scoped>\n",
       "    .dataframe tbody tr th:only-of-type {\n",
       "        vertical-align: middle;\n",
       "    }\n",
       "\n",
       "    .dataframe tbody tr th {\n",
       "        vertical-align: top;\n",
       "    }\n",
       "\n",
       "    .dataframe thead th {\n",
       "        text-align: right;\n",
       "    }\n",
       "</style>\n",
       "<table border=\"1\" class=\"dataframe tex2jax_ignore\">\n",
       "  <thead>\n",
       "    <tr style=\"text-align: right;\">\n",
       "      <th></th>\n",
       "      <th>Job Title</th>\n",
       "      <th>Salary Estimate</th>\n",
       "      <th>Job Description</th>\n",
       "      <th>Rating</th>\n",
       "      <th>Company Name</th>\n",
       "      <th>Location</th>\n",
       "      <th>Headquarters</th>\n",
       "      <th>Size</th>\n",
       "      <th>Founded</th>\n",
       "      <th>Type of ownership</th>\n",
       "      <th>Industry</th>\n",
       "      <th>Sector</th>\n",
       "      <th>Revenue</th>\n",
       "      <th>Competitors</th>\n",
       "      <th>Easy Apply</th>\n",
       "    </tr>\n",
       "  </thead>\n",
       "  <tbody>\n",
       "    <tr>\n",
       "      <th>0</th>\n",
       "      <td>Data Analyst, Center on Immigration and Justic...</td>\n",
       "      <td>$37K-$66K (Glassdoor est.)</td>\n",
       "      <td>Are you eager to roll up your sleeves and harn...</td>\n",
       "      <td>3.2</td>\n",
       "      <td>Vera Institute of Justice\\n3.2</td>\n",
       "      <td>New York, NY</td>\n",
       "      <td>New York, NY</td>\n",
       "      <td>201 to 500</td>\n",
       "      <td>1961</td>\n",
       "      <td>Nonprofit Organization</td>\n",
       "      <td>Social Assistance</td>\n",
       "      <td>Non-Profit</td>\n",
       "      <td>$100 to $500 million (USD)</td>\n",
       "      <td>Unknown</td>\n",
       "      <td>True</td>\n",
       "    </tr>\n",
       "    <tr>\n",
       "      <th>1</th>\n",
       "      <td>Quality Data Analyst</td>\n",
       "      <td>$37K-$66K (Glassdoor est.)</td>\n",
       "      <td>Overview\\n\\nProvides analytical and technical ...</td>\n",
       "      <td>3.8</td>\n",
       "      <td>Visiting Nurse Service of New York\\n3.8</td>\n",
       "      <td>New York, NY</td>\n",
       "      <td>New York, NY</td>\n",
       "      <td>10000+</td>\n",
       "      <td>1893</td>\n",
       "      <td>Nonprofit Organization</td>\n",
       "      <td>Health Care Services &amp; Hospitals</td>\n",
       "      <td>Health Care</td>\n",
       "      <td>$2 to $5 billion (USD)</td>\n",
       "      <td>Unknown</td>\n",
       "      <td>False</td>\n",
       "    </tr>\n",
       "    <tr>\n",
       "      <th>2</th>\n",
       "      <td>Senior Data Analyst, Insights &amp; Analytics Team...</td>\n",
       "      <td>$37K-$66K (Glassdoor est.)</td>\n",
       "      <td>We’re looking for a Senior Data Analyst who ha...</td>\n",
       "      <td>3.4</td>\n",
       "      <td>Squarespace\\n3.4</td>\n",
       "      <td>New York, NY</td>\n",
       "      <td>New York, NY</td>\n",
       "      <td>1001 to 5000</td>\n",
       "      <td>2003</td>\n",
       "      <td>Company - Private</td>\n",
       "      <td>Internet</td>\n",
       "      <td>Information Technology</td>\n",
       "      <td>Unknown</td>\n",
       "      <td>GoDaddy</td>\n",
       "      <td>False</td>\n",
       "    </tr>\n",
       "    <tr>\n",
       "      <th>3</th>\n",
       "      <td>Data Analyst</td>\n",
       "      <td>$37K-$66K (Glassdoor est.)</td>\n",
       "      <td>Requisition NumberRR-0001939\\nRemote:Yes\\nWe c...</td>\n",
       "      <td>4.1</td>\n",
       "      <td>Celerity\\n4.1</td>\n",
       "      <td>New York, NY</td>\n",
       "      <td>McLean, VA</td>\n",
       "      <td>201 to 500</td>\n",
       "      <td>2002</td>\n",
       "      <td>Subsidiary or Business Segment</td>\n",
       "      <td>IT Services</td>\n",
       "      <td>Information Technology</td>\n",
       "      <td>$50 to $100 million (USD)</td>\n",
       "      <td>Unknown</td>\n",
       "      <td>False</td>\n",
       "    </tr>\n",
       "    <tr>\n",
       "      <th>4</th>\n",
       "      <td>Reporting Data Analyst</td>\n",
       "      <td>$37K-$66K (Glassdoor est.)</td>\n",
       "      <td>ABOUT FANDUEL GROUP\\n\\nFanDuel Group is a worl...</td>\n",
       "      <td>3.9</td>\n",
       "      <td>FanDuel\\n3.9</td>\n",
       "      <td>New York, NY</td>\n",
       "      <td>New York, NY</td>\n",
       "      <td>501 to 1000</td>\n",
       "      <td>2009</td>\n",
       "      <td>Company - Private</td>\n",
       "      <td>Sports &amp; Recreation</td>\n",
       "      <td>Arts, Entertainment &amp; Recreation</td>\n",
       "      <td>$100 to $500 million (USD)</td>\n",
       "      <td>DraftKings</td>\n",
       "      <td>True</td>\n",
       "    </tr>\n",
       "  </tbody>\n",
       "</table>\n",
       "</div>"
      ],
      "text/plain": [
       "                                           Job Title  \\\n",
       "0  Data Analyst, Center on Immigration and Justic...   \n",
       "1                               Quality Data Analyst   \n",
       "2  Senior Data Analyst, Insights & Analytics Team...   \n",
       "3                                       Data Analyst   \n",
       "4                             Reporting Data Analyst   \n",
       "\n",
       "              Salary Estimate  \\\n",
       "0  $37K-$66K (Glassdoor est.)   \n",
       "1  $37K-$66K (Glassdoor est.)   \n",
       "2  $37K-$66K (Glassdoor est.)   \n",
       "3  $37K-$66K (Glassdoor est.)   \n",
       "4  $37K-$66K (Glassdoor est.)   \n",
       "\n",
       "                                     Job Description  Rating  \\\n",
       "0  Are you eager to roll up your sleeves and harn...     3.2   \n",
       "1  Overview\\n\\nProvides analytical and technical ...     3.8   \n",
       "2  We’re looking for a Senior Data Analyst who ha...     3.4   \n",
       "3  Requisition NumberRR-0001939\\nRemote:Yes\\nWe c...     4.1   \n",
       "4  ABOUT FANDUEL GROUP\\n\\nFanDuel Group is a worl...     3.9   \n",
       "\n",
       "                              Company Name      Location  Headquarters  \\\n",
       "0           Vera Institute of Justice\\n3.2  New York, NY  New York, NY   \n",
       "1  Visiting Nurse Service of New York\\n3.8  New York, NY  New York, NY   \n",
       "2                         Squarespace\\n3.4  New York, NY  New York, NY   \n",
       "3                            Celerity\\n4.1  New York, NY    McLean, VA   \n",
       "4                             FanDuel\\n3.9  New York, NY  New York, NY   \n",
       "\n",
       "           Size  Founded               Type of ownership  \\\n",
       "0    201 to 500     1961          Nonprofit Organization   \n",
       "1        10000+     1893          Nonprofit Organization   \n",
       "2  1001 to 5000     2003               Company - Private   \n",
       "3    201 to 500     2002  Subsidiary or Business Segment   \n",
       "4   501 to 1000     2009               Company - Private   \n",
       "\n",
       "                           Industry                            Sector  \\\n",
       "0                 Social Assistance                        Non-Profit   \n",
       "1  Health Care Services & Hospitals                       Health Care   \n",
       "2                          Internet            Information Technology   \n",
       "3                       IT Services            Information Technology   \n",
       "4               Sports & Recreation  Arts, Entertainment & Recreation   \n",
       "\n",
       "                      Revenue Competitors Easy Apply  \n",
       "0  $100 to $500 million (USD)     Unknown       True  \n",
       "1      $2 to $5 billion (USD)     Unknown      False  \n",
       "2                     Unknown     GoDaddy      False  \n",
       "3   $50 to $100 million (USD)     Unknown      False  \n",
       "4  $100 to $500 million (USD)  DraftKings       True  "
      ]
     },
     "execution_count": 21,
     "metadata": {},
     "output_type": "execute_result"
    }
   ],
   "source": [
    "analyst.head(5)"
   ]
  },
  {
   "cell_type": "code",
   "execution_count": 22,
   "metadata": {},
   "outputs": [
    {
     "data": {
      "text/html": [
       "<div>\n",
       "<style scoped>\n",
       "    .dataframe tbody tr th:only-of-type {\n",
       "        vertical-align: middle;\n",
       "    }\n",
       "\n",
       "    .dataframe tbody tr th {\n",
       "        vertical-align: top;\n",
       "    }\n",
       "\n",
       "    .dataframe thead th {\n",
       "        text-align: right;\n",
       "    }\n",
       "</style>\n",
       "<table border=\"1\" class=\"dataframe tex2jax_ignore\">\n",
       "  <thead>\n",
       "    <tr style=\"text-align: right;\">\n",
       "      <th></th>\n",
       "      <th>Job Title</th>\n",
       "      <th>Salary Estimate</th>\n",
       "      <th>Job Description</th>\n",
       "      <th>Rating</th>\n",
       "      <th>Company Name</th>\n",
       "      <th>Location</th>\n",
       "      <th>Headquarters</th>\n",
       "      <th>Size</th>\n",
       "      <th>Founded</th>\n",
       "      <th>Type of ownership</th>\n",
       "      <th>Industry</th>\n",
       "      <th>Sector</th>\n",
       "      <th>Revenue USD</th>\n",
       "      <th>Competitors</th>\n",
       "      <th>Easy Apply</th>\n",
       "    </tr>\n",
       "  </thead>\n",
       "  <tbody>\n",
       "    <tr>\n",
       "      <th>0</th>\n",
       "      <td>Data Analyst, Center on Immigration and Justic...</td>\n",
       "      <td>$37K-$66K</td>\n",
       "      <td>Are you eager to roll up your sleeves and harn...</td>\n",
       "      <td>3.2</td>\n",
       "      <td>Vera Institute of Justice</td>\n",
       "      <td>New York, NY</td>\n",
       "      <td>New York, NY</td>\n",
       "      <td>201 to 500</td>\n",
       "      <td>1961</td>\n",
       "      <td>Nonprofit Organization</td>\n",
       "      <td>Social Assistance</td>\n",
       "      <td>Non-Profit</td>\n",
       "      <td>$100  to  $500 million</td>\n",
       "      <td>Unknown</td>\n",
       "      <td>True</td>\n",
       "    </tr>\n",
       "    <tr>\n",
       "      <th>1</th>\n",
       "      <td>Quality Data Analyst</td>\n",
       "      <td>$37K-$66K</td>\n",
       "      <td>Overview  Provides analytical and technical su...</td>\n",
       "      <td>3.8</td>\n",
       "      <td>Visiting Nurse Service of New York</td>\n",
       "      <td>New York, NY</td>\n",
       "      <td>New York, NY</td>\n",
       "      <td>10000+</td>\n",
       "      <td>1893</td>\n",
       "      <td>Nonprofit Organization</td>\n",
       "      <td>Health Care Services &amp; Hospitals</td>\n",
       "      <td>Health Care</td>\n",
       "      <td>$2  to  $5 billion</td>\n",
       "      <td>Unknown</td>\n",
       "      <td>False</td>\n",
       "    </tr>\n",
       "    <tr>\n",
       "      <th>2</th>\n",
       "      <td>Senior Data Analyst, Insights &amp; Analytics Team...</td>\n",
       "      <td>$37K-$66K</td>\n",
       "      <td>We’re looking for a Senior Data Analyst who ha...</td>\n",
       "      <td>3.4</td>\n",
       "      <td>Squarespace</td>\n",
       "      <td>New York, NY</td>\n",
       "      <td>New York, NY</td>\n",
       "      <td>1001 to 5000</td>\n",
       "      <td>2003</td>\n",
       "      <td>Company - Private</td>\n",
       "      <td>Internet</td>\n",
       "      <td>Information Technology</td>\n",
       "      <td>Unknown</td>\n",
       "      <td>GoDaddy</td>\n",
       "      <td>False</td>\n",
       "    </tr>\n",
       "    <tr>\n",
       "      <th>3</th>\n",
       "      <td>Data Analyst</td>\n",
       "      <td>$37K-$66K</td>\n",
       "      <td>Requisition NumberRR-0001939 Remote:Yes We col...</td>\n",
       "      <td>4.1</td>\n",
       "      <td>Celerity</td>\n",
       "      <td>New York, NY</td>\n",
       "      <td>McLean, VA</td>\n",
       "      <td>201 to 500</td>\n",
       "      <td>2002</td>\n",
       "      <td>Subsidiary or Business Segment</td>\n",
       "      <td>IT Services</td>\n",
       "      <td>Information Technology</td>\n",
       "      <td>$50  to  $100 million</td>\n",
       "      <td>Unknown</td>\n",
       "      <td>False</td>\n",
       "    </tr>\n",
       "    <tr>\n",
       "      <th>4</th>\n",
       "      <td>Reporting Data Analyst</td>\n",
       "      <td>$37K-$66K</td>\n",
       "      <td>ABOUT FANDUEL GROUP  FanDuel Group is a world-...</td>\n",
       "      <td>3.9</td>\n",
       "      <td>FanDuel</td>\n",
       "      <td>New York, NY</td>\n",
       "      <td>New York, NY</td>\n",
       "      <td>501 to 1000</td>\n",
       "      <td>2009</td>\n",
       "      <td>Company - Private</td>\n",
       "      <td>Sports &amp; Recreation</td>\n",
       "      <td>Arts, Entertainment &amp; Recreation</td>\n",
       "      <td>$100  to  $500 million</td>\n",
       "      <td>DraftKings</td>\n",
       "      <td>True</td>\n",
       "    </tr>\n",
       "  </tbody>\n",
       "</table>\n",
       "</div>"
      ],
      "text/plain": [
       "                                           Job Title Salary Estimate  \\\n",
       "0  Data Analyst, Center on Immigration and Justic...      $37K-$66K    \n",
       "1                               Quality Data Analyst      $37K-$66K    \n",
       "2  Senior Data Analyst, Insights & Analytics Team...      $37K-$66K    \n",
       "3                                       Data Analyst      $37K-$66K    \n",
       "4                             Reporting Data Analyst      $37K-$66K    \n",
       "\n",
       "                                     Job Description  Rating  \\\n",
       "0  Are you eager to roll up your sleeves and harn...     3.2   \n",
       "1  Overview  Provides analytical and technical su...     3.8   \n",
       "2  We’re looking for a Senior Data Analyst who ha...     3.4   \n",
       "3  Requisition NumberRR-0001939 Remote:Yes We col...     4.1   \n",
       "4  ABOUT FANDUEL GROUP  FanDuel Group is a world-...     3.9   \n",
       "\n",
       "                         Company Name      Location  Headquarters  \\\n",
       "0           Vera Institute of Justice  New York, NY  New York, NY   \n",
       "1  Visiting Nurse Service of New York  New York, NY  New York, NY   \n",
       "2                         Squarespace  New York, NY  New York, NY   \n",
       "3                            Celerity  New York, NY    McLean, VA   \n",
       "4                             FanDuel  New York, NY  New York, NY   \n",
       "\n",
       "           Size  Founded               Type of ownership  \\\n",
       "0    201 to 500     1961          Nonprofit Organization   \n",
       "1        10000+     1893          Nonprofit Organization   \n",
       "2  1001 to 5000     2003               Company - Private   \n",
       "3    201 to 500     2002  Subsidiary or Business Segment   \n",
       "4   501 to 1000     2009               Company - Private   \n",
       "\n",
       "                           Industry                            Sector  \\\n",
       "0                 Social Assistance                        Non-Profit   \n",
       "1  Health Care Services & Hospitals                       Health Care   \n",
       "2                          Internet            Information Technology   \n",
       "3                       IT Services            Information Technology   \n",
       "4               Sports & Recreation  Arts, Entertainment & Recreation   \n",
       "\n",
       "               Revenue USD Competitors Easy Apply  \n",
       "0  $100  to  $500 million      Unknown       True  \n",
       "1      $2  to  $5 billion      Unknown      False  \n",
       "2                  Unknown     GoDaddy      False  \n",
       "3   $50  to  $100 million      Unknown      False  \n",
       "4  $100  to  $500 million   DraftKings       True  "
      ]
     },
     "execution_count": 22,
     "metadata": {},
     "output_type": "execute_result"
    }
   ],
   "source": [
    "# get rid of (Glassdoor est.)\n",
    "analyst['Salary Estimate'] = [x.split('(')[0] for x in analyst['Salary Estimate']]\n",
    "# replace '\\n' with space\n",
    "analyst['Job Description'] = [x.replace('\\n', ' ') for x in analyst['Job Description']]\n",
    "# select the company name only \n",
    "analyst['Company Name'] = [x.split('\\n')[0] for x in analyst['Company Name']]\n",
    "# bring USD to the column name\n",
    "analyst.rename(columns={'Revenue':'Revenue USD'}, inplace=True)\n",
    "analyst['Revenue USD'] = [(x.split('(')[0]).replace('to', ' to ') for x in analyst['Revenue USD']]\n",
    "analyst.head(5)"
   ]
  },
  {
   "cell_type": "markdown",
   "metadata": {},
   "source": [
    "Now data is in a clean and workable form.\n"
   ]
  },
  {
   "cell_type": "code",
   "execution_count": 23,
   "metadata": {},
   "outputs": [
    {
     "data": {
      "text/plain": [
       "array(['$37K-$66K ', '$46K-$87K ', '$51K-$88K ', '$51K-$87K ',\n",
       "       '$59K-$85K ', '$43K-$76K ', '$60K-$110K ', '$41K-$78K ',\n",
       "       '$45K-$88K ', '$73K-$127K ', '$84K-$90K ', '$27K-$52K ',\n",
       "       '$42K-$74K ', '$77K-$132K ', '$98K-$114K ', '$48K-$96K ',\n",
       "       '$26K-$47K ', '$31K-$59K ', '$47K-$81K ', '$43K-$69K ',\n",
       "       '$49K-$112K ', '$30K-$54K ', '$55K-$103K ', '$37K-$70K ',\n",
       "       '$57K-$103K ', '$35K-$45K ', '$42K-$66K ', '$65K-$81K ',\n",
       "       '$113K-$132K ', '$42K-$63K ', '$60K-$66K ', '$73K-$82K ',\n",
       "       '$67K-$92K ', '$42K-$76K ', '$97K-$129K ', '$68K-$87K ',\n",
       "       '$29K-$38K ', '$47K-$76K ', '$74K-$123K ', '$53K-$94K ',\n",
       "       '$46K-$102K ', '$43K-$94K ', '$45K-$78K ', '$38K-$68K ',\n",
       "       '$37K-$44K ', '$64K-$113K ', '$50K-$93K ', '$37K-$68K ',\n",
       "       '$73K-$89K ', '$76K-$122K ', '$60K-$124K ', '$34K-$61K ',\n",
       "       '$24K-$48K ', '$30K-$53K ', '$41K-$86K ', '$44K-$82K ',\n",
       "       '$48K-$88K ', '$44K-$78K ', '$110K-$190K ', '$89K-$151K ',\n",
       "       '$69K-$127K ', '$51K-$93K ', '$58K-$93K ', '$63K-$116K ',\n",
       "       '$53K-$104K ', '$35K-$42K ', '$43K-$77K ', '$40K-$72K ',\n",
       "       '$50K-$86K ', '$35K-$67K ', '$57K-$70K ', '$28K-$52K ',\n",
       "       '$46K-$86K ', '$54K-$75K ', '$53K-$99K ', '$40K-$74K ',\n",
       "       '$57K-$104K ', '$99K-$178K ', '$93K-$159K ', '$82K-$116K ',\n",
       "       '$65K-$120K ', '$47K-$74K ', '$55K-$101K ', '55𝐾− 101K ',\n",
       "       '$32K-$56K ', '$36K-$67K ', '$57K-$67K ', '$49K-$91K ',\n",
       "       '$57K-$100K ', '$78K-$104K '], dtype=object)"
      ]
     },
     "execution_count": 23,
     "metadata": {},
     "output_type": "execute_result"
    }
   ],
   "source": [
    "analyst['Salary Estimate'].unique()"
   ]
  },
  {
   "cell_type": "code",
   "execution_count": 24,
   "metadata": {},
   "outputs": [
    {
     "data": {
      "text/html": [
       "<div>\n",
       "<style scoped>\n",
       "    .dataframe tbody tr th:only-of-type {\n",
       "        vertical-align: middle;\n",
       "    }\n",
       "\n",
       "    .dataframe tbody tr th {\n",
       "        vertical-align: top;\n",
       "    }\n",
       "\n",
       "    .dataframe thead th {\n",
       "        text-align: right;\n",
       "    }\n",
       "</style>\n",
       "<table border=\"1\" class=\"dataframe tex2jax_ignore\">\n",
       "  <thead>\n",
       "    <tr style=\"text-align: right;\">\n",
       "      <th></th>\n",
       "      <th>Job Title</th>\n",
       "      <th>Job Description</th>\n",
       "      <th>Rating</th>\n",
       "      <th>Company Name</th>\n",
       "      <th>Location</th>\n",
       "      <th>Headquarters</th>\n",
       "      <th>Size</th>\n",
       "      <th>Founded</th>\n",
       "      <th>Type of ownership</th>\n",
       "      <th>Industry</th>\n",
       "      <th>Sector</th>\n",
       "      <th>Revenue USD</th>\n",
       "      <th>Competitors</th>\n",
       "      <th>Easy Apply</th>\n",
       "      <th>Salary Min</th>\n",
       "      <th>Salary Max</th>\n",
       "    </tr>\n",
       "  </thead>\n",
       "  <tbody>\n",
       "    <tr>\n",
       "      <th>0</th>\n",
       "      <td>Data Analyst, Center on Immigration and Justic...</td>\n",
       "      <td>Are you eager to roll up your sleeves and harn...</td>\n",
       "      <td>3.2</td>\n",
       "      <td>Vera Institute of Justice</td>\n",
       "      <td>New York, NY</td>\n",
       "      <td>New York, NY</td>\n",
       "      <td>201 to 500</td>\n",
       "      <td>1961</td>\n",
       "      <td>Nonprofit Organization</td>\n",
       "      <td>Social Assistance</td>\n",
       "      <td>Non-Profit</td>\n",
       "      <td>$100  to  $500 million</td>\n",
       "      <td>Unknown</td>\n",
       "      <td>True</td>\n",
       "      <td>37000</td>\n",
       "      <td>66000</td>\n",
       "    </tr>\n",
       "    <tr>\n",
       "      <th>1</th>\n",
       "      <td>Quality Data Analyst</td>\n",
       "      <td>Overview  Provides analytical and technical su...</td>\n",
       "      <td>3.8</td>\n",
       "      <td>Visiting Nurse Service of New York</td>\n",
       "      <td>New York, NY</td>\n",
       "      <td>New York, NY</td>\n",
       "      <td>10000+</td>\n",
       "      <td>1893</td>\n",
       "      <td>Nonprofit Organization</td>\n",
       "      <td>Health Care Services &amp; Hospitals</td>\n",
       "      <td>Health Care</td>\n",
       "      <td>$2  to  $5 billion</td>\n",
       "      <td>Unknown</td>\n",
       "      <td>False</td>\n",
       "      <td>37000</td>\n",
       "      <td>66000</td>\n",
       "    </tr>\n",
       "    <tr>\n",
       "      <th>2</th>\n",
       "      <td>Senior Data Analyst, Insights &amp; Analytics Team...</td>\n",
       "      <td>We’re looking for a Senior Data Analyst who ha...</td>\n",
       "      <td>3.4</td>\n",
       "      <td>Squarespace</td>\n",
       "      <td>New York, NY</td>\n",
       "      <td>New York, NY</td>\n",
       "      <td>1001 to 5000</td>\n",
       "      <td>2003</td>\n",
       "      <td>Company - Private</td>\n",
       "      <td>Internet</td>\n",
       "      <td>Information Technology</td>\n",
       "      <td>Unknown</td>\n",
       "      <td>GoDaddy</td>\n",
       "      <td>False</td>\n",
       "      <td>37000</td>\n",
       "      <td>66000</td>\n",
       "    </tr>\n",
       "    <tr>\n",
       "      <th>3</th>\n",
       "      <td>Data Analyst</td>\n",
       "      <td>Requisition NumberRR-0001939 Remote:Yes We col...</td>\n",
       "      <td>4.1</td>\n",
       "      <td>Celerity</td>\n",
       "      <td>New York, NY</td>\n",
       "      <td>McLean, VA</td>\n",
       "      <td>201 to 500</td>\n",
       "      <td>2002</td>\n",
       "      <td>Subsidiary or Business Segment</td>\n",
       "      <td>IT Services</td>\n",
       "      <td>Information Technology</td>\n",
       "      <td>$50  to  $100 million</td>\n",
       "      <td>Unknown</td>\n",
       "      <td>False</td>\n",
       "      <td>37000</td>\n",
       "      <td>66000</td>\n",
       "    </tr>\n",
       "    <tr>\n",
       "      <th>4</th>\n",
       "      <td>Reporting Data Analyst</td>\n",
       "      <td>ABOUT FANDUEL GROUP  FanDuel Group is a world-...</td>\n",
       "      <td>3.9</td>\n",
       "      <td>FanDuel</td>\n",
       "      <td>New York, NY</td>\n",
       "      <td>New York, NY</td>\n",
       "      <td>501 to 1000</td>\n",
       "      <td>2009</td>\n",
       "      <td>Company - Private</td>\n",
       "      <td>Sports &amp; Recreation</td>\n",
       "      <td>Arts, Entertainment &amp; Recreation</td>\n",
       "      <td>$100  to  $500 million</td>\n",
       "      <td>DraftKings</td>\n",
       "      <td>True</td>\n",
       "      <td>37000</td>\n",
       "      <td>66000</td>\n",
       "    </tr>\n",
       "  </tbody>\n",
       "</table>\n",
       "</div>"
      ],
      "text/plain": [
       "                                           Job Title  \\\n",
       "0  Data Analyst, Center on Immigration and Justic...   \n",
       "1                               Quality Data Analyst   \n",
       "2  Senior Data Analyst, Insights & Analytics Team...   \n",
       "3                                       Data Analyst   \n",
       "4                             Reporting Data Analyst   \n",
       "\n",
       "                                     Job Description  Rating  \\\n",
       "0  Are you eager to roll up your sleeves and harn...     3.2   \n",
       "1  Overview  Provides analytical and technical su...     3.8   \n",
       "2  We’re looking for a Senior Data Analyst who ha...     3.4   \n",
       "3  Requisition NumberRR-0001939 Remote:Yes We col...     4.1   \n",
       "4  ABOUT FANDUEL GROUP  FanDuel Group is a world-...     3.9   \n",
       "\n",
       "                         Company Name      Location  Headquarters  \\\n",
       "0           Vera Institute of Justice  New York, NY  New York, NY   \n",
       "1  Visiting Nurse Service of New York  New York, NY  New York, NY   \n",
       "2                         Squarespace  New York, NY  New York, NY   \n",
       "3                            Celerity  New York, NY    McLean, VA   \n",
       "4                             FanDuel  New York, NY  New York, NY   \n",
       "\n",
       "           Size  Founded               Type of ownership  \\\n",
       "0    201 to 500     1961          Nonprofit Organization   \n",
       "1        10000+     1893          Nonprofit Organization   \n",
       "2  1001 to 5000     2003               Company - Private   \n",
       "3    201 to 500     2002  Subsidiary or Business Segment   \n",
       "4   501 to 1000     2009               Company - Private   \n",
       "\n",
       "                           Industry                            Sector  \\\n",
       "0                 Social Assistance                        Non-Profit   \n",
       "1  Health Care Services & Hospitals                       Health Care   \n",
       "2                          Internet            Information Technology   \n",
       "3                       IT Services            Information Technology   \n",
       "4               Sports & Recreation  Arts, Entertainment & Recreation   \n",
       "\n",
       "               Revenue USD Competitors Easy Apply  Salary Min  Salary Max  \n",
       "0  $100  to  $500 million      Unknown       True       37000       66000  \n",
       "1      $2  to  $5 billion      Unknown      False       37000       66000  \n",
       "2                  Unknown     GoDaddy      False       37000       66000  \n",
       "3   $50  to  $100 million      Unknown      False       37000       66000  \n",
       "4  $100  to  $500 million   DraftKings       True       37000       66000  "
      ]
     },
     "execution_count": 24,
     "metadata": {},
     "output_type": "execute_result"
    }
   ],
   "source": [
    "# this line is for '55𝐾− 101K'. 𝐾− is italic, so I have to normalize it\n",
    "analyst['Salary Estimate'] = analyst['Salary Estimate'].apply(lambda x: unicodedata.normalize(\"NFKC\", x))\n",
    "analyst['Salary Estimate'] = analyst['Salary Estimate'].apply(lambda x: x.replace('− ', '-'))\n",
    "# expand the salary column to salary min and max\n",
    "analyst['Salary Min'], analyst['Salary Max'] = analyst['Salary Estimate'].str.split('-', 1).str\n",
    "analyst['Salary Min'] = analyst['Salary Min'].apply(lambda x: int(x.replace('$', '').replace('K', '000').strip()))\n",
    "analyst['Salary Max'] = analyst['Salary Max'].apply(lambda x: int(x.replace('$', '').replace('K', '000').strip()))\n",
    "analyst.drop(columns='Salary Estimate', inplace=True)\n",
    "analyst.head()"
   ]
  },
  {
   "cell_type": "code",
   "execution_count": 25,
   "metadata": {},
   "outputs": [
    {
     "data": {
      "text/plain": [
       "array(['201 to 500', '10000+', '1001 to 5000', '501 to 1000',\n",
       "       '5001 to 10000', '1 to 50', '51 to 200', 'Unknown'], dtype=object)"
      ]
     },
     "execution_count": 25,
     "metadata": {},
     "output_type": "execute_result"
    }
   ],
   "source": [
    "analyst.Size.unique()"
   ]
  },
  {
   "cell_type": "code",
   "execution_count": 26,
   "metadata": {},
   "outputs": [
    {
     "data": {
      "text/html": [
       "<div>\n",
       "<style scoped>\n",
       "    .dataframe tbody tr th:only-of-type {\n",
       "        vertical-align: middle;\n",
       "    }\n",
       "\n",
       "    .dataframe tbody tr th {\n",
       "        vertical-align: top;\n",
       "    }\n",
       "\n",
       "    .dataframe thead th {\n",
       "        text-align: right;\n",
       "    }\n",
       "</style>\n",
       "<table border=\"1\" class=\"dataframe tex2jax_ignore\">\n",
       "  <thead>\n",
       "    <tr style=\"text-align: right;\">\n",
       "      <th></th>\n",
       "      <th>Job Title</th>\n",
       "      <th>Job Description</th>\n",
       "      <th>Rating</th>\n",
       "      <th>Company Name</th>\n",
       "      <th>Location</th>\n",
       "      <th>Headquarters</th>\n",
       "      <th>Founded</th>\n",
       "      <th>Type of ownership</th>\n",
       "      <th>Industry</th>\n",
       "      <th>Sector</th>\n",
       "      <th>Revenue USD</th>\n",
       "      <th>Competitors</th>\n",
       "      <th>Easy Apply</th>\n",
       "      <th>Salary Min</th>\n",
       "      <th>Salary Max</th>\n",
       "      <th>Size Min</th>\n",
       "      <th>Size Max</th>\n",
       "    </tr>\n",
       "  </thead>\n",
       "  <tbody>\n",
       "    <tr>\n",
       "      <th>0</th>\n",
       "      <td>Data Analyst, Center on Immigration and Justic...</td>\n",
       "      <td>Are you eager to roll up your sleeves and harn...</td>\n",
       "      <td>3.2</td>\n",
       "      <td>Vera Institute of Justice</td>\n",
       "      <td>New York, NY</td>\n",
       "      <td>New York, NY</td>\n",
       "      <td>1961</td>\n",
       "      <td>Nonprofit Organization</td>\n",
       "      <td>Social Assistance</td>\n",
       "      <td>Non-Profit</td>\n",
       "      <td>$100  to  $500 million</td>\n",
       "      <td>Unknown</td>\n",
       "      <td>True</td>\n",
       "      <td>37000</td>\n",
       "      <td>66000</td>\n",
       "      <td>201</td>\n",
       "      <td>500</td>\n",
       "    </tr>\n",
       "    <tr>\n",
       "      <th>1</th>\n",
       "      <td>Quality Data Analyst</td>\n",
       "      <td>Overview  Provides analytical and technical su...</td>\n",
       "      <td>3.8</td>\n",
       "      <td>Visiting Nurse Service of New York</td>\n",
       "      <td>New York, NY</td>\n",
       "      <td>New York, NY</td>\n",
       "      <td>1893</td>\n",
       "      <td>Nonprofit Organization</td>\n",
       "      <td>Health Care Services &amp; Hospitals</td>\n",
       "      <td>Health Care</td>\n",
       "      <td>$2  to  $5 billion</td>\n",
       "      <td>Unknown</td>\n",
       "      <td>False</td>\n",
       "      <td>37000</td>\n",
       "      <td>66000</td>\n",
       "      <td>&lt;NA&gt;</td>\n",
       "      <td>&lt;NA&gt;</td>\n",
       "    </tr>\n",
       "    <tr>\n",
       "      <th>2</th>\n",
       "      <td>Senior Data Analyst, Insights &amp; Analytics Team...</td>\n",
       "      <td>We’re looking for a Senior Data Analyst who ha...</td>\n",
       "      <td>3.4</td>\n",
       "      <td>Squarespace</td>\n",
       "      <td>New York, NY</td>\n",
       "      <td>New York, NY</td>\n",
       "      <td>2003</td>\n",
       "      <td>Company - Private</td>\n",
       "      <td>Internet</td>\n",
       "      <td>Information Technology</td>\n",
       "      <td>Unknown</td>\n",
       "      <td>GoDaddy</td>\n",
       "      <td>False</td>\n",
       "      <td>37000</td>\n",
       "      <td>66000</td>\n",
       "      <td>1001</td>\n",
       "      <td>5000</td>\n",
       "    </tr>\n",
       "    <tr>\n",
       "      <th>3</th>\n",
       "      <td>Data Analyst</td>\n",
       "      <td>Requisition NumberRR-0001939 Remote:Yes We col...</td>\n",
       "      <td>4.1</td>\n",
       "      <td>Celerity</td>\n",
       "      <td>New York, NY</td>\n",
       "      <td>McLean, VA</td>\n",
       "      <td>2002</td>\n",
       "      <td>Subsidiary or Business Segment</td>\n",
       "      <td>IT Services</td>\n",
       "      <td>Information Technology</td>\n",
       "      <td>$50  to  $100 million</td>\n",
       "      <td>Unknown</td>\n",
       "      <td>False</td>\n",
       "      <td>37000</td>\n",
       "      <td>66000</td>\n",
       "      <td>201</td>\n",
       "      <td>500</td>\n",
       "    </tr>\n",
       "    <tr>\n",
       "      <th>4</th>\n",
       "      <td>Reporting Data Analyst</td>\n",
       "      <td>ABOUT FANDUEL GROUP  FanDuel Group is a world-...</td>\n",
       "      <td>3.9</td>\n",
       "      <td>FanDuel</td>\n",
       "      <td>New York, NY</td>\n",
       "      <td>New York, NY</td>\n",
       "      <td>2009</td>\n",
       "      <td>Company - Private</td>\n",
       "      <td>Sports &amp; Recreation</td>\n",
       "      <td>Arts, Entertainment &amp; Recreation</td>\n",
       "      <td>$100  to  $500 million</td>\n",
       "      <td>DraftKings</td>\n",
       "      <td>True</td>\n",
       "      <td>37000</td>\n",
       "      <td>66000</td>\n",
       "      <td>501</td>\n",
       "      <td>1000</td>\n",
       "    </tr>\n",
       "  </tbody>\n",
       "</table>\n",
       "</div>"
      ],
      "text/plain": [
       "                                           Job Title  \\\n",
       "0  Data Analyst, Center on Immigration and Justic...   \n",
       "1                               Quality Data Analyst   \n",
       "2  Senior Data Analyst, Insights & Analytics Team...   \n",
       "3                                       Data Analyst   \n",
       "4                             Reporting Data Analyst   \n",
       "\n",
       "                                     Job Description  Rating  \\\n",
       "0  Are you eager to roll up your sleeves and harn...     3.2   \n",
       "1  Overview  Provides analytical and technical su...     3.8   \n",
       "2  We’re looking for a Senior Data Analyst who ha...     3.4   \n",
       "3  Requisition NumberRR-0001939 Remote:Yes We col...     4.1   \n",
       "4  ABOUT FANDUEL GROUP  FanDuel Group is a world-...     3.9   \n",
       "\n",
       "                         Company Name      Location  Headquarters  Founded  \\\n",
       "0           Vera Institute of Justice  New York, NY  New York, NY     1961   \n",
       "1  Visiting Nurse Service of New York  New York, NY  New York, NY     1893   \n",
       "2                         Squarespace  New York, NY  New York, NY     2003   \n",
       "3                            Celerity  New York, NY    McLean, VA     2002   \n",
       "4                             FanDuel  New York, NY  New York, NY     2009   \n",
       "\n",
       "                Type of ownership                          Industry  \\\n",
       "0          Nonprofit Organization                 Social Assistance   \n",
       "1          Nonprofit Organization  Health Care Services & Hospitals   \n",
       "2               Company - Private                          Internet   \n",
       "3  Subsidiary or Business Segment                       IT Services   \n",
       "4               Company - Private               Sports & Recreation   \n",
       "\n",
       "                             Sector              Revenue USD Competitors  \\\n",
       "0                        Non-Profit  $100  to  $500 million      Unknown   \n",
       "1                       Health Care      $2  to  $5 billion      Unknown   \n",
       "2            Information Technology                  Unknown     GoDaddy   \n",
       "3            Information Technology   $50  to  $100 million      Unknown   \n",
       "4  Arts, Entertainment & Recreation  $100  to  $500 million   DraftKings   \n",
       "\n",
       "  Easy Apply  Salary Min  Salary Max  Size Min  Size Max  \n",
       "0       True       37000       66000       201       500  \n",
       "1      False       37000       66000      <NA>      <NA>  \n",
       "2      False       37000       66000      1001      5000  \n",
       "3      False       37000       66000       201       500  \n",
       "4       True       37000       66000       501      1000  "
      ]
     },
     "execution_count": 26,
     "metadata": {},
     "output_type": "execute_result"
    }
   ],
   "source": [
    "analyst['Size Min'] = [ int(size.split(' to ')[0].strip()) if 'to' in size else np.nan for size in analyst['Size']]\n",
    "analyst['Size Max'] = [ int(size.split(' to ')[1].strip()) if 'to' in size else np.nan for size in analyst['Size']]\n",
    "analyst['Size Min'] = analyst['Size Min'].astype('Int16')\n",
    "analyst['Size Max'] = analyst['Size Max'].astype('Int16')\n",
    "analyst.drop(columns='Size', inplace=True)\n",
    "analyst.head()"
   ]
  },
  {
   "cell_type": "markdown",
   "metadata": {},
   "source": [
    "I could also split the Revenue column, but as I don't see the significance of finding average min and max revenues for this analysis, I'm going to keep it as how it is."
   ]
  },
  {
   "cell_type": "markdown",
   "metadata": {},
   "source": [
    "## Data Analysis"
   ]
  },
  {
   "cell_type": "markdown",
   "metadata": {},
   "source": [
    "#### Company"
   ]
  },
  {
   "cell_type": "code",
   "execution_count": 27,
   "metadata": {},
   "outputs": [
    {
     "name": "stdout",
     "output_type": "stream",
     "text": [
      "Staffigo Technical Services, LLC    58\n",
      "Diverse Lynx                        22\n",
      "Kforce                              19\n",
      "Lorven Technologies Inc             19\n",
      "Robert Half                         14\n",
      "Mondo                               14\n",
      "Avacend, Inc.                       13\n",
      "eTeam Inc.                          10\n",
      "Apex Systems                        10\n",
      "Apple                               10\n",
      "Name: Company Name, dtype: int64\n"
     ]
    }
   ],
   "source": [
    "ten_companies = analyst['Company Name'].copy().value_counts()[:10]\n",
    "print(ten_companies)"
   ]
  },
  {
   "cell_type": "code",
   "execution_count": 28,
   "metadata": {},
   "outputs": [
    {
     "data": {
      "image/png": "[encoded data removed]",
      "text/plain": [
       "<Figure size 720x432 with 1 Axes>"
      ]
     },
     "metadata": {
      "needs_background": "light"
     },
     "output_type": "display_data"
    }
   ],
   "source": [
    "# [::-1] at the end reverses the order\n",
    "plt.figure(figsize=(10, 6))\n",
    "sns.barplot(x=ten_companies.values, y=ten_companies.index)\n",
    "plt.title('Companies with the most job posts')\n",
    "plt.show()"
   ]
  },
  {
   "cell_type": "markdown",
   "metadata": {},
   "source": [
    "#### Rating"
   ]
  },
  {
   "cell_type": "code",
   "execution_count": 29,
   "metadata": {},
   "outputs": [
    {
     "name": "stdout",
     "output_type": "stream",
     "text": [
      "3 ~ 3.9    1088\n",
      "4 ~ 4.9     558\n",
      "5           402\n",
      "2 ~ 2.9     186\n",
      "1 ~ 1.9      18\n",
      "dtype: int64\n",
      "\n",
      "Sorted dictionary of ratings and occurrences: \n",
      "OrderedDict([('1 ~ 1.9', 18), ('2 ~ 2.9', 186), ('3 ~ 3.9', 1088), ('4 ~ 4.9', 558), ('5', 402)])\n"
     ]
    }
   ],
   "source": [
    "from collections import OrderedDict\n",
    "\n",
    "rating_list = []\n",
    "for rating in analyst['Rating']:\n",
    "    if rating < 1:\n",
    "        rating_list.append('less than 1')\n",
    "    elif 1 <= rating and rating < 2:\n",
    "        rating_list.append('1 ~ 1.9')\n",
    "    elif 2 <= rating and rating < 3:\n",
    "        rating_list.append('2 ~ 2.9')\n",
    "    elif 3 <= rating and rating < 4:\n",
    "        rating_list.append('3 ~ 3.9')\n",
    "    elif 4 <= rating and rating < 5:\n",
    "        rating_list.append('4 ~ 4.9')\n",
    "    else:\n",
    "        rating_list.append('5')\n",
    "rating_list = pd.Series(rating_list)\n",
    "rating_range = rating_list.value_counts()\n",
    "print(rating_range)\n",
    "\n",
    "rating_dict = dict()\n",
    "for i in range(len(rating_range)):\n",
    "    rating_dict[rating_range.index[i]] = rating_range.values[i]\n",
    "ordered_rating = OrderedDict(sorted(rating_dict.items(), key=lambda t: t[0]))\n",
    "print()\n",
    "print(f'Sorted dictionary of ratings and occurrences: \\n{ordered_rating}')"
   ]
  },
  {
   "cell_type": "code",
   "execution_count": 30,
   "metadata": {},
   "outputs": [
    {
     "data": {
      "image/png": "[encoded data removed]",
      "text/plain": [
       "<Figure size 576x576 with 1 Axes>"
      ]
     },
     "metadata": {},
     "output_type": "display_data"
    },
    {
     "data": {
      "image/png": "[encoded data removed]",
      "text/plain": [
       "<Figure size 720x288 with 1 Axes>"
      ]
     },
     "metadata": {
      "needs_background": "light"
     },
     "output_type": "display_data"
    }
   ],
   "source": [
    "colors = ['violet', 'lightseagreen', 'lightcoral', 'blanchedalmond', 'royalblue']\n",
    "plt.figure(figsize=(8, 8))\n",
    "plt.pie(ordered_rating.values(), labels=ordered_rating.keys(),\n",
    "        autopct='%1.0f%%', pctdistance=1.1, labeldistance=1.2, colors=colors)\n",
    "plt.title('Rating Distribution Pie Chart')\n",
    "plt.show()\n",
    "\n",
    "plt.figure(figsize=(10, 4))\n",
    "sns.barplot(x=list(ordered_rating.values()), y=list(ordered_rating.keys()), palette=colors)\n",
    "plt.ylabel('Rating')\n",
    "plt.xlabel('Occurrence')\n",
    "plt.title('Rating Distribution Bar Chart')\n",
    "plt.show()"
   ]
  },
  {
   "cell_type": "code",
   "execution_count": 31,
   "metadata": {},
   "outputs": [
    {
     "data": {
      "text/plain": [
       "count    1981.000000\n",
       "mean        3.731903\n",
       "std         0.670332\n",
       "min         1.000000\n",
       "25%         3.300000\n",
       "50%         3.700000\n",
       "75%         4.100000\n",
       "max         5.000000\n",
       "Name: Rating, dtype: float64"
      ]
     },
     "execution_count": 31,
     "metadata": {},
     "output_type": "execute_result"
    }
   ],
   "source": [
    "analyst['Rating'].describe()"
   ]
  },
  {
   "cell_type": "markdown",
   "metadata": {},
   "source": [
    "The mean of ratings is 3.73 and 91% lies in the range of 3.0 ~ 5.0, so I guess the majority feels either neutral or positive about their work environment"
   ]
  },
  {
   "cell_type": "markdown",
   "metadata": {},
   "source": [
    "#### Location"
   ]
  },
  {
   "cell_type": "code",
   "execution_count": 32,
   "metadata": {},
   "outputs": [
    {
     "data": {
      "text/plain": [
       "New York, NY         310\n",
       "Chicago, IL          130\n",
       "San Francisco, CA    119\n",
       "Austin, TX            81\n",
       "Los Angeles, CA       80\n",
       "Charlotte, NC         78\n",
       "Houston, TX           72\n",
       "Dallas, TX            66\n",
       "San Diego, CA         62\n",
       "Philadelphia, PA      56\n",
       "Denver, CO            47\n",
       "San Antonio, TX       45\n",
       "San Jose, CA          38\n",
       "Phoenix, AZ           35\n",
       "Jersey City, NJ       33\n",
       "Tempe, AZ             31\n",
       "Seattle, WA           30\n",
       "Columbus, OH          29\n",
       "Irving, TX            29\n",
       "Plano, TX             28\n",
       "Name: Location, dtype: int64"
      ]
     },
     "execution_count": 32,
     "metadata": {},
     "output_type": "execute_result"
    }
   ],
   "source": [
    "analyst['Location'].value_counts()[:20]"
   ]
  },
  {
   "cell_type": "markdown",
   "metadata": {},
   "source": [
    "Instead of looking at cities, I want to see the jobs' availability by ***states***"
   ]
  },
  {
   "cell_type": "code",
   "execution_count": 33,
   "metadata": {},
   "outputs": [
    {
     "name": "stdout",
     "output_type": "stream",
     "text": [
      "CA    626\n",
      "TX    394\n",
      "NY    345\n",
      "IL    164\n",
      "PA    114\n",
      "AZ     97\n",
      "CO     96\n",
      "NC     89\n",
      "NJ     86\n",
      "WA     54\n",
      "VA     48\n",
      "OH     35\n",
      "UT     33\n",
      "FL     27\n",
      "IN     23\n",
      "DE     11\n",
      "GA      4\n",
      "KS      3\n",
      "SC      3\n",
      "dtype: int64\n"
     ]
    }
   ],
   "source": [
    "state = pd.Series(x.split(', ')[-1] for x in analyst['Location'])\n",
    "unique_state = state.value_counts()\n",
    "print(unique_state)"
   ]
  },
  {
   "cell_type": "code",
   "execution_count": 34,
   "metadata": {},
   "outputs": [
    {
     "data": {
      "image/png": "[encoded data removed]",
      "text/plain": [
       "<Figure size 720x432 with 1 Axes>"
      ]
     },
     "metadata": {
      "needs_background": "light"
     },
     "output_type": "display_data"
    }
   ],
   "source": [
    "plt.figure(figsize=(10, 6))\n",
    "sns.barplot(x=unique_state.index, y=unique_state.values)\n",
    "plt.title('Job Location by States')\n",
    "plt.show()"
   ]
  },
  {
   "cell_type": "markdown",
   "metadata": {},
   "source": [
    "I was surprised to see Texas in top 3 as I was expecting only New York and California to be dominant"
   ]
  },
  {
   "cell_type": "markdown",
   "metadata": {},
   "source": [
    "#### Industry & Sector"
   ]
  },
  {
   "cell_type": "code",
   "execution_count": 35,
   "metadata": {},
   "outputs": [
    {
     "data": {
      "text/plain": [
       "array(['Social Assistance', 'Health Care Services & Hospitals',\n",
       "       'Internet', 'IT Services', 'Sports & Recreation',\n",
       "       'Investment Banking & Asset Management', 'Insurance Carriers',\n",
       "       'Venture Capital & Private Equity', 'Research & Development',\n",
       "       'Unknown', 'Advertising & Marketing', 'Brokerage Services',\n",
       "       'Building & Personnel Services', 'Consulting',\n",
       "       'Casual Restaurants', 'Enterprise Software & Network Solutions',\n",
       "       'Lending', 'Banks & Credit Unions', 'Computer Hardware & Software',\n",
       "       'Staffing & Outsourcing',\n",
       "       'Motion Picture Production & Distribution', 'Legal', 'Real Estate',\n",
       "       'Federal Agencies', 'TV Broadcast & Cable Networks', 'Accounting',\n",
       "       'Food & Beverage Stores', 'Health, Beauty, & Fitness',\n",
       "       'Biotech & Pharmaceuticals', 'Insurance Agencies & Brokerages',\n",
       "       'Gambling', 'Video Games', 'Colleges & Universities',\n",
       "       'Architectural & Engineering Services',\n",
       "       'General Repair & Maintenance', 'Security Services', 'News Outlet',\n",
       "       'Commercial Equipment Repair & Maintenance', 'Publishing',\n",
       "       'Energy', 'Other Retail Stores',\n",
       "       'Health Fundraising Organizations', 'Utilities',\n",
       "       'Consumer Products Manufacturing', 'Municipal Governments',\n",
       "       'Electrical & Electronic Manufacturing',\n",
       "       'Industrial Manufacturing', 'Preschool & Child Care',\n",
       "       'Aerospace & Defense', 'Food & Beverage Manufacturing',\n",
       "       'Vehicle Dealers', 'Telecommunications Services', 'Construction',\n",
       "       'Financial Transaction Processing',\n",
       "       'Beauty & Personal Accessories Stores',\n",
       "       'Automotive Parts & Accessories Stores', 'Chemical Manufacturing',\n",
       "       'Department, Clothing, & Shoe Stores', 'K-12 Education',\n",
       "       'Transportation Management', 'Miscellaneous Manufacturing',\n",
       "       'Logistics & Supply Chain', 'Catering & Food Service Contractors',\n",
       "       'Health Care Products Manufacturing', 'Drug & Health Stores',\n",
       "       'Wholesale', 'Membership Organizations', 'Oil & Gas Services',\n",
       "       'Sporting Goods Stores', 'Gas Stations', 'Truck Rental & Leasing',\n",
       "       'Express Delivery Services',\n",
       "       'Cable, Internet & Telephone Providers', 'Metals Brokers',\n",
       "       'Grocery Stores & Supermarkets', 'Pet & Pet Supplies Stores',\n",
       "       'Education Training Services', 'Financial Analytics & Research',\n",
       "       'Audiovisual', 'Transportation Equipment Manufacturing',\n",
       "       'Convenience Stores & Truck Stops', 'Consumer Product Rental',\n",
       "       'Consumer Electronics & Appliances Stores',\n",
       "       'State & Regional Agencies', 'Trucking', 'Stock Exchanges',\n",
       "       'Home Centers & Hardware Stores',\n",
       "       'General Merchandise & Superstores', 'Hotels, Motels, & Resorts'],\n",
       "      dtype=object)"
      ]
     },
     "execution_count": 35,
     "metadata": {},
     "output_type": "execute_result"
    }
   ],
   "source": [
    "analyst['Industry'].unique()"
   ]
  },
  {
   "cell_type": "code",
   "execution_count": 36,
   "metadata": {},
   "outputs": [
    {
     "data": {
      "text/plain": [
       "array(['Non-Profit', 'Health Care', 'Information Technology',\n",
       "       'Arts, Entertainment & Recreation', 'Finance', 'Insurance',\n",
       "       'Business Services', 'Unknown',\n",
       "       'Restaurants, Bars & Food Services', 'Media', 'Accounting & Legal',\n",
       "       'Real Estate', 'Government', 'Retail', 'Consumer Services',\n",
       "       'Biotech & Pharmaceuticals', 'Education',\n",
       "       'Construction, Repair & Maintenance',\n",
       "       'Oil, Gas, Energy & Utilities', 'Manufacturing',\n",
       "       'Aerospace & Defense', 'Telecommunications',\n",
       "       'Transportation & Logistics', 'Mining & Metals',\n",
       "       'Travel & Tourism'], dtype=object)"
      ]
     },
     "execution_count": 36,
     "metadata": {},
     "output_type": "execute_result"
    }
   ],
   "source": [
    "analyst['Sector'].unique()"
   ]
  },
  {
   "cell_type": "markdown",
   "metadata": {},
   "source": [
    "A sector is a broader category for industries, so it's more adequate for this analysis as the dataset's size is small"
   ]
  },
  {
   "cell_type": "code",
   "execution_count": 37,
   "metadata": {},
   "outputs": [],
   "source": [
    "sectors = analyst['Sector'].value_counts()[:15]"
   ]
  },
  {
   "cell_type": "code",
   "execution_count": 38,
   "metadata": {},
   "outputs": [
    {
     "data": {
      "image/png": "[encoded data removed]",
      "text/plain": [
       "<Figure size 720x432 with 1 Axes>"
      ]
     },
     "metadata": {
      "needs_background": "light"
     },
     "output_type": "display_data"
    }
   ],
   "source": [
    "plt.figure(figsize=(10, 6))\n",
    "sns.barplot(y=sectors.index, x=sectors.values)\n",
    "plt.title('Sectors & Industries for Data Analysts')\n",
    "plt.show()"
   ]
  },
  {
   "cell_type": "markdown",
   "metadata": {},
   "source": [
    "As expected, data analysts are hired the most for IT. Also since business analysts and financial analysts are often considered equivalent of data analysts, they're popular in those fields as well. Overall, data analysts are hired in almost every sectors and industries."
   ]
  },
  {
   "cell_type": "markdown",
   "metadata": {},
   "source": [
    "#### Revenue & Size"
   ]
  },
  {
   "cell_type": "code",
   "execution_count": 39,
   "metadata": {},
   "outputs": [
    {
     "data": {
      "text/plain": [
       "array(['$100  to  $500 million ', '$2  to  $5 billion ', 'Unknown',\n",
       "       '$50  to  $100 million ', '$1  to  $2 billion ',\n",
       "       '$5  to  $10 billion ', '$1  to  $5 million ',\n",
       "       '$25  to  $50 million ', '$10+ billion ', 'Less than $1 million ',\n",
       "       '$10  to  $25 million ', '$500 million  to  $1 billion ',\n",
       "       '$5  to  $10 million '], dtype=object)"
      ]
     },
     "execution_count": 39,
     "metadata": {},
     "output_type": "execute_result"
    }
   ],
   "source": [
    "analyst['Revenue USD'].unique()"
   ]
  },
  {
   "cell_type": "code",
   "execution_count": 40,
   "metadata": {},
   "outputs": [
    {
     "name": "stdout",
     "output_type": "stream",
     "text": [
      "Unknown                          777\n",
      "$100  to  $500 million           218\n",
      "$50  to  $100 million            199\n",
      "$10+ billion                     189\n",
      "$10  to  $25 million             132\n",
      "$2  to  $5 billion               129\n",
      "$1  to  $5 million               111\n",
      "$25  to  $50 million             110\n",
      "Less than $1 million              93\n",
      "$1  to  $2 billion                87\n",
      "$500 million  to  $1 billion      79\n",
      "$5  to  $10 million               72\n",
      "$5  to  $10 billion               56\n",
      "Name: Revenue USD, dtype: int64\n"
     ]
    }
   ],
   "source": [
    "revenue = analyst['Revenue USD'].value_counts()\n",
    "print(revenue)"
   ]
  },
  {
   "cell_type": "code",
   "execution_count": 41,
   "metadata": {},
   "outputs": [
    {
     "name": "stdout",
     "output_type": "stream",
     "text": [
      "51      421\n",
      "1001    348\n",
      "1       347\n",
      "201     249\n",
      "501     211\n",
      "5001     97\n",
      "Name: Size Min, dtype: Int64\n"
     ]
    }
   ],
   "source": [
    "size_min = analyst['Size Min'].value_counts()\n",
    "print(size_min)"
   ]
  },
  {
   "cell_type": "code",
   "execution_count": 42,
   "metadata": {},
   "outputs": [
    {
     "name": "stdout",
     "output_type": "stream",
     "text": [
      "200      421\n",
      "5000     348\n",
      "50       347\n",
      "500      249\n",
      "1000     211\n",
      "10000     97\n",
      "Name: Size Max, dtype: Int64\n"
     ]
    }
   ],
   "source": [
    "size_max = analyst['Size Max'].value_counts()\n",
    "print(size_max)"
   ]
  },
  {
   "cell_type": "markdown",
   "metadata": {},
   "source": [
    "#### Salary"
   ]
  },
  {
   "cell_type": "code",
   "execution_count": 43,
   "metadata": {},
   "outputs": [
    {
     "name": "stdout",
     "output_type": "stream",
     "text": [
      "Average Minimum Salary 54267.761989342805\n",
      "Median Minimum Salary 50000.0\n",
      "Average Maximum Salary 89980.01776198934\n",
      "Median Maximum Salary 87000.0\n"
     ]
    }
   ],
   "source": [
    "print('Average Minimum Salary {}'.format(analyst['Salary Min'].mean())\n",
    "     )\n",
    "print('Median Minimum Salary {}'.format(analyst['Salary Min'].median())\n",
    "     )\n",
    "print('Average Maximum Salary {}'.format(analyst['Salary Max'].mean())\n",
    "     )\n",
    "print('Median Maximum Salary {}'.format(analyst['Salary Max'].median())\n",
    "     )"
   ]
  },
  {
   "cell_type": "markdown",
   "metadata": {},
   "source": [
    "It's important to note the difference between median salaries and average (mean) salaries.\n",
    "\n",
    "Average salaries can be easily skewed by occurrences of high/low values, which means the values don't always correctly represent how much data analysts are paid on average. This is why median is useful; median is the middle number, so it can affectively evade the noise caused by extreme values.\n",
    "\n",
    "For this analysis, average and median values don't seem to differ by much.\n",
    "* Average salary: 54267.76 ~ 89980.02 (USD)\n",
    "* Median Salary: 50000 ~ 87000 (USD)"
   ]
  },
  {
   "cell_type": "markdown",
   "metadata": {},
   "source": [
    "#### Correlation"
   ]
  },
  {
   "cell_type": "code",
   "execution_count": 44,
   "metadata": {},
   "outputs": [
    {
     "name": "stdout",
     "output_type": "stream",
     "text": [
      "             Location    Rating  Salary Min  Salary Max  Revenue USD    Sector\n",
      "Location     1.000000 -0.006147    0.117457    0.241032    -0.014638 -0.010611\n",
      "Rating      -0.006147  1.000000    0.029379    0.019753     0.304760  0.485143\n",
      "Salary Min   0.117457  0.029379    1.000000    0.855985     0.011037 -0.016857\n",
      "Salary Max   0.241032  0.019753    0.855985    1.000000     0.012499 -0.010026\n",
      "Revenue USD -0.014638  0.304760    0.011037    0.012499     1.000000  0.305284\n",
      "Sector      -0.010611  0.485143   -0.016857   -0.010026     0.305284  1.000000\n"
     ]
    }
   ],
   "source": [
    "from sklearn import preprocessing\n",
    "\n",
    "# Sector, Location, Salary Min, Salary Max, Rating\n",
    "temp_df = analyst.copy()[['Location', 'Rating','Salary Min', 'Salary Max', 'Revenue USD', 'Sector']]\n",
    "temp_df = temp_df.apply(preprocessing.LabelEncoder().fit_transform)\n",
    "print(temp_df.corr())"
   ]
  },
  {
   "cell_type": "code",
   "execution_count": 45,
   "metadata": {},
   "outputs": [
    {
     "data": {
      "image/png": "[encoded data removed]",
      "text/plain": [
       "<Figure size 576x576 with 2 Axes>"
      ]
     },
     "metadata": {
      "needs_background": "light"
     },
     "output_type": "display_data"
    }
   ],
   "source": [
    "plt.figure(figsize=(8,8))\n",
    "sns.heatmap(data=temp_df.corr(), cmap='YlOrBr', fmt=\".2f\",\n",
    "            linewidth=1, square=True, annot=True)\n",
    "plt.show()"
   ]
  },
  {
   "cell_type": "markdown",
   "metadata": {},
   "source": [
    "Highest correlation for each column\n",
    "* Location: Salary Max - 0.24\n",
    "* Rating <ㅡ> Sector - 0.49\n",
    "* Salary Min <ㅡ> Salary Max - 0.86\n",
    "* Revenue: Sector - 0.305, Rating - 0.31"
   ]
  }
 ],
 "metadata": {
  "kernelspec": {
   "display_name": "Python 3",
   "language": "python",
   "name": "python3"
  },
  "language_info": {
   "codemirror_mode": {
    "name": "ipython",
    "version": 3
   },
   "file_extension": ".py",
   "mimetype": "text/x-python",
   "name": "python",
   "nbconvert_exporter": "python",
   "pygments_lexer": "ipython3",
   "version": "3.8.3"
  }
 },
 "nbformat": 4,
 "nbformat_minor": 4
}
