{
 "cells": [
  {
   "cell_type": "code",
   "execution_count": 1,
   "metadata": {},
   "outputs": [],
   "source": [
    "import pandas as pd\n",
    "import numpy as np\n",
    "import seaborn as sns\n",
    "import datetime as dt\n",
    "from matplotlib import pyplot as plt\n",
    "from collections import Counter, OrderedDict"
   ]
  },
  {
   "cell_type": "code",
   "execution_count": 2,
   "metadata": {
    "scrolled": true
   },
   "outputs": [
    {
     "name": "stdout",
     "output_type": "stream",
     "text": [
      "<class 'pandas.core.frame.DataFrame'>\n",
      "RangeIndex: 639710 entries, 0 to 639709\n",
      "Data columns (total 13 columns):\n",
      " #   Column                           Non-Null Count   Dtype  \n",
      "---  ------                           --------------   -----  \n",
      " 0   COUNTY_NAME                      595792 non-null  object \n",
      " 1   PEOPLE_POSITIVE_CASES_COUNT      639710 non-null  float64\n",
      " 2   REPORT_DATE                      639710 non-null  object \n",
      " 3   PROVINCE_STATE_NAME              597892 non-null  object \n",
      " 4   CONTINENT_NAME                   639710 non-null  object \n",
      " 5   DATA_SOURCE_NAME                 639710 non-null  object \n",
      " 6   PEOPLE_DEATH_NEW_COUNT           639710 non-null  float64\n",
      " 7   COUNTY_FIPS_NUMBER               585672 non-null  float64\n",
      " 8   COUNTRY_ALPHA_3_CODE             639710 non-null  object \n",
      " 9   COUNTRY_SHORT_NAME               639710 non-null  object \n",
      " 10  COUNTRY_ALPHA_2_CODE             639504 non-null  object \n",
      " 11  PEOPLE_POSITIVE_NEW_CASES_COUNT  639710 non-null  float64\n",
      " 12  PEOPLE_DEATH_COUNT               639710 non-null  float64\n",
      "dtypes: float64(5), object(8)\n",
      "memory usage: 63.4+ MB\n"
     ]
    }
   ],
   "source": [
    "covid = pd.read_csv(\"Covid-19 Activity.csv\")\n",
    "covid.info()"
   ]
  },
  {
   "cell_type": "code",
   "execution_count": 3,
   "metadata": {},
   "outputs": [
    {
     "data": {
      "text/html": [
       "<div>\n",
       "<style scoped>\n",
       "    .dataframe tbody tr th:only-of-type {\n",
       "        vertical-align: middle;\n",
       "    }\n",
       "\n",
       "    .dataframe tbody tr th {\n",
       "        vertical-align: top;\n",
       "    }\n",
       "\n",
       "    .dataframe thead th {\n",
       "        text-align: right;\n",
       "    }\n",
       "</style>\n",
       "<table border=\"1\" class=\"dataframe\">\n",
       "  <thead>\n",
       "    <tr style=\"text-align: right;\">\n",
       "      <th></th>\n",
       "      <th>COUNTY_NAME</th>\n",
       "      <th>PEOPLE_POSITIVE_CASES_COUNT</th>\n",
       "      <th>REPORT_DATE</th>\n",
       "      <th>PROVINCE_STATE_NAME</th>\n",
       "      <th>CONTINENT_NAME</th>\n",
       "      <th>DATA_SOURCE_NAME</th>\n",
       "      <th>PEOPLE_DEATH_NEW_COUNT</th>\n",
       "      <th>COUNTY_FIPS_NUMBER</th>\n",
       "      <th>COUNTRY_ALPHA_3_CODE</th>\n",
       "      <th>COUNTRY_SHORT_NAME</th>\n",
       "      <th>COUNTRY_ALPHA_2_CODE</th>\n",
       "      <th>PEOPLE_POSITIVE_NEW_CASES_COUNT</th>\n",
       "      <th>PEOPLE_DEATH_COUNT</th>\n",
       "    </tr>\n",
       "  </thead>\n",
       "  <tbody>\n",
       "    <tr>\n",
       "      <th>0</th>\n",
       "      <td>Wahkiakum</td>\n",
       "      <td>0.0</td>\n",
       "      <td>2020-02-18</td>\n",
       "      <td>Washington</td>\n",
       "      <td>America</td>\n",
       "      <td>New York Times</td>\n",
       "      <td>0.0</td>\n",
       "      <td>53069.0</td>\n",
       "      <td>USA</td>\n",
       "      <td>United States</td>\n",
       "      <td>US</td>\n",
       "      <td>0.0</td>\n",
       "      <td>0.0</td>\n",
       "    </tr>\n",
       "    <tr>\n",
       "      <th>1</th>\n",
       "      <td>Wahkiakum</td>\n",
       "      <td>5.0</td>\n",
       "      <td>2020-07-17</td>\n",
       "      <td>Washington</td>\n",
       "      <td>America</td>\n",
       "      <td>New York Times</td>\n",
       "      <td>0.0</td>\n",
       "      <td>53069.0</td>\n",
       "      <td>USA</td>\n",
       "      <td>United States</td>\n",
       "      <td>US</td>\n",
       "      <td>0.0</td>\n",
       "      <td>0.0</td>\n",
       "    </tr>\n",
       "    <tr>\n",
       "      <th>2</th>\n",
       "      <td>Wahkiakum</td>\n",
       "      <td>0.0</td>\n",
       "      <td>2020-03-02</td>\n",
       "      <td>Washington</td>\n",
       "      <td>America</td>\n",
       "      <td>New York Times</td>\n",
       "      <td>0.0</td>\n",
       "      <td>53069.0</td>\n",
       "      <td>USA</td>\n",
       "      <td>United States</td>\n",
       "      <td>US</td>\n",
       "      <td>0.0</td>\n",
       "      <td>0.0</td>\n",
       "    </tr>\n",
       "    <tr>\n",
       "      <th>3</th>\n",
       "      <td>Stephenson</td>\n",
       "      <td>223.0</td>\n",
       "      <td>2020-06-11</td>\n",
       "      <td>Illinois</td>\n",
       "      <td>America</td>\n",
       "      <td>New York Times</td>\n",
       "      <td>0.0</td>\n",
       "      <td>17177.0</td>\n",
       "      <td>USA</td>\n",
       "      <td>United States</td>\n",
       "      <td>US</td>\n",
       "      <td>1.0</td>\n",
       "      <td>5.0</td>\n",
       "    </tr>\n",
       "    <tr>\n",
       "      <th>4</th>\n",
       "      <td>Stephenson</td>\n",
       "      <td>1.0</td>\n",
       "      <td>2020-03-22</td>\n",
       "      <td>Illinois</td>\n",
       "      <td>America</td>\n",
       "      <td>New York Times</td>\n",
       "      <td>0.0</td>\n",
       "      <td>17177.0</td>\n",
       "      <td>USA</td>\n",
       "      <td>United States</td>\n",
       "      <td>US</td>\n",
       "      <td>1.0</td>\n",
       "      <td>0.0</td>\n",
       "    </tr>\n",
       "  </tbody>\n",
       "</table>\n",
       "</div>"
      ],
      "text/plain": [
       "  COUNTY_NAME  PEOPLE_POSITIVE_CASES_COUNT REPORT_DATE PROVINCE_STATE_NAME  \\\n",
       "0   Wahkiakum                          0.0  2020-02-18          Washington   \n",
       "1   Wahkiakum                          5.0  2020-07-17          Washington   \n",
       "2   Wahkiakum                          0.0  2020-03-02          Washington   \n",
       "3  Stephenson                        223.0  2020-06-11            Illinois   \n",
       "4  Stephenson                          1.0  2020-03-22            Illinois   \n",
       "\n",
       "  CONTINENT_NAME DATA_SOURCE_NAME  PEOPLE_DEATH_NEW_COUNT  COUNTY_FIPS_NUMBER  \\\n",
       "0        America   New York Times                     0.0             53069.0   \n",
       "1        America   New York Times                     0.0             53069.0   \n",
       "2        America   New York Times                     0.0             53069.0   \n",
       "3        America   New York Times                     0.0             17177.0   \n",
       "4        America   New York Times                     0.0             17177.0   \n",
       "\n",
       "  COUNTRY_ALPHA_3_CODE COUNTRY_SHORT_NAME COUNTRY_ALPHA_2_CODE  \\\n",
       "0                  USA      United States                   US   \n",
       "1                  USA      United States                   US   \n",
       "2                  USA      United States                   US   \n",
       "3                  USA      United States                   US   \n",
       "4                  USA      United States                   US   \n",
       "\n",
       "   PEOPLE_POSITIVE_NEW_CASES_COUNT  PEOPLE_DEATH_COUNT  \n",
       "0                              0.0                 0.0  \n",
       "1                              0.0                 0.0  \n",
       "2                              0.0                 0.0  \n",
       "3                              1.0                 5.0  \n",
       "4                              1.0                 0.0  "
      ]
     },
     "execution_count": 3,
     "metadata": {},
     "output_type": "execute_result"
    }
   ],
   "source": [
    "covid.head()"
   ]
  },
  {
   "cell_type": "code",
   "execution_count": 4,
   "metadata": {},
   "outputs": [
    {
     "data": {
      "text/plain": [
       "COUNTY_NAME                        43918\n",
       "PEOPLE_POSITIVE_CASES_COUNT            0\n",
       "REPORT_DATE                            0\n",
       "PROVINCE_STATE_NAME                41818\n",
       "CONTINENT_NAME                         0\n",
       "DATA_SOURCE_NAME                       0\n",
       "PEOPLE_DEATH_NEW_COUNT                 0\n",
       "COUNTY_FIPS_NUMBER                 54038\n",
       "COUNTRY_ALPHA_3_CODE                   0\n",
       "COUNTRY_SHORT_NAME                     0\n",
       "COUNTRY_ALPHA_2_CODE                 206\n",
       "PEOPLE_POSITIVE_NEW_CASES_COUNT        0\n",
       "PEOPLE_DEATH_COUNT                     0\n",
       "dtype: int64"
      ]
     },
     "execution_count": 4,
     "metadata": {},
     "output_type": "execute_result"
    }
   ],
   "source": [
    "covid.isnull().sum()"
   ]
  },
  {
   "cell_type": "code",
   "execution_count": 5,
   "metadata": {},
   "outputs": [
    {
     "name": "stdout",
     "output_type": "stream",
     "text": [
      "<class 'pandas.core.frame.DataFrame'>\n",
      "RangeIndex: 639710 entries, 0 to 639709\n",
      "Data columns (total 11 columns):\n",
      " #   Column                           Non-Null Count   Dtype  \n",
      "---  ------                           --------------   -----  \n",
      " 0   COUNTY_NAME                      595792 non-null  object \n",
      " 1   PEOPLE_POSITIVE_CASES_COUNT      639710 non-null  float64\n",
      " 2   REPORT_DATE                      639710 non-null  object \n",
      " 3   PROVINCE_STATE_NAME              597892 non-null  object \n",
      " 4   CONTINENT_NAME                   639710 non-null  object \n",
      " 5   DATA_SOURCE_NAME                 639710 non-null  object \n",
      " 6   PEOPLE_DEATH_NEW_COUNT           639710 non-null  float64\n",
      " 7   COUNTRY_ALPHA_3_CODE             639710 non-null  object \n",
      " 8   COUNTRY_SHORT_NAME               639710 non-null  object \n",
      " 9   PEOPLE_POSITIVE_NEW_CASES_COUNT  639710 non-null  float64\n",
      " 10  PEOPLE_DEATH_COUNT               639710 non-null  float64\n",
      "dtypes: float64(4), object(7)\n",
      "memory usage: 53.7+ MB\n"
     ]
    }
   ],
   "source": [
    "# dropping columns that aren't too useful for this analysis\n",
    "covid.drop(columns=['COUNTRY_ALPHA_2_CODE', 'COUNTY_FIPS_NUMBER'], inplace=True)\n",
    "covid.info()"
   ]
  },
  {
   "cell_type": "code",
   "execution_count": 6,
   "metadata": {},
   "outputs": [
    {
     "data": {
      "text/plain": [
       "COUNTY_NAME                        0\n",
       "PEOPLE_POSITIVE_CASES_COUNT        0\n",
       "REPORT_DATE                        0\n",
       "PROVINCE_STATE_NAME                0\n",
       "CONTINENT_NAME                     0\n",
       "DATA_SOURCE_NAME                   0\n",
       "PEOPLE_DEATH_NEW_COUNT             0\n",
       "COUNTRY_ALPHA_3_CODE               0\n",
       "COUNTRY_SHORT_NAME                 0\n",
       "PEOPLE_POSITIVE_NEW_CASES_COUNT    0\n",
       "PEOPLE_DEATH_COUNT                 0\n",
       "dtype: int64"
      ]
     },
     "execution_count": 6,
     "metadata": {},
     "output_type": "execute_result"
    }
   ],
   "source": [
    "# since a count of people will always be a whole number, change floats to ints\n",
    "covid['PEOPLE_POSITIVE_CASES_COUNT'] = covid['PEOPLE_POSITIVE_CASES_COUNT'].astype(int)\n",
    "covid['PEOPLE_DEATH_NEW_COUNT'] = covid['PEOPLE_DEATH_NEW_COUNT'].astype(int)\n",
    "covid['PEOPLE_POSITIVE_NEW_CASES_COUNT'] = covid['PEOPLE_POSITIVE_NEW_CASES_COUNT'].astype(int)\n",
    "covid['PEOPLE_DEATH_COUNT'] = covid['PEOPLE_DEATH_COUNT'].astype(int)\n",
    "\n",
    "# filter the rows that hold no information for country name, positive cases, and death counts\n",
    "no_stats = covid.loc[(covid['COUNTY_NAME'].isnull()) & (covid['PEOPLE_POSITIVE_CASES_COUNT'] == 0) &\n",
    "         (covid['PEOPLE_DEATH_NEW_COUNT'] == 0) & (covid['PEOPLE_POSITIVE_NEW_CASES_COUNT'] == 0)\n",
    "         & (covid['PEOPLE_DEATH_COUNT'] == 0)]\n",
    "\n",
    "# drop those filtered rows and get rid of duplicates\n",
    "covid.drop(list(no_stats.index), inplace=True)\n",
    "covid.drop_duplicates(inplace=True)\n",
    "\n",
    "# for the rest, replace with 'unknown' since they hold stats\n",
    "covid.fillna('Unknown', inplace=True)\n",
    "covid.isnull().sum()"
   ]
  },
  {
   "cell_type": "code",
   "execution_count": 7,
   "metadata": {},
   "outputs": [
    {
     "name": "stdout",
     "output_type": "stream",
     "text": [
      "[('Quebec', 57938), ('Ontario', 38107), ('Alberta', 9861), ('British Columbia', 3362), ('Nova Scotia', 1067), ('Saskatchewan', 1030), ('Manitoba', 361), ('Newfoundland and Labrador', 264), ('New Brunswick', 170), ('Prince Edward Island', 36), ('Repatriated travellers', 13), ('Yukon', 13), ('Northwest Territories', 5)]\n",
      "('Canada', 112402)\n"
     ]
    }
   ],
   "source": [
    "def provincial_case(df, country):\n",
    "    '''\n",
    "    Args:\n",
    "        df: DataFrame\n",
    "        country: str\n",
    "    Returns:\n",
    "        a list of *confirmed* cases of Covid-19 for each province in the country\n",
    "    Order:\n",
    "        Descending\n",
    "    '''\n",
    "    country_table = df.loc[df['COUNTRY_SHORT_NAME'] == country]\n",
    "    province_list = country_table['PROVINCE_STATE_NAME'].unique()\n",
    "    province_dict = dict()\n",
    "    for province in province_list:\n",
    "        province_table = country_table.loc[country_table['PROVINCE_STATE_NAME'] == province]\n",
    "        province_dict[province] = province_table['PEOPLE_POSITIVE_CASES_COUNT'].max()\n",
    "    return sorted(province_dict.items(), key=lambda x: x[1], reverse=True)\n",
    "\n",
    "\n",
    "def country_case(df, country):\n",
    "    '''\n",
    "    Args:\n",
    "        df: DataFrame\n",
    "        country: str\n",
    "    Returns:\n",
    "        a sum of *confirmed* cases of Covid-19 in a country\n",
    "    '''\n",
    "    province_list = df.loc[df['COUNTRY_SHORT_NAME'] == country]['PROVINCE_STATE_NAME'].unique()\n",
    "    total = 0\n",
    "    for province in province_list:\n",
    "        total += df.loc[df['PROVINCE_STATE_NAME'] == province]['PEOPLE_POSITIVE_NEW_CASES_COUNT'].sum()\n",
    "    return (country, total)\n",
    "\n",
    "print(provincial_case(covid, 'Canada'))\n",
    "print(country_case(covid, 'Canada'))"
   ]
  },
  {
   "cell_type": "markdown",
   "metadata": {},
   "source": [
    "Now that the functions are ready, let's sort countries from the most cases to the least in America"
   ]
  },
  {
   "cell_type": "code",
   "execution_count": 8,
   "metadata": {},
   "outputs": [
    {
     "name": "stdout",
     "output_type": "stream",
     "text": [
      "[('Uruguay', 11103968), ('Saint Vincent and the Grenadines', 11103968), ('Barbados', 11103968), ('Paraguay', 11103968), ('Bonaire, Saint Eustatius and Saba', 11103968), ('Costa Rica', 11103968), ('Ecuador', 11103968), ('Panama', 11103968), ('El Salvador', 11103968), ('Suriname', 11103968), ('Dominica', 11103968), ('Aruba', 11103968), ('Cayman Islands', 11103968), ('Honduras', 11103968), ('Saint Lucia', 11103968), ('Bahamas', 11103968), ('Grenada', 11103968), ('Trinidad and Tobago', 11103968), ('Haiti', 11103968), ('Turks and Caicos islands', 11103968), ('Cuba', 11103968), ('Antigua and Barbuda', 11103968), ('Venezuela', 11103968), ('Nicaragua', 11103968), ('Sint Maarten', 11103968), ('Belize', 11103968), ('Argentina', 11103968), ('Bolivia', 11103968), ('Chile', 11103968), ('Mexico', 11103968), ('Guatemala', 11103968), ('Colombia', 11103968), ('Dominican Republic', 11103968), ('Guyana', 11103968), ('Bermuda', 11103968), ('Greenland', 11103968), ('Anguilla', 11103968), ('Brazil', 11103968), ('Montserrat', 11103968), ('Jamaica', 11103968), ('Curaçao', 11103968), ('Peru', 11103968), ('Saint Kitts and Nevis', 11103968), ('Falkland Islands (Malvinas)', 11103968), ('British Virgin Islands', 11103968), ('United States', 3980128), ('Canada', 112402)]\n"
     ]
    }
   ],
   "source": [
    "america = covid.loc[covid['CONTINENT_NAME'] == 'America']['COUNTRY_SHORT_NAME'].unique()\n",
    "america_list = []\n",
    "for country in america:\n",
    "    america_list.append(country_case(covid, country))\n",
    "print(sorted(america_list, key=lambda x:x[1], reverse=True))"
   ]
  },
  {
   "cell_type": "markdown",
   "metadata": {},
   "source": [
    "### Debugging\n",
    "Almost every country in America got the value of **11103968**\n",
    "\n",
    "Let's see what's happening."
   ]
  },
  {
   "cell_type": "code",
   "execution_count": 9,
   "metadata": {},
   "outputs": [
    {
     "name": "stdout",
     "output_type": "stream",
     "text": [
      "['Unknown']\n",
      "None\n",
      "['Unknown']\n",
      "None\n",
      "['Unknown']\n",
      "None\n"
     ]
    }
   ],
   "source": [
    "def country_case(df, country):\n",
    "    '''\n",
    "    Args:\n",
    "        df: DataFrame\n",
    "        country: str\n",
    "    Returns:\n",
    "        a sum of *confirmed* cases of Covid-19 in a country\n",
    "    '''\n",
    "    province_list = df.loc[df['COUNTRY_SHORT_NAME'] == country]['PROVINCE_STATE_NAME'].unique()\n",
    "    total = 0\n",
    "    print(province_list)\n",
    "\n",
    "# checking if there's anything in the province column that's causing the problem\n",
    "print(country_case(covid, 'Uruguay'))\n",
    "print(country_case(covid, 'Barbados'))\n",
    "print(country_case(covid, 'Paraguay'))"
   ]
  },
  {
   "cell_type": "markdown",
   "metadata": {},
   "source": [
    "Found the problem!\n",
    "\n",
    "The code is summing up cases of all 'Unknown' provinces from all over the world.\n",
    "\n",
    "To limit the search to within a country, I need to use a temporary dataframe."
   ]
  },
  {
   "cell_type": "code",
   "execution_count": 10,
   "metadata": {},
   "outputs": [
    {
     "name": "stdout",
     "output_type": "stream",
     "text": [
      "[('United States', 3980128), ('Brazil', 2227514), ('Peru', 366550), ('Mexico', 362274), ('Chile', 336402), ('Colombia', 218428), ('Argentina', 136105), ('Canada', 112402), ('Ecuador', 77257), ('Bolivia', 64135), ('Dominican Republic', 56043), ('Panama', 55906), ('Guatemala', 41135), ('Honduras', 36102), ('El Salvador', 12975), ('Venezuela', 12774), ('Costa Rica', 12361), ('Haiti', 7167), ('Paraguay', 4000), ('Nicaragua', 3439), ('Cuba', 2462), ('Suriname', 1176), ('Uruguay', 1117), ('Jamaica', 816), ('Guyana', 350), ('Bahamas', 219), ('Cayman Islands', 203), ('Bermuda', 153), ('Trinidad and Tobago', 141), ('Aruba', 117), ('Barbados', 106), ('Turks and Caicos islands', 86), ('Sint Maarten', 81), ('Antigua and Barbuda', 76), ('Saint Vincent and the Grenadines', 50), ('Belize', 43), ('Curaçao', 28), ('Saint Lucia', 23), ('Grenada', 23), ('Dominica', 18), ('Saint Kitts and Nevis', 17), ('Greenland', 13), ('Falkland Islands (Malvinas)', 13), ('Montserrat', 12), ('Bonaire, Saint Eustatius and Saba', 10), ('British Virgin Islands', 8), ('Anguilla', 3)]\n"
     ]
    }
   ],
   "source": [
    "def country_case(df, country):\n",
    "    '''\n",
    "    Args:\n",
    "        df: DataFrame\n",
    "        country: str\n",
    "    Returns:\n",
    "        a sum of *confirmed* cases of Covid-19 in a country\n",
    "    '''\n",
    "    country_df = df.loc[df['COUNTRY_SHORT_NAME'] == country]\n",
    "    province_list = country_df['PROVINCE_STATE_NAME'].unique()\n",
    "    total = 0\n",
    "    for province in province_list:\n",
    "        total += country_df.loc[country_df['PROVINCE_STATE_NAME'] == province]['PEOPLE_POSITIVE_NEW_CASES_COUNT'].sum()\n",
    "    return (country, total)\n",
    "\n",
    "america = covid.loc[covid['CONTINENT_NAME'] == 'America']['COUNTRY_SHORT_NAME'].unique()\n",
    "america_list = []\n",
    "for country in america:\n",
    "    america_list.append(country_case(covid, country))\n",
    "countries_continent = sorted(america_list, key=lambda x:x[1], reverse=True)\n",
    "print(countries_continent)"
   ]
  },
  {
   "cell_type": "markdown",
   "metadata": {},
   "source": [
    "Now I got the result that's more probable.\n",
    "\n",
    "Debugging is done."
   ]
  },
  {
   "cell_type": "markdown",
   "metadata": {},
   "source": [
    "### Investigating the progress of COVID-19 by continent\n",
    "* Grouping regions by continent\n",
    "* Month is used as the time measurement unit"
   ]
  },
  {
   "cell_type": "code",
   "execution_count": 11,
   "metadata": {},
   "outputs": [
    {
     "name": "stdout",
     "output_type": "stream",
     "text": [
      "   CONTINENT_NAME  YEAR  MONTH  PEOPLE_POSITIVE_NEW_CASES_COUNT\n",
      "6         America  2020      1                               11\n",
      "7         America  2020      2                              118\n",
      "8         America  2020      3                           213560\n",
      "9         America  2020      4                          1115959\n",
      "10        America  2020      5                          1542539\n",
      "11        America  2020      6                          2409763\n",
      "12        America  2020      7                          2848511\n"
     ]
    }
   ],
   "source": [
    "covid['YEAR'] = pd.to_datetime(covid['REPORT_DATE']).dt.year\n",
    "covid['MONTH'] = pd.to_datetime(covid['REPORT_DATE']).dt.month\n",
    "continent_case = covid[['CONTINENT_NAME', 'PEOPLE_POSITIVE_NEW_CASES_COUNT','YEAR', 'MONTH']].groupby(\n",
    "                       ['CONTINENT_NAME','YEAR', 'MONTH'], as_index=False).sum()\n",
    "print(continent_case.loc[continent_case['CONTINENT_NAME'] == 'America'])"
   ]
  },
  {
   "cell_type": "markdown",
   "metadata": {},
   "source": [
    "Let's see if the numbers add up correctly"
   ]
  },
  {
   "cell_type": "code",
   "execution_count": 12,
   "metadata": {},
   "outputs": [
    {
     "name": "stdout",
     "output_type": "stream",
     "text": [
      "A total of cases from all countries in America: 8130461\n",
      "A total of cases from time periods in America: 8130461\n"
     ]
    }
   ],
   "source": [
    "total = 0\n",
    "for item in countries_continent:\n",
    "    total += item[1]\n",
    "print(f'A total of cases from all countries in America: {total}')\n",
    "print(f\"A total of cases from time periods in America: {continent_case.loc[continent_case['CONTINENT_NAME'] == 'America']['PEOPLE_POSITIVE_NEW_CASES_COUNT'].sum()}\")"
   ]
  },
  {
   "cell_type": "markdown",
   "metadata": {},
   "source": [
    "It does work as intended!\n",
    "\n",
    "Now, I can start making graphs"
   ]
  }
 ],
 "metadata": {
  "kernelspec": {
   "display_name": "Python 3",
   "language": "python",
   "name": "python3"
  },
  "language_info": {
   "codemirror_mode": {
    "name": "ipython",
    "version": 3
   },
   "file_extension": ".py",
   "mimetype": "text/x-python",
   "name": "python",
   "nbconvert_exporter": "python",
   "pygments_lexer": "ipython3",
   "version": "3.8.3"
  }
 },
 "nbformat": 4,
 "nbformat_minor": 4
}
