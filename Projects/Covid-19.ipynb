{
 "cells": [
  {
   "cell_type": "code",
   "execution_count": 1,
   "metadata": {},
   "outputs": [],
   "source": [
    "import pandas as pd\n",
    "import numpy as np\n",
    "import seaborn as sns\n",
    "from matplotlib import pyplot as plt\n",
    "from collections import Counter, OrderedDict"
   ]
  },
  {
   "cell_type": "code",
   "execution_count": 2,
   "metadata": {},
   "outputs": [
    {
     "name": "stdout",
     "output_type": "stream",
     "text": [
      "<class 'pandas.core.frame.DataFrame'>\n",
      "RangeIndex: 639710 entries, 0 to 639709\n",
      "Data columns (total 13 columns):\n",
      " #   Column                           Non-Null Count   Dtype  \n",
      "---  ------                           --------------   -----  \n",
      " 0   COUNTY_NAME                      595792 non-null  object \n",
      " 1   PEOPLE_POSITIVE_CASES_COUNT      639710 non-null  float64\n",
      " 2   REPORT_DATE                      639710 non-null  object \n",
      " 3   PROVINCE_STATE_NAME              597892 non-null  object \n",
      " 4   CONTINENT_NAME                   639710 non-null  object \n",
      " 5   DATA_SOURCE_NAME                 639710 non-null  object \n",
      " 6   PEOPLE_DEATH_NEW_COUNT           639710 non-null  float64\n",
      " 7   COUNTY_FIPS_NUMBER               585672 non-null  float64\n",
      " 8   COUNTRY_ALPHA_3_CODE             639710 non-null  object \n",
      " 9   COUNTRY_SHORT_NAME               639710 non-null  object \n",
      " 10  COUNTRY_ALPHA_2_CODE             639504 non-null  object \n",
      " 11  PEOPLE_POSITIVE_NEW_CASES_COUNT  639710 non-null  float64\n",
      " 12  PEOPLE_DEATH_COUNT               639710 non-null  float64\n",
      "dtypes: float64(5), object(8)\n",
      "memory usage: 63.4+ MB\n"
     ]
    }
   ],
   "source": [
    "covid = pd.read_csv(\"Covid-19 Activity.csv\")\n",
    "covid.info()"
   ]
  },
  {
   "cell_type": "code",
   "execution_count": 3,
   "metadata": {},
   "outputs": [
    {
     "data": {
      "text/html": [
       "<div>\n",
       "<style scoped>\n",
       "    .dataframe tbody tr th:only-of-type {\n",
       "        vertical-align: middle;\n",
       "    }\n",
       "\n",
       "    .dataframe tbody tr th {\n",
       "        vertical-align: top;\n",
       "    }\n",
       "\n",
       "    .dataframe thead th {\n",
       "        text-align: right;\n",
       "    }\n",
       "</style>\n",
       "<table border=\"1\" class=\"dataframe\">\n",
       "  <thead>\n",
       "    <tr style=\"text-align: right;\">\n",
       "      <th></th>\n",
       "      <th>COUNTY_NAME</th>\n",
       "      <th>PEOPLE_POSITIVE_CASES_COUNT</th>\n",
       "      <th>REPORT_DATE</th>\n",
       "      <th>PROVINCE_STATE_NAME</th>\n",
       "      <th>CONTINENT_NAME</th>\n",
       "      <th>DATA_SOURCE_NAME</th>\n",
       "      <th>PEOPLE_DEATH_NEW_COUNT</th>\n",
       "      <th>COUNTY_FIPS_NUMBER</th>\n",
       "      <th>COUNTRY_ALPHA_3_CODE</th>\n",
       "      <th>COUNTRY_SHORT_NAME</th>\n",
       "      <th>COUNTRY_ALPHA_2_CODE</th>\n",
       "      <th>PEOPLE_POSITIVE_NEW_CASES_COUNT</th>\n",
       "      <th>PEOPLE_DEATH_COUNT</th>\n",
       "    </tr>\n",
       "  </thead>\n",
       "  <tbody>\n",
       "    <tr>\n",
       "      <th>0</th>\n",
       "      <td>Wahkiakum</td>\n",
       "      <td>0.0</td>\n",
       "      <td>2020-02-18</td>\n",
       "      <td>Washington</td>\n",
       "      <td>America</td>\n",
       "      <td>New York Times</td>\n",
       "      <td>0.0</td>\n",
       "      <td>53069.0</td>\n",
       "      <td>USA</td>\n",
       "      <td>United States</td>\n",
       "      <td>US</td>\n",
       "      <td>0.0</td>\n",
       "      <td>0.0</td>\n",
       "    </tr>\n",
       "    <tr>\n",
       "      <th>1</th>\n",
       "      <td>Wahkiakum</td>\n",
       "      <td>5.0</td>\n",
       "      <td>2020-07-17</td>\n",
       "      <td>Washington</td>\n",
       "      <td>America</td>\n",
       "      <td>New York Times</td>\n",
       "      <td>0.0</td>\n",
       "      <td>53069.0</td>\n",
       "      <td>USA</td>\n",
       "      <td>United States</td>\n",
       "      <td>US</td>\n",
       "      <td>0.0</td>\n",
       "      <td>0.0</td>\n",
       "    </tr>\n",
       "    <tr>\n",
       "      <th>2</th>\n",
       "      <td>Wahkiakum</td>\n",
       "      <td>0.0</td>\n",
       "      <td>2020-03-02</td>\n",
       "      <td>Washington</td>\n",
       "      <td>America</td>\n",
       "      <td>New York Times</td>\n",
       "      <td>0.0</td>\n",
       "      <td>53069.0</td>\n",
       "      <td>USA</td>\n",
       "      <td>United States</td>\n",
       "      <td>US</td>\n",
       "      <td>0.0</td>\n",
       "      <td>0.0</td>\n",
       "    </tr>\n",
       "    <tr>\n",
       "      <th>3</th>\n",
       "      <td>Stephenson</td>\n",
       "      <td>223.0</td>\n",
       "      <td>2020-06-11</td>\n",
       "      <td>Illinois</td>\n",
       "      <td>America</td>\n",
       "      <td>New York Times</td>\n",
       "      <td>0.0</td>\n",
       "      <td>17177.0</td>\n",
       "      <td>USA</td>\n",
       "      <td>United States</td>\n",
       "      <td>US</td>\n",
       "      <td>1.0</td>\n",
       "      <td>5.0</td>\n",
       "    </tr>\n",
       "    <tr>\n",
       "      <th>4</th>\n",
       "      <td>Stephenson</td>\n",
       "      <td>1.0</td>\n",
       "      <td>2020-03-22</td>\n",
       "      <td>Illinois</td>\n",
       "      <td>America</td>\n",
       "      <td>New York Times</td>\n",
       "      <td>0.0</td>\n",
       "      <td>17177.0</td>\n",
       "      <td>USA</td>\n",
       "      <td>United States</td>\n",
       "      <td>US</td>\n",
       "      <td>1.0</td>\n",
       "      <td>0.0</td>\n",
       "    </tr>\n",
       "  </tbody>\n",
       "</table>\n",
       "</div>"
      ],
      "text/plain": [
       "  COUNTY_NAME  PEOPLE_POSITIVE_CASES_COUNT REPORT_DATE PROVINCE_STATE_NAME  \\\n",
       "0   Wahkiakum                          0.0  2020-02-18          Washington   \n",
       "1   Wahkiakum                          5.0  2020-07-17          Washington   \n",
       "2   Wahkiakum                          0.0  2020-03-02          Washington   \n",
       "3  Stephenson                        223.0  2020-06-11            Illinois   \n",
       "4  Stephenson                          1.0  2020-03-22            Illinois   \n",
       "\n",
       "  CONTINENT_NAME DATA_SOURCE_NAME  PEOPLE_DEATH_NEW_COUNT  COUNTY_FIPS_NUMBER  \\\n",
       "0        America   New York Times                     0.0             53069.0   \n",
       "1        America   New York Times                     0.0             53069.0   \n",
       "2        America   New York Times                     0.0             53069.0   \n",
       "3        America   New York Times                     0.0             17177.0   \n",
       "4        America   New York Times                     0.0             17177.0   \n",
       "\n",
       "  COUNTRY_ALPHA_3_CODE COUNTRY_SHORT_NAME COUNTRY_ALPHA_2_CODE  \\\n",
       "0                  USA      United States                   US   \n",
       "1                  USA      United States                   US   \n",
       "2                  USA      United States                   US   \n",
       "3                  USA      United States                   US   \n",
       "4                  USA      United States                   US   \n",
       "\n",
       "   PEOPLE_POSITIVE_NEW_CASES_COUNT  PEOPLE_DEATH_COUNT  \n",
       "0                              0.0                 0.0  \n",
       "1                              0.0                 0.0  \n",
       "2                              0.0                 0.0  \n",
       "3                              1.0                 5.0  \n",
       "4                              1.0                 0.0  "
      ]
     },
     "execution_count": 3,
     "metadata": {},
     "output_type": "execute_result"
    }
   ],
   "source": [
    "covid.head()"
   ]
  },
  {
   "cell_type": "code",
   "execution_count": 4,
   "metadata": {},
   "outputs": [
    {
     "data": {
      "text/plain": [
       "COUNTY_NAME                        43918\n",
       "PEOPLE_POSITIVE_CASES_COUNT            0\n",
       "REPORT_DATE                            0\n",
       "PROVINCE_STATE_NAME                41818\n",
       "CONTINENT_NAME                         0\n",
       "DATA_SOURCE_NAME                       0\n",
       "PEOPLE_DEATH_NEW_COUNT                 0\n",
       "COUNTY_FIPS_NUMBER                 54038\n",
       "COUNTRY_ALPHA_3_CODE                   0\n",
       "COUNTRY_SHORT_NAME                     0\n",
       "COUNTRY_ALPHA_2_CODE                 206\n",
       "PEOPLE_POSITIVE_NEW_CASES_COUNT        0\n",
       "PEOPLE_DEATH_COUNT                     0\n",
       "dtype: int64"
      ]
     },
     "execution_count": 4,
     "metadata": {},
     "output_type": "execute_result"
    }
   ],
   "source": [
    "covid.isnull().sum()"
   ]
  },
  {
   "cell_type": "code",
   "execution_count": 5,
   "metadata": {},
   "outputs": [
    {
     "name": "stdout",
     "output_type": "stream",
     "text": [
      "<class 'pandas.core.frame.DataFrame'>\n",
      "RangeIndex: 639710 entries, 0 to 639709\n",
      "Data columns (total 11 columns):\n",
      " #   Column                           Non-Null Count   Dtype  \n",
      "---  ------                           --------------   -----  \n",
      " 0   COUNTY_NAME                      595792 non-null  object \n",
      " 1   PEOPLE_POSITIVE_CASES_COUNT      639710 non-null  float64\n",
      " 2   REPORT_DATE                      639710 non-null  object \n",
      " 3   PROVINCE_STATE_NAME              597892 non-null  object \n",
      " 4   CONTINENT_NAME                   639710 non-null  object \n",
      " 5   DATA_SOURCE_NAME                 639710 non-null  object \n",
      " 6   PEOPLE_DEATH_NEW_COUNT           639710 non-null  float64\n",
      " 7   COUNTRY_ALPHA_3_CODE             639710 non-null  object \n",
      " 8   COUNTRY_SHORT_NAME               639710 non-null  object \n",
      " 9   PEOPLE_POSITIVE_NEW_CASES_COUNT  639710 non-null  float64\n",
      " 10  PEOPLE_DEATH_COUNT               639710 non-null  float64\n",
      "dtypes: float64(4), object(7)\n",
      "memory usage: 53.7+ MB\n"
     ]
    }
   ],
   "source": [
    "# dropping columns that aren't too useful for this analysis\n",
    "covid.drop(columns=['COUNTRY_ALPHA_2_CODE', 'COUNTY_FIPS_NUMBER'], inplace=True)\n",
    "covid.info()"
   ]
  },
  {
   "cell_type": "code",
   "execution_count": 6,
   "metadata": {},
   "outputs": [
    {
     "data": {
      "text/plain": [
       "COUNTY_NAME                        0\n",
       "PEOPLE_POSITIVE_CASES_COUNT        0\n",
       "REPORT_DATE                        0\n",
       "PROVINCE_STATE_NAME                0\n",
       "CONTINENT_NAME                     0\n",
       "DATA_SOURCE_NAME                   0\n",
       "PEOPLE_DEATH_NEW_COUNT             0\n",
       "COUNTRY_ALPHA_3_CODE               0\n",
       "COUNTRY_SHORT_NAME                 0\n",
       "PEOPLE_POSITIVE_NEW_CASES_COUNT    0\n",
       "PEOPLE_DEATH_COUNT                 0\n",
       "dtype: int64"
      ]
     },
     "execution_count": 6,
     "metadata": {},
     "output_type": "execute_result"
    }
   ],
   "source": [
    "# since a count of people will always be a whole number, change floats to ints\n",
    "covid['PEOPLE_POSITIVE_CASES_COUNT'] = covid['PEOPLE_POSITIVE_CASES_COUNT'].astype(int)\n",
    "covid['PEOPLE_DEATH_NEW_COUNT'] = covid['PEOPLE_DEATH_NEW_COUNT'].astype(int)\n",
    "covid['PEOPLE_POSITIVE_NEW_CASES_COUNT'] = covid['PEOPLE_POSITIVE_NEW_CASES_COUNT'].astype(int)\n",
    "covid['PEOPLE_DEATH_COUNT'] = covid['PEOPLE_DEATH_COUNT'].astype(int)\n",
    "\n",
    "# filter the rows that hold no information for country name, positive cases, and death counts\n",
    "no_stats = covid.loc[(covid['COUNTY_NAME'].isnull()) & (covid['PEOPLE_POSITIVE_CASES_COUNT'] == 0) &\n",
    "         (covid['PEOPLE_DEATH_NEW_COUNT'] == 0) & (covid['PEOPLE_POSITIVE_NEW_CASES_COUNT'] == 0)\n",
    "         & (covid['PEOPLE_DEATH_COUNT'] == 0)]\n",
    "\n",
    "# drop those filtered rows and get rid of duplicates\n",
    "covid.drop(list(no_stats.index), inplace=True)\n",
    "covid.drop_duplicates(inplace=True)\n",
    "\n",
    "# for the rest, replace with 'unknown' since they hold stats\n",
    "covid.fillna('Unknown', inplace=True)\n",
    "covid.isnull().sum()"
   ]
  },
  {
   "cell_type": "code",
   "execution_count": 7,
   "metadata": {},
   "outputs": [
    {
     "name": "stdout",
     "output_type": "stream",
     "text": [
      "[('Quebec', 4642131), ('Ontario', 2749327), ('Alberta', 701478), ('British Columbia', 281343), ('Nova Scotia', 105003), ('Saskatchewan', 67935), ('Manitoba', 31709), ('Newfoundland and Labrador', 29661), ('New Brunswick', 15835), ('Prince Edward Island', 3229), ('Repatriated travellers', 1666), ('Yukon', 1218), ('Northwest Territories', 567)]\n"
     ]
    }
   ],
   "source": [
    "def provincial_case(df, country):\n",
    "    '''\n",
    "    Args:\n",
    "        df: DataFrame\n",
    "        country: str\n",
    "    Returns:\n",
    "        a list of *confirmed* cases of Covid-19 for each province in the country\n",
    "    Order:\n",
    "        Descending\n",
    "    '''\n",
    "    country_table = df.loc[df['COUNTRY_SHORT_NAME'] == country]\n",
    "    province_list = country_table['PROVINCE_STATE_NAME'].unique()\n",
    "    province_dict = dict()\n",
    "    for province in province_list:\n",
    "        province_table = country_table.loc[country_table['PROVINCE_STATE_NAME'] == province]\n",
    "        province_dict[province] = province_table['PEOPLE_POSITIVE_CASES_COUNT'].sum()\n",
    "    return sorted(province_dict.items(), key=lambda x: x[1], reverse=True)\n",
    "\n",
    "\n",
    "def country_case(df, country):\n",
    "    '''\n",
    "    Args:\n",
    "        df: DataFrame\n",
    "        country: str\n",
    "    Returns:\n",
    "        a list of *confirmed* cases of Covid-19 in a country\n",
    "    '''\n",
    "    country_table = df.loc[df['COUNTRY_SHORT_NAME'] == country]\n",
    "    total = country_table['PEOPLE_POSITIVE_CASES_COUNT'].sum()\n",
    "    return (country, total)\n",
    "\n",
    "print(provincial_case(covid, 'Canada'))"
   ]
  },
  {
   "cell_type": "code",
   "execution_count": 8,
   "metadata": {},
   "outputs": [
    {
     "data": {
      "text/plain": [
       "array(['America', 'Africa', 'Europe', 'Asia', 'Oceania'], dtype=object)"
      ]
     },
     "execution_count": 8,
     "metadata": {},
     "output_type": "execute_result"
    }
   ],
   "source": [
    "covid['CONTINENT_NAME'].unique()"
   ]
  },
  {
   "cell_type": "code",
   "execution_count": 9,
   "metadata": {},
   "outputs": [
    {
     "name": "stdout",
     "output_type": "stream",
     "text": [
      "[('United States', 204289126), ('Brazil', 77614924), ('Peru', 17372801), ('Chile', 14441391), ('Mexico', 13026170), ('Canada', 8631102), ('Colombia', 5692756), ('Ecuador', 4257480), ('Argentina', 3581405), ('Dominican Republic', 2190059), ('Panama', 2087264), ('Bolivia', 1830412), ('Guatemala', 1053953), ('Honduras', 1036961), ('El Salvador', 383427), ('Venezuela', 337278), ('Haiti', 298353), ('Costa Rica', 274691), ('Cuba', 203929), ('Paraguay', 134883), ('Nicaragua', 121961), ('Uruguay', 88493), ('Jamaica', 57368), ('Suriname', 25335), ('Guyana', 17264), ('Cayman Islands', 14836), ('Trinidad and Tobago', 14258), ('Bermuda', 13808), ('Aruba', 11470), ('Bahamas', 10501), ('Barbados', 10130), ('Sint Maarten', 8078), ('Antigua and Barbuda', 4096), ('Turks and Caicos islands', 2536), ('Saint Vincent and the Grenadines', 2532), ('Belize', 2404), ('Grenada', 2353), ('Curaçao', 2259), ('Saint Lucia', 2119), ('Dominica', 1972), ('Saint Kitts and Nevis', 1694), ('Greenland', 1430), ('Falkland Islands (Malvinas)', 1323), ('Montserrat', 1246), ('British Virgin Islands', 782), ('Bonaire, Saint Eustatius and Saba', 702), ('Anguilla', 350)]\n"
     ]
    }
   ],
   "source": [
    "# let's sort countries from the most cases to the least in America\n",
    "america = covid.loc[covid['CONTINENT_NAME'] == 'America']['COUNTRY_SHORT_NAME'].unique()\n",
    "america_list = []\n",
    "for country in america:\n",
    "    america_list.append(country_case(covid, country))\n",
    "print(sorted(america_list, key=lambda x:x[1], reverse=True))"
   ]
  }
 ],
 "metadata": {
  "kernelspec": {
   "display_name": "Python 3",
   "language": "python",
   "name": "python3"
  },
  "language_info": {
   "codemirror_mode": {
    "name": "ipython",
    "version": 3
   },
   "file_extension": ".py",
   "mimetype": "text/x-python",
   "name": "python",
   "nbconvert_exporter": "python",
   "pygments_lexer": "ipython3",
   "version": "3.8.3"
  }
 },
 "nbformat": 4,
 "nbformat_minor": 4
}
