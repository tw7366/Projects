{
 "cells": [
  {
   "cell_type": "markdown",
   "metadata": {},
   "source": [
    "# Objectives\n",
    "1. Observe progression of covid-19 by continent and country\n",
    "2. Investigate whether current level of vaccination is slowing down the spread or not\n",
    "3. Determine where the vaccine is needed the most by looking at mortality rate"
   ]
  },
  {
   "cell_type": "code",
   "execution_count": 1,
   "metadata": {},
   "outputs": [],
   "source": [
    "import pandas as pd\n",
    "import numpy as np\n",
    "import seaborn as sns\n",
    "import datetime as dt\n",
    "from matplotlib import pyplot as plt\n",
    "from collections import Counter, OrderedDict\n",
    "import pycountry_convert as pc\n",
    "from collections import OrderedDict"
   ]
  },
  {
   "cell_type": "code",
   "execution_count": 2,
   "metadata": {
    "scrolled": true
   },
   "outputs": [
    {
     "name": "stderr",
     "output_type": "stream",
     "text": [
      "c:\\users\\taewoo\\pycharmprojects\\data-analysis-practice\\venv\\interpreter\\lib\\site-packages\\IPython\\core\\interactiveshell.py:3145: DtypeWarning: Columns (1) have mixed types.Specify dtype option on import or set low_memory=False.\n",
      "  has_raised = await self.run_ast_nodes(code_ast.body, cell_name,\n"
     ]
    },
    {
     "name": "stdout",
     "output_type": "stream",
     "text": [
      "<class 'pandas.core.frame.DataFrame'>\n",
      "RangeIndex: 1687420 entries, 0 to 1687419\n",
      "Data columns (total 13 columns):\n",
      " #   Column                           Non-Null Count    Dtype  \n",
      "---  ------                           --------------    -----  \n",
      " 0   PEOPLE_POSITIVE_CASES_COUNT      1687420 non-null  int64  \n",
      " 1   COUNTY_NAME                      1558424 non-null  object \n",
      " 2   PROVINCE_STATE_NAME              1585556 non-null  object \n",
      " 3   REPORT_DATE                      1687420 non-null  object \n",
      " 4   CONTINENT_NAME                   1685516 non-null  object \n",
      " 5   DATA_SOURCE_NAME                 1687420 non-null  object \n",
      " 6   PEOPLE_DEATH_NEW_COUNT           1687420 non-null  int64  \n",
      " 7   COUNTY_FIPS_NUMBER               1531768 non-null  float64\n",
      " 8   COUNTRY_ALPHA_3_CODE             1685516 non-null  object \n",
      " 9   COUNTRY_SHORT_NAME               1687420 non-null  object \n",
      " 10  COUNTRY_ALPHA_2_CODE             1685040 non-null  object \n",
      " 11  PEOPLE_POSITIVE_NEW_CASES_COUNT  1687420 non-null  int64  \n",
      " 12  PEOPLE_DEATH_COUNT               1687420 non-null  int64  \n",
      "dtypes: float64(1), int64(4), object(8)\n",
      "memory usage: 167.4+ MB\n"
     ]
    }
   ],
   "source": [
    "covid = pd.read_csv(r\"C:\\Users\\taewoo\\PycharmProjects\\data_professionals\\Projects\\Datasets\\Covid-19 Activity.csv\")\n",
    "covid.info()"
   ]
  },
  {
   "cell_type": "code",
   "execution_count": 3,
   "metadata": {},
   "outputs": [
    {
     "data": {
      "text/html": [
       "<div>\n",
       "<style scoped>\n",
       "    .dataframe tbody tr th:only-of-type {\n",
       "        vertical-align: middle;\n",
       "    }\n",
       "\n",
       "    .dataframe tbody tr th {\n",
       "        vertical-align: top;\n",
       "    }\n",
       "\n",
       "    .dataframe thead th {\n",
       "        text-align: right;\n",
       "    }\n",
       "</style>\n",
       "<table border=\"1\" class=\"dataframe\">\n",
       "  <thead>\n",
       "    <tr style=\"text-align: right;\">\n",
       "      <th></th>\n",
       "      <th>PEOPLE_POSITIVE_CASES_COUNT</th>\n",
       "      <th>COUNTY_NAME</th>\n",
       "      <th>PROVINCE_STATE_NAME</th>\n",
       "      <th>REPORT_DATE</th>\n",
       "      <th>CONTINENT_NAME</th>\n",
       "      <th>DATA_SOURCE_NAME</th>\n",
       "      <th>PEOPLE_DEATH_NEW_COUNT</th>\n",
       "      <th>COUNTY_FIPS_NUMBER</th>\n",
       "      <th>COUNTRY_ALPHA_3_CODE</th>\n",
       "      <th>COUNTRY_SHORT_NAME</th>\n",
       "      <th>COUNTRY_ALPHA_2_CODE</th>\n",
       "      <th>PEOPLE_POSITIVE_NEW_CASES_COUNT</th>\n",
       "      <th>PEOPLE_DEATH_COUNT</th>\n",
       "    </tr>\n",
       "  </thead>\n",
       "  <tbody>\n",
       "    <tr>\n",
       "      <th>0</th>\n",
       "      <td>18046</td>\n",
       "      <td>Kenosha</td>\n",
       "      <td>Wisconsin</td>\n",
       "      <td>2021-04-26</td>\n",
       "      <td>America</td>\n",
       "      <td>New York Times</td>\n",
       "      <td>0</td>\n",
       "      <td>55059.0</td>\n",
       "      <td>USA</td>\n",
       "      <td>United States</td>\n",
       "      <td>US</td>\n",
       "      <td>3</td>\n",
       "      <td>321</td>\n",
       "    </tr>\n",
       "    <tr>\n",
       "      <th>1</th>\n",
       "      <td>18096</td>\n",
       "      <td>Kenosha</td>\n",
       "      <td>Wisconsin</td>\n",
       "      <td>2021-04-27</td>\n",
       "      <td>America</td>\n",
       "      <td>New York Times</td>\n",
       "      <td>0</td>\n",
       "      <td>55059.0</td>\n",
       "      <td>USA</td>\n",
       "      <td>United States</td>\n",
       "      <td>US</td>\n",
       "      <td>50</td>\n",
       "      <td>321</td>\n",
       "    </tr>\n",
       "    <tr>\n",
       "      <th>2</th>\n",
       "      <td>18123</td>\n",
       "      <td>Kenosha</td>\n",
       "      <td>Wisconsin</td>\n",
       "      <td>2021-04-28</td>\n",
       "      <td>America</td>\n",
       "      <td>New York Times</td>\n",
       "      <td>1</td>\n",
       "      <td>55059.0</td>\n",
       "      <td>USA</td>\n",
       "      <td>United States</td>\n",
       "      <td>US</td>\n",
       "      <td>27</td>\n",
       "      <td>322</td>\n",
       "    </tr>\n",
       "    <tr>\n",
       "      <th>3</th>\n",
       "      <td>18148</td>\n",
       "      <td>Kenosha</td>\n",
       "      <td>Wisconsin</td>\n",
       "      <td>2021-04-29</td>\n",
       "      <td>America</td>\n",
       "      <td>New York Times</td>\n",
       "      <td>0</td>\n",
       "      <td>55059.0</td>\n",
       "      <td>USA</td>\n",
       "      <td>United States</td>\n",
       "      <td>US</td>\n",
       "      <td>25</td>\n",
       "      <td>322</td>\n",
       "    </tr>\n",
       "    <tr>\n",
       "      <th>4</th>\n",
       "      <td>18163</td>\n",
       "      <td>Kenosha</td>\n",
       "      <td>Wisconsin</td>\n",
       "      <td>2021-04-30</td>\n",
       "      <td>America</td>\n",
       "      <td>New York Times</td>\n",
       "      <td>0</td>\n",
       "      <td>55059.0</td>\n",
       "      <td>USA</td>\n",
       "      <td>United States</td>\n",
       "      <td>US</td>\n",
       "      <td>15</td>\n",
       "      <td>322</td>\n",
       "    </tr>\n",
       "    <tr>\n",
       "      <th>5</th>\n",
       "      <td>18188</td>\n",
       "      <td>Kenosha</td>\n",
       "      <td>Wisconsin</td>\n",
       "      <td>2021-05-01</td>\n",
       "      <td>America</td>\n",
       "      <td>New York Times</td>\n",
       "      <td>0</td>\n",
       "      <td>55059.0</td>\n",
       "      <td>USA</td>\n",
       "      <td>United States</td>\n",
       "      <td>US</td>\n",
       "      <td>25</td>\n",
       "      <td>322</td>\n",
       "    </tr>\n",
       "    <tr>\n",
       "      <th>6</th>\n",
       "      <td>18212</td>\n",
       "      <td>Kenosha</td>\n",
       "      <td>Wisconsin</td>\n",
       "      <td>2021-05-02</td>\n",
       "      <td>America</td>\n",
       "      <td>New York Times</td>\n",
       "      <td>0</td>\n",
       "      <td>55059.0</td>\n",
       "      <td>USA</td>\n",
       "      <td>United States</td>\n",
       "      <td>US</td>\n",
       "      <td>24</td>\n",
       "      <td>322</td>\n",
       "    </tr>\n",
       "    <tr>\n",
       "      <th>7</th>\n",
       "      <td>18212</td>\n",
       "      <td>Kenosha</td>\n",
       "      <td>Wisconsin</td>\n",
       "      <td>2021-05-03</td>\n",
       "      <td>America</td>\n",
       "      <td>New York Times</td>\n",
       "      <td>0</td>\n",
       "      <td>55059.0</td>\n",
       "      <td>USA</td>\n",
       "      <td>United States</td>\n",
       "      <td>US</td>\n",
       "      <td>0</td>\n",
       "      <td>322</td>\n",
       "    </tr>\n",
       "    <tr>\n",
       "      <th>8</th>\n",
       "      <td>18239</td>\n",
       "      <td>Kenosha</td>\n",
       "      <td>Wisconsin</td>\n",
       "      <td>2021-05-04</td>\n",
       "      <td>America</td>\n",
       "      <td>New York Times</td>\n",
       "      <td>1</td>\n",
       "      <td>55059.0</td>\n",
       "      <td>USA</td>\n",
       "      <td>United States</td>\n",
       "      <td>US</td>\n",
       "      <td>27</td>\n",
       "      <td>323</td>\n",
       "    </tr>\n",
       "    <tr>\n",
       "      <th>9</th>\n",
       "      <td>18251</td>\n",
       "      <td>Kenosha</td>\n",
       "      <td>Wisconsin</td>\n",
       "      <td>2021-05-05</td>\n",
       "      <td>America</td>\n",
       "      <td>New York Times</td>\n",
       "      <td>0</td>\n",
       "      <td>55059.0</td>\n",
       "      <td>USA</td>\n",
       "      <td>United States</td>\n",
       "      <td>US</td>\n",
       "      <td>12</td>\n",
       "      <td>323</td>\n",
       "    </tr>\n",
       "  </tbody>\n",
       "</table>\n",
       "</div>"
      ],
      "text/plain": [
       "   PEOPLE_POSITIVE_CASES_COUNT COUNTY_NAME PROVINCE_STATE_NAME REPORT_DATE  \\\n",
       "0                        18046     Kenosha           Wisconsin  2021-04-26   \n",
       "1                        18096     Kenosha           Wisconsin  2021-04-27   \n",
       "2                        18123     Kenosha           Wisconsin  2021-04-28   \n",
       "3                        18148     Kenosha           Wisconsin  2021-04-29   \n",
       "4                        18163     Kenosha           Wisconsin  2021-04-30   \n",
       "5                        18188     Kenosha           Wisconsin  2021-05-01   \n",
       "6                        18212     Kenosha           Wisconsin  2021-05-02   \n",
       "7                        18212     Kenosha           Wisconsin  2021-05-03   \n",
       "8                        18239     Kenosha           Wisconsin  2021-05-04   \n",
       "9                        18251     Kenosha           Wisconsin  2021-05-05   \n",
       "\n",
       "  CONTINENT_NAME DATA_SOURCE_NAME  PEOPLE_DEATH_NEW_COUNT  COUNTY_FIPS_NUMBER  \\\n",
       "0        America   New York Times                       0             55059.0   \n",
       "1        America   New York Times                       0             55059.0   \n",
       "2        America   New York Times                       1             55059.0   \n",
       "3        America   New York Times                       0             55059.0   \n",
       "4        America   New York Times                       0             55059.0   \n",
       "5        America   New York Times                       0             55059.0   \n",
       "6        America   New York Times                       0             55059.0   \n",
       "7        America   New York Times                       0             55059.0   \n",
       "8        America   New York Times                       1             55059.0   \n",
       "9        America   New York Times                       0             55059.0   \n",
       "\n",
       "  COUNTRY_ALPHA_3_CODE COUNTRY_SHORT_NAME COUNTRY_ALPHA_2_CODE  \\\n",
       "0                  USA      United States                   US   \n",
       "1                  USA      United States                   US   \n",
       "2                  USA      United States                   US   \n",
       "3                  USA      United States                   US   \n",
       "4                  USA      United States                   US   \n",
       "5                  USA      United States                   US   \n",
       "6                  USA      United States                   US   \n",
       "7                  USA      United States                   US   \n",
       "8                  USA      United States                   US   \n",
       "9                  USA      United States                   US   \n",
       "\n",
       "   PEOPLE_POSITIVE_NEW_CASES_COUNT  PEOPLE_DEATH_COUNT  \n",
       "0                                3                 321  \n",
       "1                               50                 321  \n",
       "2                               27                 322  \n",
       "3                               25                 322  \n",
       "4                               15                 322  \n",
       "5                               25                 322  \n",
       "6                               24                 322  \n",
       "7                                0                 322  \n",
       "8                               27                 323  \n",
       "9                               12                 323  "
      ]
     },
     "execution_count": 3,
     "metadata": {},
     "output_type": "execute_result"
    }
   ],
   "source": [
    "covid.head(10)"
   ]
  },
  {
   "cell_type": "markdown",
   "metadata": {},
   "source": [
    "### Data Cleansing"
   ]
  },
  {
   "cell_type": "code",
   "execution_count": 4,
   "metadata": {},
   "outputs": [
    {
     "name": "stdout",
     "output_type": "stream",
     "text": [
      "<class 'pandas.core.frame.DataFrame'>\n",
      "RangeIndex: 1687420 entries, 0 to 1687419\n",
      "Data columns (total 9 columns):\n",
      " #   Column                           Non-Null Count    Dtype \n",
      "---  ------                           --------------    ----- \n",
      " 0   PEOPLE_POSITIVE_CASES_COUNT      1687420 non-null  int64 \n",
      " 1   COUNTY_NAME                      1558424 non-null  object\n",
      " 2   PROVINCE_STATE_NAME              1585556 non-null  object\n",
      " 3   REPORT_DATE                      1687420 non-null  object\n",
      " 4   CONTINENT_NAME                   1685516 non-null  object\n",
      " 5   PEOPLE_DEATH_NEW_COUNT           1687420 non-null  int64 \n",
      " 6   COUNTRY_SHORT_NAME               1687420 non-null  object\n",
      " 7   PEOPLE_POSITIVE_NEW_CASES_COUNT  1687420 non-null  int64 \n",
      " 8   PEOPLE_DEATH_COUNT               1687420 non-null  int64 \n",
      "dtypes: int64(4), object(5)\n",
      "memory usage: 115.9+ MB\n"
     ]
    }
   ],
   "source": [
    "# dropping columns that aren't too useful for this analysis\n",
    "covid.drop(columns=['COUNTY_FIPS_NUMBER', 'DATA_SOURCE_NAME', 'COUNTRY_ALPHA_2_CODE', 'COUNTRY_ALPHA_3_CODE'], inplace=True)\n",
    "covid.info()"
   ]
  },
  {
   "cell_type": "code",
   "execution_count": 5,
   "metadata": {},
   "outputs": [
    {
     "data": {
      "text/plain": [
       "PEOPLE_POSITIVE_CASES_COUNT             0\n",
       "COUNTY_NAME                        128996\n",
       "PROVINCE_STATE_NAME                101864\n",
       "REPORT_DATE                             0\n",
       "CONTINENT_NAME                       1904\n",
       "PEOPLE_DEATH_NEW_COUNT                  0\n",
       "COUNTRY_SHORT_NAME                      0\n",
       "PEOPLE_POSITIVE_NEW_CASES_COUNT         0\n",
       "PEOPLE_DEATH_COUNT                      0\n",
       "dtype: int64"
      ]
     },
     "execution_count": 5,
     "metadata": {},
     "output_type": "execute_result"
    }
   ],
   "source": [
    "covid.isnull().sum()"
   ]
  },
  {
   "cell_type": "code",
   "execution_count": 6,
   "metadata": {},
   "outputs": [
    {
     "name": "stdout",
     "output_type": "stream",
     "text": [
      "county without null, province with null\n",
      "0\n",
      "county with null, province with null\n",
      "101864\n",
      "county with null, province without null\n",
      "27132\n",
      "\n",
      "PEOPLE_POSITIVE_CASES_COUNT        0\n",
      "COUNTY_NAME                        0\n",
      "PROVINCE_STATE_NAME                0\n",
      "REPORT_DATE                        0\n",
      "CONTINENT_NAME                     0\n",
      "PEOPLE_DEATH_NEW_COUNT             0\n",
      "COUNTRY_SHORT_NAME                 0\n",
      "PEOPLE_POSITIVE_NEW_CASES_COUNT    0\n",
      "PEOPLE_DEATH_COUNT                 0\n",
      "dtype: int64\n"
     ]
    }
   ],
   "source": [
    "def country_to_continent(country_name):\n",
    "    '''\n",
    "    return continent of a country\n",
    "    \n",
    "        Param:\n",
    "            country_name (str) = name of a country\n",
    "        Return:\n",
    "            continent_name (str) = name of a continent\n",
    "    '''\n",
    "    country_alpha2 = pc.country_name_to_country_alpha2(country_name)\n",
    "    country_continent_code = pc.country_alpha2_to_continent_code(country_alpha2)\n",
    "    continent_name = pc.convert_continent_code_to_continent_name(country_continent_code)\n",
    "    return continent_name\n",
    "\n",
    "# drop duplicates\n",
    "covid.drop_duplicates(inplace=True)\n",
    "# extract countries with nontype continent\n",
    "country_of_nan_continent = covid[covid['CONTINENT_NAME'].isnull()]['COUNTRY_SHORT_NAME'].unique() \n",
    "# fill continents\n",
    "for country in country_of_nan_continent:\n",
    "    country_index = covid.loc[covid['COUNTRY_SHORT_NAME'] == country].index\n",
    "    covid.loc[country_index, 'CONTINENT_NAME'] = country_to_continent(country)\n",
    "\n",
    "# it's possible to find province if county can be found, not possible vice versa\n",
    "print('county without null, province with null')\n",
    "print(covid.loc[covid['COUNTY_NAME'].notnull() & covid['PROVINCE_STATE_NAME'].isnull()].shape[0])\n",
    "print('county with null, province with null')\n",
    "print(covid.loc[covid['COUNTY_NAME'].isnull() & covid['PROVINCE_STATE_NAME'].isnull()].shape[0])\n",
    "print('county with null, province without null')\n",
    "print(covid.loc[covid['COUNTY_NAME'].isnull() & covid['PROVINCE_STATE_NAME'].notnull()].shape[0])\n",
    "print()\n",
    "\n",
    "# I was unable to identify provinces and counties\n",
    "covid.fillna('Unknown', inplace=True)\n",
    "print(covid.isnull().sum())"
   ]
  },
  {
   "cell_type": "markdown",
   "metadata": {},
   "source": [
    "## Total cases of Covid-19 by countries and provinces"
   ]
  },
  {
   "cell_type": "code",
   "execution_count": 7,
   "metadata": {},
   "outputs": [
    {
     "name": "stdout",
     "output_type": "stream",
     "text": [
      "Total cases of covid-19 by countries\n",
      "OrderedDict([('United States', 32772514), ('India', 22992517), ('Brazil', 15209990), ('France', 5730585), ('Turkey', 5044936), ('Russia', 4832959), ('United Kingdom', 4437217), ('Italy', 4116287), ('Spain', 3581392), ('Germany', 3538208), ('Argentina', 3165121), ('Colombia', 3015301), ('Poland', 2835083), ('Iran', 2673219), ('Mexico', 2366496), ('Ukraine', 2178095), ('Peru', 1850290), ('Indonesia', 1718575), ('Czechia', 1645448), ('South Africa', 1597724), ('Netherlands', 1565880), ('Canada', 1302489), ('Chile', 1252808), ('Iraq', 1117627), ('Philippines', 1108826), ('Romania', 1066731), ('Belgium', 1017876), ('Sweden', 1007792), ('Pakistan', 864557), ('Portugal', 839740), ('Israel', 838957), ('Hungary', 792386), ('Bangladesh', 775027), ('Jordan', 720998), ('Serbia', 701326), ('Switzerland', 674296), ('Japan', 647003), ('Austria', 631896), ('United Arab Emirates', 537524), ('Lebanon', 533141), ('Morocco', 513922), ('Malaysia', 444484), ('Saudi Arabia', 427370), ('Bulgaria', 411280), ('Nepal', 403794), ('Ecuador', 402060), ('Kazakhstan', 398295), ('Slovakia', 385786), ('Belarus', 369767), ('Panama', 367908), ('Greece', 363904), ('Croatia', 344747), ('Azerbaijan', 327087), ('Georgia', 322468), ('Tunisia', 321837), ('Bolivia', 318610), ('West Bank and Gaza', 302249), ('Paraguay', 299684), ('Kuwait', 286046), ('Dominican Republic', 272108), ('Costa Rica', 271478), ('Ethiopia', 263120), ('Denmark', 259988), ('Lithuania', 258623), ('Ireland', 253189), ('Moldova', 252798), ('Slovenia', 246231), ('Egypt', 238560), ('Guatemala', 235304), ('Uruguay', 222870), ('Honduras', 220185), ('Armenia', 219353), ('Qatar', 211389), ('Venezuela', 209162), ('Oman', 202137), ('Bosnia and Herzegovina', 201217), ('Bahrain', 191018), ('Libya', 180226), ('Nigeria', 165468), ('Kenya', 163620), ('North Macedonia', 154051), ('Burma', 142963), ('Albania', 131753), ('Sri Lanka', 128530), ('Korea, South', 128283), ('Estonia', 125337), ('Latvia', 124301), ('Algeria', 124288), ('Cuba', 117097), ('Norway', 117022), ('Kosovo', 105784), ('China', 102643), ('Kyrgyzstan', 98654), ('Montenegro', 98365), ('Uzbekistan', 94759), ('Ghana', 93011), ('Zambia', 92112), ('Finland', 88866), ('Thailand', 85005), ('Cameroon', 74946), ('El Salvador', 70380), ('Mozambique', 70283), ('Cyprus', 69708), ('Luxembourg', 68431), ('Afghanistan', 62063), ('Singapore', 61378), ('Namibia', 50209), ('Botswana', 49041), ('Jamaica', 46782), (\"Cote d'Ivoire\", 46443), ('Mongolia', 45936), ('Uganda', 42384), ('Senegal', 40714), ('Madagascar', 39162), ('Zimbabwe', 38433), ('Maldives', 37019), ('Sudan', 34889), ('Malawi', 34180), ('Malta', 30458), ('Congo (Kinshasa)', 30350), ('Australia', 29938), ('Angola', 28875), ('Cabo Verde', 26578), ('Rwanda', 25714), ('Gabon', 23565), ('Syria', 23439), ('Guinea', 22633), ('Reunion', 21451), ('French Guiana', 20366), ('Mayotte', 20134), ('Cambodia', 19743), ('French Polynesia', 18797), ('Mauritania', 18691), ('Eswatini', 18482), ('Guadeloupe', 15429), ('Guyana', 14442), ('Somalia', 14415), ('Mali', 14115), ('Trinidad and Tobago', 13454), ('Andorra', 13429), ('Burkina Faso', 13382), ('Tajikistan', 13308), ('Togo', 13167), ('Haiti', 13164), ('Belize', 12700), ('Curacao', 12236), ('Papua New Guinea', 12086), ('Martinique', 11490), ('Djibouti', 11355), ('Congo (Brazzaville)', 11343), ('Suriname', 11213), ('Bahamas', 10908), ('Aruba', 10781), ('Lesotho', 10773), ('South Sudan', 10641), ('Seychelles', 8172), ('Benin', 7884), ('Equatorial Guinea', 7694), ('Nicaragua', 6989), ('Central African Republic', 6674), ('Iceland', 6519), ('Yemen', 6485), ('Gambia', 5929), ('Niger', 5322), ('San Marino', 5083), ('Chad', 4882), ('Saint Lucia', 4690), ('Gibraltar', 4286), ('Burundi', 4200), ('Sierra Leone', 4089), ('Channel Islands', 4057), ('Barbados', 3946), ('Comoros', 3860), ('Eritrea', 3754), ('Guinea-Bissau', 3741), ('Vietnam', 3489), ('Timor-Leste', 3353), ('Liechtenstein', 2974), ('New Zealand', 2644), ('Monaco', 2481), ('Bermuda', 2451), ('Turks and Caicos Islands', 2402), ('Sao Tome and Principe', 2318), ('Sint Maarten', 2263), ('Liberia', 2114), ('Saint Vincent and the Grenadines', 1922), ('St Martin', 1773), ('Isle of Man', 1590), ('Bonaire, Sint Eustatius and Saba', 1582), ('Laos', 1327), ('Mauritius', 1256), ('Bhutan', 1241), ('Antigua and Barbuda', 1237), ('Taiwan*', 1199), ('Saint Barthelemy', 974), ('Faroe Islands', 668), ('Cayman Islands', 548), ('Tanzania', 509), ('Wallis and Futuna', 445), ('Brunei', 230), ('British Virgin Islands', 219), ('Dominica', 175), ('Grenada', 160), ('Fiji', 140), ('New Caledonia', 124), ('Anguilla', 99), ('Falkland Islands (Malvinas)', 63), ('Saint Kitts and Nevis', 45), ('Greenland', 31), ('Holy See', 27), ('Saint Pierre and Miquelon', 25), ('Solomon Islands', 20), ('Montserrat', 20), ('Saint Helena, Ascension and Tristan da Cunha', 4), ('Marshall Islands', 4), ('Vanuatu', 4), ('Samoa', 3), ('Micronesia', 1)])\n",
      "\n",
      "Test - Provincial cases in Canada\n",
      "OrderedDict([('Ontario', 503296), ('Quebec', 358796), ('Alberta', 210387), ('British Columbia', 136108), ('Saskatchewan', 43288), ('Manitoba', 42451), ('Nova Scotia', 4038), ('New Brunswick', 2013), ('Newfoundland and Labrador', 1141), ('Nunavut', 572), ('Prince Edward Island', 183), ('Northwest Territories', 108), ('Yukon', 82), ('Cruise Ships', 14), ('Repatriated Travellers', 13)])\n"
     ]
    }
   ],
   "source": [
    "def provincial_case(df, country):\n",
    "    '''\n",
    "    return a dictionary of all provincial cases\n",
    "    \n",
    "        Args:\n",
    "            df (DataFrame): a dataframe with all information of countries and provinces\n",
    "            country (str): any country in the dataframe\n",
    "        Return:\n",
    "            (OrderedDict): provinces and total cases\n",
    "    '''\n",
    "    country_table = df.loc[df['COUNTRY_SHORT_NAME'] == country]\n",
    "    province_list = country_table['PROVINCE_STATE_NAME'].unique()\n",
    "    province_dict = dict()\n",
    "    for province in province_list:\n",
    "        province_dict[province] = country_table.loc[country_table['PROVINCE_STATE_NAME'] == province]['PEOPLE_POSITIVE_CASES_COUNT'].max()\n",
    "    return OrderedDict(sorted(province_dict.items(), key=lambda x: x[1], reverse=True))\n",
    "\n",
    "\n",
    "def country_case(df, country):\n",
    "    '''\n",
    "    return the sum of *confirmed* cases of Covid-19 in a country\n",
    "    \n",
    "        Args:\n",
    "            df (DataFrame): a dataframe with all information of countries\n",
    "            country (str): any country in the dataframe\n",
    "        Return:\n",
    "            country (str): input country\n",
    "            total (int): total of confirmed cases \n",
    "    '''\n",
    "    country_df = df.loc[df['COUNTRY_SHORT_NAME'] == country]\n",
    "    total = country_df['PEOPLE_POSITIVE_NEW_CASES_COUNT'].sum()\n",
    "    return country, total\n",
    "\n",
    "\n",
    "every_country = covid['COUNTRY_SHORT_NAME'].unique()\n",
    "country_cases = dict()\n",
    "\n",
    "for country in every_country:\n",
    "    country, total_case = country_case(covid, country)\n",
    "    country_cases[country] = total_case\n",
    "\n",
    "country_cases = OrderedDict(sorted(country_cases.items(), key=lambda x: x[1], reverse=True))\n",
    "\n",
    "print('Total cases of Covid-19 by countries')\n",
    "print(country_cases)\n",
    "print()\n",
    "print('Test - Provincial cases in Canada')\n",
    "print(provincial_case(covid, 'Canada'))"
   ]
  },
  {
   "cell_type": "markdown",
   "metadata": {},
   "source": [
    "### 10 countries with the most positive cases of Covid-19"
   ]
  },
  {
   "cell_type": "code",
   "execution_count": 28,
   "metadata": {},
   "outputs": [
    {
     "name": "stdout",
     "output_type": "stream",
     "text": [
      "10 countries with the highest cases \n",
      "\n",
      "Top 1 - United States: 32772514\n",
      "Top 2 - India: 22992517\n",
      "Top 3 - Brazil: 15209990\n",
      "Top 4 - France: 5730585\n",
      "Top 5 - Turkey: 5044936\n",
      "Top 6 - Russia: 4832959\n",
      "Top 7 - United Kingdom: 4437217\n",
      "Top 8 - Italy: 4116287\n",
      "Top 9 - Spain: 3581392\n",
      "Top 10 - Germany: 3538208\n"
     ]
    }
   ],
   "source": [
    "print('10 countries with the highest cases \\n')\n",
    "for i, item in enumerate(country_cases):\n",
    "    if i < 10:\n",
    "        print(f'Top {i+1} - {item}: {country_cases[item]}')\n",
    "    else:\n",
    "        break"
   ]
  },
  {
   "cell_type": "markdown",
   "metadata": {},
   "source": [
    "Since the *U.S.* is the country with **the most cases**, let's take a look at the positive cases by provinces within the country."
   ]
  },
  {
   "cell_type": "code",
   "execution_count": 30,
   "metadata": {},
   "outputs": [
    {
     "name": "stdout",
     "output_type": "stream",
     "text": [
      "OrderedDict([('California', 1236461), ('New York', 938087), ('Illinois', 543111), ('Arizona', 542072), ('Florida', 491027), ('Texas', 395522), ('Nevada', 246811), ('Michigan', 159802), ('Pennsylvania', 149953), ('Utah', 149164), ('Massachusetts', 133645), ('Ohio', 125964), ('Minnesota', 122024), ('Wisconsin', 115913), ('North Carolina', 111634), ('Washington', 105425), ('New Jersey', 103352), ('Georgia', 101569), ('Indiana', 100112), ('Connecticut', 99161), ('Missouri', 98627), ('Tennessee', 98606), ('Rhode Island', 96768), ('Oklahoma', 86408), ('Maryland', 83944), ('Kentucky', 81644), ('Alabama', 76544), ('Virginia', 76438), ('South Carolina', 74312), ('Colorado', 71672), ('Nebraska', 71259), ('Delaware', 62805), ('Kansas', 58303), ('New Mexico', 57582), ('Iowa', 57447), ('Idaho', 52025), ('District of Columbia', 48195), ('Louisiana', 46200), ('Arkansas', 39203), ('Oregon', 38089), ('New Hampshire', 35389), ('South Dakota', 31535), ('Alaska', 30259), ('Hawaii', 26115), ('North Dakota', 24425), ('Puerto Rico', 22082), ('Mississippi', 21545), ('Montana', 17306), ('Maine', 16621), ('West Virginia', 14900), ('Wyoming', 9170), ('Guam', 9012), ('Vermont', 7415), ('Virgin Islands', 1630), ('Northern Mariana Islands', 168)])\n"
     ]
    }
   ],
   "source": [
    "print(provincial_case(covid, 'United States'))"
   ]
  },
  {
   "cell_type": "markdown",
   "metadata": {},
   "source": [
    "California, the state with the highest population has experienced extremely high number of cases"
   ]
  },
  {
   "cell_type": "markdown",
   "metadata": {},
   "source": [
    "### Investigating the progression of COVID-19 from Jan - July 2020 by continent\n",
    "**Goals**\n",
    "* Group data by continents and time\n",
    "* Use month as the time measurement unit\n",
    "* Create a newly reported cases graph"
   ]
  },
  {
   "cell_type": "code",
   "execution_count": null,
   "metadata": {},
   "outputs": [],
   "source": [
    "covid['YEAR'] = pd.to_datetime(covid['REPORT_DATE']).dt.year\n",
    "covid['MONTH'] = pd.to_datetime(covid['REPORT_DATE']).dt.month\n",
    "continent_new_case = covid[['CONTINENT_NAME', 'PEOPLE_POSITIVE_NEW_CASES_COUNT','YEAR', 'MONTH']].groupby(\n",
    "                       ['CONTINENT_NAME','YEAR', 'MONTH'], as_index=False).sum()\n",
    "print(continent_new_case)"
   ]
  },
  {
   "cell_type": "markdown",
   "metadata": {},
   "source": [
    "To display all this information on the same graph, let's drop Asia's Dec of 2019 and add Africa's January of 2020.\n",
    "\n",
    "Then, I can start making graphs"
   ]
  },
  {
   "cell_type": "markdown",
   "metadata": {},
   "source": [
    "### Positive Cases of each Continent"
   ]
  },
  {
   "cell_type": "code",
   "execution_count": null,
   "metadata": {},
   "outputs": [],
   "source": [
    "continent_new_case.drop(index=13, inplace=True)\n",
    "continent_new_case = continent_new_case.append({'CONTINENT_NAME':'Africa', 'YEAR':2020, 'MONTH':1, 'PEOPLE_POSITIVE_NEW_CASES_COUNT':0}, ignore_index=True)\n",
    "continent_new_case.sort_values(by=['CONTINENT_NAME', 'MONTH'], inplace=True)\n",
    "continent_new_case.reset_index(drop=True, inplace=True)"
   ]
  },
  {
   "cell_type": "code",
   "execution_count": null,
   "metadata": {},
   "outputs": [],
   "source": [
    "print(continent_new_case[['CONTINENT_NAME', 'MONTH', 'PEOPLE_POSITIVE_NEW_CASES_COUNT']])"
   ]
  },
  {
   "cell_type": "code",
   "execution_count": null,
   "metadata": {},
   "outputs": [],
   "source": [
    "continent_list = continent_new_case['CONTINENT_NAME'].unique()\n",
    "color_list = ['tab:purple', 'tab:red', 'tab:blue', 'tab:green', 'tab:orange']\n",
    "plt.style.use('bmh')\n",
    "plt.rcParams['figure.figsize'] = [18, 10]\n",
    "\n",
    "# use for loop to create a line graph for each continent\n",
    "for continent, color in zip(continent_list, color_list):\n",
    "    plt.plot('MONTH', 'PEOPLE_POSITIVE_NEW_CASES_COUNT', data=continent_new_case.loc[continent_new_case['CONTINENT_NAME']==continent], c=color, label=continent, marker='o', linewidth=3)\n",
    "\n",
    "# create a list of sum of cases for each continent in July (last month)\n",
    "max_continent = []\n",
    "for continent in continent_list:\n",
    "    max_continent.append(continent_new_case.loc[(continent_new_case['CONTINENT_NAME'] == continent) & \n",
    "                                                (continent_new_case['MONTH'] == 7)]['PEOPLE_POSITIVE_NEW_CASES_COUNT'].sum())\n",
    "\n",
    "# create and position labels\n",
    "for y in max_continent:\n",
    "    if y >= 1000000:\n",
    "        plt.text(7.05, y, str(round(y/1000000, 2)) +'M')\n",
    "    else:\n",
    "        plt.text(7.05, y, str(round(y/1000)) +'K')\n",
    "plt.legend()\n",
    "plt.ylim(-100000, 3000000)\n",
    "plt.xlim(1, 7.3)\n",
    "plt.xlabel('Month')\n",
    "plt.title('Newly Reported Cases of Covid-19 for each Continent')\n",
    "plt.ylabel('Number of Infectee (M)')\n",
    "plt.show()"
   ]
  },
  {
   "cell_type": "markdown",
   "metadata": {},
   "source": [
    "To be clear each plot **doesn't** represent the sum of previous cases + new cases. It's a quantity of newly reported cases.\n",
    "\n",
    "* Initially, Asia experienced the fastest growth rate as Wuhan is the place of origin of Covid-19\n",
    "* The number in Europe spiked up in between February and April then experienced a consistent decline in growth rate\n",
    "* America started slowly, then has been experiencing the fastest growth rate (it's on-going)\n",
    "* Growth rates in both Africa and Oceania have been steadily and very slowly increasing"
   ]
  },
  {
   "cell_type": "code",
   "execution_count": null,
   "metadata": {},
   "outputs": [],
   "source": [
    "# create a list of total of new cases for each time period\n",
    "aggregate_cases = []\n",
    "total = 0\n",
    "for continent in continent_list:\n",
    "    for item, new_case in zip(continent_new_case['CONTINENT_NAME'], continent_new_case['PEOPLE_POSITIVE_NEW_CASES_COUNT']):\n",
    "        if continent == item:\n",
    "            total += new_case\n",
    "            aggregate_cases.append(total)\n",
    "        else:\n",
    "            total = 0\n",
    "\n",
    "# add it as a new column\n",
    "continent_new_case['AGGREGATE_CASES'] = aggregate_cases"
   ]
  },
  {
   "cell_type": "code",
   "execution_count": null,
   "metadata": {},
   "outputs": [],
   "source": [
    "for continent, color in zip(continent_list, color_list):\n",
    "    plt.plot('MONTH', 'AGGREGATE_CASES', data=continent_new_case.loc[continent_new_case['CONTINENT_NAME']==continent], c=color, label=continent, marker='o', linewidth=3)\n",
    "\n",
    "max_continent = []\n",
    "for continent in continent_list:\n",
    "    max_continent.append(continent_new_case.loc[(continent_new_case['CONTINENT_NAME'] == continent) & \n",
    "                                                (continent_new_case['MONTH'] == 7)]['AGGREGATE_CASES'].sum())\n",
    "for y in max_continent:\n",
    "    if y >= 1000000:\n",
    "        plt.text(7.05, y, str(round(y/1000000, 2)) +'M')\n",
    "    else:\n",
    "        plt.text(7.05, y, str(round(y/1000)) +'K')\n",
    "plt.legend()\n",
    "plt.xlabel('Month')\n",
    "plt.xlim(1, 7.3)\n",
    "plt.title('Sum of all cases of Covid-19 for each Continent')\n",
    "plt.ylabel('Number of Infectee (M)')\n",
    "plt.show()"
   ]
  },
  {
   "cell_type": "markdown",
   "metadata": {},
   "source": [
    "* America is by far the *most* dangerous continent to travel in the current state - **fastest growth rate** since March\n",
    "* Asia and Africa are experiencing a steady increase\n",
    "* Europe and Oceania are managing to flatten the curves"
   ]
  },
  {
   "cell_type": "markdown",
   "metadata": {},
   "source": [
    "### Counting Deaths of each Continent"
   ]
  },
  {
   "cell_type": "code",
   "execution_count": null,
   "metadata": {},
   "outputs": [],
   "source": [
    "continent_death = covid[['CONTINENT_NAME', 'PEOPLE_DEATH_NEW_COUNT', 'YEAR', 'MONTH']].groupby(\n",
    "                       ['CONTINENT_NAME','YEAR', 'MONTH'], as_index=False).sum()\n",
    "continent_death = continent_death.append({'CONTINENT_NAME':'Africa', 'YEAR':2020, 'MONTH':1, 'PEOPLE_DEATH_NEW_COUNT':0}, ignore_index=True)\n",
    "continent_death.drop(index=13, inplace=True)\n",
    "continent_death.sort_values(by=['CONTINENT_NAME', 'MONTH'], inplace=True)\n",
    "continent_death.reset_index(drop=True, inplace=True)\n",
    "\n",
    "DEATH_AGGREGATE = []\n",
    "death_count = 0\n",
    "for continent in continent_list:\n",
    "    for item, death in zip(continent_death['CONTINENT_NAME'], continent_death['PEOPLE_DEATH_NEW_COUNT']):\n",
    "        if continent == item:\n",
    "            death_count += death\n",
    "            DEATH_AGGREGATE.append(death_count)\n",
    "        else:\n",
    "            death_count = 0\n",
    "continent_death['DEATH_AGGREGATE'] = DEATH_AGGREGATE\n",
    "print(continent_death)"
   ]
  },
  {
   "cell_type": "code",
   "execution_count": null,
   "metadata": {},
   "outputs": [],
   "source": [
    "for continent, color in zip(continent_list, color_list):\n",
    "    plt.plot('MONTH', 'DEATH_AGGREGATE', data=continent_death.loc[continent_death['CONTINENT_NAME']==continent], c=color, label=continent, marker='o', linewidth=3)\n",
    "\n",
    "max_death = []\n",
    "for continent in continent_list:\n",
    "    max_death.append(continent_death.loc[(continent_death['CONTINENT_NAME'] == continent) & \n",
    "                                                (continent_death['MONTH'] == 7)]['DEATH_AGGREGATE'].sum())\n",
    "\n",
    "for y in max_death:\n",
    "    if y >= 1000:\n",
    "        plt.text(7.05, y, str(round(y/1000)) +'K')\n",
    "    else:\n",
    "        plt.text(7.05, y, str(y))\n",
    "plt.legend()\n",
    "plt.xlim(1, 7.3)\n",
    "plt.xlabel('Month')\n",
    "plt.title('Death Toll for each Continent')\n",
    "yticks = [50000, 100000, 150000, 200000, 250000, 300000, 350000]\n",
    "ylabels = ['50K', '100K', '150K', '200K', '250K', '300K', '350K']\n",
    "plt.yticks(ticks=yticks, labels=ylabels)\n",
    "plt.ylabel('Fatality')\n",
    "plt.show()"
   ]
  },
  {
   "cell_type": "markdown",
   "metadata": {},
   "source": [
    "* As observed from previous graphs, the decline of Covid-19's positive cases in Europe has resulted in gentler slopes after April\n",
    "* The extreme growth rate of positive cases in America is reflected by the steep slope on this graph\n",
    "* Although the total of positive cases in Asia is greater than that of Europe by 80,000, death toll is much lower (it could be the consequence of how well the countries handled the situation)"
   ]
  },
  {
   "cell_type": "markdown",
   "metadata": {},
   "source": [
    "### Mortality Rate"
   ]
  },
  {
   "cell_type": "code",
   "execution_count": null,
   "metadata": {},
   "outputs": [],
   "source": [
    "def death_rate(df, continent):\n",
    "    '''\n",
    "    Args:\n",
    "        df: DataFrame\n",
    "        header: str or a list of str, a header of a column \n",
    "    Return:\n",
    "         death rate of a continent or an average death rate of continents\n",
    "    '''\n",
    "    # if calculating death rate of a continent, find the lastest updates of death and infected population\n",
    "    if type(continent) == str:\n",
    "        temp = df.loc[df['CONTINENT_NAME'] == continent]\n",
    "        return '{}%'.format(round(temp['PEOPLE_DEATH_COUNT'].max()/temp['PEOPLE_POSITIVE_CASES_COUNT'].max()*100, 2))\n",
    "    # if calculating death rate of continents, find each continent's death rate and find the average\n",
    "    else:\n",
    "        death = []\n",
    "        population = []\n",
    "        total = 0\n",
    "        for item in continent:\n",
    "            death.append(df.loc[df['CONTINENT_NAME'] == item]['PEOPLE_DEATH_COUNT'].max())\n",
    "            population.append(df.loc[df['CONTINENT_NAME'] == item]['PEOPLE_POSITIVE_CASES_COUNT'].max())\n",
    "        for d, p in zip(death, population):\n",
    "            total += d/p*100\n",
    "        return '{}%'.format(round(total/len(death), 2))\n",
    "\n",
    "print(death_rate(covid,'Africa'))\n",
    "print(death_rate(covid,'America'))\n",
    "print(death_rate(covid,['Africa', 'America']))"
   ]
  },
  {
   "cell_type": "code",
   "execution_count": null,
   "metadata": {},
   "outputs": [],
   "source": [
    "for continent in continent_list:\n",
    "    print(f\"Mortality rate of Covid-19 in {continent}: {death_rate(covid, continent)}\")\n",
    "print(f'===============\\nAverage mortality rate of Covid-19: {death_rate(covid, continent_list)}')"
   ]
  },
  {
   "cell_type": "markdown",
   "metadata": {},
   "source": [
    "*Europe* has recorded the highest mortality rate of **5.77%** while *Oceania* has managed the lowest of **0.99%**.\n",
    "\n",
    "Overall, the average is **2.88%**, which is considered **not fatal**."
   ]
  },
  {
   "cell_type": "code",
   "execution_count": null,
   "metadata": {},
   "outputs": [],
   "source": [
    "total_all = covid[['MONTH', 'PEOPLE_POSITIVE_NEW_CASES_COUNT', 'PEOPLE_DEATH_NEW_COUNT']].groupby(['MONTH']).sum()\n",
    "total_all.drop(12, inplace=True)\n",
    "total_positive_list = []\n",
    "total_death_list = []\n",
    "count_positive = 0\n",
    "count_death = 0\n",
    "for positive, death in zip(total_all['PEOPLE_POSITIVE_NEW_CASES_COUNT'], total_all['PEOPLE_DEATH_NEW_COUNT']):\n",
    "    count_positive += positive\n",
    "    count_death += death\n",
    "    total_positive_list.append(count_positive)\n",
    "    total_death_list.append(count_death)\n",
    "total_all['TOTAL_POSITIVE_CASE'] = total_positive_list\n",
    "total_all['TOTAL_DEATH'] = total_death_list\n",
    "print(total_all)"
   ]
  },
  {
   "cell_type": "code",
   "execution_count": null,
   "metadata": {},
   "outputs": [],
   "source": [
    "total_all['TOTAL_POSITIVE_CASE'].plot(linewidth=3, marker='o')\n",
    "plt.title('All Positive Cases of Covid-19')\n",
    "#setting up y-axis and x-axis of all positive cases\n",
    "plt.xlim(1, 7.3)\n",
    "plt.ylim(-100000, 16000000)\n",
    "yticks = [0, 2000000, 4000000, 6000000, 8000000, 10000000, 12000000, 14000000, 16000000]\n",
    "ylabels = ['0', '2M', '4M', '6M', '8M', '10M', '12M', '14M', '16M']\n",
    "plt.yticks(ticks=yticks, labels=ylabels)\n",
    "y = total_all['TOTAL_POSITIVE_CASE'].max()\n",
    "plt.text(6.85, y+200000, str(y))\n",
    "plt.show()\n",
    "\n",
    "total_all['TOTAL_DEATH'].plot(linewidth=3, marker='o')\n",
    "plt.title('International Death Toll')\n",
    "#setting up y-axis and x-axis of death toll\n",
    "plt.xlim(1, 7.3)\n",
    "plt.ylim(-10000, 700000)\n",
    "yticks = [0, 100000, 200000, 300000, 400000, 500000, 600000, 700000]\n",
    "ylabels = ['0', '100K', '200K', '300K', '400K', '500K', '600K', '700k']\n",
    "plt.yticks(ticks=yticks, labels=ylabels)\n",
    "y = total_all['TOTAL_DEATH'].max()\n",
    "plt.text(6.9, y+10000, str(y))\n",
    "plt.show()"
   ]
  },
  {
   "cell_type": "code",
   "execution_count": null,
   "metadata": {},
   "outputs": [],
   "source": [
    "covid['REPORT_DATE'] = pd.to_datetime(covid['REPORT_DATE'])\n",
    "covid.sort_values(by='REPORT_DATE', inplace=True)"
   ]
  },
  {
   "cell_type": "markdown",
   "metadata": {},
   "source": [
    "### Plotting every point"
   ]
  },
  {
   "cell_type": "code",
   "execution_count": null,
   "metadata": {},
   "outputs": [],
   "source": [
    "covid_daily = covid.groupby('REPORT_DATE', as_index=False).sum()\n",
    "plt.plot_date(x=covid_daily['REPORT_DATE'], y=covid_daily['PEOPLE_POSITIVE_CASES_COUNT'])\n",
    "yticks = [0, 2000000, 4000000, 6000000, 8000000, 10000000, 12000000, 14000000, 16000000]\n",
    "ylabels = ['0', '2M', '4M', '6M', '8M', '10M', '12M', '14M', '16M']\n",
    "plt.yticks(ticks=yticks, labels=ylabels)\n",
    "plt.title('The Tracks of Covid-19')\n",
    "plt.show()"
   ]
  },
  {
   "cell_type": "markdown",
   "metadata": {},
   "source": [
    "Why is the last point out of place?\n",
    "\n",
    "Since this graph is reporting the aggregate of all reported cases in the past, the last point cannot be where it is plotted.\n",
    "\n",
    "Let's investigate"
   ]
  },
  {
   "cell_type": "markdown",
   "metadata": {},
   "source": [
    "### Tracking down the problem"
   ]
  },
  {
   "cell_type": "code",
   "execution_count": null,
   "metadata": {},
   "outputs": [],
   "source": [
    "print(covid_daily.tail(2))"
   ]
  },
  {
   "cell_type": "code",
   "execution_count": null,
   "metadata": {},
   "outputs": [],
   "source": [
    "print(covid.loc[covid['REPORT_DATE']=='2020-07-23']['PEOPLE_POSITIVE_CASES_COUNT'].isnull().sum())\n",
    "print(covid.loc[covid['REPORT_DATE'].isin(['2020-07-23', '2020-07-22'])]\n",
    "              [['PEOPLE_POSITIVE_CASES_COUNT', 'CONTINENT_NAME', 'REPORT_DATE']]\n",
    "              .groupby(['CONTINENT_NAME', 'REPORT_DATE']).sum())"
   ]
  },
  {
   "cell_type": "markdown",
   "metadata": {},
   "source": [
    "In America, cases went from 8026207 to 4037927. Given it happened within a day, the number should've been more like 8037927\n",
    "\n",
    "Let's see where in America it happened"
   ]
  },
  {
   "cell_type": "code",
   "execution_count": null,
   "metadata": {},
   "outputs": [],
   "source": [
    "pd.set_option('display.max_rows', None)\n",
    "print(covid.loc[(covid['REPORT_DATE'].isin(['2020-07-23', '2020-07-22'])) & (covid['CONTINENT_NAME'] == 'America')]\n",
    "[['PEOPLE_POSITIVE_CASES_COUNT', 'COUNTRY_SHORT_NAME', 'REPORT_DATE']].groupby(['COUNTRY_SHORT_NAME', 'REPORT_DATE']).sum())"
   ]
  },
  {
   "cell_type": "markdown",
   "metadata": {},
   "source": [
    "Everywhere looks fine except the U.S.\n",
    "\n",
    "It was due to missing 2020-07-23 reports in the U.S.\n",
    "\n",
    "Since the total on 2020-07-23 is highly affected by this factor, I'm going to graph til 2020-07-22"
   ]
  },
  {
   "cell_type": "code",
   "execution_count": null,
   "metadata": {},
   "outputs": [],
   "source": [
    "# drop the reports on 2020-07-23\n",
    "covid_temp = covid.copy()\n",
    "covid_temp.drop(covid_temp.loc[covid_temp['REPORT_DATE'] == '2020-07-23'].index, inplace=True)\n",
    "covid_daily = covid_temp.groupby('REPORT_DATE', as_index=False).sum()\n",
    "plt.plot_date(x=covid_daily['REPORT_DATE'], y=covid_daily['PEOPLE_POSITIVE_CASES_COUNT'])\n",
    "yticks = [0, 2000000, 4000000, 6000000, 8000000, 10000000, 12000000, 14000000, 16000000]\n",
    "ylabels = ['0', '2M', '4M', '6M', '8M', '10M', '12M', '14M', '16M']\n",
    "plt.yticks(ticks=yticks, labels=ylabels)\n",
    "plt.title('The Tracks of Covid-19')\n",
    "plt.show()"
   ]
  },
  {
   "cell_type": "markdown",
   "metadata": {},
   "source": [
    "Now it looks great with no error"
   ]
  },
  {
   "cell_type": "code",
   "execution_count": null,
   "metadata": {},
   "outputs": [],
   "source": [
    "covid_daily = covid.groupby('REPORT_DATE', as_index=False).sum()\n",
    "covid_daily.drop(covid_temp.loc[covid_temp['REPORT_DATE'] == '2020-07-23'].index, inplace=True)\n",
    "plt.plot_date(x=covid_daily['REPORT_DATE'], y=covid_daily['PEOPLE_POSITIVE_CASES_COUNT'])\n",
    "yticks = [0, 2000000, 4000000, 6000000, 8000000, 10000000, 12000000, 14000000, 16000000]\n",
    "ylabels = ['0', '2M', '4M', '6M', '8M', '10M', '12M', '14M', '16M']\n",
    "plt.yticks(ticks=yticks, labels=ylabels)\n",
    "plt.title('The Tracks of Covid-19')\n",
    "plt.show()"
   ]
  }
 ],
 "metadata": {
  "kernelspec": {
   "display_name": "Python 3",
   "language": "python",
   "name": "python3"
  },
  "language_info": {
   "codemirror_mode": {
    "name": "ipython",
    "version": 3
   },
   "file_extension": ".py",
   "mimetype": "text/x-python",
   "name": "python",
   "nbconvert_exporter": "python",
   "pygments_lexer": "ipython3",
   "version": "3.8.3"
  }
 },
 "nbformat": 4,
 "nbformat_minor": 4
}
