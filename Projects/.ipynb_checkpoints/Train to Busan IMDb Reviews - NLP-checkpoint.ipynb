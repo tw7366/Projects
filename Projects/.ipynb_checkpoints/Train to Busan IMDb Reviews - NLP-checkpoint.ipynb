{
 "cells": [
  {
   "cell_type": "markdown",
   "metadata": {},
   "source": [
    "## Analysis of Train to Busan (2020) Reviews\n",
    "\n",
    "There are a few things I want to achieve through this analysis\n",
    "\n",
    "I would like to \n",
    "* find keywords from the reviews\n",
    "* get the average of reviews (/10)\n",
    "* find similarities between reviews"
   ]
  },
  {
   "cell_type": "code",
   "execution_count": 1,
   "metadata": {},
   "outputs": [],
   "source": [
    "import pandas as pd\n",
    "import numpy as np\n",
    "import matplotlib.pyplot as plt\n",
    "import seaborn as sns\n",
    "from selenium import webdriver\n",
    "from selenium.webdriver.common.keys import Keys\n",
    "from selenium.webdriver.common.by import By\n",
    "from selenium.webdriver.support.wait import WebDriverWait\n",
    "from selenium.webdriver.support import expected_conditions as EC\n",
    "from selenium.webdriver.common.action_chains import ActionChains\n",
    "import bs4 as bs\n",
    "import time"
   ]
  },
  {
   "cell_type": "code",
   "execution_count": 2,
   "metadata": {},
   "outputs": [],
   "source": [
    "path = 'C:\\Program Files (x86)\\chromedriver.exe'\n",
    "driver = webdriver.Chrome(path)\n",
    "driver.get('https://www.imdb.com/title/tt5700672/reviews?ref_=tt_ov_rt')\n",
    "\n",
    "# on IMDb website, there aren't pages but load more buttons, so to grab the source code of all reviews, need to use selenium\n",
    "while True:\n",
    "    try:\n",
    "        # load more until there is no more\n",
    "        load_more = WebDriverWait(driver, 10).until(\n",
    "        EC.presence_of_element_located((By.ID, 'load-more-trigger'))\n",
    "        )\n",
    "        time.sleep(2)\n",
    "        ActionChains(driver).move_to_element(load_more).click(load_more).perform()\n",
    "    except:\n",
    "        # store the source code of all reviews\n",
    "        html = driver.page_source\n",
    "        driver.quit()\n",
    "        break"
   ]
  },
  {
   "cell_type": "code",
   "execution_count": 3,
   "metadata": {},
   "outputs": [],
   "source": [
    "titles = []\n",
    "ratings = []\n",
    "reviews = []\n",
    "reviews = []\n",
    "\n",
    "# web scraping using BeautifulSoup\n",
    "soup = bs.BeautifulSoup(html, 'lxml')\n",
    "all_containers = soup.findAll('div', {'class':'lister-item-content'})\n",
    "for container in all_containers:\n",
    "    # title cannot be empty\n",
    "    titles.append(container.a.text.strip())\n",
    "    if container.div.span.span is None:\n",
    "        ratings.append(0)\n",
    "    else:\n",
    "        ratings.append(container.div.span.span.text)\n",
    "    if container.findChildren('div')[2].div is None:\n",
    "        reviews.append('None')\n",
    "    else:\n",
    "        reviews.append(container.findChildren('div')[2].div.text)"
   ]
  },
  {
   "cell_type": "code",
   "execution_count": 33,
   "metadata": {},
   "outputs": [
    {
     "data": {
      "text/html": [
       "<div>\n",
       "<style scoped>\n",
       "    .dataframe tbody tr th:only-of-type {\n",
       "        vertical-align: middle;\n",
       "    }\n",
       "\n",
       "    .dataframe tbody tr th {\n",
       "        vertical-align: top;\n",
       "    }\n",
       "\n",
       "    .dataframe thead th {\n",
       "        text-align: right;\n",
       "    }\n",
       "</style>\n",
       "<table border=\"1\" class=\"dataframe\">\n",
       "  <thead>\n",
       "    <tr style=\"text-align: right;\">\n",
       "      <th></th>\n",
       "      <th>Title</th>\n",
       "      <th>Rating</th>\n",
       "      <th>Review</th>\n",
       "    </tr>\n",
       "  </thead>\n",
       "  <tbody>\n",
       "    <tr>\n",
       "      <th>0</th>\n",
       "      <td>Zombie Revival</td>\n",
       "      <td>8</td>\n",
       "      <td>Train to Busan was a treat. A look into Selfis...</td>\n",
       "    </tr>\n",
       "    <tr>\n",
       "      <th>1</th>\n",
       "      <td>As Promised. Action-Packed Film!</td>\n",
       "      <td>0</td>\n",
       "      <td>None</td>\n",
       "    </tr>\n",
       "    <tr>\n",
       "      <th>2</th>\n",
       "      <td>Cheerleader. zombies, knocked up</td>\n",
       "      <td>8</td>\n",
       "      <td>The film has it all - greedy CEO capitalist pi...</td>\n",
       "    </tr>\n",
       "    <tr>\n",
       "      <th>3</th>\n",
       "      <td>Packed with action and populated by both good ...</td>\n",
       "      <td>0</td>\n",
       "      <td>None</td>\n",
       "    </tr>\n",
       "    <tr>\n",
       "      <th>4</th>\n",
       "      <td>Excellent</td>\n",
       "      <td>8</td>\n",
       "      <td>This film has it all.ActionMoralityA lesson fo...</td>\n",
       "    </tr>\n",
       "    <tr>\n",
       "      <th>5</th>\n",
       "      <td>Zombies, train, babes</td>\n",
       "      <td>9</td>\n",
       "      <td>I own it it really made me think a lot i enjoy...</td>\n",
       "    </tr>\n",
       "    <tr>\n",
       "      <th>6</th>\n",
       "      <td>Schoolgirl And Intrepid Infected Masses</td>\n",
       "      <td>10</td>\n",
       "      <td>You got it. This schoolgirl isn't from Texas a...</td>\n",
       "    </tr>\n",
       "    <tr>\n",
       "      <th>7</th>\n",
       "      <td>Good action film but...</td>\n",
       "      <td>8</td>\n",
       "      <td>Is this really a zombie film? I am not a genre...</td>\n",
       "    </tr>\n",
       "    <tr>\n",
       "      <th>8</th>\n",
       "      <td>I Love Kpop Girls</td>\n",
       "      <td>8</td>\n",
       "      <td>Amazing Film!!!\\nWe used to Listen to Wonder G...</td>\n",
       "    </tr>\n",
       "    <tr>\n",
       "      <th>9</th>\n",
       "      <td>This is better than the last twenty films of A...</td>\n",
       "      <td>10</td>\n",
       "      <td>I'm just a civilian of the US but I do follow ...</td>\n",
       "    </tr>\n",
       "  </tbody>\n",
       "</table>\n",
       "</div>"
      ],
      "text/plain": [
       "                                               Title Rating  \\\n",
       "0                                     Zombie Revival      8   \n",
       "1                   As Promised. Action-Packed Film!      0   \n",
       "2                   Cheerleader. zombies, knocked up      8   \n",
       "3  Packed with action and populated by both good ...      0   \n",
       "4                                          Excellent      8   \n",
       "5                              Zombies, train, babes      9   \n",
       "6            Schoolgirl And Intrepid Infected Masses     10   \n",
       "7                            Good action film but...      8   \n",
       "8                                  I Love Kpop Girls      8   \n",
       "9  This is better than the last twenty films of A...     10   \n",
       "\n",
       "                                              Review  \n",
       "0  Train to Busan was a treat. A look into Selfis...  \n",
       "1                                               None  \n",
       "2  The film has it all - greedy CEO capitalist pi...  \n",
       "3                                               None  \n",
       "4  This film has it all.ActionMoralityA lesson fo...  \n",
       "5  I own it it really made me think a lot i enjoy...  \n",
       "6  You got it. This schoolgirl isn't from Texas a...  \n",
       "7  Is this really a zombie film? I am not a genre...  \n",
       "8  Amazing Film!!!\\nWe used to Listen to Wonder G...  \n",
       "9  I'm just a civilian of the US but I do follow ...  "
      ]
     },
     "execution_count": 33,
     "metadata": {},
     "output_type": "execute_result"
    }
   ],
   "source": [
    "frame = {'Title':titles, 'Rating':ratings, 'Review':reviews}\n",
    "review_df = pd.DataFrame(frame)\n",
    "pd.set_option('display.max_rows', None)\n",
    "review_df.head(10)"
   ]
  },
  {
   "cell_type": "code",
   "execution_count": 35,
   "metadata": {},
   "outputs": [
    {
     "data": {
      "text/plain": [
       "(701, 4)"
      ]
     },
     "execution_count": 35,
     "metadata": {},
     "output_type": "execute_result"
    }
   ],
   "source": [
    "from nltk.tokenize import word_tokenize, sent_tokenize\n",
    "from nltk.corpus import stopwords\n",
    "import gensim\n",
    "import re\n",
    "from gensim.models.doc2vec import TaggedDocument\n",
    "from gensim.models.doc2vec import Doc2Vec\n",
    "\n",
    "cleaned_review = []\n",
    "\n",
    "for review in review_df['Review']:\n",
    "    cleaned_doc = re.sub(r\"[^A-Za-z ]+\", ' ', review)\n",
    "    cleaned_doc = cleaned_doc.replace('  ', ' ')\n",
    "    cleaned_doc = cleaned_doc.lower()\n",
    "    cleaned_review.append(cleaned_doc)\n",
    "\n",
    "review_df['Cleaned Review'] = cleaned_review\n",
    "review_df.shape"
   ]
  },
  {
   "cell_type": "code",
   "execution_count": 6,
   "metadata": {},
   "outputs": [
    {
     "data": {
      "text/html": [
       "<div>\n",
       "<style scoped>\n",
       "    .dataframe tbody tr th:only-of-type {\n",
       "        vertical-align: middle;\n",
       "    }\n",
       "\n",
       "    .dataframe tbody tr th {\n",
       "        vertical-align: top;\n",
       "    }\n",
       "\n",
       "    .dataframe thead th {\n",
       "        text-align: right;\n",
       "    }\n",
       "</style>\n",
       "<table border=\"1\" class=\"dataframe\">\n",
       "  <thead>\n",
       "    <tr style=\"text-align: right;\">\n",
       "      <th></th>\n",
       "      <th>Title</th>\n",
       "      <th>Rating</th>\n",
       "      <th>Review</th>\n",
       "      <th>Cleaned Review</th>\n",
       "    </tr>\n",
       "  </thead>\n",
       "  <tbody>\n",
       "    <tr>\n",
       "      <th>0</th>\n",
       "      <td>Zombie Revival</td>\n",
       "      <td>8</td>\n",
       "      <td>Train to Busan was a treat. A look into Selfis...</td>\n",
       "      <td>train to busan was a treat a look into selfish...</td>\n",
       "    </tr>\n",
       "    <tr>\n",
       "      <th>1</th>\n",
       "      <td>As Promised. Action-Packed Film!</td>\n",
       "      <td>0</td>\n",
       "      <td>None</td>\n",
       "      <td>none</td>\n",
       "    </tr>\n",
       "    <tr>\n",
       "      <th>2</th>\n",
       "      <td>Cheerleader. zombies, knocked up</td>\n",
       "      <td>8</td>\n",
       "      <td>The film has it all - greedy CEO capitalist pi...</td>\n",
       "      <td>the film has it all  greedy ceo capitalist pig...</td>\n",
       "    </tr>\n",
       "    <tr>\n",
       "      <th>3</th>\n",
       "      <td>Packed with action and populated by both good ...</td>\n",
       "      <td>0</td>\n",
       "      <td>None</td>\n",
       "      <td>none</td>\n",
       "    </tr>\n",
       "    <tr>\n",
       "      <th>4</th>\n",
       "      <td>Excellent</td>\n",
       "      <td>8</td>\n",
       "      <td>This film has it all.ActionMoralityA lesson fo...</td>\n",
       "      <td>this film has it all actionmoralitya lesson fo...</td>\n",
       "    </tr>\n",
       "  </tbody>\n",
       "</table>\n",
       "</div>"
      ],
      "text/plain": [
       "                                               Title Rating  \\\n",
       "0                                     Zombie Revival      8   \n",
       "1                   As Promised. Action-Packed Film!      0   \n",
       "2                   Cheerleader. zombies, knocked up      8   \n",
       "3  Packed with action and populated by both good ...      0   \n",
       "4                                          Excellent      8   \n",
       "\n",
       "                                              Review  \\\n",
       "0  Train to Busan was a treat. A look into Selfis...   \n",
       "1                                               None   \n",
       "2  The film has it all - greedy CEO capitalist pi...   \n",
       "3                                               None   \n",
       "4  This film has it all.ActionMoralityA lesson fo...   \n",
       "\n",
       "                                      Cleaned Review  \n",
       "0  train to busan was a treat a look into selfish...  \n",
       "1                                               none  \n",
       "2  the film has it all  greedy ceo capitalist pig...  \n",
       "3                                               none  \n",
       "4  this film has it all actionmoralitya lesson fo...  "
      ]
     },
     "execution_count": 6,
     "metadata": {},
     "output_type": "execute_result"
    }
   ],
   "source": [
    "review_df.head()"
   ]
  },
  {
   "cell_type": "code",
   "execution_count": 7,
   "metadata": {},
   "outputs": [
    {
     "data": {
      "text/plain": [
       "(569, 4)"
      ]
     },
     "execution_count": 7,
     "metadata": {},
     "output_type": "execute_result"
    }
   ],
   "source": [
    "useless_rows = review_df.loc[review_df['Review'] == 'None'].index\n",
    "review_df.drop(useless_rows, inplace=True)\n",
    "review_df.reset_index(drop=True, inplace=True)\n",
    "review_df.shape"
   ]
  },
  {
   "cell_type": "code",
   "execution_count": 13,
   "metadata": {},
   "outputs": [
    {
     "data": {
      "text/html": [
       "<div>\n",
       "<style scoped>\n",
       "    .dataframe tbody tr th:only-of-type {\n",
       "        vertical-align: middle;\n",
       "    }\n",
       "\n",
       "    .dataframe tbody tr th {\n",
       "        vertical-align: top;\n",
       "    }\n",
       "\n",
       "    .dataframe thead th {\n",
       "        text-align: right;\n",
       "    }\n",
       "</style>\n",
       "<table border=\"1\" class=\"dataframe\">\n",
       "  <thead>\n",
       "    <tr style=\"text-align: right;\">\n",
       "      <th></th>\n",
       "      <th>Title</th>\n",
       "      <th>Rating</th>\n",
       "      <th>Review</th>\n",
       "      <th>Cleaned Review</th>\n",
       "    </tr>\n",
       "  </thead>\n",
       "  <tbody>\n",
       "    <tr>\n",
       "      <th>0</th>\n",
       "      <td>Zombie Revival</td>\n",
       "      <td>8</td>\n",
       "      <td>Train to Busan was a treat. A look into Selfis...</td>\n",
       "      <td>train to busan was a treat a look into selfish...</td>\n",
       "    </tr>\n",
       "    <tr>\n",
       "      <th>1</th>\n",
       "      <td>Cheerleader. zombies, knocked up</td>\n",
       "      <td>8</td>\n",
       "      <td>The film has it all - greedy CEO capitalist pi...</td>\n",
       "      <td>the film has it all  greedy ceo capitalist pig...</td>\n",
       "    </tr>\n",
       "    <tr>\n",
       "      <th>2</th>\n",
       "      <td>Excellent</td>\n",
       "      <td>8</td>\n",
       "      <td>This film has it all.ActionMoralityA lesson fo...</td>\n",
       "      <td>this film has it all actionmoralitya lesson fo...</td>\n",
       "    </tr>\n",
       "    <tr>\n",
       "      <th>3</th>\n",
       "      <td>Zombies, train, babes</td>\n",
       "      <td>9</td>\n",
       "      <td>I own it it really made me think a lot i enjoy...</td>\n",
       "      <td>i own it it really made me think a lot i enjoy...</td>\n",
       "    </tr>\n",
       "    <tr>\n",
       "      <th>4</th>\n",
       "      <td>Schoolgirl And Intrepid Infected Masses</td>\n",
       "      <td>10</td>\n",
       "      <td>You got it. This schoolgirl isn't from Texas a...</td>\n",
       "      <td>you got it this schoolgirl isn t from texas an...</td>\n",
       "    </tr>\n",
       "  </tbody>\n",
       "</table>\n",
       "</div>"
      ],
      "text/plain": [
       "                                     Title Rating  \\\n",
       "0                           Zombie Revival      8   \n",
       "1         Cheerleader. zombies, knocked up      8   \n",
       "2                                Excellent      8   \n",
       "3                    Zombies, train, babes      9   \n",
       "4  Schoolgirl And Intrepid Infected Masses     10   \n",
       "\n",
       "                                              Review  \\\n",
       "0  Train to Busan was a treat. A look into Selfis...   \n",
       "1  The film has it all - greedy CEO capitalist pi...   \n",
       "2  This film has it all.ActionMoralityA lesson fo...   \n",
       "3  I own it it really made me think a lot i enjoy...   \n",
       "4  You got it. This schoolgirl isn't from Texas a...   \n",
       "\n",
       "                                      Cleaned Review  \n",
       "0  train to busan was a treat a look into selfish...  \n",
       "1  the film has it all  greedy ceo capitalist pig...  \n",
       "2  this film has it all actionmoralitya lesson fo...  \n",
       "3  i own it it really made me think a lot i enjoy...  \n",
       "4  you got it this schoolgirl isn t from texas an...  "
      ]
     },
     "execution_count": 13,
     "metadata": {},
     "output_type": "execute_result"
    }
   ],
   "source": [
    "review_df.head()"
   ]
  },
  {
   "cell_type": "code",
   "execution_count": 36,
   "metadata": {},
   "outputs": [
    {
     "data": {
      "text/plain": [
       "[('skinless', 0.7021056413650513),\n",
       " ('disasters', 0.6872469782829285),\n",
       " ('damned', 0.6777353286743164),\n",
       " ('move', 0.6637117266654968),\n",
       " ('ways', 0.6629478335380554),\n",
       " ('people', 0.6493796110153198),\n",
       " ('sped', 0.6473840475082397),\n",
       " ('things', 0.6471961140632629),\n",
       " ('infected', 0.643892765045166),\n",
       " ('beating', 0.6428693532943726)]"
      ]
     },
     "execution_count": 36,
     "metadata": {},
     "output_type": "execute_result"
    }
   ],
   "source": [
    "bags_of_words = [TaggedDocument(word_tokenize(doc), [i]) for i, doc in enumerate(review_df['Cleaned Review'])]\n",
    "model = Doc2Vec(vector_size=30, min_count=1, negative=10, workers=4)\n",
    "model.build_vocab([x for x in bags_of_words])\n",
    "model.train(bags_of_words, total_examples=len(bags_of_words), epochs=50)\n",
    "model.wv.most_similar('zombies')"
   ]
  },
  {
   "cell_type": "code",
   "execution_count": 37,
   "metadata": {},
   "outputs": [
    {
     "name": "stdout",
     "output_type": "stream",
     "text": [
      "1.0\n",
      "0.46660322\n",
      "0.75989324\n",
      "0.46660322\n",
      "0.80204576\n",
      "0.7210708\n",
      "0.5597845\n",
      "0.87510836\n",
      "0.79246765\n",
      "0.75284696\n",
      "0.80477816\n",
      "0.69564915\n",
      "0.7505734\n",
      "0.73861814\n",
      "0.836241\n",
      "0.7383603\n",
      "0.7959791\n",
      "0.7396294\n",
      "0.46660322\n",
      "0.8564738\n",
      "0.7912782\n",
      "0.46660322\n",
      "0.8362736\n",
      "0.46660322\n",
      "0.8524206\n",
      "0.7530432\n",
      "0.7369192\n",
      "0.8281632\n",
      "0.9277655\n",
      "0.46660322\n",
      "0.46660322\n",
      "0.8697637\n",
      "0.88027203\n",
      "0.7082603\n",
      "0.9072268\n",
      "0.8359121\n"
     ]
    },
    {
     "ename": "KeyError",
     "evalue": "\"word 'cannot' not in vocabulary\"",
     "output_type": "error",
     "traceback": [
      "\u001b[1;31m---------------------------------------------------------------------------\u001b[0m",
      "\u001b[1;31mKeyError\u001b[0m                                  Traceback (most recent call last)",
      "\u001b[1;32m<ipython-input-37-bb051a4c0c55>\u001b[0m in \u001b[0;36m<module>\u001b[1;34m\u001b[0m\n\u001b[0;32m      1\u001b[0m \u001b[1;32mfor\u001b[0m \u001b[0mdoc\u001b[0m \u001b[1;32min\u001b[0m \u001b[0mreview_df\u001b[0m\u001b[1;33m[\u001b[0m\u001b[1;34m'Cleaned Review'\u001b[0m\u001b[1;33m]\u001b[0m\u001b[1;33m:\u001b[0m\u001b[1;33m\u001b[0m\u001b[1;33m\u001b[0m\u001b[0m\n\u001b[1;32m----> 2\u001b[1;33m     \u001b[0mprint\u001b[0m\u001b[1;33m(\u001b[0m\u001b[0mmodel\u001b[0m\u001b[1;33m.\u001b[0m\u001b[0mwv\u001b[0m\u001b[1;33m.\u001b[0m\u001b[0mn_similarity\u001b[0m\u001b[1;33m(\u001b[0m\u001b[0mreview_df\u001b[0m\u001b[1;33m[\u001b[0m\u001b[1;34m'Cleaned Review'\u001b[0m\u001b[1;33m]\u001b[0m\u001b[1;33m[\u001b[0m\u001b[1;36m0\u001b[0m\u001b[1;33m]\u001b[0m\u001b[1;33m.\u001b[0m\u001b[0msplit\u001b[0m\u001b[1;33m(\u001b[0m\u001b[1;33m)\u001b[0m\u001b[1;33m,\u001b[0m \u001b[0mdoc\u001b[0m\u001b[1;33m.\u001b[0m\u001b[0msplit\u001b[0m\u001b[1;33m(\u001b[0m\u001b[1;33m)\u001b[0m\u001b[1;33m)\u001b[0m\u001b[1;33m)\u001b[0m\u001b[1;33m\u001b[0m\u001b[1;33m\u001b[0m\u001b[0m\n\u001b[0m",
      "\u001b[1;32mc:\\users\\taewoo\\pycharmprojects\\data-analysis-practice\\venv\\interpreter\\lib\\site-packages\\gensim\\models\\keyedvectors.py\u001b[0m in \u001b[0;36mn_similarity\u001b[1;34m(self, ws1, ws2)\u001b[0m\n\u001b[0;32m    993\u001b[0m             \u001b[1;32mraise\u001b[0m \u001b[0mZeroDivisionError\u001b[0m\u001b[1;33m(\u001b[0m\u001b[1;34m'At least one of the passed list is empty.'\u001b[0m\u001b[1;33m)\u001b[0m\u001b[1;33m\u001b[0m\u001b[1;33m\u001b[0m\u001b[0m\n\u001b[0;32m    994\u001b[0m         \u001b[0mv1\u001b[0m \u001b[1;33m=\u001b[0m \u001b[1;33m[\u001b[0m\u001b[0mself\u001b[0m\u001b[1;33m[\u001b[0m\u001b[0mword\u001b[0m\u001b[1;33m]\u001b[0m \u001b[1;32mfor\u001b[0m \u001b[0mword\u001b[0m \u001b[1;32min\u001b[0m \u001b[0mws1\u001b[0m\u001b[1;33m]\u001b[0m\u001b[1;33m\u001b[0m\u001b[1;33m\u001b[0m\u001b[0m\n\u001b[1;32m--> 995\u001b[1;33m         \u001b[0mv2\u001b[0m \u001b[1;33m=\u001b[0m \u001b[1;33m[\u001b[0m\u001b[0mself\u001b[0m\u001b[1;33m[\u001b[0m\u001b[0mword\u001b[0m\u001b[1;33m]\u001b[0m \u001b[1;32mfor\u001b[0m \u001b[0mword\u001b[0m \u001b[1;32min\u001b[0m \u001b[0mws2\u001b[0m\u001b[1;33m]\u001b[0m\u001b[1;33m\u001b[0m\u001b[1;33m\u001b[0m\u001b[0m\n\u001b[0m\u001b[0;32m    996\u001b[0m         \u001b[1;32mreturn\u001b[0m \u001b[0mdot\u001b[0m\u001b[1;33m(\u001b[0m\u001b[0mmatutils\u001b[0m\u001b[1;33m.\u001b[0m\u001b[0munitvec\u001b[0m\u001b[1;33m(\u001b[0m\u001b[0marray\u001b[0m\u001b[1;33m(\u001b[0m\u001b[0mv1\u001b[0m\u001b[1;33m)\u001b[0m\u001b[1;33m.\u001b[0m\u001b[0mmean\u001b[0m\u001b[1;33m(\u001b[0m\u001b[0maxis\u001b[0m\u001b[1;33m=\u001b[0m\u001b[1;36m0\u001b[0m\u001b[1;33m)\u001b[0m\u001b[1;33m)\u001b[0m\u001b[1;33m,\u001b[0m \u001b[0mmatutils\u001b[0m\u001b[1;33m.\u001b[0m\u001b[0munitvec\u001b[0m\u001b[1;33m(\u001b[0m\u001b[0marray\u001b[0m\u001b[1;33m(\u001b[0m\u001b[0mv2\u001b[0m\u001b[1;33m)\u001b[0m\u001b[1;33m.\u001b[0m\u001b[0mmean\u001b[0m\u001b[1;33m(\u001b[0m\u001b[0maxis\u001b[0m\u001b[1;33m=\u001b[0m\u001b[1;36m0\u001b[0m\u001b[1;33m)\u001b[0m\u001b[1;33m)\u001b[0m\u001b[1;33m)\u001b[0m\u001b[1;33m\u001b[0m\u001b[1;33m\u001b[0m\u001b[0m\n\u001b[0;32m    997\u001b[0m \u001b[1;33m\u001b[0m\u001b[0m\n",
      "\u001b[1;32mc:\\users\\taewoo\\pycharmprojects\\data-analysis-practice\\venv\\interpreter\\lib\\site-packages\\gensim\\models\\keyedvectors.py\u001b[0m in \u001b[0;36m<listcomp>\u001b[1;34m(.0)\u001b[0m\n\u001b[0;32m    993\u001b[0m             \u001b[1;32mraise\u001b[0m \u001b[0mZeroDivisionError\u001b[0m\u001b[1;33m(\u001b[0m\u001b[1;34m'At least one of the passed list is empty.'\u001b[0m\u001b[1;33m)\u001b[0m\u001b[1;33m\u001b[0m\u001b[1;33m\u001b[0m\u001b[0m\n\u001b[0;32m    994\u001b[0m         \u001b[0mv1\u001b[0m \u001b[1;33m=\u001b[0m \u001b[1;33m[\u001b[0m\u001b[0mself\u001b[0m\u001b[1;33m[\u001b[0m\u001b[0mword\u001b[0m\u001b[1;33m]\u001b[0m \u001b[1;32mfor\u001b[0m \u001b[0mword\u001b[0m \u001b[1;32min\u001b[0m \u001b[0mws1\u001b[0m\u001b[1;33m]\u001b[0m\u001b[1;33m\u001b[0m\u001b[1;33m\u001b[0m\u001b[0m\n\u001b[1;32m--> 995\u001b[1;33m         \u001b[0mv2\u001b[0m \u001b[1;33m=\u001b[0m \u001b[1;33m[\u001b[0m\u001b[0mself\u001b[0m\u001b[1;33m[\u001b[0m\u001b[0mword\u001b[0m\u001b[1;33m]\u001b[0m \u001b[1;32mfor\u001b[0m \u001b[0mword\u001b[0m \u001b[1;32min\u001b[0m \u001b[0mws2\u001b[0m\u001b[1;33m]\u001b[0m\u001b[1;33m\u001b[0m\u001b[1;33m\u001b[0m\u001b[0m\n\u001b[0m\u001b[0;32m    996\u001b[0m         \u001b[1;32mreturn\u001b[0m \u001b[0mdot\u001b[0m\u001b[1;33m(\u001b[0m\u001b[0mmatutils\u001b[0m\u001b[1;33m.\u001b[0m\u001b[0munitvec\u001b[0m\u001b[1;33m(\u001b[0m\u001b[0marray\u001b[0m\u001b[1;33m(\u001b[0m\u001b[0mv1\u001b[0m\u001b[1;33m)\u001b[0m\u001b[1;33m.\u001b[0m\u001b[0mmean\u001b[0m\u001b[1;33m(\u001b[0m\u001b[0maxis\u001b[0m\u001b[1;33m=\u001b[0m\u001b[1;36m0\u001b[0m\u001b[1;33m)\u001b[0m\u001b[1;33m)\u001b[0m\u001b[1;33m,\u001b[0m \u001b[0mmatutils\u001b[0m\u001b[1;33m.\u001b[0m\u001b[0munitvec\u001b[0m\u001b[1;33m(\u001b[0m\u001b[0marray\u001b[0m\u001b[1;33m(\u001b[0m\u001b[0mv2\u001b[0m\u001b[1;33m)\u001b[0m\u001b[1;33m.\u001b[0m\u001b[0mmean\u001b[0m\u001b[1;33m(\u001b[0m\u001b[0maxis\u001b[0m\u001b[1;33m=\u001b[0m\u001b[1;36m0\u001b[0m\u001b[1;33m)\u001b[0m\u001b[1;33m)\u001b[0m\u001b[1;33m)\u001b[0m\u001b[1;33m\u001b[0m\u001b[1;33m\u001b[0m\u001b[0m\n\u001b[0;32m    997\u001b[0m \u001b[1;33m\u001b[0m\u001b[0m\n",
      "\u001b[1;32mc:\\users\\taewoo\\pycharmprojects\\data-analysis-practice\\venv\\interpreter\\lib\\site-packages\\gensim\\models\\keyedvectors.py\u001b[0m in \u001b[0;36m__getitem__\u001b[1;34m(self, entities)\u001b[0m\n\u001b[0;32m    351\u001b[0m         \u001b[1;32mif\u001b[0m \u001b[0misinstance\u001b[0m\u001b[1;33m(\u001b[0m\u001b[0mentities\u001b[0m\u001b[1;33m,\u001b[0m \u001b[0mstring_types\u001b[0m\u001b[1;33m)\u001b[0m\u001b[1;33m:\u001b[0m\u001b[1;33m\u001b[0m\u001b[1;33m\u001b[0m\u001b[0m\n\u001b[0;32m    352\u001b[0m             \u001b[1;31m# allow calls like trained_model['office'], as a shorthand for trained_model[['office']]\u001b[0m\u001b[1;33m\u001b[0m\u001b[1;33m\u001b[0m\u001b[1;33m\u001b[0m\u001b[0m\n\u001b[1;32m--> 353\u001b[1;33m             \u001b[1;32mreturn\u001b[0m \u001b[0mself\u001b[0m\u001b[1;33m.\u001b[0m\u001b[0mget_vector\u001b[0m\u001b[1;33m(\u001b[0m\u001b[0mentities\u001b[0m\u001b[1;33m)\u001b[0m\u001b[1;33m\u001b[0m\u001b[1;33m\u001b[0m\u001b[0m\n\u001b[0m\u001b[0;32m    354\u001b[0m \u001b[1;33m\u001b[0m\u001b[0m\n\u001b[0;32m    355\u001b[0m         \u001b[1;32mreturn\u001b[0m \u001b[0mvstack\u001b[0m\u001b[1;33m(\u001b[0m\u001b[1;33m[\u001b[0m\u001b[0mself\u001b[0m\u001b[1;33m.\u001b[0m\u001b[0mget_vector\u001b[0m\u001b[1;33m(\u001b[0m\u001b[0mentity\u001b[0m\u001b[1;33m)\u001b[0m \u001b[1;32mfor\u001b[0m \u001b[0mentity\u001b[0m \u001b[1;32min\u001b[0m \u001b[0mentities\u001b[0m\u001b[1;33m]\u001b[0m\u001b[1;33m)\u001b[0m\u001b[1;33m\u001b[0m\u001b[1;33m\u001b[0m\u001b[0m\n",
      "\u001b[1;32mc:\\users\\taewoo\\pycharmprojects\\data-analysis-practice\\venv\\interpreter\\lib\\site-packages\\gensim\\models\\keyedvectors.py\u001b[0m in \u001b[0;36mget_vector\u001b[1;34m(self, word)\u001b[0m\n\u001b[0;32m    469\u001b[0m \u001b[1;33m\u001b[0m\u001b[0m\n\u001b[0;32m    470\u001b[0m     \u001b[1;32mdef\u001b[0m \u001b[0mget_vector\u001b[0m\u001b[1;33m(\u001b[0m\u001b[0mself\u001b[0m\u001b[1;33m,\u001b[0m \u001b[0mword\u001b[0m\u001b[1;33m)\u001b[0m\u001b[1;33m:\u001b[0m\u001b[1;33m\u001b[0m\u001b[1;33m\u001b[0m\u001b[0m\n\u001b[1;32m--> 471\u001b[1;33m         \u001b[1;32mreturn\u001b[0m \u001b[0mself\u001b[0m\u001b[1;33m.\u001b[0m\u001b[0mword_vec\u001b[0m\u001b[1;33m(\u001b[0m\u001b[0mword\u001b[0m\u001b[1;33m)\u001b[0m\u001b[1;33m\u001b[0m\u001b[1;33m\u001b[0m\u001b[0m\n\u001b[0m\u001b[0;32m    472\u001b[0m \u001b[1;33m\u001b[0m\u001b[0m\n\u001b[0;32m    473\u001b[0m     \u001b[1;32mdef\u001b[0m \u001b[0mwords_closer_than\u001b[0m\u001b[1;33m(\u001b[0m\u001b[0mself\u001b[0m\u001b[1;33m,\u001b[0m \u001b[0mw1\u001b[0m\u001b[1;33m,\u001b[0m \u001b[0mw2\u001b[0m\u001b[1;33m)\u001b[0m\u001b[1;33m:\u001b[0m\u001b[1;33m\u001b[0m\u001b[1;33m\u001b[0m\u001b[0m\n",
      "\u001b[1;32mc:\\users\\taewoo\\pycharmprojects\\data-analysis-practice\\venv\\interpreter\\lib\\site-packages\\gensim\\models\\keyedvectors.py\u001b[0m in \u001b[0;36mword_vec\u001b[1;34m(self, word, use_norm)\u001b[0m\n\u001b[0;32m    466\u001b[0m             \u001b[1;32mreturn\u001b[0m \u001b[0mresult\u001b[0m\u001b[1;33m\u001b[0m\u001b[1;33m\u001b[0m\u001b[0m\n\u001b[0;32m    467\u001b[0m         \u001b[1;32melse\u001b[0m\u001b[1;33m:\u001b[0m\u001b[1;33m\u001b[0m\u001b[1;33m\u001b[0m\u001b[0m\n\u001b[1;32m--> 468\u001b[1;33m             \u001b[1;32mraise\u001b[0m \u001b[0mKeyError\u001b[0m\u001b[1;33m(\u001b[0m\u001b[1;34m\"word '%s' not in vocabulary\"\u001b[0m \u001b[1;33m%\u001b[0m \u001b[0mword\u001b[0m\u001b[1;33m)\u001b[0m\u001b[1;33m\u001b[0m\u001b[1;33m\u001b[0m\u001b[0m\n\u001b[0m\u001b[0;32m    469\u001b[0m \u001b[1;33m\u001b[0m\u001b[0m\n\u001b[0;32m    470\u001b[0m     \u001b[1;32mdef\u001b[0m \u001b[0mget_vector\u001b[0m\u001b[1;33m(\u001b[0m\u001b[0mself\u001b[0m\u001b[1;33m,\u001b[0m \u001b[0mword\u001b[0m\u001b[1;33m)\u001b[0m\u001b[1;33m:\u001b[0m\u001b[1;33m\u001b[0m\u001b[1;33m\u001b[0m\u001b[0m\n",
      "\u001b[1;31mKeyError\u001b[0m: \"word 'cannot' not in vocabulary\""
     ]
    }
   ],
   "source": [
    "for doc in review_df['Cleaned Review']:\n",
    "    print(model.wv.n_similarity(review_df['Cleaned Review'][0].split(), doc.split()))"
   ]
  },
  {
   "cell_type": "code",
   "execution_count": 32,
   "metadata": {},
   "outputs": [
    {
     "name": "stdout",
     "output_type": "stream",
     "text": [
      "everybody is talking about the knock out girl yeah but there was a knocked up girl there which is for sure unattractive more important for us zombie fans the zombie here run and cannot see i mean if you are going into a horror subgenre then at least respect your elders this makes no sense what is next batman cannot drive \n"
     ]
    }
   ],
   "source": [
    "print(review_df['Cleaned Review'][29])"
   ]
  }
 ],
 "metadata": {
  "kernelspec": {
   "display_name": "Python 3",
   "language": "python",
   "name": "python3"
  },
  "language_info": {
   "codemirror_mode": {
    "name": "ipython",
    "version": 3
   },
   "file_extension": ".py",
   "mimetype": "text/x-python",
   "name": "python",
   "nbconvert_exporter": "python",
   "pygments_lexer": "ipython3",
   "version": "3.8.3"
  }
 },
 "nbformat": 4,
 "nbformat_minor": 4
}
