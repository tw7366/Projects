{
 "cells": [
  {
   "cell_type": "code",
   "execution_count": 1,
   "metadata": {},
   "outputs": [],
   "source": [
    "import pandas as pd\n",
    "import numpy as np\n",
    "from sklearn.model_selection import train_test_split\n",
    "from sklearn.ensemble import RandomForestClassifier\n",
    "from sklearn.feature_extraction.text import TfidfVectorizer\n",
    "from sklearn.naive_bayes import MultinomialNB\n",
    "from sklearn.pipeline import make_pipeline\n",
    "import re"
   ]
  },
  {
   "cell_type": "code",
   "execution_count": 2,
   "metadata": {},
   "outputs": [
    {
     "data": {
      "text/html": [
       "<div>\n",
       "<style scoped>\n",
       "    .dataframe tbody tr th:only-of-type {\n",
       "        vertical-align: middle;\n",
       "    }\n",
       "\n",
       "    .dataframe tbody tr th {\n",
       "        vertical-align: top;\n",
       "    }\n",
       "\n",
       "    .dataframe thead th {\n",
       "        text-align: right;\n",
       "    }\n",
       "</style>\n",
       "<table border=\"1\" class=\"dataframe\">\n",
       "  <thead>\n",
       "    <tr style=\"text-align: right;\">\n",
       "      <th></th>\n",
       "      <th>v1</th>\n",
       "      <th>v2</th>\n",
       "      <th>Unnamed: 2</th>\n",
       "      <th>Unnamed: 3</th>\n",
       "      <th>Unnamed: 4</th>\n",
       "    </tr>\n",
       "  </thead>\n",
       "  <tbody>\n",
       "    <tr>\n",
       "      <th>0</th>\n",
       "      <td>ham</td>\n",
       "      <td>Go until jurong point, crazy.. Available only ...</td>\n",
       "      <td>NaN</td>\n",
       "      <td>NaN</td>\n",
       "      <td>NaN</td>\n",
       "    </tr>\n",
       "    <tr>\n",
       "      <th>1</th>\n",
       "      <td>ham</td>\n",
       "      <td>Ok lar... Joking wif u oni...</td>\n",
       "      <td>NaN</td>\n",
       "      <td>NaN</td>\n",
       "      <td>NaN</td>\n",
       "    </tr>\n",
       "    <tr>\n",
       "      <th>2</th>\n",
       "      <td>spam</td>\n",
       "      <td>Free entry in 2 a wkly comp to win FA Cup fina...</td>\n",
       "      <td>NaN</td>\n",
       "      <td>NaN</td>\n",
       "      <td>NaN</td>\n",
       "    </tr>\n",
       "    <tr>\n",
       "      <th>3</th>\n",
       "      <td>ham</td>\n",
       "      <td>U dun say so early hor... U c already then say...</td>\n",
       "      <td>NaN</td>\n",
       "      <td>NaN</td>\n",
       "      <td>NaN</td>\n",
       "    </tr>\n",
       "    <tr>\n",
       "      <th>4</th>\n",
       "      <td>ham</td>\n",
       "      <td>Nah I don't think he goes to usf, he lives aro...</td>\n",
       "      <td>NaN</td>\n",
       "      <td>NaN</td>\n",
       "      <td>NaN</td>\n",
       "    </tr>\n",
       "  </tbody>\n",
       "</table>\n",
       "</div>"
      ],
      "text/plain": [
       "     v1                                                 v2 Unnamed: 2  \\\n",
       "0   ham  Go until jurong point, crazy.. Available only ...        NaN   \n",
       "1   ham                      Ok lar... Joking wif u oni...        NaN   \n",
       "2  spam  Free entry in 2 a wkly comp to win FA Cup fina...        NaN   \n",
       "3   ham  U dun say so early hor... U c already then say...        NaN   \n",
       "4   ham  Nah I don't think he goes to usf, he lives aro...        NaN   \n",
       "\n",
       "  Unnamed: 3 Unnamed: 4  \n",
       "0        NaN        NaN  \n",
       "1        NaN        NaN  \n",
       "2        NaN        NaN  \n",
       "3        NaN        NaN  \n",
       "4        NaN        NaN  "
      ]
     },
     "execution_count": 2,
     "metadata": {},
     "output_type": "execute_result"
    }
   ],
   "source": [
    "sms_df = pd.read_csv(r'C:\\Users\\taewoo\\Desktop\\Datasets\\spam_sms.csv', encoding='latin-1')\n",
    "sms_df.head()"
   ]
  },
  {
   "cell_type": "code",
   "execution_count": 3,
   "metadata": {},
   "outputs": [
    {
     "name": "stdout",
     "output_type": "stream",
     "text": [
      "v1 NaN value count: 0\n",
      "v1 non-NaN value count: 5572\n",
      "v2 NaN value count: 0\n",
      "v2 non-NaN value count: 5572\n",
      "Unnamed: 2 NaN value count: 5522\n",
      "Unnamed: 2 non-NaN value count: 50\n",
      "Unnamed: 3 NaN value count: 5560\n",
      "Unnamed: 3 non-NaN value count: 12\n",
      "Unnamed: 4 NaN value count: 5566\n",
      "Unnamed: 4 non-NaN value count: 6\n"
     ]
    }
   ],
   "source": [
    "for column in sms_df.columns:\n",
    "    print(f\"{column} NaN value count: {sms_df[column].isnull().sum()}\")\n",
    "    print(f\"{column} non-NaN value count: {sms_df[column].notna().sum()}\")"
   ]
  },
  {
   "cell_type": "markdown",
   "metadata": {},
   "source": [
    "Unnamed: 2, 3, 4 are not useful so I'm dropping those columns"
   ]
  },
  {
   "cell_type": "code",
   "execution_count": 4,
   "metadata": {},
   "outputs": [],
   "source": [
    "sms_df.drop(columns=['Unnamed: 2', 'Unnamed: 3', 'Unnamed: 4'], inplace=True)"
   ]
  },
  {
   "cell_type": "code",
   "execution_count": 5,
   "metadata": {},
   "outputs": [],
   "source": [
    "sms_df.rename(columns={'v1':'class', 'v2':'text message'}, inplace=True)\n",
    "sms_df['text message'] = [re.sub(r\"[^a-z0-9 ]+\", ' ', x.lower()) for x in sms_df['text message']]"
   ]
  },
  {
   "cell_type": "code",
   "execution_count": 6,
   "metadata": {},
   "outputs": [
    {
     "name": "stdout",
     "output_type": "stream",
     "text": [
      "Training Score: 0.9740725967291584\n",
      "Test Score: 0.978494623655914\n"
     ]
    }
   ],
   "source": [
    "X = np.array(sms_df['text message'])\n",
    "y = np.array(sms_df['class'])\n",
    "\n",
    "X_train, X_test, y_train, y_test = train_test_split(X, y, test_size=0.1)\n",
    "\n",
    "NB_model = make_pipeline(TfidfVectorizer(), MultinomialNB())\n",
    "NB_model.fit(X_train, y_train)\n",
    "NB_predict = NB_model.predict(X_test)\n",
    "print(f\"Training Score: {NB_model.score(X_train, y_train)}\")\n",
    "print(f\"Test Score: {NB_model.score(X_test, y_test)}\")"
   ]
  },
  {
   "cell_type": "markdown",
   "metadata": {},
   "source": [
    "All I have done is creating a model with a pipeline between a text-vectorizer and a classifier so that when blocks of texts are fed as data, the model can make classification predictions by examining vectors.  \n",
    "\n",
    "I'm surprised to see such high scores for both training and test samples."
   ]
  },
  {
   "cell_type": "code",
   "execution_count": 7,
   "metadata": {},
   "outputs": [
    {
     "data": {
      "text/html": [
       "<div>\n",
       "<style scoped>\n",
       "    .dataframe tbody tr th:only-of-type {\n",
       "        vertical-align: middle;\n",
       "    }\n",
       "\n",
       "    .dataframe tbody tr th {\n",
       "        vertical-align: top;\n",
       "    }\n",
       "\n",
       "    .dataframe thead th {\n",
       "        text-align: right;\n",
       "    }\n",
       "</style>\n",
       "<table border=\"1\" class=\"dataframe\">\n",
       "  <thead>\n",
       "    <tr style=\"text-align: right;\">\n",
       "      <th></th>\n",
       "      <th>prediction</th>\n",
       "      <th>class</th>\n",
       "      <th>match</th>\n",
       "      <th>text message</th>\n",
       "    </tr>\n",
       "  </thead>\n",
       "  <tbody>\n",
       "    <tr>\n",
       "      <th>0</th>\n",
       "      <td>ham</td>\n",
       "      <td>ham</td>\n",
       "      <td>True</td>\n",
       "      <td>hmm well  night night</td>\n",
       "    </tr>\n",
       "    <tr>\n",
       "      <th>1</th>\n",
       "      <td>ham</td>\n",
       "      <td>ham</td>\n",
       "      <td>True</td>\n",
       "      <td>in sch but neva mind u eat 1st lor</td>\n",
       "    </tr>\n",
       "    <tr>\n",
       "      <th>2</th>\n",
       "      <td>ham</td>\n",
       "      <td>ham</td>\n",
       "      <td>True</td>\n",
       "      <td>lol no  just trying to make your day a little ...</td>\n",
       "    </tr>\n",
       "    <tr>\n",
       "      <th>3</th>\n",
       "      <td>ham</td>\n",
       "      <td>ham</td>\n",
       "      <td>True</td>\n",
       "      <td>meet after lunch la</td>\n",
       "    </tr>\n",
       "    <tr>\n",
       "      <th>4</th>\n",
       "      <td>ham</td>\n",
       "      <td>ham</td>\n",
       "      <td>True</td>\n",
       "      <td>i noe la  u wana pei bf oso rite  k lor  other...</td>\n",
       "    </tr>\n",
       "  </tbody>\n",
       "</table>\n",
       "</div>"
      ],
      "text/plain": [
       "  prediction class  match                                       text message\n",
       "0        ham   ham   True                             hmm well  night night \n",
       "1        ham   ham   True                in sch but neva mind u eat 1st lor \n",
       "2        ham   ham   True  lol no  just trying to make your day a little ...\n",
       "3        ham   ham   True                               meet after lunch la \n",
       "4        ham   ham   True  i noe la  u wana pei bf oso rite  k lor  other..."
      ]
     },
     "execution_count": 7,
     "metadata": {},
     "output_type": "execute_result"
    }
   ],
   "source": [
    "NB_result_df = pd.DataFrame({'prediction':NB_predict, 'class':y_test, 'match':NB_predict==y_test, 'text message':X_test})\n",
    "NB_result_df.head()"
   ]
  },
  {
   "cell_type": "code",
   "execution_count": 8,
   "metadata": {},
   "outputs": [
    {
     "name": "stdout",
     "output_type": "stream",
     "text": [
      "Predicted correctly: 546\n",
      "Predicted wrong: 12\n",
      "Accuracy: 97.85%\n"
     ]
    }
   ],
   "source": [
    "NB_wrong = NB_result_df.loc[NB_result_df['match'] == False]\n",
    "print(f\"Predicted correctly: {(NB_result_df.match == True).sum()}\")\n",
    "print(f\"Predicted wrong: {(NB_result_df.match == False).sum()}\")\n",
    "print(f\"Accuracy: {round(NB_model.score(X_test, y_test)*100, 2)}%\")"
   ]
  },
  {
   "cell_type": "code",
   "execution_count": 9,
   "metadata": {},
   "outputs": [
    {
     "name": "stdout",
     "output_type": "stream",
     "text": [
      "    prediction class  match                                       text message\n",
      "41         ham  spam  False  freemsg today s the day if you are ready  i m ...\n",
      "98         ham  spam  False  can u get 2 phone now  i wanna chat 2 set up m...\n",
      "129        ham  spam  False  what do u want for xmas  how about 100 free te...\n",
      "136        ham  spam  False  someone u know has asked our dating service 2 ...\n",
      "171        ham  spam  False  22 days to kick off  for euro2004 u will be ke...\n",
      "221        ham  spam  False  free message  jamster get the crazy frog sound...\n",
      "307        ham  spam  False   forwarded from 21870000 hi   this is your mai...\n",
      "368        ham  spam  False  welcome  please reply with your age and gender...\n",
      "374        ham  spam  False  for sale   arsenal dartboard  good condition b...\n",
      "443        ham  spam  False  fantasy football is back on your tv  go to sky...\n",
      "540        ham  spam  False                                      2 2 146tf150p\n",
      "556        ham  spam  False  am new 2 club   dont fink we met yet will b gr...\n"
     ]
    }
   ],
   "source": [
    "print(NB_wrong)"
   ]
  },
  {
   "cell_type": "markdown",
   "metadata": {},
   "source": [
    "Although the model makes mistakes, I am happy with the result"
   ]
  },
  {
   "cell_type": "markdown",
   "metadata": {},
   "source": [
    "Let's perform the same analysis with the RandomForestClassifier and compare results"
   ]
  },
  {
   "cell_type": "code",
   "execution_count": 10,
   "metadata": {},
   "outputs": [
    {
     "name": "stdout",
     "output_type": "stream",
     "text": [
      "Training Score: 1.0\n",
      "Test Score: 0.9910394265232975\n"
     ]
    }
   ],
   "source": [
    "RFC_model = make_pipeline(TfidfVectorizer(), RandomForestClassifier(100))\n",
    "RFC_model.fit(X_train, y_train)\n",
    "RFC_predict = RFC_model.predict(X_test)\n",
    "print(f\"Training Score: {RFC_model.score(X_train, y_train)}\")\n",
    "print(f\"Test Score: {RFC_model.score(X_test, y_test)}\")"
   ]
  },
  {
   "cell_type": "code",
   "execution_count": 11,
   "metadata": {},
   "outputs": [
    {
     "data": {
      "text/html": [
       "<div>\n",
       "<style scoped>\n",
       "    .dataframe tbody tr th:only-of-type {\n",
       "        vertical-align: middle;\n",
       "    }\n",
       "\n",
       "    .dataframe tbody tr th {\n",
       "        vertical-align: top;\n",
       "    }\n",
       "\n",
       "    .dataframe thead th {\n",
       "        text-align: right;\n",
       "    }\n",
       "</style>\n",
       "<table border=\"1\" class=\"dataframe\">\n",
       "  <thead>\n",
       "    <tr style=\"text-align: right;\">\n",
       "      <th></th>\n",
       "      <th>prediction</th>\n",
       "      <th>class</th>\n",
       "      <th>match</th>\n",
       "      <th>text message</th>\n",
       "    </tr>\n",
       "  </thead>\n",
       "  <tbody>\n",
       "    <tr>\n",
       "      <th>0</th>\n",
       "      <td>ham</td>\n",
       "      <td>ham</td>\n",
       "      <td>True</td>\n",
       "      <td>hmm well  night night</td>\n",
       "    </tr>\n",
       "    <tr>\n",
       "      <th>1</th>\n",
       "      <td>ham</td>\n",
       "      <td>ham</td>\n",
       "      <td>True</td>\n",
       "      <td>in sch but neva mind u eat 1st lor</td>\n",
       "    </tr>\n",
       "    <tr>\n",
       "      <th>2</th>\n",
       "      <td>ham</td>\n",
       "      <td>ham</td>\n",
       "      <td>True</td>\n",
       "      <td>lol no  just trying to make your day a little ...</td>\n",
       "    </tr>\n",
       "    <tr>\n",
       "      <th>3</th>\n",
       "      <td>ham</td>\n",
       "      <td>ham</td>\n",
       "      <td>True</td>\n",
       "      <td>meet after lunch la</td>\n",
       "    </tr>\n",
       "    <tr>\n",
       "      <th>4</th>\n",
       "      <td>ham</td>\n",
       "      <td>ham</td>\n",
       "      <td>True</td>\n",
       "      <td>i noe la  u wana pei bf oso rite  k lor  other...</td>\n",
       "    </tr>\n",
       "  </tbody>\n",
       "</table>\n",
       "</div>"
      ],
      "text/plain": [
       "  prediction class  match                                       text message\n",
       "0        ham   ham   True                             hmm well  night night \n",
       "1        ham   ham   True                in sch but neva mind u eat 1st lor \n",
       "2        ham   ham   True  lol no  just trying to make your day a little ...\n",
       "3        ham   ham   True                               meet after lunch la \n",
       "4        ham   ham   True  i noe la  u wana pei bf oso rite  k lor  other..."
      ]
     },
     "execution_count": 11,
     "metadata": {},
     "output_type": "execute_result"
    }
   ],
   "source": [
    "RFC_result_df = pd.DataFrame({'prediction':RFC_predict, 'class':y_test, 'match':RFC_predict==y_test, 'text message':X_test})\n",
    "RFC_result_df.head()"
   ]
  },
  {
   "cell_type": "code",
   "execution_count": 12,
   "metadata": {},
   "outputs": [
    {
     "name": "stdout",
     "output_type": "stream",
     "text": [
      "Predicted correctly: 553\n",
      "Predicted wrong: 5\n",
      "Accuracy: 99.1%\n"
     ]
    }
   ],
   "source": [
    "RFC_wrong = RFC_result_df.loc[RFC_result_df['match'] == False]\n",
    "print(f\"Predicted correctly: {(RFC_result_df.match == True).sum()}\")\n",
    "print(f\"Predicted wrong: {(RFC_result_df.match == False).sum()}\")\n",
    "print(f\"Accuracy: {round(RFC_model.score(X_test, y_test)*100, 2)}%\")"
   ]
  },
  {
   "cell_type": "code",
   "execution_count": 13,
   "metadata": {},
   "outputs": [
    {
     "name": "stdout",
     "output_type": "stream",
     "text": [
      "    prediction class  match                                       text message\n",
      "98         ham  spam  False  can u get 2 phone now  i wanna chat 2 set up m...\n",
      "368        ham  spam  False  welcome  please reply with your age and gender...\n",
      "374        ham  spam  False  for sale   arsenal dartboard  good condition b...\n",
      "540        ham  spam  False                                      2 2 146tf150p\n",
      "556        ham  spam  False  am new 2 club   dont fink we met yet will b gr...\n"
     ]
    }
   ],
   "source": [
    "print(RFC_wrong)"
   ]
  },
  {
   "cell_type": "markdown",
   "metadata": {},
   "source": [
    "Both RFC_model and NB_model yielded decent results, but RandomForestClassifier **outperformed** MultinomialNB every time by a slight margin (1-2%)."
   ]
  }
 ],
 "metadata": {
  "kernelspec": {
   "display_name": "Python 3",
   "language": "python",
   "name": "python3"
  },
  "language_info": {
   "codemirror_mode": {
    "name": "ipython",
    "version": 3
   },
   "file_extension": ".py",
   "mimetype": "text/x-python",
   "name": "python",
   "nbconvert_exporter": "python",
   "pygments_lexer": "ipython3",
   "version": "3.8.3"
  }
 },
 "nbformat": 4,
 "nbformat_minor": 4
}
