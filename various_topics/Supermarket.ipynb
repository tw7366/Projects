{
 "cells": [
  {
   "cell_type": "markdown",
   "metadata": {},
   "source": [
    "## Analysis on Supermarket"
   ]
  },
  {
   "cell_type": "code",
   "execution_count": 1,
   "metadata": {},
   "outputs": [],
   "source": [
    "import pandas as pd\n",
    "import numpy as np\n",
    "from matplotlib import pyplot as plt\n",
    "from collections import Counter "
   ]
  },
  {
   "cell_type": "code",
   "execution_count": 2,
   "metadata": {},
   "outputs": [
    {
     "name": "stdout",
     "output_type": "stream",
     "text": [
      "<class 'pandas.core.frame.DataFrame'>\n",
      "RangeIndex: 1000 entries, 0 to 999\n",
      "Data columns (total 9 columns):\n",
      " #   Column        Non-Null Count  Dtype  \n",
      "---  ------        --------------  -----  \n",
      " 0   invoice_id    1000 non-null   object \n",
      " 1   branch        1000 non-null   object \n",
      " 2   city          1000 non-null   object \n",
      " 3   customer      1000 non-null   object \n",
      " 4   gender        1000 non-null   object \n",
      " 5   product_line  1000 non-null   object \n",
      " 6   price         1000 non-null   float64\n",
      " 7   date          1000 non-null   object \n",
      " 8   payment       1000 non-null   object \n",
      "dtypes: float64(1), object(8)\n",
      "memory usage: 70.4+ KB\n"
     ]
    }
   ],
   "source": [
    "supermarket = pd.read_csv(\"supermarket.csv\")\n",
    "supermarket.info()"
   ]
  },
  {
   "cell_type": "code",
   "execution_count": 3,
   "metadata": {},
   "outputs": [
    {
     "name": "stdout",
     "output_type": "stream",
     "text": [
      "    invoice_id branch       city customer  gender            product_line  \\\n",
      "0  750-67-8428      A     Yangon   Member  Female       Health and beauty   \n",
      "1  226-31-3081      C  Naypyitaw   Normal  Female  Electronic accessories   \n",
      "2  631-41-3108      A     Yangon   Normal    Male      Home and lifestyle   \n",
      "3  123-19-1176      A     Yangon   Member    Male       Health and beauty   \n",
      "4  373-73-7910      A     Yangon   Normal    Male       Sports and travel   \n",
      "\n",
      "      price       date      payment  \n",
      "0  548.9715   1/5/2019      Ewallet  \n",
      "1   80.2200   3/8/2019         Cash  \n",
      "2  340.5255   3/3/2019  Credit card  \n",
      "3  489.0480  1/27/2019      Ewallet  \n",
      "4  634.3785   2/8/2019      Ewallet  \n"
     ]
    }
   ],
   "source": [
    "print(supermarket.head())"
   ]
  },
  {
   "cell_type": "markdown",
   "metadata": {},
   "source": [
    "##### Data Cleansing Functions"
   ]
  },
  {
   "cell_type": "code",
   "execution_count": 8,
   "metadata": {},
   "outputs": [
    {
     "name": "stdout",
     "output_type": "stream",
     "text": [
      "    invoice_id branch       city customer  gender            product_line  \\\n",
      "0  750-67-8428      A     Yangon   Member  Female       Health and beauty   \n",
      "1  226-31-3081      C  Naypyitaw   Normal  Female  Electronic accessories   \n",
      "2  631-41-3108      A     Yangon   Normal    Male      Home and lifestyle   \n",
      "3  123-19-1176      A     Yangon   Member    Male       Health and beauty   \n",
      "4  373-73-7910      A     Yangon   Normal    Male       Sports and travel   \n",
      "\n",
      "    price       date      payment  \n",
      "0  548.97   1/5/2019      Ewallet  \n",
      "1   80.22   3/8/2019         Cash  \n",
      "2  340.53   3/3/2019  Credit card  \n",
      "3  489.05  1/27/2019      Ewallet  \n",
      "4  634.38   2/8/2019      Ewallet  \n"
     ]
    }
   ],
   "source": [
    "def is_col_numeric(table, col):\n",
    "    '''\n",
    "    If there is an item in a column that is not numerical return False, otherwise return True\n",
    "    (DataFrame, column) -> bool\n",
    "    '''\n",
    "    not_numeric =[]\n",
    "    for num in table[col]:\n",
    "        if type(num) != int and type(num) != float:\n",
    "            bad_syntax.append(num)\n",
    "    return len(not_numeric) == 0\n",
    "\n",
    "def cleanse_price(table):\n",
    "    '''\n",
    "    cleanse data in price column of a dataframe\n",
    "    (Dataframe) -> Dataframe\n",
    "    '''\n",
    "    if is_col_numeric(table, 'price'):\n",
    "        for ind, num in enumerate(table['price']):\n",
    "            table.at[ind, 'price'] = round(num, 2)\n",
    "        return table\n",
    "    else:\n",
    "        return \"there is an item that's not numerical in the price column\"\n",
    "\n",
    "print(cleanse_price(supermarket).head())"
   ]
  },
  {
   "cell_type": "code",
   "execution_count": 5,
   "metadata": {},
   "outputs": [
    {
     "name": "stdout",
     "output_type": "stream",
     "text": [
      "[('Yangon', 340), ('Mandalay', 332), ('Naypyitaw', 328)]\n"
     ]
    }
   ],
   "source": [
    "city_counter = Counter(supermarket['city']).most_common()\n",
    "print(city_counter)"
   ]
  }
 ],
 "metadata": {
  "kernelspec": {
   "display_name": "Python 3",
   "language": "python",
   "name": "python3"
  },
  "language_info": {
   "codemirror_mode": {
    "name": "ipython",
    "version": 3
   },
   "file_extension": ".py",
   "mimetype": "text/x-python",
   "name": "python",
   "nbconvert_exporter": "python",
   "pygments_lexer": "ipython3",
   "version": "3.8.3"
  }
 },
 "nbformat": 4,
 "nbformat_minor": 4
}
